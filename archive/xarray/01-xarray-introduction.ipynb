{
 "cells": [
  {
   "cell_type": "markdown",
   "metadata": {},
   "source": [
    "# Xarray Introduction"
   ]
  },
  {
   "cell_type": "markdown",
   "metadata": {},
   "source": [
    "- Unlabeled, N-dimensional arrays of numbers (e.g., NumPy’s ndarray) are the most widely used data structure in scientific computing. However, they lack a meaningful representation of the metadata associated with their data. Implementing such functionality is left to individual users and domain-specific packages. xarry expands on the capabilities of NumPy arrays, providing a lot of streamline data manipulation. \n",
    "\n",
    "- xarray's interface is based largely on the netCDF data model (variables, attributes, and dimensions), but it goes beyond the traditional netCDF interfaces to provide functionality similar to netCDF-java's Common Data Model (CDM). \n",
    "\n",
    "- xarray is a useful tool for parallelizing and working with large datasets in the geosciences."
   ]
  },
  {
   "cell_type": "markdown",
   "metadata": {},
   "source": [
    "## Data Structures"
   ]
  },
  {
   "cell_type": "markdown",
   "metadata": {},
   "source": [
    "- xarray has 2 fundamental data structures:\n",
    "    - `DataArray`, which holds single multi-dimensional variables and its coordinates\n",
    "    - `Dataset`, which holds multiple variables that potentially share the same coordinates\n",
    "   \n",
    "![](../assets/images/xarray-data-structures.png)"
   ]
  },
  {
   "cell_type": "markdown",
   "metadata": {},
   "source": [
    "\n",
    "    \n",
    "### `DataArray`\n",
    "\n",
    "The DataArray is xarray's implementation of a labeled, multi-dimensional array. It has several key properties:\n",
    "\n",
    "| Attribute \t| Description                                                                                                                              \t|\n",
    "|-----------\t|------------------------------------------------------------------------------------------------------------------------------------------\t|\n",
    "| `data`    \t| `numpy.ndarray` or `dask.array` holding the array's values.                                                                              \t|\n",
    "| `dims`    \t| dimension names for each axis. For example:(`x`, `y`, `z`) (`lat`, `lon`, `time`).                                                       \t|\n",
    "| `coords`  \t| a dict-like container of arrays (coordinates) that label each point (e.g., 1-dimensional arrays of numbers, datetime objects or strings) \t|\n",
    "| `attrs`   \t| an `OrderedDict` to hold arbitrary attributes/metadata (such as units)                                                                   \t|\n",
    "| `name`    \t| an arbitrary name of the array                                                                                                           \t|"
   ]
  },
  {
   "cell_type": "code",
   "execution_count": 1,
   "metadata": {},
   "outputs": [],
   "source": [
    "# Import packages\n",
    "import numpy as np\n",
    "import xarray as xr"
   ]
  },
  {
   "cell_type": "code",
   "execution_count": 2,
   "metadata": {},
   "outputs": [
    {
     "data": {
      "text/plain": [
       "array([[[ 5.24534232, 16.20519622, 30.449238  , 17.37365172],\n",
       "        [ 5.24438222, 15.37357753,  4.67205487,  2.99981487],\n",
       "        [ 9.21627178,  2.20495395, 31.35706208,  5.96187099]],\n",
       "\n",
       "       [[ 6.82561249, 18.96561268,  7.01219229, 12.59328402],\n",
       "        [ 2.23719244,  3.02118789,  3.5534261 ,  8.60288047],\n",
       "        [13.23398935,  5.40805074,  7.90016156, 11.04348219]],\n",
       "\n",
       "       [[10.01154665,  2.97282725, 20.64745438, 28.93056892],\n",
       "        [ 3.49613722,  3.24854722,  6.88544448,  5.20651465],\n",
       "        [ 4.49508921, 15.95419944,  3.6671223 ,  2.47778775]],\n",
       "\n",
       "       [[ 2.06434019,  9.3689609 ,  7.02059664, 10.93614607],\n",
       "        [ 2.87975752,  4.22794778,  4.93089286,  8.60246575],\n",
       "        [ 2.05470846,  3.26817522,  6.09463946,  3.59114551]],\n",
       "\n",
       "       [[ 5.44560505, 12.83349228,  4.95746763,  3.2119011 ],\n",
       "        [ 2.52820726,  8.26784118,  3.90749369,  6.98839375],\n",
       "        [ 9.93514113,  6.91819926,  2.15980985,  2.95896892]]])"
      ]
     },
     "execution_count": 2,
     "metadata": {},
     "output_type": "execute_result"
    }
   ],
   "source": [
    "# Create some sample data\n",
    "data = 2 + 6 * np.random.exponential(size=(5, 3, 4))\n",
    "data"
   ]
  },
  {
   "cell_type": "markdown",
   "metadata": {},
   "source": [
    "To create a basic `DataArray`, you can pass this numpy array of random data to `xr.DataArray`"
   ]
  },
  {
   "cell_type": "code",
   "execution_count": 3,
   "metadata": {},
   "outputs": [
    {
     "data": {
      "text/plain": [
       "<xarray.DataArray (dim_0: 5, dim_1: 3, dim_2: 4)>\n",
       "array([[[ 5.245342, 16.205196, 30.449238, 17.373652],\n",
       "        [ 5.244382, 15.373578,  4.672055,  2.999815],\n",
       "        [ 9.216272,  2.204954, 31.357062,  5.961871]],\n",
       "\n",
       "       [[ 6.825612, 18.965613,  7.012192, 12.593284],\n",
       "        [ 2.237192,  3.021188,  3.553426,  8.60288 ],\n",
       "        [13.233989,  5.408051,  7.900162, 11.043482]],\n",
       "\n",
       "       [[10.011547,  2.972827, 20.647454, 28.930569],\n",
       "        [ 3.496137,  3.248547,  6.885444,  5.206515],\n",
       "        [ 4.495089, 15.954199,  3.667122,  2.477788]],\n",
       "\n",
       "       [[ 2.06434 ,  9.368961,  7.020597, 10.936146],\n",
       "        [ 2.879758,  4.227948,  4.930893,  8.602466],\n",
       "        [ 2.054708,  3.268175,  6.094639,  3.591146]],\n",
       "\n",
       "       [[ 5.445605, 12.833492,  4.957468,  3.211901],\n",
       "        [ 2.528207,  8.267841,  3.907494,  6.988394],\n",
       "        [ 9.935141,  6.918199,  2.15981 ,  2.958969]]])\n",
       "Dimensions without coordinates: dim_0, dim_1, dim_2"
      ]
     },
     "execution_count": 3,
     "metadata": {},
     "output_type": "execute_result"
    }
   ],
   "source": [
    "prec = xr.DataArray(data)\n",
    "prec"
   ]
  },
  {
   "cell_type": "markdown",
   "metadata": {},
   "source": [
    "<div class=\"alert alert-info\">\n",
    "\n",
    "**Note:** \n",
    "    \n",
    "Xarray automatically generates some basic dimension names for us.\n",
    "\n",
    "</div>"
   ]
  },
  {
   "cell_type": "markdown",
   "metadata": {},
   "source": [
    "You can also pass in your own dimension names and coordinate values:"
   ]
  },
  {
   "cell_type": "code",
   "execution_count": 4,
   "metadata": {},
   "outputs": [
    {
     "data": {
      "text/plain": [
       "DatetimeIndex(['2019-04-01', '2019-04-02', '2019-04-03', '2019-04-04',\n",
       "               '2019-04-05'],\n",
       "              dtype='datetime64[ns]', freq='D')"
      ]
     },
     "execution_count": 4,
     "metadata": {},
     "output_type": "execute_result"
    }
   ],
   "source": [
    "# Use pandas to create an array of datetimes\n",
    "import pandas as pd\n",
    "times = pd.date_range('2019-04-01', periods=5)\n",
    "times"
   ]
  },
  {
   "cell_type": "code",
   "execution_count": 5,
   "metadata": {},
   "outputs": [
    {
     "data": {
      "text/plain": [
       "(array([-150., -120.,  -90.,  -60.]), array([10., 45., 80.]))"
      ]
     },
     "execution_count": 5,
     "metadata": {},
     "output_type": "execute_result"
    }
   ],
   "source": [
    "# Use numpy to create array of longitude and latitude values\n",
    "lons = np.linspace(-150, -60, 4)\n",
    "lats = np.linspace(10, 80, 3)\n",
    "lons, lats"
   ]
  },
  {
   "cell_type": "code",
   "execution_count": 6,
   "metadata": {},
   "outputs": [],
   "source": [
    "coords = {'time': times, 'lat': lats, 'lon': lons}\n",
    "dims = ['time', 'lat', 'lon']"
   ]
  },
  {
   "cell_type": "code",
   "execution_count": 7,
   "metadata": {},
   "outputs": [
    {
     "data": {
      "text/plain": [
       "<xarray.DataArray 'prec' (time: 5, lat: 3, lon: 4)>\n",
       "array([[[ 5.245342, 16.205196, 30.449238, 17.373652],\n",
       "        [ 5.244382, 15.373578,  4.672055,  2.999815],\n",
       "        [ 9.216272,  2.204954, 31.357062,  5.961871]],\n",
       "\n",
       "       [[ 6.825612, 18.965613,  7.012192, 12.593284],\n",
       "        [ 2.237192,  3.021188,  3.553426,  8.60288 ],\n",
       "        [13.233989,  5.408051,  7.900162, 11.043482]],\n",
       "\n",
       "       [[10.011547,  2.972827, 20.647454, 28.930569],\n",
       "        [ 3.496137,  3.248547,  6.885444,  5.206515],\n",
       "        [ 4.495089, 15.954199,  3.667122,  2.477788]],\n",
       "\n",
       "       [[ 2.06434 ,  9.368961,  7.020597, 10.936146],\n",
       "        [ 2.879758,  4.227948,  4.930893,  8.602466],\n",
       "        [ 2.054708,  3.268175,  6.094639,  3.591146]],\n",
       "\n",
       "       [[ 5.445605, 12.833492,  4.957468,  3.211901],\n",
       "        [ 2.528207,  8.267841,  3.907494,  6.988394],\n",
       "        [ 9.935141,  6.918199,  2.15981 ,  2.958969]]])\n",
       "Coordinates:\n",
       "  * time     (time) datetime64[ns] 2019-04-01 2019-04-02 ... 2019-04-05\n",
       "  * lat      (lat) float64 10.0 45.0 80.0\n",
       "  * lon      (lon) float64 -150.0 -120.0 -90.0 -60.0"
      ]
     },
     "execution_count": 7,
     "metadata": {},
     "output_type": "execute_result"
    }
   ],
   "source": [
    "# Add name, coords, dims to our data\n",
    "prec = xr.DataArray(data, dims=dims, coords=coords, name='prec')\n",
    "prec"
   ]
  },
  {
   "cell_type": "markdown",
   "metadata": {},
   "source": [
    "This is already improved upon from the original numpy array, because we have names for each of the dimensions (or axis in NumPy universe). \n",
    "\n",
    "\n"
   ]
  },
  {
   "cell_type": "markdown",
   "metadata": {},
   "source": [
    "We can also add attributes to an existing `DataArray`:"
   ]
  },
  {
   "cell_type": "code",
   "execution_count": 8,
   "metadata": {},
   "outputs": [
    {
     "data": {
      "text/plain": [
       "<xarray.DataArray 'prec' (time: 5, lat: 3, lon: 4)>\n",
       "array([[[ 5.245342, 16.205196, 30.449238, 17.373652],\n",
       "        [ 5.244382, 15.373578,  4.672055,  2.999815],\n",
       "        [ 9.216272,  2.204954, 31.357062,  5.961871]],\n",
       "\n",
       "       [[ 6.825612, 18.965613,  7.012192, 12.593284],\n",
       "        [ 2.237192,  3.021188,  3.553426,  8.60288 ],\n",
       "        [13.233989,  5.408051,  7.900162, 11.043482]],\n",
       "\n",
       "       [[10.011547,  2.972827, 20.647454, 28.930569],\n",
       "        [ 3.496137,  3.248547,  6.885444,  5.206515],\n",
       "        [ 4.495089, 15.954199,  3.667122,  2.477788]],\n",
       "\n",
       "       [[ 2.06434 ,  9.368961,  7.020597, 10.936146],\n",
       "        [ 2.879758,  4.227948,  4.930893,  8.602466],\n",
       "        [ 2.054708,  3.268175,  6.094639,  3.591146]],\n",
       "\n",
       "       [[ 5.445605, 12.833492,  4.957468,  3.211901],\n",
       "        [ 2.528207,  8.267841,  3.907494,  6.988394],\n",
       "        [ 9.935141,  6.918199,  2.15981 ,  2.958969]]])\n",
       "Coordinates:\n",
       "  * time     (time) datetime64[ns] 2019-04-01 2019-04-02 ... 2019-04-05\n",
       "  * lat      (lat) float64 10.0 45.0 80.0\n",
       "  * lon      (lon) float64 -150.0 -120.0 -90.0 -60.0\n",
       "Attributes:\n",
       "    units:          mm\n",
       "    standard_name:  precipitation"
      ]
     },
     "execution_count": 8,
     "metadata": {},
     "output_type": "execute_result"
    }
   ],
   "source": [
    "prec.attrs['units'] = 'mm'\n",
    "prec.attrs['standard_name'] = 'precipitation'\n",
    "prec"
   ]
  },
  {
   "cell_type": "code",
   "execution_count": 9,
   "metadata": {},
   "outputs": [
    {
     "data": {
      "text/plain": [
       "array([[[ 5.24534232, 16.20519622, 30.449238  , 17.37365172],\n",
       "        [ 5.24438222, 15.37357753,  4.67205487,  2.99981487],\n",
       "        [ 9.21627178,  2.20495395, 31.35706208,  5.96187099]],\n",
       "\n",
       "       [[ 6.82561249, 18.96561268,  7.01219229, 12.59328402],\n",
       "        [ 2.23719244,  3.02118789,  3.5534261 ,  8.60288047],\n",
       "        [13.23398935,  5.40805074,  7.90016156, 11.04348219]],\n",
       "\n",
       "       [[10.01154665,  2.97282725, 20.64745438, 28.93056892],\n",
       "        [ 3.49613722,  3.24854722,  6.88544448,  5.20651465],\n",
       "        [ 4.49508921, 15.95419944,  3.6671223 ,  2.47778775]],\n",
       "\n",
       "       [[ 2.06434019,  9.3689609 ,  7.02059664, 10.93614607],\n",
       "        [ 2.87975752,  4.22794778,  4.93089286,  8.60246575],\n",
       "        [ 2.05470846,  3.26817522,  6.09463946,  3.59114551]],\n",
       "\n",
       "       [[ 5.44560505, 12.83349228,  4.95746763,  3.2119011 ],\n",
       "        [ 2.52820726,  8.26784118,  3.90749369,  6.98839375],\n",
       "        [ 9.93514113,  6.91819926,  2.15980985,  2.95896892]]])"
      ]
     },
     "execution_count": 9,
     "metadata": {},
     "output_type": "execute_result"
    }
   ],
   "source": [
    "prec.data"
   ]
  },
  {
   "cell_type": "markdown",
   "metadata": {},
   "source": [
    "### `Dataset`\n",
    "\n",
    "- Xarray's `Dataset` is a dict-like container of labeled arrays (`DataArrays`) with aligned dimensions. - It is designed as an in-memory representation of a netCDF dataset. \n",
    "- In addition to the dict-like interface of the dataset itself, which can be used to access any `DataArray` in a `Dataset`. Datasets have the following key properties:\n",
    "\n",
    "\n",
    "| Attribute   \t| Description                                                                                                                              \t|\n",
    "|-------------\t|------------------------------------------------------------------------------------------------------------------------------------------\t|\n",
    "| `data_vars` \t| OrderedDict of `DataArray` objects corresponding to data variables.                                                                      \t|\n",
    "| `dims`      \t| dictionary mapping from dimension names to the fixed length of each dimension  (e.g., {`lat`: 6, `lon`: 6, `time`: 8}).                  \t|\n",
    "| `coords`    \t| a dict-like container of arrays (coordinates) that label each point (e.g., 1-dimensional arrays of numbers, datetime objects or strings) \t|\n",
    "| `attrs`     \t| OrderedDict to hold arbitrary metadata pertaining to the dataset.                                                                        \t|\n",
    "| `name`      \t| an arbitrary name of the dataset                                                                                                         \t|"
   ]
  },
  {
   "cell_type": "markdown",
   "metadata": {},
   "source": [
    "- DataArray objects inside a Dataset may have any number of dimensions but are presumed to share a common coordinate system. \n",
    "- Coordinates can also have any number of dimensions but denote constant/independent quantities, unlike the varying/dependent quantities that belong in data."
   ]
  },
  {
   "cell_type": "markdown",
   "metadata": {},
   "source": [
    "To create a `Dataset` from scratch, we need to supply dictionaries for any variables (`data_vars`), coordinates (`coords`) and attributes (`attrs`):"
   ]
  },
  {
   "cell_type": "code",
   "execution_count": 10,
   "metadata": {},
   "outputs": [
    {
     "data": {
      "text/plain": [
       "<xarray.Dataset>\n",
       "Dimensions:        (lat: 3, lon: 4, time: 5)\n",
       "Coordinates:\n",
       "  * time           (time) datetime64[ns] 2019-04-01 2019-04-02 ... 2019-04-05\n",
       "  * lat            (lat) float64 10.0 45.0 80.0\n",
       "  * lon            (lon) float64 -150.0 -120.0 -90.0 -60.0\n",
       "Data variables:\n",
       "    precipitation  (time, lat, lon) float64 5.245 16.21 30.45 ... 2.16 2.959"
      ]
     },
     "execution_count": 10,
     "metadata": {},
     "output_type": "execute_result"
    }
   ],
   "source": [
    "dset = xr.Dataset({'precipitation' : prec})\n",
    "dset"
   ]
  },
  {
   "cell_type": "markdown",
   "metadata": {},
   "source": [
    "Let's add some fake `temperature` data array to this existing dataset:"
   ]
  },
  {
   "cell_type": "code",
   "execution_count": 11,
   "metadata": {},
   "outputs": [
    {
     "data": {
      "text/plain": [
       "<xarray.DataArray 'temp' (time: 5, lat: 3, lon: 4)>\n",
       "array([[[282.076912, 278.77377 , 279.709171, 283.519948],\n",
       "        [291.824129, 290.337035, 274.972881, 286.181143],\n",
       "        [288.942284, 286.601209, 284.208008, 278.921386]],\n",
       "\n",
       "       [[270.437873, 282.401452, 276.196878, 275.906167],\n",
       "        [288.065404, 289.682993, 284.270453, 275.621826],\n",
       "        [281.663663, 276.402939, 285.510446, 285.529835]],\n",
       "\n",
       "       [[301.899188, 290.876867, 279.291479, 282.868971],\n",
       "        [285.124552, 282.935158, 283.997588, 282.462127],\n",
       "        [285.062524, 289.892972, 283.675335, 283.243918]],\n",
       "\n",
       "       [[285.804299, 284.998386, 271.899906, 283.680085],\n",
       "        [279.422436, 280.830622, 280.774009, 277.772653],\n",
       "        [273.510567, 292.336767, 281.83965 , 282.964355]],\n",
       "\n",
       "       [[286.539558, 285.812277, 286.754892, 283.696184],\n",
       "        [281.066161, 274.282129, 285.86651 , 288.263047],\n",
       "        [282.189869, 289.657419, 281.182609, 284.117735]]])\n",
       "Coordinates:\n",
       "  * time     (time) datetime64[ns] 2019-04-01 2019-04-02 ... 2019-04-05\n",
       "  * lat      (lat) float64 10.0 45.0 80.0\n",
       "  * lon      (lon) float64 -150.0 -120.0 -90.0 -60.0\n",
       "Attributes:\n",
       "    standard_name:  air_temperature\n",
       "    units:          kelvin"
      ]
     },
     "execution_count": 11,
     "metadata": {},
     "output_type": "execute_result"
    }
   ],
   "source": [
    "temp_data = 283 + 5 * np.random.randn(5, 3, 4)\n",
    "temp = xr.DataArray(data=temp_data, dims=['time', 'lat', 'lon'], \n",
    "                    coords={'time': times, 'lat': lats, 'lon': lons},\n",
    "                    name='temp',\n",
    "                    attrs={'standard_name': 'air_temperature', 'units': 'kelvin'})\n",
    "temp"
   ]
  },
  {
   "cell_type": "code",
   "execution_count": 12,
   "metadata": {},
   "outputs": [
    {
     "data": {
      "text/plain": [
       "<xarray.Dataset>\n",
       "Dimensions:        (lat: 3, lon: 4, time: 5)\n",
       "Coordinates:\n",
       "  * time           (time) datetime64[ns] 2019-04-01 2019-04-02 ... 2019-04-05\n",
       "  * lat            (lat) float64 10.0 45.0 80.0\n",
       "  * lon            (lon) float64 -150.0 -120.0 -90.0 -60.0\n",
       "Data variables:\n",
       "    precipitation  (time, lat, lon) float64 5.245 16.21 30.45 ... 2.16 2.959\n",
       "    temperature    (time, lat, lon) float64 282.1 278.8 279.7 ... 281.2 284.1\n",
       "Attributes:\n",
       "    history:  Created for the xarray tutorial\n",
       "    author:   foo and bar"
      ]
     },
     "execution_count": 12,
     "metadata": {},
     "output_type": "execute_result"
    }
   ],
   "source": [
    "# Now add this data array to our existing dataset\n",
    "dset['temperature'] = temp\n",
    "dset.attrs['history'] = 'Created for the xarray tutorial'\n",
    "dset.attrs['author'] = 'foo and bar'\n",
    "dset"
   ]
  },
  {
   "cell_type": "markdown",
   "metadata": {},
   "source": [
    "<div class=\"alert alert-info\">\n",
    "\n",
    "**Going Further:** \n",
    "    \n",
    "Xarray Documentation on Data Structures: http://xarray.pydata.org/en/latest/data-structures.html\n",
    "\n",
    "</div>"
   ]
  },
  {
   "cell_type": "markdown",
   "metadata": {},
   "source": [
    "## Core xarray Features"
   ]
  },
  {
   "cell_type": "markdown",
   "metadata": {},
   "source": [
    "### Reading and Writing Files"
   ]
  },
  {
   "cell_type": "markdown",
   "metadata": {},
   "source": [
    "Xarray supports direct serialization and I/O to several file formats including pickle, netCDF, OPeNDAP (read-only), GRIB1/2 (read-only), and HDF by integrating with third-party libraries. Additional serialization formats for 1-dimensional data are available through pandas.\n",
    "\n",
    "File types\n",
    "- Pickle\n",
    "- NetCDF 3/4\n",
    "- RasterIO\n",
    "- Zarr\n",
    "- PyNio\n",
    "\n",
    "Interoperability\n",
    "- Pandas\n",
    "- Iris\n",
    "- CDMS\n",
    "- dask DataFrame\n"
   ]
  },
  {
   "cell_type": "markdown",
   "metadata": {},
   "source": [
    "#### Opening xarray datasets\n",
    "\n",
    "Xarray's `open_dataset` and `open_mfdataset` are the primary functions for opening local or remote datasets such as netCDF, GRIB, OpenDap, and HDF. These operations are all supported by third party libraries (engines) for which xarray provides a common interface. "
   ]
  },
  {
   "cell_type": "code",
   "execution_count": 13,
   "metadata": {},
   "outputs": [
    {
     "name": "stdout",
     "output_type": "stream",
     "text": [
      "netcdf rasm {\n",
      "dimensions:\n",
      "\ttime = 36 ;\n",
      "\ty = 205 ;\n",
      "\tx = 275 ;\n",
      "variables:\n",
      "\tdouble Tair(time, y, x) ;\n",
      "\t\tTair:_FillValue = 9.96920996838687e+36 ;\n",
      "\t\tTair:units = \"C\" ;\n",
      "\t\tTair:long_name = \"Surface air temperature\" ;\n",
      "\t\tTair:type_preferred = \"double\" ;\n",
      "\t\tTair:time_rep = \"instantaneous\" ;\n",
      "\t\tTair:coordinates = \"yc xc\" ;\n",
      "\tdouble time(time) ;\n",
      "\t\ttime:_FillValue = NaN ;\n",
      "\t\ttime:long_name = \"time\" ;\n",
      "\t\ttime:type_preferred = \"int\" ;\n",
      "\t\ttime:units = \"days since 0001-01-01\" ;\n",
      "\t\ttime:calendar = \"noleap\" ;\n",
      "\tdouble xc(y, x) ;\n",
      "\t\txc:_FillValue = NaN ;\n",
      "\t\txc:long_name = \"longitude of grid cell center\" ;\n",
      "\t\txc:units = \"degrees_east\" ;\n",
      "\t\txc:bounds = \"xv\" ;\n",
      "\tdouble yc(y, x) ;\n",
      "\t\tyc:_FillValue = NaN ;\n",
      "\t\tyc:long_name = \"latitude of grid cell center\" ;\n",
      "\t\tyc:units = \"degrees_north\" ;\n",
      "\t\tyc:bounds = \"yv\" ;\n",
      "\n",
      "// global attributes:\n",
      "\t\t:title = \"/workspace/jhamman/processed/R1002RBRxaaa01a/lnd/temp/R1002RBRxaaa01a.vic.ha.1979-09-01.nc\" ;\n",
      "\t\t:institution = \"U.W.\" ;\n",
      "\t\t:source = \"RACM R1002RBRxaaa01a\" ;\n",
      "\t\t:output_frequency = \"daily\" ;\n",
      "\t\t:output_mode = \"averaged\" ;\n",
      "\t\t:convention = \"CF-1.4\" ;\n",
      "\t\t:references = \"Based on the initial model of Liang et al., 1994, JGR, 99, 14,415- 14,429.\" ;\n",
      "\t\t:comment = \"Output from the Variable Infiltration Capacity (VIC) model.\" ;\n",
      "\t\t:nco_openmp_thread_number = 1 ;\n",
      "\t\t:NCO = \"\\\"4.6.0\\\"\" ;\n",
      "\t\t:history = \"Tue Dec 27 14:15:22 2016: ncatted -a dimensions,,d,, rasm.nc rasm.nc\\nTue Dec 27 13:38:40 2016: ncks -3 rasm.nc rasm.nc\\nhistory deleted for brevity\" ;\n",
      "}\n"
     ]
    }
   ],
   "source": [
    "!ncdump -h ./data/rasm.nc"
   ]
  },
  {
   "cell_type": "code",
   "execution_count": 14,
   "metadata": {},
   "outputs": [
    {
     "data": {
      "text/plain": [
       "<xarray.Dataset>\n",
       "Dimensions:  (time: 36, x: 275, y: 205)\n",
       "Coordinates:\n",
       "  * time     (time) object 1980-09-16 12:00:00 ... 1983-08-17 00:00:00\n",
       "    xc       (y, x) float64 ...\n",
       "    yc       (y, x) float64 ...\n",
       "Dimensions without coordinates: x, y\n",
       "Data variables:\n",
       "    Tair     (time, y, x) float64 ...\n",
       "Attributes:\n",
       "    title:                     /workspace/jhamman/processed/R1002RBRxaaa01a/l...\n",
       "    institution:               U.W.\n",
       "    source:                    RACM R1002RBRxaaa01a\n",
       "    output_frequency:          daily\n",
       "    output_mode:               averaged\n",
       "    convention:                CF-1.4\n",
       "    references:                Based on the initial model of Liang et al., 19...\n",
       "    comment:                   Output from the Variable Infiltration Capacity...\n",
       "    nco_openmp_thread_number:  1\n",
       "    NCO:                       \"4.6.0\"\n",
       "    history:                   Tue Dec 27 14:15:22 2016: ncatted -a dimension..."
      ]
     },
     "execution_count": 14,
     "metadata": {},
     "output_type": "execute_result"
    }
   ],
   "source": [
    "ds = xr.open_dataset('./data/rasm.nc', engine='netcdf4')\n",
    "ds"
   ]
  },
  {
   "cell_type": "markdown",
   "metadata": {},
   "source": [
    "#### Saving xarray datasets as netcdf files\n",
    "\n",
    "Xarray provides a high-level method for writing netCDF files directly from Xarray Datasets/DataArrays."
   ]
  },
  {
   "cell_type": "code",
   "execution_count": 15,
   "metadata": {},
   "outputs": [],
   "source": [
    "ds.to_netcdf('./data/rasm_test.nc')"
   ]
  },
  {
   "cell_type": "markdown",
   "metadata": {},
   "source": [
    "#### Multifile datasets\n",
    "\n",
    "Xarray can read/write multifile datasets using the `open_mfdataset` and `save_mfdataset` functions. "
   ]
  },
  {
   "cell_type": "code",
   "execution_count": 16,
   "metadata": {},
   "outputs": [
    {
     "name": "stdout",
     "output_type": "stream",
     "text": [
      "['./data/1980.nc', './data/1981.nc', './data/1982.nc', './data/1983.nc']\n"
     ]
    }
   ],
   "source": [
    "years, datasets = zip(*ds.groupby('time.year'))\n",
    "paths = ['./data/%s.nc' % y for y in years]\n",
    "print(paths)"
   ]
  },
  {
   "cell_type": "code",
   "execution_count": 17,
   "metadata": {},
   "outputs": [
    {
     "data": {
      "text/plain": [
       "4"
      ]
     },
     "execution_count": 17,
     "metadata": {},
     "output_type": "execute_result"
    }
   ],
   "source": [
    "len(datasets)"
   ]
  },
  {
   "cell_type": "code",
   "execution_count": 18,
   "metadata": {},
   "outputs": [],
   "source": [
    "# write the 4 netcdf files\n",
    "xr.save_mfdataset(datasets, paths)"
   ]
  },
  {
   "cell_type": "markdown",
   "metadata": {},
   "source": [
    "- Open a group of files and concatenate them into a single xarray.Dataset"
   ]
  },
  {
   "cell_type": "code",
   "execution_count": 19,
   "metadata": {},
   "outputs": [
    {
     "data": {
      "text/plain": [
       "<xarray.Dataset>\n",
       "Dimensions:  (time: 36, x: 275, y: 205)\n",
       "Coordinates:\n",
       "    xc       (y, x) float64 189.2 189.4 189.6 189.7 ... 17.65 17.4 17.15 16.91\n",
       "    yc       (y, x) float64 16.53 16.78 17.02 17.27 ... 28.26 28.01 27.76 27.51\n",
       "  * time     (time) object 1980-09-16 12:00:00 ... 1983-08-17 00:00:00\n",
       "Dimensions without coordinates: x, y\n",
       "Data variables:\n",
       "    Tair     (time, y, x) float64 dask.array<shape=(36, 205, 275), chunksize=(4, 205, 275)>\n",
       "Attributes:\n",
       "    title:                     /workspace/jhamman/processed/R1002RBRxaaa01a/l...\n",
       "    institution:               U.W.\n",
       "    source:                    RACM R1002RBRxaaa01a\n",
       "    output_frequency:          daily\n",
       "    output_mode:               averaged\n",
       "    convention:                CF-1.4\n",
       "    references:                Based on the initial model of Liang et al., 19...\n",
       "    comment:                   Output from the Variable Infiltration Capacity...\n",
       "    nco_openmp_thread_number:  1\n",
       "    NCO:                       \"4.6.0\"\n",
       "    history:                   Tue Dec 27 14:15:22 2016: ncatted -a dimension..."
      ]
     },
     "execution_count": 19,
     "metadata": {},
     "output_type": "execute_result"
    }
   ],
   "source": [
    "ds2 = xr.open_mfdataset('./data/19*nc')\n",
    "ds2"
   ]
  },
  {
   "cell_type": "markdown",
   "metadata": {},
   "source": [
    "### Zarr\n",
    "\n",
    "Zarr is a Python package providing an implementation of chunked, compressed, N-dimensional arrays. Zarr has the ability to store arrays in a range of ways, including in memory, in files, and in cloud-based object storage such as Amazon S3 and Google Cloud Storage. Xarray’s Zarr backend allows xarray to leverage these capabilities."
   ]
  },
  {
   "cell_type": "code",
   "execution_count": 20,
   "metadata": {},
   "outputs": [
    {
     "data": {
      "text/plain": [
       "<xarray.backends.zarr.ZarrStore at 0x11515aba8>"
      ]
     },
     "execution_count": 20,
     "metadata": {},
     "output_type": "execute_result"
    }
   ],
   "source": [
    "# Zarr\n",
    "ds.to_zarr('./data/rasm.zarr', mode='w')"
   ]
  },
  {
   "cell_type": "code",
   "execution_count": 21,
   "metadata": {},
   "outputs": [
    {
     "name": "stdout",
     "output_type": "stream",
     "text": [
      "data/rasm.zarr:\n",
      "\u001b[34mTair\u001b[m\u001b[m \u001b[34mtime\u001b[m\u001b[m \u001b[34mxc\u001b[m\u001b[m   \u001b[34myc\u001b[m\u001b[m\n",
      "\n",
      "data/rasm_compressed.zarr:\n",
      "\u001b[34mTair\u001b[m\u001b[m \u001b[34mtime\u001b[m\u001b[m \u001b[34mxc\u001b[m\u001b[m   \u001b[34myc\u001b[m\u001b[m\n",
      "348K\tdata/rasm.zarr/yc\n",
      " 12K\tdata/rasm.zarr/time\n",
      "7.6M\tdata/rasm.zarr/Tair\n",
      "332K\tdata/rasm.zarr/xc\n",
      "8.3M\tdata/rasm.zarr\n",
      "356K\tdata/rasm_compressed.zarr/yc\n",
      " 12K\tdata/rasm_compressed.zarr/time\n",
      "7.8M\tdata/rasm_compressed.zarr/Tair\n",
      "340K\tdata/rasm_compressed.zarr/xc\n",
      "8.5M\tdata/rasm_compressed.zarr\n"
     ]
    }
   ],
   "source": [
    "!ls data/*zarr\n",
    "!du -h data/*zarr"
   ]
  },
  {
   "cell_type": "code",
   "execution_count": 22,
   "metadata": {},
   "outputs": [],
   "source": [
    "import zarr"
   ]
  },
  {
   "cell_type": "code",
   "execution_count": 23,
   "metadata": {},
   "outputs": [
    {
     "data": {
      "text/plain": [
       "<xarray.backends.zarr.ZarrStore at 0x113f18550>"
      ]
     },
     "execution_count": 23,
     "metadata": {},
     "output_type": "execute_result"
    }
   ],
   "source": [
    "compressor = zarr.Blosc(clevel=2, shuffle=-1)\n",
    "ds.to_zarr('./data/rasm_compressed.zarr', mode='w', encoding={var: {'compressor': compressor} \n",
    "                                                              for var in ds.variables})"
   ]
  },
  {
   "cell_type": "code",
   "execution_count": 24,
   "metadata": {},
   "outputs": [
    {
     "name": "stdout",
     "output_type": "stream",
     "text": [
      "data/rasm.zarr:\n",
      "\u001b[34mTair\u001b[m\u001b[m \u001b[34mtime\u001b[m\u001b[m \u001b[34mxc\u001b[m\u001b[m   \u001b[34myc\u001b[m\u001b[m\n",
      "\n",
      "data/rasm_compressed.zarr:\n",
      "\u001b[34mTair\u001b[m\u001b[m \u001b[34mtime\u001b[m\u001b[m \u001b[34mxc\u001b[m\u001b[m   \u001b[34myc\u001b[m\u001b[m\n",
      "348K\tdata/rasm.zarr/yc\n",
      " 12K\tdata/rasm.zarr/time\n",
      "7.6M\tdata/rasm.zarr/Tair\n",
      "332K\tdata/rasm.zarr/xc\n",
      "8.3M\tdata/rasm.zarr\n",
      "356K\tdata/rasm_compressed.zarr/yc\n",
      " 12K\tdata/rasm_compressed.zarr/time\n",
      "7.8M\tdata/rasm_compressed.zarr/Tair\n",
      "340K\tdata/rasm_compressed.zarr/xc\n",
      "8.5M\tdata/rasm_compressed.zarr\n"
     ]
    }
   ],
   "source": [
    "!ls data/*zarr\n",
    "!du -h data/*zarr"
   ]
  },
  {
   "cell_type": "markdown",
   "metadata": {},
   "source": [
    "<div class=\"alert alert-info\">\n",
    "\n",
    "**Going Further:** \n",
    "    \n",
    "Xarray I/O Documentation: http://xarray.pydata.org/en/latest/io.html\n",
    "\n",
    "</div>"
   ]
  },
  {
   "cell_type": "markdown",
   "metadata": {},
   "source": [
    "### Label-based indexing"
   ]
  },
  {
   "cell_type": "markdown",
   "metadata": {},
   "source": [
    "Scientific data is inherently labeled. For example, time series data includes timestamps that label individual periods or points in time, spatial data has coordinates (e.g. longitude, latitude, elevation), and model or laboratory experiments are often identified by unique identifiers. "
   ]
  },
  {
   "cell_type": "code",
   "execution_count": 25,
   "metadata": {},
   "outputs": [
    {
     "data": {
      "text/plain": [
       "<xarray.Dataset>\n",
       "Dimensions:  (lat: 25, lon: 53, time: 2920)\n",
       "Coordinates:\n",
       "  * lat      (lat) float32 75.0 72.5 70.0 67.5 65.0 ... 25.0 22.5 20.0 17.5 15.0\n",
       "  * lon      (lon) float32 200.0 202.5 205.0 207.5 ... 322.5 325.0 327.5 330.0\n",
       "  * time     (time) datetime64[ns] 2013-01-01 ... 2014-12-31T18:00:00\n",
       "Data variables:\n",
       "    air      (time, lat, lon) float32 ...\n",
       "Attributes:\n",
       "    Conventions:  COARDS\n",
       "    title:        4x daily NMC reanalysis (1948)\n",
       "    description:  Data is from NMC initialized reanalysis\\n(4x/day).  These a...\n",
       "    platform:     Model\n",
       "    references:   http://www.esrl.noaa.gov/psd/data/gridded/data.ncep.reanaly..."
      ]
     },
     "execution_count": 25,
     "metadata": {},
     "output_type": "execute_result"
    }
   ],
   "source": [
    "ds = xr.open_dataset('./data/air_temperature.nc')\n",
    "ds"
   ]
  },
  {
   "cell_type": "markdown",
   "metadata": {},
   "source": [
    "#### NumPy Positional Indexing\n",
    "\n",
    "When working with numpy, indexing is done by position (slices/ranges/scalars)."
   ]
  },
  {
   "cell_type": "code",
   "execution_count": 26,
   "metadata": {},
   "outputs": [
    {
     "data": {
      "text/plain": [
       "array([[[241.2    , 242.5    , 243.5    , ..., 232.79999, 235.5    ,\n",
       "         238.59999],\n",
       "        [243.79999, 244.5    , 244.7    , ..., 232.79999, 235.29999,\n",
       "         239.29999],\n",
       "        [250.     , 249.79999, 248.89   , ..., 233.2    , 236.39   ,\n",
       "         241.7    ],\n",
       "        ...,\n",
       "        [296.6    , 296.19998, 296.4    , ..., 295.4    , 295.1    ,\n",
       "         294.69998],\n",
       "        [295.9    , 296.19998, 296.79   , ..., 295.9    , 295.9    ,\n",
       "         295.19998],\n",
       "        [296.29   , 296.79   , 297.1    , ..., 296.9    , 296.79   ,\n",
       "         296.6    ]],\n",
       "\n",
       "       [[242.09999, 242.7    , 243.09999, ..., 232.     , 233.59999,\n",
       "         235.79999],\n",
       "        [243.59999, 244.09999, 244.2    , ..., 231.     , 232.5    ,\n",
       "         235.7    ],\n",
       "        [253.2    , 252.89   , 252.09999, ..., 230.79999, 233.39   ,\n",
       "         238.5    ],\n",
       "        ...,\n",
       "        [296.4    , 295.9    , 296.19998, ..., 295.4    , 295.1    ,\n",
       "         294.79   ],\n",
       "        [296.19998, 296.69998, 296.79   , ..., 295.6    , 295.5    ,\n",
       "         295.1    ],\n",
       "        [296.29   , 297.19998, 297.4    , ..., 296.4    , 296.4    ,\n",
       "         296.6    ]],\n",
       "\n",
       "       [[242.29999, 242.2    , 242.29999, ..., 234.29999, 236.09999,\n",
       "         238.7    ],\n",
       "        [244.59999, 244.39   , 244.     , ..., 230.29999, 232.     ,\n",
       "         235.7    ],\n",
       "        [256.19998, 255.5    , 254.2    , ..., 231.2    , 233.2    ,\n",
       "         238.2    ],\n",
       "        ...,\n",
       "        [295.6    , 295.4    , 295.4    , ..., 296.29   , 295.29   ,\n",
       "         295.     ],\n",
       "        [296.19998, 296.5    , 296.29   , ..., 296.4    , 296.     ,\n",
       "         295.6    ],\n",
       "        [296.4    , 296.29   , 296.4    , ..., 297.     , 297.     ,\n",
       "         296.79   ]],\n",
       "\n",
       "       ...,\n",
       "\n",
       "       [[243.48999, 242.98999, 242.09   , ..., 244.18999, 244.48999,\n",
       "         244.89   ],\n",
       "        [249.09   , 248.98999, 248.59   , ..., 240.59   , 241.29   ,\n",
       "         242.68999],\n",
       "        [262.69   , 262.19   , 261.69   , ..., 239.39   , 241.68999,\n",
       "         245.18999],\n",
       "        ...,\n",
       "        [294.79   , 295.29   , 297.49   , ..., 295.49   , 295.38998,\n",
       "         294.69   ],\n",
       "        [296.79   , 297.88998, 298.29   , ..., 295.49   , 295.49   ,\n",
       "         294.79   ],\n",
       "        [298.19   , 299.19   , 298.79   , ..., 296.09   , 295.79   ,\n",
       "         295.79   ]],\n",
       "\n",
       "       [[245.79   , 244.79   , 243.48999, ..., 243.29   , 243.98999,\n",
       "         244.79   ],\n",
       "        [249.89   , 249.29   , 248.48999, ..., 241.29   , 242.48999,\n",
       "         244.29   ],\n",
       "        [262.38998, 261.79   , 261.29   , ..., 240.48999, 243.09   ,\n",
       "         246.89   ],\n",
       "        ...,\n",
       "        [293.69   , 293.88998, 295.38998, ..., 295.09   , 294.69   ,\n",
       "         294.29   ],\n",
       "        [296.29   , 297.19   , 297.59   , ..., 295.29   , 295.09   ,\n",
       "         294.38998],\n",
       "        [297.79   , 298.38998, 298.49   , ..., 295.69   , 295.49   ,\n",
       "         295.19   ]],\n",
       "\n",
       "       [[245.09   , 244.29   , 243.29   , ..., 241.68999, 241.48999,\n",
       "         241.79   ],\n",
       "        [249.89   , 249.29   , 248.39   , ..., 239.59   , 240.29   ,\n",
       "         241.68999],\n",
       "        [262.99   , 262.19   , 261.38998, ..., 239.89   , 242.59   ,\n",
       "         246.29   ],\n",
       "        ...,\n",
       "        [293.79   , 293.69   , 295.09   , ..., 295.29   , 295.09   ,\n",
       "         294.69   ],\n",
       "        [296.09   , 296.88998, 297.19   , ..., 295.69   , 295.69   ,\n",
       "         295.19   ],\n",
       "        [297.69   , 298.09   , 298.09   , ..., 296.49   , 296.19   ,\n",
       "         295.69   ]]], dtype=float32)"
      ]
     },
     "execution_count": 26,
     "metadata": {},
     "output_type": "execute_result"
    }
   ],
   "source": [
    "t = ds['air'].data # numpy array \n",
    "t"
   ]
  },
  {
   "cell_type": "code",
   "execution_count": 27,
   "metadata": {},
   "outputs": [
    {
     "data": {
      "text/plain": [
       "(2920, 25, 53)"
      ]
     },
     "execution_count": 27,
     "metadata": {},
     "output_type": "execute_result"
    }
   ],
   "source": [
    "t.shape"
   ]
  },
  {
   "cell_type": "code",
   "execution_count": 28,
   "metadata": {},
   "outputs": [
    {
     "data": {
      "text/plain": [
       "array([295.  , 294.4 , 294.5 , ..., 297.29, 297.79, 297.99], dtype=float32)"
      ]
     },
     "execution_count": 28,
     "metadata": {},
     "output_type": "execute_result"
    }
   ],
   "source": [
    "# extract a time-series for one spatial location\n",
    "t[:, 20, 40]"
   ]
  },
  {
   "cell_type": "markdown",
   "metadata": {},
   "source": [
    "**but wait, what labels go with 10 and 20? Was that lat/lon or lon/lat? Where are the timestamps that go along with this time-series?**"
   ]
  },
  {
   "cell_type": "markdown",
   "metadata": {},
   "source": [
    "#### Indexing with xarray"
   ]
  },
  {
   "cell_type": "markdown",
   "metadata": {},
   "source": [
    "xarray offers extremely flexible indexing routines that combine the best features of NumPy and pandas for data selection."
   ]
  },
  {
   "cell_type": "code",
   "execution_count": 29,
   "metadata": {},
   "outputs": [
    {
     "data": {
      "text/plain": [
       "<xarray.DataArray 'air' (time: 2920, lat: 25, lon: 53)>\n",
       "array([[[241.2    , 242.5    , ..., 235.5    , 238.59999],\n",
       "        [243.79999, 244.5    , ..., 235.29999, 239.29999],\n",
       "        ...,\n",
       "        [295.9    , 296.19998, ..., 295.9    , 295.19998],\n",
       "        [296.29   , 296.79   , ..., 296.79   , 296.6    ]],\n",
       "\n",
       "       [[242.09999, 242.7    , ..., 233.59999, 235.79999],\n",
       "        [243.59999, 244.09999, ..., 232.5    , 235.7    ],\n",
       "        ...,\n",
       "        [296.19998, 296.69998, ..., 295.5    , 295.1    ],\n",
       "        [296.29   , 297.19998, ..., 296.4    , 296.6    ]],\n",
       "\n",
       "       ...,\n",
       "\n",
       "       [[245.79   , 244.79   , ..., 243.98999, 244.79   ],\n",
       "        [249.89   , 249.29   , ..., 242.48999, 244.29   ],\n",
       "        ...,\n",
       "        [296.29   , 297.19   , ..., 295.09   , 294.38998],\n",
       "        [297.79   , 298.38998, ..., 295.49   , 295.19   ]],\n",
       "\n",
       "       [[245.09   , 244.29   , ..., 241.48999, 241.79   ],\n",
       "        [249.89   , 249.29   , ..., 240.29   , 241.68999],\n",
       "        ...,\n",
       "        [296.09   , 296.88998, ..., 295.69   , 295.19   ],\n",
       "        [297.69   , 298.09   , ..., 296.19   , 295.69   ]]], dtype=float32)\n",
       "Coordinates:\n",
       "  * lat      (lat) float32 75.0 72.5 70.0 67.5 65.0 ... 25.0 22.5 20.0 17.5 15.0\n",
       "  * lon      (lon) float32 200.0 202.5 205.0 207.5 ... 322.5 325.0 327.5 330.0\n",
       "  * time     (time) datetime64[ns] 2013-01-01 ... 2014-12-31T18:00:00\n",
       "Attributes:\n",
       "    long_name:     4xDaily Air temperature at sigma level 995\n",
       "    units:         degK\n",
       "    precision:     2\n",
       "    GRIB_id:       11\n",
       "    GRIB_name:     TMP\n",
       "    var_desc:      Air temperature\n",
       "    dataset:       NMC Reanalysis\n",
       "    level_desc:    Surface\n",
       "    statistic:     Individual Obs\n",
       "    parent_stat:   Other\n",
       "    actual_range:  [185.16 322.1 ]"
      ]
     },
     "execution_count": 29,
     "metadata": {},
     "output_type": "execute_result"
    }
   ],
   "source": [
    "da = ds['air'] # Extract data array\n",
    "da"
   ]
  },
  {
   "cell_type": "markdown",
   "metadata": {},
   "source": [
    "- **NumPy style indexing still works (but preserves the labels/metadata)**"
   ]
  },
  {
   "cell_type": "code",
   "execution_count": 30,
   "metadata": {},
   "outputs": [
    {
     "data": {
      "text/plain": [
       "<xarray.DataArray 'air' (time: 2920)>\n",
       "array([295.  , 294.4 , 294.5 , ..., 297.29, 297.79, 297.99], dtype=float32)\n",
       "Coordinates:\n",
       "    lat      float32 25.0\n",
       "    lon      float32 300.0\n",
       "  * time     (time) datetime64[ns] 2013-01-01 ... 2014-12-31T18:00:00\n",
       "Attributes:\n",
       "    long_name:     4xDaily Air temperature at sigma level 995\n",
       "    units:         degK\n",
       "    precision:     2\n",
       "    GRIB_id:       11\n",
       "    GRIB_name:     TMP\n",
       "    var_desc:      Air temperature\n",
       "    dataset:       NMC Reanalysis\n",
       "    level_desc:    Surface\n",
       "    statistic:     Individual Obs\n",
       "    parent_stat:   Other\n",
       "    actual_range:  [185.16 322.1 ]"
      ]
     },
     "execution_count": 30,
     "metadata": {},
     "output_type": "execute_result"
    }
   ],
   "source": [
    "da[:, 20, 40]"
   ]
  },
  {
   "cell_type": "markdown",
   "metadata": {},
   "source": [
    "- **Positional indexing using dimension names**"
   ]
  },
  {
   "cell_type": "code",
   "execution_count": 31,
   "metadata": {},
   "outputs": [
    {
     "data": {
      "text/plain": [
       "<xarray.DataArray 'air' (time: 2920)>\n",
       "array([295.  , 294.4 , 294.5 , ..., 297.29, 297.79, 297.99], dtype=float32)\n",
       "Coordinates:\n",
       "    lat      float32 25.0\n",
       "    lon      float32 300.0\n",
       "  * time     (time) datetime64[ns] 2013-01-01 ... 2014-12-31T18:00:00\n",
       "Attributes:\n",
       "    long_name:     4xDaily Air temperature at sigma level 995\n",
       "    units:         degK\n",
       "    precision:     2\n",
       "    GRIB_id:       11\n",
       "    GRIB_name:     TMP\n",
       "    var_desc:      Air temperature\n",
       "    dataset:       NMC Reanalysis\n",
       "    level_desc:    Surface\n",
       "    statistic:     Individual Obs\n",
       "    parent_stat:   Other\n",
       "    actual_range:  [185.16 322.1 ]"
      ]
     },
     "execution_count": 31,
     "metadata": {},
     "output_type": "execute_result"
    }
   ],
   "source": [
    "da.isel(lat=20, lon=40)"
   ]
  },
  {
   "cell_type": "markdown",
   "metadata": {},
   "source": [
    "- **Label-based indexing**"
   ]
  },
  {
   "cell_type": "code",
   "execution_count": 32,
   "metadata": {},
   "outputs": [
    {
     "data": {
      "text/plain": [
       "<xarray.DataArray 'air' (time: 2920)>\n",
       "array([277.29, 276.29, 276.  , ..., 277.59, 277.59, 277.59], dtype=float32)\n",
       "Coordinates:\n",
       "    lat      float32 50.0\n",
       "    lon      float32 200.0\n",
       "  * time     (time) datetime64[ns] 2013-01-01 ... 2014-12-31T18:00:00\n",
       "Attributes:\n",
       "    long_name:     4xDaily Air temperature at sigma level 995\n",
       "    units:         degK\n",
       "    precision:     2\n",
       "    GRIB_id:       11\n",
       "    GRIB_name:     TMP\n",
       "    var_desc:      Air temperature\n",
       "    dataset:       NMC Reanalysis\n",
       "    level_desc:    Surface\n",
       "    statistic:     Individual Obs\n",
       "    parent_stat:   Other\n",
       "    actual_range:  [185.16 322.1 ]"
      ]
     },
     "execution_count": 32,
     "metadata": {},
     "output_type": "execute_result"
    }
   ],
   "source": [
    "da.sel(lat=50., lon=200.)"
   ]
  },
  {
   "cell_type": "markdown",
   "metadata": {},
   "source": [
    "- **Nearest Neighbor Lookups**"
   ]
  },
  {
   "cell_type": "code",
   "execution_count": 33,
   "metadata": {},
   "outputs": [
    {
     "data": {
      "text/plain": [
       "<xarray.DataArray 'air' (time: 2920)>\n",
       "array([262.69998, 263.19998, 270.9    , ..., 264.19   , 265.19   , 266.99   ],\n",
       "      dtype=float32)\n",
       "Coordinates:\n",
       "    lat      float32 52.5\n",
       "    lon      float32 252.5\n",
       "  * time     (time) datetime64[ns] 2013-01-01 ... 2014-12-31T18:00:00\n",
       "Attributes:\n",
       "    long_name:     4xDaily Air temperature at sigma level 995\n",
       "    units:         degK\n",
       "    precision:     2\n",
       "    GRIB_id:       11\n",
       "    GRIB_name:     TMP\n",
       "    var_desc:      Air temperature\n",
       "    dataset:       NMC Reanalysis\n",
       "    level_desc:    Surface\n",
       "    statistic:     Individual Obs\n",
       "    parent_stat:   Other\n",
       "    actual_range:  [185.16 322.1 ]"
      ]
     },
     "execution_count": 33,
     "metadata": {},
     "output_type": "execute_result"
    }
   ],
   "source": [
    "da.sel(lat=52.25, lon=251.8998, method='nearest')"
   ]
  },
  {
   "cell_type": "markdown",
   "metadata": {},
   "source": [
    "- **All of these indexing methods work on the dataset too:**"
   ]
  },
  {
   "cell_type": "code",
   "execution_count": 34,
   "metadata": {},
   "outputs": [
    {
     "data": {
      "text/plain": [
       "<xarray.Dataset>\n",
       "Dimensions:  (time: 2920)\n",
       "Coordinates:\n",
       "    lat      float32 52.5\n",
       "    lon      float32 252.5\n",
       "  * time     (time) datetime64[ns] 2013-01-01 ... 2014-12-31T18:00:00\n",
       "Data variables:\n",
       "    air      (time) float32 262.69998 263.19998 270.9 ... 264.19 265.19 266.99\n",
       "Attributes:\n",
       "    Conventions:  COARDS\n",
       "    title:        4x daily NMC reanalysis (1948)\n",
       "    description:  Data is from NMC initialized reanalysis\\n(4x/day).  These a...\n",
       "    platform:     Model\n",
       "    references:   http://www.esrl.noaa.gov/psd/data/gridded/data.ncep.reanaly..."
      ]
     },
     "execution_count": 34,
     "metadata": {},
     "output_type": "execute_result"
    }
   ],
   "source": [
    "ds.sel(lat=52.25, lon=251.8998, method='nearest')"
   ]
  },
  {
   "cell_type": "markdown",
   "metadata": {},
   "source": [
    "#### Vectorized Indexing\n",
    "\n",
    "Like numpy and pandas, xarray supports indexing many array elements at once in a vectorized manner:\n"
   ]
  },
  {
   "cell_type": "code",
   "execution_count": 35,
   "metadata": {},
   "outputs": [
    {
     "data": {
      "text/plain": [
       "<xarray.DataArray (points: 3)>\n",
       "array([52. , 52.5, 53. ])\n",
       "Dimensions without coordinates: points"
      ]
     },
     "execution_count": 35,
     "metadata": {},
     "output_type": "execute_result"
    }
   ],
   "source": [
    "# generate a coordinates for a transect of points\n",
    "lat_points = xr.DataArray([52, 52.5, 53], dims='points')\n",
    "lon_points = xr.DataArray([250, 250, 250], dims='points')\n",
    "lat_points"
   ]
  },
  {
   "cell_type": "code",
   "execution_count": 36,
   "metadata": {},
   "outputs": [
    {
     "data": {
      "text/plain": [
       "<xarray.DataArray 'air' (time: 2920, points: 3)>\n",
       "array([[269.5    , 269.5    , 269.5    ],\n",
       "       [269.29   , 269.29   , 269.29   ],\n",
       "       [273.69998, 273.69998, 273.69998],\n",
       "       ...,\n",
       "       [267.49   , 267.49   , 267.49   ],\n",
       "       [269.29   , 269.29   , 269.29   ],\n",
       "       [268.69   , 268.69   , 268.69   ]], dtype=float32)\n",
       "Coordinates:\n",
       "    lat      (points) float32 52.5 52.5 52.5\n",
       "    lon      (points) float32 250.0 250.0 250.0\n",
       "  * time     (time) datetime64[ns] 2013-01-01 ... 2014-12-31T18:00:00\n",
       "Dimensions without coordinates: points\n",
       "Attributes:\n",
       "    long_name:     4xDaily Air temperature at sigma level 995\n",
       "    units:         degK\n",
       "    precision:     2\n",
       "    GRIB_id:       11\n",
       "    GRIB_name:     TMP\n",
       "    var_desc:      Air temperature\n",
       "    dataset:       NMC Reanalysis\n",
       "    level_desc:    Surface\n",
       "    statistic:     Individual Obs\n",
       "    parent_stat:   Other\n",
       "    actual_range:  [185.16 322.1 ]"
      ]
     },
     "execution_count": 36,
     "metadata": {},
     "output_type": "execute_result"
    }
   ],
   "source": [
    "# nearest neighbor selection along the transect\n",
    "da.sel(lat=lat_points, lon=lon_points, method='nearest')"
   ]
  },
  {
   "cell_type": "markdown",
   "metadata": {},
   "source": [
    "### Aggregation"
   ]
  },
  {
   "cell_type": "markdown",
   "metadata": {},
   "source": [
    "Xarray supports many of the aggregations methods that numpy has. A partial list includes: all, any, argmax, argmin, max, mean, median, min, prod, sum, std, var.\n",
    "\n",
    "Whereas the numpy syntax would require scalar axes, xarray can use dimension names:"
   ]
  },
  {
   "cell_type": "code",
   "execution_count": 37,
   "metadata": {},
   "outputs": [],
   "source": [
    "ds = xr.open_dataset(\"./data/air_temperature.nc\")"
   ]
  },
  {
   "cell_type": "code",
   "execution_count": 38,
   "metadata": {},
   "outputs": [
    {
     "data": {
      "text/plain": [
       "<xarray.DataArray 'air' (time: 2920, lat: 25, lon: 53)>\n",
       "[3869000 values with dtype=float32]\n",
       "Coordinates:\n",
       "  * lat      (lat) float32 75.0 72.5 70.0 67.5 65.0 ... 25.0 22.5 20.0 17.5 15.0\n",
       "  * lon      (lon) float32 200.0 202.5 205.0 207.5 ... 322.5 325.0 327.5 330.0\n",
       "  * time     (time) datetime64[ns] 2013-01-01 ... 2014-12-31T18:00:00\n",
       "Attributes:\n",
       "    long_name:     4xDaily Air temperature at sigma level 995\n",
       "    units:         degK\n",
       "    precision:     2\n",
       "    GRIB_id:       11\n",
       "    GRIB_name:     TMP\n",
       "    var_desc:      Air temperature\n",
       "    dataset:       NMC Reanalysis\n",
       "    level_desc:    Surface\n",
       "    statistic:     Individual Obs\n",
       "    parent_stat:   Other\n",
       "    actual_range:  [185.16 322.1 ]"
      ]
     },
     "execution_count": 38,
     "metadata": {},
     "output_type": "execute_result"
    }
   ],
   "source": [
    "da = ds['air']\n",
    "da"
   ]
  },
  {
   "cell_type": "code",
   "execution_count": 39,
   "metadata": {},
   "outputs": [
    {
     "data": {
      "text/plain": [
       "<xarray.DataArray 'air' (time: 2920, lon: 53)>\n",
       "array([[279.39798, 279.6664 , 279.66122, ..., 279.9508 , 280.31522, 280.6624 ],\n",
       "       [279.05722, 279.538  , 279.7296 , ..., 279.77563, 280.27002, 280.79764],\n",
       "       [279.0104 , 279.2808 , 279.5508 , ..., 279.682  , 280.19763, 280.81403],\n",
       "       ...,\n",
       "       [279.63   , 279.934  , 280.534  , ..., 279.802  , 280.346  , 280.77798],\n",
       "       [279.398  , 279.66602, 280.31796, ..., 279.766  , 280.34198, 280.834  ],\n",
       "       [279.27   , 279.354  , 279.88202, ..., 279.42596, 279.96997, 280.48196]],\n",
       "      dtype=float32)\n",
       "Coordinates:\n",
       "  * lon      (lon) float32 200.0 202.5 205.0 207.5 ... 322.5 325.0 327.5 330.0\n",
       "  * time     (time) datetime64[ns] 2013-01-01 ... 2014-12-31T18:00:00"
      ]
     },
     "execution_count": 39,
     "metadata": {},
     "output_type": "execute_result"
    }
   ],
   "source": [
    "da.mean(dim=['lat'])"
   ]
  },
  {
   "cell_type": "markdown",
   "metadata": {},
   "source": [
    "### Arithmetic"
   ]
  },
  {
   "cell_type": "markdown",
   "metadata": {},
   "source": [
    "Arithmetic operations with a single DataArray automatically vectorize (like numpy) over all array values:\n"
   ]
  },
  {
   "cell_type": "code",
   "execution_count": 40,
   "metadata": {},
   "outputs": [
    {
     "data": {
      "text/plain": [
       "<xarray.DataArray 'air' (time: 2920, lat: 25, lon: 53)>\n",
       "array([[[-31.949997, -30.649994, ..., -37.649994, -34.550003],\n",
       "        [-29.350006, -28.649994, ..., -37.850006, -33.850006],\n",
       "        ...,\n",
       "        [ 22.75    ,  23.049988, ...,  22.75    ,  22.049988],\n",
       "        [ 23.140015,  23.640015, ...,  23.640015,  23.450012]],\n",
       "\n",
       "       [[-31.050003, -30.449997, ..., -39.550003, -37.350006],\n",
       "        [-29.550003, -29.050003, ..., -40.649994, -37.449997],\n",
       "        ...,\n",
       "        [ 23.049988,  23.549988, ...,  22.350006,  21.950012],\n",
       "        [ 23.140015,  24.049988, ...,  23.25    ,  23.450012]],\n",
       "\n",
       "       ...,\n",
       "\n",
       "       [[-27.36    , -28.36    , ..., -29.160004, -28.36    ],\n",
       "        [-23.259995, -23.86    , ..., -30.660004, -28.86    ],\n",
       "        ...,\n",
       "        [ 23.140015,  24.040009, ...,  21.940002,  21.23999 ],\n",
       "        [ 24.640015,  25.23999 , ...,  22.339996,  22.040009]],\n",
       "\n",
       "       [[-28.059998, -28.86    , ..., -31.660004, -31.36    ],\n",
       "        [-23.259995, -23.86    , ..., -32.86    , -31.460007],\n",
       "        ...,\n",
       "        [ 22.940002,  23.73999 , ...,  22.540009,  22.040009],\n",
       "        [ 24.540009,  24.940002, ...,  23.040009,  22.540009]]], dtype=float32)\n",
       "Coordinates:\n",
       "  * lat      (lat) float32 75.0 72.5 70.0 67.5 65.0 ... 25.0 22.5 20.0 17.5 15.0\n",
       "  * lon      (lon) float32 200.0 202.5 205.0 207.5 ... 322.5 325.0 327.5 330.0\n",
       "  * time     (time) datetime64[ns] 2013-01-01 ... 2014-12-31T18:00:00"
      ]
     },
     "execution_count": 40,
     "metadata": {},
     "output_type": "execute_result"
    }
   ],
   "source": [
    "da - 273.15"
   ]
  },
  {
   "cell_type": "code",
   "execution_count": 41,
   "metadata": {},
   "outputs": [
    {
     "data": {
      "text/plain": [
       "<xarray.DataArray 'air' (lat: 25, lon: 53)>\n",
       "array([[260.37564, 260.1826 , 259.88593, ..., 250.81511, 251.93733, 253.43741],\n",
       "       [262.7337 , 262.7936 , 262.7489 , ..., 249.75496, 251.5852 , 254.35849],\n",
       "       [264.7681 , 264.3271 , 264.0614 , ..., 250.60707, 253.58247, 257.71475],\n",
       "       ...,\n",
       "       [297.64932, 296.95294, 296.62912, ..., 296.81033, 296.28793, 295.81622],\n",
       "       [298.1287 , 297.93646, 297.47006, ..., 296.8591 , 296.77686, 296.44348],\n",
       "       [298.36594, 298.38593, 298.11386, ..., 297.33777, 297.28104, 297.30502]],\n",
       "      dtype=float32)\n",
       "Coordinates:\n",
       "  * lat      (lat) float32 75.0 72.5 70.0 67.5 65.0 ... 25.0 22.5 20.0 17.5 15.0\n",
       "  * lon      (lon) float32 200.0 202.5 205.0 207.5 ... 322.5 325.0 327.5 330.0"
      ]
     },
     "execution_count": 41,
     "metadata": {},
     "output_type": "execute_result"
    }
   ],
   "source": [
    "da_mean = da.mean(dim='time')\n",
    "da_mean"
   ]
  },
  {
   "cell_type": "code",
   "execution_count": 42,
   "metadata": {},
   "outputs": [
    {
     "data": {
      "text/plain": [
       "<xarray.DataArray 'air' (time: 2920, lat: 25, lon: 53)>\n",
       "array([[[-1.917564e+01, -1.768259e+01, ..., -1.643733e+01, -1.483742e+01],\n",
       "        [-1.893372e+01, -1.829361e+01, ..., -1.628522e+01, -1.505850e+01],\n",
       "        ...,\n",
       "        [-2.228699e+00, -1.736481e+00, ..., -8.768616e-01, -1.243500e+00],\n",
       "        [-2.075928e+00, -1.595917e+00, ..., -4.910278e-01, -7.050171e-01]],\n",
       "\n",
       "       [[-1.827565e+01, -1.748259e+01, ..., -1.833734e+01, -1.763742e+01],\n",
       "        [-1.913371e+01, -1.869362e+01, ..., -1.908521e+01, -1.865849e+01],\n",
       "        ...,\n",
       "        [-1.928711e+00, -1.236481e+00, ..., -1.276855e+00, -1.343475e+00],\n",
       "        [-2.075928e+00, -1.185944e+00, ..., -8.810425e-01, -7.050171e-01]],\n",
       "\n",
       "       ...,\n",
       "\n",
       "       [[-1.458565e+01, -1.539259e+01, ..., -7.947342e+00, -8.647415e+00],\n",
       "        [-1.284370e+01, -1.350362e+01, ..., -9.095215e+00, -1.006850e+01],\n",
       "        ...,\n",
       "        [-1.838684e+00, -7.464600e-01, ..., -1.686859e+00, -2.053497e+00],\n",
       "        [-5.759277e-01,  4.058838e-03, ..., -1.791046e+00, -2.115021e+00]],\n",
       "\n",
       "       [[-1.528564e+01, -1.589259e+01, ..., -1.044734e+01, -1.164742e+01],\n",
       "        [-1.284370e+01, -1.350362e+01, ..., -1.129521e+01, -1.266850e+01],\n",
       "        ...,\n",
       "        [-2.038696e+00, -1.046478e+00, ..., -1.086853e+00, -1.253479e+00],\n",
       "        [-6.759338e-01, -2.959290e-01, ..., -1.091034e+00, -1.615021e+00]]],\n",
       "      dtype=float32)\n",
       "Coordinates:\n",
       "  * lat      (lat) float32 75.0 72.5 70.0 67.5 65.0 ... 25.0 22.5 20.0 17.5 15.0\n",
       "  * lon      (lon) float32 200.0 202.5 205.0 207.5 ... 322.5 325.0 327.5 330.0\n",
       "  * time     (time) datetime64[ns] 2013-01-01 ... 2014-12-31T18:00:00"
      ]
     },
     "execution_count": 42,
     "metadata": {},
     "output_type": "execute_result"
    }
   ],
   "source": [
    "da - da_mean"
   ]
  },
  {
   "cell_type": "markdown",
   "metadata": {},
   "source": [
    "<div class=\"alert alert-info\">\n",
    "\n",
    "**Note:** \n",
    "    \n",
    "Notice that this required broadcasting along the time dimension. NumPy broadcasting is covered in great detail in [NumPy Guide](../numpy/01-numpy-guide.ipynb).\n",
    "\n",
    "</div>\n"
   ]
  },
  {
   "cell_type": "markdown",
   "metadata": {},
   "source": [
    "### Alignment"
   ]
  },
  {
   "cell_type": "markdown",
   "metadata": {},
   "source": [
    "xarray enforces alignment between index Coordinates (that is, coordinates with the same name as a dimension, marked by `*`) on objects used in binary operations."
   ]
  },
  {
   "cell_type": "code",
   "execution_count": 43,
   "metadata": {},
   "outputs": [
    {
     "data": {
      "text/plain": [
       "<xarray.DataArray 'air' (time: 2920, lat: 25, lon: 53)>\n",
       "array([[[241.2    , 242.5    , ..., 235.5    , 238.59999],\n",
       "        [243.79999, 244.5    , ..., 235.29999, 239.29999],\n",
       "        ...,\n",
       "        [295.9    , 296.19998, ..., 295.9    , 295.19998],\n",
       "        [296.29   , 296.79   , ..., 296.79   , 296.6    ]],\n",
       "\n",
       "       [[242.09999, 242.7    , ..., 233.59999, 235.79999],\n",
       "        [243.59999, 244.09999, ..., 232.5    , 235.7    ],\n",
       "        ...,\n",
       "        [296.19998, 296.69998, ..., 295.5    , 295.1    ],\n",
       "        [296.29   , 297.19998, ..., 296.4    , 296.6    ]],\n",
       "\n",
       "       ...,\n",
       "\n",
       "       [[245.79   , 244.79   , ..., 243.98999, 244.79   ],\n",
       "        [249.89   , 249.29   , ..., 242.48999, 244.29   ],\n",
       "        ...,\n",
       "        [296.29   , 297.19   , ..., 295.09   , 294.38998],\n",
       "        [297.79   , 298.38998, ..., 295.49   , 295.19   ]],\n",
       "\n",
       "       [[245.09   , 244.29   , ..., 241.48999, 241.79   ],\n",
       "        [249.89   , 249.29   , ..., 240.29   , 241.68999],\n",
       "        ...,\n",
       "        [296.09   , 296.88998, ..., 295.69   , 295.19   ],\n",
       "        [297.69   , 298.09   , ..., 296.19   , 295.69   ]]], dtype=float32)\n",
       "Coordinates:\n",
       "  * lat      (lat) float32 75.0 72.5 70.0 67.5 65.0 ... 25.0 22.5 20.0 17.5 15.0\n",
       "  * lon      (lon) float32 200.0 202.5 205.0 207.5 ... 322.5 325.0 327.5 330.0\n",
       "  * time     (time) datetime64[ns] 2013-01-01 ... 2014-12-31T18:00:00\n",
       "Attributes:\n",
       "    long_name:     4xDaily Air temperature at sigma level 995\n",
       "    units:         degK\n",
       "    precision:     2\n",
       "    GRIB_id:       11\n",
       "    GRIB_name:     TMP\n",
       "    var_desc:      Air temperature\n",
       "    dataset:       NMC Reanalysis\n",
       "    level_desc:    Surface\n",
       "    statistic:     Individual Obs\n",
       "    parent_stat:   Other\n",
       "    actual_range:  [185.16 322.1 ]"
      ]
     },
     "execution_count": 43,
     "metadata": {},
     "output_type": "execute_result"
    }
   ],
   "source": [
    "da"
   ]
  },
  {
   "cell_type": "code",
   "execution_count": 44,
   "metadata": {},
   "outputs": [
    {
     "data": {
      "text/plain": [
       "<xarray.DataArray 'air' (lat: 5, lon: 4)>\n",
       "array([[265.1    , 264.9    , 265.5    , 266.5    ],\n",
       "       [272.9    , 272.     , 271.79   , 271.1    ],\n",
       "       [279.4    , 278.9    , 278.4    , 276.6    ],\n",
       "       [279.5    , 279.9    , 280.5    , 279.9    ],\n",
       "       [280.1    , 280.19998, 280.79   , 281.4    ]], dtype=float32)\n",
       "Coordinates:\n",
       "  * lat      (lat) float32 62.5 60.0 57.5 55.0 52.5\n",
       "  * lon      (lon) float32 217.5 220.0 222.5 225.0\n",
       "    time     datetime64[ns] 2013-01-01\n",
       "Attributes:\n",
       "    long_name:     4xDaily Air temperature at sigma level 995\n",
       "    units:         degK\n",
       "    precision:     2\n",
       "    GRIB_id:       11\n",
       "    GRIB_name:     TMP\n",
       "    var_desc:      Air temperature\n",
       "    dataset:       NMC Reanalysis\n",
       "    level_desc:    Surface\n",
       "    statistic:     Individual Obs\n",
       "    parent_stat:   Other\n",
       "    actual_range:  [185.16 322.1 ]"
      ]
     },
     "execution_count": 44,
     "metadata": {},
     "output_type": "execute_result"
    }
   ],
   "source": [
    "arr = da.isel(time=0, lat=slice(5, 10), lon=slice(7, 11))\n",
    "arr"
   ]
  },
  {
   "cell_type": "code",
   "execution_count": 45,
   "metadata": {},
   "outputs": [
    {
     "data": {
      "text/plain": [
       "<xarray.DataArray 'air' (lat: 4, lon: 4)>\n",
       "array([[265.1 , 264.9 , 265.5 , 266.5 ],\n",
       "       [272.9 , 272.  , 271.79, 271.1 ],\n",
       "       [279.4 , 278.9 , 278.4 , 276.6 ],\n",
       "       [279.5 , 279.9 , 280.5 , 279.9 ]], dtype=float32)\n",
       "Coordinates:\n",
       "  * lat      (lat) float32 62.5 60.0 57.5 55.0\n",
       "  * lon      (lon) float32 217.5 220.0 222.5 225.0\n",
       "    time     datetime64[ns] 2013-01-01\n",
       "Attributes:\n",
       "    long_name:     4xDaily Air temperature at sigma level 995\n",
       "    units:         degK\n",
       "    precision:     2\n",
       "    GRIB_id:       11\n",
       "    GRIB_name:     TMP\n",
       "    var_desc:      Air temperature\n",
       "    dataset:       NMC Reanalysis\n",
       "    level_desc:    Surface\n",
       "    statistic:     Individual Obs\n",
       "    parent_stat:   Other\n",
       "    actual_range:  [185.16 322.1 ]"
      ]
     },
     "execution_count": 45,
     "metadata": {},
     "output_type": "execute_result"
    }
   ],
   "source": [
    "part = arr[:-1]\n",
    "part"
   ]
  },
  {
   "cell_type": "markdown",
   "metadata": {},
   "source": [
    "- **Default behavior is an `inner join`**"
   ]
  },
  {
   "cell_type": "code",
   "execution_count": 46,
   "metadata": {},
   "outputs": [
    {
     "data": {
      "text/plain": [
       "<xarray.DataArray 'air' (lat: 4, lon: 4)>\n",
       "array([[265.1 , 264.9 , 265.5 , 266.5 ],\n",
       "       [272.9 , 272.  , 271.79, 271.1 ],\n",
       "       [279.4 , 278.9 , 278.4 , 276.6 ],\n",
       "       [279.5 , 279.9 , 280.5 , 279.9 ]], dtype=float32)\n",
       "Coordinates:\n",
       "  * lat      (lat) float64 62.5 60.0 57.5 55.0\n",
       "  * lon      (lon) float32 217.5 220.0 222.5 225.0\n",
       "    time     datetime64[ns] 2013-01-01"
      ]
     },
     "execution_count": 46,
     "metadata": {},
     "output_type": "execute_result"
    }
   ],
   "source": [
    "(arr + part) / 2"
   ]
  },
  {
   "cell_type": "markdown",
   "metadata": {},
   "source": [
    "- **We can also use an `outer join`**"
   ]
  },
  {
   "cell_type": "code",
   "execution_count": 47,
   "metadata": {},
   "outputs": [
    {
     "name": "stdout",
     "output_type": "stream",
     "text": [
      "<xarray.DataArray 'air' (lat: 5, lon: 4)>\n",
      "array([[   nan,    nan,    nan,    nan],\n",
      "       [279.5 , 279.9 , 280.5 , 279.9 ],\n",
      "       [279.4 , 278.9 , 278.4 , 276.6 ],\n",
      "       [272.9 , 272.  , 271.79, 271.1 ],\n",
      "       [265.1 , 264.9 , 265.5 , 266.5 ]], dtype=float32)\n",
      "Coordinates:\n",
      "  * lat      (lat) float64 52.5 55.0 57.5 60.0 62.5\n",
      "  * lon      (lon) float32 217.5 220.0 222.5 225.0\n",
      "    time     datetime64[ns] 2013-01-01\n"
     ]
    }
   ],
   "source": [
    "with xr.set_options(arithmetic_join=\"outer\"):\n",
    "    print((arr + part) / 2)"
   ]
  },
  {
   "cell_type": "markdown",
   "metadata": {},
   "source": [
    "<div class=\"alert alert-info\">\n",
    "\n",
    "**Note:** \n",
    "    \n",
    "Notice that missing values (`nan`) were inserted where it is appropriate. \n",
    "\n",
    "</div>"
   ]
  },
  {
   "cell_type": "markdown",
   "metadata": {},
   "source": [
    "### GroupBy Operations"
   ]
  },
  {
   "cell_type": "markdown",
   "metadata": {},
   "source": [
    "xarray supports “group by” operations with the same API as pandas to implement the split-apply-combine strategy:\n",
    "\n",
    "- Split your data into multiple independent groups.\n",
    "- Apply some function to each group.\n",
    "- Combine your groups back into a single data object.\n",
    "\n",
    "Group by operations work on both Dataset and DataArray objects. Most of the examples focus on grouping by a single one-dimensional variable, although support for grouping over a multi-dimensional variable is also supported:"
   ]
  },
  {
   "cell_type": "markdown",
   "metadata": {},
   "source": [
    "- **Using groupby to calculate a monthly climatology:**"
   ]
  },
  {
   "cell_type": "code",
   "execution_count": 48,
   "metadata": {},
   "outputs": [
    {
     "data": {
      "text/plain": [
       "<xarray.DataArray 'air' (month: 12, lat: 25, lon: 53)>\n",
       "array([[[246.34987, 246.38608, ..., 244.08795, 245.6467 ],\n",
       "        [248.8576 , 248.90733, ..., 243.50865, 246.75471],\n",
       "        ...,\n",
       "        [296.5446 , 296.46982, ..., 295.0812 , 294.53006],\n",
       "        [297.15417, 297.2383 , ..., 295.77554, 295.63647]],\n",
       "\n",
       "       [[246.67715, 246.40576, ..., 243.0021 , 244.44383],\n",
       "        [247.8001 , 247.75992, ..., 242.26633, 245.06662],\n",
       "        ...,\n",
       "        [296.78754, 296.63443, ..., 294.2178 , 293.70258],\n",
       "        [297.2889 , 297.2165 , ..., 294.9558 , 294.87967]],\n",
       "\n",
       "       ...,\n",
       "\n",
       "       [[253.74484, 253.64487, ..., 243.9345 , 245.14209],\n",
       "        [259.12967, 258.62927, ..., 243.07965, 245.46625],\n",
       "        ...,\n",
       "        [298.58783, 298.42026, ..., 298.19397, 297.9083 ],\n",
       "        [298.81143, 298.8566 , ..., 298.7519 , 298.8189 ]],\n",
       "\n",
       "       [[247.971  , 248.02118, ..., 241.02383, 242.62823],\n",
       "        [249.73361, 250.16037, ..., 240.96469, 244.11626],\n",
       "        ...,\n",
       "        [297.46814, 297.38025, ..., 296.84668, 296.52133],\n",
       "        [297.8809 , 297.9868 , ..., 297.5655 , 297.53763]]], dtype=float32)\n",
       "Coordinates:\n",
       "  * lat      (lat) float32 75.0 72.5 70.0 67.5 65.0 ... 25.0 22.5 20.0 17.5 15.0\n",
       "  * lon      (lon) float32 200.0 202.5 205.0 207.5 ... 322.5 325.0 327.5 330.0\n",
       "  * month    (month) int64 1 2 3 4 5 6 7 8 9 10 11 12"
      ]
     },
     "execution_count": 48,
     "metadata": {},
     "output_type": "execute_result"
    }
   ],
   "source": [
    "da_climatology = da.groupby('time.month').mean('time')\n",
    "\n",
    "da_climatology"
   ]
  },
  {
   "cell_type": "markdown",
   "metadata": {},
   "source": [
    "In this case, we provide what we refer to as a virtual variable (`time.month`). Other virtual variables include: `year`, `month`, `day`, `hour`, `minute`, `second`, `dayofyear`, `week`, `dayofweek`, `weekday` and `quarter`. It is also possible to use another DataArray or pandas object as the grouper."
   ]
  },
  {
   "cell_type": "markdown",
   "metadata": {},
   "source": [
    "### Resampling Operations\n",
    "\n",
    "In order to resample time-series data, xarray provides a `resample` convenience method for frequency conversion and resampling of time series. "
   ]
  },
  {
   "cell_type": "code",
   "execution_count": 49,
   "metadata": {},
   "outputs": [
    {
     "data": {
      "text/plain": [
       "<xarray.DataArray 'air' (time: 2920, lat: 25, lon: 53)>\n",
       "array([[[241.2    , 242.5    , ..., 235.5    , 238.59999],\n",
       "        [243.79999, 244.5    , ..., 235.29999, 239.29999],\n",
       "        ...,\n",
       "        [295.9    , 296.19998, ..., 295.9    , 295.19998],\n",
       "        [296.29   , 296.79   , ..., 296.79   , 296.6    ]],\n",
       "\n",
       "       [[242.09999, 242.7    , ..., 233.59999, 235.79999],\n",
       "        [243.59999, 244.09999, ..., 232.5    , 235.7    ],\n",
       "        ...,\n",
       "        [296.19998, 296.69998, ..., 295.5    , 295.1    ],\n",
       "        [296.29   , 297.19998, ..., 296.4    , 296.6    ]],\n",
       "\n",
       "       ...,\n",
       "\n",
       "       [[245.79   , 244.79   , ..., 243.98999, 244.79   ],\n",
       "        [249.89   , 249.29   , ..., 242.48999, 244.29   ],\n",
       "        ...,\n",
       "        [296.29   , 297.19   , ..., 295.09   , 294.38998],\n",
       "        [297.79   , 298.38998, ..., 295.49   , 295.19   ]],\n",
       "\n",
       "       [[245.09   , 244.29   , ..., 241.48999, 241.79   ],\n",
       "        [249.89   , 249.29   , ..., 240.29   , 241.68999],\n",
       "        ...,\n",
       "        [296.09   , 296.88998, ..., 295.69   , 295.19   ],\n",
       "        [297.69   , 298.09   , ..., 296.19   , 295.69   ]]], dtype=float32)\n",
       "Coordinates:\n",
       "  * lat      (lat) float32 75.0 72.5 70.0 67.5 65.0 ... 25.0 22.5 20.0 17.5 15.0\n",
       "  * lon      (lon) float32 200.0 202.5 205.0 207.5 ... 322.5 325.0 327.5 330.0\n",
       "  * time     (time) datetime64[ns] 2013-01-01 ... 2014-12-31T18:00:00\n",
       "Attributes:\n",
       "    long_name:     4xDaily Air temperature at sigma level 995\n",
       "    units:         degK\n",
       "    precision:     2\n",
       "    GRIB_id:       11\n",
       "    GRIB_name:     TMP\n",
       "    var_desc:      Air temperature\n",
       "    dataset:       NMC Reanalysis\n",
       "    level_desc:    Surface\n",
       "    statistic:     Individual Obs\n",
       "    parent_stat:   Other\n",
       "    actual_range:  [185.16 322.1 ]"
      ]
     },
     "execution_count": 49,
     "metadata": {},
     "output_type": "execute_result"
    }
   ],
   "source": [
    "da"
   ]
  },
  {
   "cell_type": "markdown",
   "metadata": {},
   "source": [
    "- **Downsample our 6 hourly time-series data to seasonal data:**"
   ]
  },
  {
   "cell_type": "code",
   "execution_count": 50,
   "metadata": {},
   "outputs": [
    {
     "data": {
      "text/plain": [
       "<xarray.DataArray 'air' (time: 9, lat: 25, lon: 53)>\n",
       "array([[[242.69539, 242.78336, ..., 243.08075, 244.32892],\n",
       "        [244.63405, 244.67204, ..., 242.17795, 244.71704],\n",
       "        ...,\n",
       "        [296.26794, 296.02063, ..., 295.1654 , 294.67004],\n",
       "        [296.78656, 296.71057, ..., 295.88547, 295.7983 ]],\n",
       "\n",
       "       [[257.5176 , 257.30582, ..., 249.37135, 250.63252],\n",
       "        [258.65317, 258.6966 , ..., 249.42395, 251.75406],\n",
       "        ...,\n",
       "        [297.25198, 297.1151 , ..., 295.95157, 295.54907],\n",
       "        [297.7249 , 297.70856, ..., 296.3584 , 296.3114 ]],\n",
       "\n",
       "       ...,\n",
       "\n",
       "       [[262.87302, 262.41086, ..., 250.40855, 251.80673],\n",
       "        [267.48563, 267.1266 , ..., 250.27551, 253.24905],\n",
       "        ...,\n",
       "        [299.67496, 299.50113, ..., 298.93912, 298.7088 ],\n",
       "        [299.6641 , 299.69885, ..., 299.33344, 299.44894]],\n",
       "\n",
       "       [[246.80156, 246.88907, ..., 241.08206, 242.2817 ],\n",
       "        [247.72998, 248.30064, ..., 240.3222 , 242.97026],\n",
       "        ...,\n",
       "        [297.44586, 297.43613, ..., 297.05823, 296.72897],\n",
       "        [298.0472 , 298.22598, ..., 297.72318, 297.71024]]], dtype=float32)\n",
       "Coordinates:\n",
       "  * time     (time) datetime64[ns] 2012-12-01 2013-03-01 ... 2014-12-01\n",
       "  * lat      (lat) float32 75.0 72.5 70.0 67.5 65.0 ... 25.0 22.5 20.0 17.5 15.0\n",
       "  * lon      (lon) float32 200.0 202.5 205.0 207.5 ... 322.5 325.0 327.5 330.0"
      ]
     },
     "execution_count": 50,
     "metadata": {},
     "output_type": "execute_result"
    }
   ],
   "source": [
    "da.resample(time=\"QS-DEC\").mean(dim='time')"
   ]
  },
  {
   "cell_type": "markdown",
   "metadata": {},
   "source": [
    "- **Upsample our 6 hourly time-series data to 1 hourly data:**"
   ]
  },
  {
   "cell_type": "code",
   "execution_count": 51,
   "metadata": {},
   "outputs": [
    {
     "data": {
      "text/plain": [
       "<xarray.DataArray 'air' (time: 17515, lat: 25, lon: 53)>\n",
       "array([[[241.199997, 242.5     , ..., 235.5     , 238.599991],\n",
       "        [243.799988, 244.5     , ..., 235.299988, 239.299988],\n",
       "        ...,\n",
       "        [295.899994, 296.199982, ..., 295.899994, 295.199982],\n",
       "        [296.290009, 296.790009, ..., 296.790009, 296.600006]],\n",
       "\n",
       "       [[241.349996, 242.533333, ..., 235.183332, 238.133324],\n",
       "        [243.766655, 244.433332, ..., 234.833323, 238.699989],\n",
       "        ...,\n",
       "        [295.949992, 296.283315, ..., 295.833328, 295.183319],\n",
       "        [296.290009, 296.858337, ..., 296.725006, 296.600006]],\n",
       "\n",
       "       ...,\n",
       "\n",
       "       [[245.206662, 244.373327, ..., 241.906657, 242.289993],\n",
       "        [249.889999, 249.289993, ..., 240.656659, 242.123322],\n",
       "        ...,\n",
       "        [296.123332, 296.939987, ..., 295.590001, 295.056666],\n",
       "        [297.70667 , 298.139994, ..., 296.073334, 295.606669]],\n",
       "\n",
       "       [[245.089996, 244.289993, ..., 241.48999 , 241.789993],\n",
       "        [249.889999, 249.289993, ..., 240.289993, 241.689987],\n",
       "        ...,\n",
       "        [296.089996, 296.889984, ..., 295.690002, 295.190002],\n",
       "        [297.690002, 298.089996, ..., 296.190002, 295.690002]]])\n",
       "Coordinates:\n",
       "  * lat      (lat) float32 75.0 72.5 70.0 67.5 65.0 ... 25.0 22.5 20.0 17.5 15.0\n",
       "  * lon      (lon) float32 200.0 202.5 205.0 207.5 ... 322.5 325.0 327.5 330.0\n",
       "  * time     (time) datetime64[ns] 2013-01-01 ... 2014-12-31T18:00:00\n",
       "Attributes:\n",
       "    long_name:     4xDaily Air temperature at sigma level 995\n",
       "    units:         degK\n",
       "    precision:     2\n",
       "    GRIB_id:       11\n",
       "    GRIB_name:     TMP\n",
       "    var_desc:      Air temperature\n",
       "    dataset:       NMC Reanalysis\n",
       "    level_desc:    Surface\n",
       "    statistic:     Individual Obs\n",
       "    parent_stat:   Other\n",
       "    actual_range:  [185.16 322.1 ]"
      ]
     },
     "execution_count": 51,
     "metadata": {},
     "output_type": "execute_result"
    }
   ],
   "source": [
    "da.resample(time='1H').interpolate('linear')"
   ]
  },
  {
   "cell_type": "markdown",
   "metadata": {},
   "source": [
    "### Rolling Window Operations\n",
    "\n",
    "Xarray objects include a rolling method to support rolling window aggregations:"
   ]
  },
  {
   "cell_type": "code",
   "execution_count": 52,
   "metadata": {},
   "outputs": [
    {
     "data": {
      "text/plain": [
       "DataArrayRolling [window->3,center->False,dim->time]"
      ]
     },
     "execution_count": 52,
     "metadata": {},
     "output_type": "execute_result"
    }
   ],
   "source": [
    "roller = da.rolling(time=3)\n",
    "roller"
   ]
  },
  {
   "cell_type": "code",
   "execution_count": 53,
   "metadata": {},
   "outputs": [
    {
     "data": {
      "text/plain": [
       "<xarray.DataArray (time: 2920, lat: 25, lon: 53)>\n",
       "array([[[      nan,       nan, ...,       nan,       nan],\n",
       "        [      nan,       nan, ...,       nan,       nan],\n",
       "        ...,\n",
       "        [      nan,       nan, ...,       nan,       nan],\n",
       "        [      nan,       nan, ...,       nan,       nan]],\n",
       "\n",
       "       [[      nan,       nan, ...,       nan,       nan],\n",
       "        [      nan,       nan, ...,       nan,       nan],\n",
       "        ...,\n",
       "        [      nan,       nan, ...,       nan,       nan],\n",
       "        [      nan,       nan, ...,       nan,       nan]],\n",
       "\n",
       "       ...,\n",
       "\n",
       "       [[243.92358, 243.39023, ..., 245.0904 , 245.65619],\n",
       "        [249.12335, 249.0236 , ..., 241.9232 , 243.5903 ],\n",
       "        ...,\n",
       "        [296.68994, 297.82315, ..., 295.38968, 294.6566 ],\n",
       "        [298.08994, 298.9566 , ..., 295.75665, 295.4895 ]],\n",
       "\n",
       "       [[244.79025, 244.02356, ..., 243.32373, 243.82286],\n",
       "        [249.62335, 249.19028, ..., 241.35654, 242.8903 ],\n",
       "        ...,\n",
       "        [296.38995, 297.32315, ..., 295.42303, 294.78992],\n",
       "        [297.88995, 298.55658, ..., 295.8233 , 295.55618]]], dtype=float32)\n",
       "Coordinates:\n",
       "  * lat      (lat) float32 75.0 72.5 70.0 67.5 65.0 ... 25.0 22.5 20.0 17.5 15.0\n",
       "  * lon      (lon) float32 200.0 202.5 205.0 207.5 ... 322.5 325.0 327.5 330.0\n",
       "  * time     (time) datetime64[ns] 2013-01-01 ... 2014-12-31T18:00:00"
      ]
     },
     "execution_count": 53,
     "metadata": {},
     "output_type": "execute_result"
    }
   ],
   "source": [
    "roller.mean()"
   ]
  },
  {
   "cell_type": "markdown",
   "metadata": {},
   "source": [
    "- **We can also provide a custom function**"
   ]
  },
  {
   "cell_type": "code",
   "execution_count": 54,
   "metadata": {},
   "outputs": [
    {
     "data": {
      "text/plain": [
       "<xarray.DataArray (time: 2920, lat: 25, lon: 53)>\n",
       "array([[[      nan,       nan, ...,       nan,       nan],\n",
       "        [      nan,       nan, ...,       nan,       nan],\n",
       "        ...,\n",
       "        [      nan,       nan, ...,       nan,       nan],\n",
       "        [      nan,       nan, ...,       nan,       nan]],\n",
       "\n",
       "       [[      nan,       nan, ...,       nan,       nan],\n",
       "        [      nan,       nan, ...,       nan,       nan],\n",
       "        ...,\n",
       "        [      nan,       nan, ...,       nan,       nan],\n",
       "        [      nan,       nan, ...,       nan,       nan]],\n",
       "\n",
       "       ...,\n",
       "\n",
       "       [[729.76996, 728.17   , ..., 733.26996, 734.97   ],\n",
       "        [745.37   , 745.06995, ..., 723.76996, 728.76996],\n",
       "        ...,\n",
       "        [888.07007, 891.47   , ..., 884.1699 , 881.97   ],\n",
       "        [892.27   , 894.87   , ..., 885.27   , 884.47003]],\n",
       "\n",
       "       [[732.37   , 730.06995, ..., 727.97   , 729.47   ],\n",
       "        [746.87   , 745.56995, ..., 722.06995, 726.67   ],\n",
       "        ...,\n",
       "        [887.17004, 889.97   , ..., 884.26996, 882.37   ],\n",
       "        [891.67   , 893.6699 , ..., 885.47003, 884.67   ]]], dtype=float32)\n",
       "Coordinates:\n",
       "  * lat      (lat) float32 75.0 72.5 70.0 67.5 65.0 ... 25.0 22.5 20.0 17.5 15.0\n",
       "  * lon      (lon) float32 200.0 202.5 205.0 207.5 ... 322.5 325.0 327.5 330.0\n",
       "  * time     (time) datetime64[ns] 2013-01-01 ... 2014-12-31T18:00:00"
      ]
     },
     "execution_count": 54,
     "metadata": {},
     "output_type": "execute_result"
    }
   ],
   "source": [
    "def sum_minus_2(da, axis):\n",
    "    return da.sum(axis=axis) - 2\n",
    "\n",
    "roller.reduce(sum_minus_2)"
   ]
  },
  {
   "cell_type": "markdown",
   "metadata": {},
   "source": [
    "### Masking\n",
    "\n",
    "Indexing methods on xarray objects generally return a subset of the original data. However, it is sometimes useful to select an object with the same shape as the original data, but with some elements masked. To do this type of selection in xarray, use `where()`:"
   ]
  },
  {
   "cell_type": "code",
   "execution_count": 55,
   "metadata": {},
   "outputs": [
    {
     "data": {
      "text/plain": [
       "<xarray.DataArray 'air' (time: 2920, lat: 25, lon: 53)>\n",
       "array([[[241.2    , 242.5    , ..., 235.5    , 238.59999],\n",
       "        [243.79999, 244.5    , ..., 235.29999, 239.29999],\n",
       "        ...,\n",
       "        [      nan,       nan, ...,       nan,       nan],\n",
       "        [      nan,       nan, ...,       nan,       nan]],\n",
       "\n",
       "       [[242.09999, 242.7    , ..., 233.59999, 235.79999],\n",
       "        [243.59999, 244.09999, ..., 232.5    , 235.7    ],\n",
       "        ...,\n",
       "        [      nan,       nan, ...,       nan,       nan],\n",
       "        [      nan,       nan, ...,       nan,       nan]],\n",
       "\n",
       "       ...,\n",
       "\n",
       "       [[245.79   , 244.79   , ..., 243.98999, 244.79   ],\n",
       "        [249.89   , 249.29   , ..., 242.48999, 244.29   ],\n",
       "        ...,\n",
       "        [      nan,       nan, ...,       nan,       nan],\n",
       "        [      nan,       nan, ...,       nan,       nan]],\n",
       "\n",
       "       [[245.09   , 244.29   , ..., 241.48999, 241.79   ],\n",
       "        [249.89   , 249.29   , ..., 240.29   , 241.68999],\n",
       "        ...,\n",
       "        [      nan,       nan, ...,       nan,       nan],\n",
       "        [      nan,       nan, ...,       nan,       nan]]], dtype=float32)\n",
       "Coordinates:\n",
       "  * lat      (lat) float32 75.0 72.5 70.0 67.5 65.0 ... 25.0 22.5 20.0 17.5 15.0\n",
       "  * lon      (lon) float32 200.0 202.5 205.0 207.5 ... 322.5 325.0 327.5 330.0\n",
       "  * time     (time) datetime64[ns] 2013-01-01 ... 2014-12-31T18:00:00\n",
       "Attributes:\n",
       "    long_name:     4xDaily Air temperature at sigma level 995\n",
       "    units:         degK\n",
       "    precision:     2\n",
       "    GRIB_id:       11\n",
       "    GRIB_name:     TMP\n",
       "    var_desc:      Air temperature\n",
       "    dataset:       NMC Reanalysis\n",
       "    level_desc:    Surface\n",
       "    statistic:     Individual Obs\n",
       "    parent_stat:   Other\n",
       "    actual_range:  [185.16 322.1 ]"
      ]
     },
     "execution_count": 55,
     "metadata": {},
     "output_type": "execute_result"
    }
   ],
   "source": [
    "da.where(da < 273)"
   ]
  },
  {
   "cell_type": "code",
   "execution_count": 56,
   "metadata": {},
   "outputs": [
    {
     "data": {
      "text/plain": [
       "<xarray.DataArray 'air' (time: 2920, lat: 25, lon: 53)>\n",
       "array([[[0, 0, ..., 0, 0],\n",
       "        [0, 0, ..., 0, 0],\n",
       "        ...,\n",
       "        [1, 1, ..., 1, 1],\n",
       "        [1, 1, ..., 1, 1]],\n",
       "\n",
       "       [[0, 0, ..., 0, 0],\n",
       "        [0, 0, ..., 0, 0],\n",
       "        ...,\n",
       "        [1, 1, ..., 1, 1],\n",
       "        [1, 1, ..., 1, 1]],\n",
       "\n",
       "       ...,\n",
       "\n",
       "       [[0, 0, ..., 0, 0],\n",
       "        [0, 0, ..., 0, 0],\n",
       "        ...,\n",
       "        [1, 1, ..., 1, 1],\n",
       "        [1, 1, ..., 1, 1]],\n",
       "\n",
       "       [[0, 0, ..., 0, 0],\n",
       "        [0, 0, ..., 0, 0],\n",
       "        ...,\n",
       "        [1, 1, ..., 1, 1],\n",
       "        [1, 1, ..., 1, 1]]])\n",
       "Coordinates:\n",
       "  * lat      (lat) float32 75.0 72.5 70.0 67.5 65.0 ... 25.0 22.5 20.0 17.5 15.0\n",
       "  * lon      (lon) float32 200.0 202.5 205.0 207.5 ... 322.5 325.0 327.5 330.0\n",
       "  * time     (time) datetime64[ns] 2013-01-01 ... 2014-12-31T18:00:00"
      ]
     },
     "execution_count": 56,
     "metadata": {},
     "output_type": "execute_result"
    }
   ],
   "source": [
    "xr.where(da < 273, 0, 1)"
   ]
  },
  {
   "cell_type": "markdown",
   "metadata": {},
   "source": [
    "### Plotting"
   ]
  },
  {
   "cell_type": "markdown",
   "metadata": {},
   "source": [
    "Labeled data enables expressive computations. These same labels can also be used to easily create informative plots.\n",
    "\n",
    "xarray plotting functionality is a thin wrapper around the popular matplotlib library. Matplotlib syntax and function names were copied as much as possible, which makes for an easy transition between the two."
   ]
  },
  {
   "cell_type": "markdown",
   "metadata": {},
   "source": [
    "#### Matplotlib Integration"
   ]
  },
  {
   "cell_type": "markdown",
   "metadata": {},
   "source": [
    "Xarray has built-in plotting via `matplotlib` for DataAr`rays:"
   ]
  },
  {
   "cell_type": "code",
   "execution_count": 57,
   "metadata": {},
   "outputs": [
    {
     "data": {
      "text/plain": [
       "<xarray.DataArray 'air' (time: 2920, lat: 25, lon: 53)>\n",
       "array([[[241.2    , 242.5    , ..., 235.5    , 238.59999],\n",
       "        [243.79999, 244.5    , ..., 235.29999, 239.29999],\n",
       "        ...,\n",
       "        [295.9    , 296.19998, ..., 295.9    , 295.19998],\n",
       "        [296.29   , 296.79   , ..., 296.79   , 296.6    ]],\n",
       "\n",
       "       [[242.09999, 242.7    , ..., 233.59999, 235.79999],\n",
       "        [243.59999, 244.09999, ..., 232.5    , 235.7    ],\n",
       "        ...,\n",
       "        [296.19998, 296.69998, ..., 295.5    , 295.1    ],\n",
       "        [296.29   , 297.19998, ..., 296.4    , 296.6    ]],\n",
       "\n",
       "       ...,\n",
       "\n",
       "       [[245.79   , 244.79   , ..., 243.98999, 244.79   ],\n",
       "        [249.89   , 249.29   , ..., 242.48999, 244.29   ],\n",
       "        ...,\n",
       "        [296.29   , 297.19   , ..., 295.09   , 294.38998],\n",
       "        [297.79   , 298.38998, ..., 295.49   , 295.19   ]],\n",
       "\n",
       "       [[245.09   , 244.29   , ..., 241.48999, 241.79   ],\n",
       "        [249.89   , 249.29   , ..., 240.29   , 241.68999],\n",
       "        ...,\n",
       "        [296.09   , 296.88998, ..., 295.69   , 295.19   ],\n",
       "        [297.69   , 298.09   , ..., 296.19   , 295.69   ]]], dtype=float32)\n",
       "Coordinates:\n",
       "  * lat      (lat) float32 75.0 72.5 70.0 67.5 65.0 ... 25.0 22.5 20.0 17.5 15.0\n",
       "  * lon      (lon) float32 200.0 202.5 205.0 207.5 ... 322.5 325.0 327.5 330.0\n",
       "  * time     (time) datetime64[ns] 2013-01-01 ... 2014-12-31T18:00:00\n",
       "Attributes:\n",
       "    long_name:     4xDaily Air temperature at sigma level 995\n",
       "    units:         degK\n",
       "    precision:     2\n",
       "    GRIB_id:       11\n",
       "    GRIB_name:     TMP\n",
       "    var_desc:      Air temperature\n",
       "    dataset:       NMC Reanalysis\n",
       "    level_desc:    Surface\n",
       "    statistic:     Individual Obs\n",
       "    parent_stat:   Other\n",
       "    actual_range:  [185.16 322.1 ]"
      ]
     },
     "execution_count": 57,
     "metadata": {},
     "output_type": "execute_result"
    }
   ],
   "source": [
    "da"
   ]
  },
  {
   "cell_type": "markdown",
   "metadata": {},
   "source": [
    "##### Plotting >2d Data"
   ]
  },
  {
   "cell_type": "code",
   "execution_count": 58,
   "metadata": {},
   "outputs": [],
   "source": [
    "%matplotlib inline\n",
    "import matplotlib.pyplot as plt"
   ]
  },
  {
   "cell_type": "code",
   "execution_count": 59,
   "metadata": {},
   "outputs": [
    {
     "data": {
      "text/plain": [
       "(array([   2182.,   60537.,  195026.,  233763.,  315219.,  635948.,\n",
       "         778807., 1192236.,  453381.,    1901.]),\n",
       " array([221.     , 230.64   , 240.28   , 249.92   , 259.56   , 269.2    ,\n",
       "        278.84   , 288.47998, 298.12   , 307.76   , 317.4    ],\n",
       "       dtype=float32),\n",
       " <a list of 10 Patch objects>)"
      ]
     },
     "execution_count": 59,
     "metadata": {},
     "output_type": "execute_result"
    },
    {
     "data": {
      "image/png": "[encoded data removed]",
      "text/plain": [
       "<Figure size 432x288 with 1 Axes>"
      ]
     },
     "metadata": {
      "needs_background": "light"
     },
     "output_type": "display_data"
    }
   ],
   "source": [
    "da.plot()"
   ]
  },
  {
   "cell_type": "markdown",
   "metadata": {},
   "source": [
    "For high-dimensional data, xarray plots `histograms` by default. "
   ]
  },
  {
   "cell_type": "markdown",
   "metadata": {},
   "source": [
    "##### Plotting 1D Data"
   ]
  },
  {
   "cell_type": "code",
   "execution_count": 60,
   "metadata": {},
   "outputs": [
    {
     "data": {
      "text/plain": [
       "<xarray.DataArray 'air' (time: 730)>\n",
       "array([295.399994, 295.199982, 295.5     , ..., 297.199982, 297.690002,\n",
       "       297.98999 ])\n",
       "Coordinates:\n",
       "  * time     (time) datetime64[ns] 2013-01-01 2013-01-02 ... 2014-12-31\n",
       "    lat      float32 25.0\n",
       "    lon      float32 300.0"
      ]
     },
     "execution_count": 60,
     "metadata": {},
     "output_type": "execute_result"
    }
   ],
   "source": [
    "da_point_resample = da.isel(lat=20, lon=40).resample(time='1D')\n",
    "t_max = da_point_resample.max('time')\n",
    "t_min = da_point_resample.min('time')\n",
    "t_max"
   ]
  },
  {
   "cell_type": "code",
   "execution_count": 61,
   "metadata": {},
   "outputs": [
    {
     "data": {
      "text/plain": [
       "<xarray.DataArray 'air' (time: 730)>\n",
       "array([294.399994, 294.399994, 294.699982, ..., 296.48999 , 296.790009,\n",
       "       297.290009])\n",
       "Coordinates:\n",
       "  * time     (time) datetime64[ns] 2013-01-01 2013-01-02 ... 2014-12-31\n",
       "    lat      float32 25.0\n",
       "    lon      float32 300.0"
      ]
     },
     "execution_count": 61,
     "metadata": {},
     "output_type": "execute_result"
    }
   ],
   "source": [
    "t_min"
   ]
  },
  {
   "cell_type": "code",
   "execution_count": 62,
   "metadata": {},
   "outputs": [
    {
     "name": "stderr",
     "output_type": "stream",
     "text": [
      "/Users/abanihi/opt/miniconda3/envs/dev/lib/python3.6/site-packages/pandas/plotting/_converter.py:129: FutureWarning: Using an implicitly registered datetime converter for a matplotlib plotting method. The converter was registered by pandas on import. Future versions of pandas will require you to explicitly register matplotlib converters.\n",
      "\n",
      "To register the converters:\n",
      "\t>>> from pandas.plotting import register_matplotlib_converters\n",
      "\t>>> register_matplotlib_converters()\n",
      "  warnings.warn(msg, FutureWarning)\n"
     ]
    },
    {
     "data": {
      "text/plain": [
       "<matplotlib.legend.Legend at 0x127bf9320>"
      ]
     },
     "execution_count": 62,
     "metadata": {},
     "output_type": "execute_result"
    },
    {
     "data": {
      "image/png": "[encoded data removed]",
      "text/plain": [
       "<Figure size 432x288 with 1 Axes>"
      ]
     },
     "metadata": {
      "needs_background": "light"
     },
     "output_type": "display_data"
    }
   ],
   "source": [
    "t_max.plot(label='t_max')\n",
    "t_min.plot(label='t_min')\n",
    "plt.legend()"
   ]
  },
  {
   "cell_type": "markdown",
   "metadata": {},
   "source": [
    "##### Plotting 2D Data"
   ]
  },
  {
   "cell_type": "markdown",
   "metadata": {},
   "source": [
    "For 2-dimensional data, the xarray `plot()` method automatically does a QuadMesh contour plot informed by the metadata:"
   ]
  },
  {
   "cell_type": "code",
   "execution_count": 63,
   "metadata": {},
   "outputs": [
    {
     "data": {
      "text/plain": [
       "<xarray.DataArray 'air' (lat: 25, lon: 53)>\n",
       "array([[260.37564, 260.1826 , 259.88593, ..., 250.81511, 251.93733, 253.43741],\n",
       "       [262.7337 , 262.7936 , 262.7489 , ..., 249.75496, 251.5852 , 254.35849],\n",
       "       [264.7681 , 264.3271 , 264.0614 , ..., 250.60707, 253.58247, 257.71475],\n",
       "       ...,\n",
       "       [297.64932, 296.95294, 296.62912, ..., 296.81033, 296.28793, 295.81622],\n",
       "       [298.1287 , 297.93646, 297.47006, ..., 296.8591 , 296.77686, 296.44348],\n",
       "       [298.36594, 298.38593, 298.11386, ..., 297.33777, 297.28104, 297.30502]],\n",
       "      dtype=float32)\n",
       "Coordinates:\n",
       "  * lat      (lat) float32 75.0 72.5 70.0 67.5 65.0 ... 25.0 22.5 20.0 17.5 15.0\n",
       "  * lon      (lon) float32 200.0 202.5 205.0 207.5 ... 322.5 325.0 327.5 330.0"
      ]
     },
     "execution_count": 63,
     "metadata": {},
     "output_type": "execute_result"
    }
   ],
   "source": [
    "t_mean = da.mean('time')\n",
    "t_mean"
   ]
  },
  {
   "cell_type": "code",
   "execution_count": 64,
   "metadata": {},
   "outputs": [
    {
     "data": {
      "text/plain": [
       "<matplotlib.collections.QuadMesh at 0x1280a2550>"
      ]
     },
     "execution_count": 64,
     "metadata": {},
     "output_type": "execute_result"
    },
    {
     "data": {
      "image/png": "[encoded data removed]",
      "text/plain": [
       "<Figure size 432x288 with 2 Axes>"
      ]
     },
     "metadata": {
      "needs_background": "light"
     },
     "output_type": "display_data"
    }
   ],
   "source": [
    "t_mean.plot()"
   ]
  },
  {
   "cell_type": "markdown",
   "metadata": {},
   "source": [
    "##### FacetGrid Plots"
   ]
  },
  {
   "cell_type": "markdown",
   "metadata": {},
   "source": [
    "- **Calculate some seasonal anomalies and plot them:**"
   ]
  },
  {
   "cell_type": "code",
   "execution_count": 65,
   "metadata": {},
   "outputs": [
    {
     "data": {
      "text/plain": [
       "<xarray.DataArray 'air' (time: 9, lat: 25, lon: 53)>\n",
       "array([[[-3.773804, -3.678513, ...,  0.694107,  0.511429],\n",
       "        [-3.474045, -3.666229, ...,  0.360214, -0.020752],\n",
       "        ...,\n",
       "        [-0.704315, -0.852051, ..., -0.583862, -0.642242],\n",
       "        [-0.715424, -0.850372, ..., -0.569336, -0.589539]],\n",
       "\n",
       "       [[-1.346527, -1.386505, ...,  0.275513,  0.253067],\n",
       "        [-1.623169, -1.677673, ...,  0.34256 ,  0.185089],\n",
       "        ...,\n",
       "        [-0.185394, -0.185577, ...,  0.637665,  0.635193],\n",
       "        [-0.167633, -0.191406, ...,  0.611938,  0.589539]],\n",
       "\n",
       "       ...,\n",
       "\n",
       "       [[ 0.904022,  0.800323, ...,  0.871872,  0.839523],\n",
       "        [ 0.238525,  0.049438, ...,  1.4216  ,  1.492126],\n",
       "        ...,\n",
       "        [ 0.464142,  0.478058, ...,  0.009064, -0.012024],\n",
       "        [ 0.452423,  0.437134, ..., -0.037537, -0.024811]],\n",
       "\n",
       "       [[ 0.332367,  0.4272  , ..., -1.304581, -1.535797],\n",
       "        [-0.378113, -0.037628, ..., -1.495529, -1.767532],\n",
       "        ...,\n",
       "        [ 0.473602,  0.563446, ...,  1.30896 ,  1.416687],\n",
       "        [ 0.545227,  0.665039, ...,  1.268372,  1.322388]]], dtype=float32)\n",
       "Coordinates:\n",
       "  * lat      (lat) float32 75.0 72.5 70.0 67.5 65.0 ... 25.0 22.5 20.0 17.5 15.0\n",
       "  * lon      (lon) float32 200.0 202.5 205.0 207.5 ... 322.5 325.0 327.5 330.0\n",
       "  * time     (time) datetime64[ns] 2012-12-01 2013-03-01 ... 2014-12-01\n",
       "    season   (time) <U3 'DJF' 'MAM' 'JJA' 'SON' 'DJF' 'MAM' 'JJA' 'SON' 'DJF'"
      ]
     },
     "execution_count": 65,
     "metadata": {},
     "output_type": "execute_result"
    }
   ],
   "source": [
    "da_month = da.resample(time='QS-Dec').mean('time')\n",
    "\n",
    "climatology = da_month.groupby('time.season').mean('time')\n",
    "anomalies = da_month.groupby('time.season') - climatology\n",
    "anomalies"
   ]
  },
  {
   "cell_type": "code",
   "execution_count": 66,
   "metadata": {},
   "outputs": [
    {
     "data": {
      "text/plain": [
       "<xarray.plot.facetgrid.FacetGrid at 0x12818a1d0>"
      ]
     },
     "execution_count": 66,
     "metadata": {},
     "output_type": "execute_result"
    },
    {
     "data": {
      "image/png": "[encoded data removed]",
      "text/plain": [
       "<Figure size 936x648 with 13 Axes>"
      ]
     },
     "metadata": {
      "needs_background": "light"
     },
     "output_type": "display_data"
    }
   ],
   "source": [
    "anomalies.plot(col='time', col_wrap=4)"
   ]
  },
  {
   "cell_type": "markdown",
   "metadata": {},
   "source": [
    "<div class=\"alert alert-info\">\n",
    "\n",
    "**Going Further:** \n",
    "    \n",
    "- [Advanced Plotting Notebook](02-xarray-advanced-plotting.ipynb)\n",
    "- Xarray's Documentation on Plotting: http://xarray.pydata.org/en/latest/plotting.htm\n",
    "</div>"
   ]
  },
  {
   "cell_type": "markdown",
   "metadata": {},
   "source": [
    "## Reference"
   ]
  },
  {
   "cell_type": "markdown",
   "metadata": {},
   "source": [
    "- [Pangeo Tutorial for 2018 UCAR SEA Conference](https://github.com/pangeo-data/pangeo-tutorial-sea-2018)"
   ]
  },
  {
   "cell_type": "code",
   "execution_count": 67,
   "metadata": {},
   "outputs": [
    {
     "name": "stdout",
     "output_type": "stream",
     "text": [
      "xarray     0.11.1+69.gc770eec3\n",
      "pandas     0.24.1\n",
      "zarr       2.2.0\n",
      "numpy      1.16.1\n",
      "matplotlib 3.0.2\n",
      "last updated: 2019-04-02 \n",
      "\n",
      "CPython 3.6.7\n",
      "IPython 7.1.1\n",
      "\n",
      "compiler   : GCC 4.2.1 Compatible Clang 4.0.1 (tags/RELEASE_401/final)\n",
      "system     : Darwin\n",
      "release    : 17.7.0\n",
      "machine    : x86_64\n",
      "processor  : i386\n",
      "CPU cores  : 8\n",
      "interpreter: 64bit\n",
      "Git hash   : 9a29dfaac3c5e3bf36f9d351581a72f9542ad7ed\n"
     ]
    }
   ],
   "source": [
    "%load_ext watermark\n",
    "%watermark --iversion -g -m -v -u -d"
   ]
  }
 ],
 "metadata": {
  "kernelspec": {
   "display_name": "Python 3",
   "language": "python",
   "name": "python3"
  },
  "language_info": {
   "codemirror_mode": {
    "name": "ipython",
    "version": 3
   },
   "file_extension": ".py",
   "mimetype": "text/x-python",
   "name": "python",
   "nbconvert_exporter": "python",
   "pygments_lexer": "ipython3",
   "version": "3.6.7"
  }
 },
 "nbformat": 4,
 "nbformat_minor": 2
}
