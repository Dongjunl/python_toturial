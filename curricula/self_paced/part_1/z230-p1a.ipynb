{
 "cells": [
  {
   "cell_type": "markdown",
   "metadata": {},
   "source": [
    "# Python 0-30 for Scientists\n",
    "----------------\n",
    "\n",
    "Welcome to the Python 0 to 30 for Scientists tutorial. In this self-paced course you will learn how to write Python \n",
    "code using Python best practices. \n",
    "\n",
    "Part 1 is designed to take one work day, but you may move through the content much slower or more quickly. \n",
    "\n",
    "Through these instructions you will develop scripts and use git and GitHub to save and organize your work. \n",
    "\n",
    "At the end of this tutorial you will have a grasp of how to begin building your own library of Python tools for your \n",
    "scientific analysis workflows."
   ]
  },
  {
   "cell_type": "markdown",
   "metadata": {},
   "source": [
    "## Why Python?\n",
    "-------------------\n",
    "\n",
    "You're already here because you want to learn to use Python for your data analysis and visualizations. Python can be \n",
    "compared to other high-level, interpreted, object-oriented languages, but is especially great because it is free and \n",
    "open source! \n",
    "\n",
    "**High level languages** \n",
    "\n",
    "    Other high level languages include MatLab, IDL, and NCL. The advantage of high level languages is that they provide functions, data structures, and other utilities that are commonly used, which means it takes less code to get real work done. The disadvantage of high level languages is that they tend to obscure the low level aspects of the machine such as: memory use, how many floating point operations are happening, and other information related to performance. C and C++ are all examples of lower level languages. The \"higher\" the level of language, the more computing fundamentals are abstracted.\n",
    "\n",
    "**Interpreted languages** -\n",
    "\n",
    "    Most of your work is probably already in interpreted languages if you've ever used IDL, NCL, or MatLab (interpreted languages are typically also high level). So you are already familiar with the advantages of this: you don't have to worry about compiling or machine compatability (it is portable). And you are probably familiar with their deficiencies: sometimes they can be slower than compiled languages and potentially more memory intensive than. \n",
    "\n",
    "**Objected Oriented languages** -\n",
    "\n",
    "    Objects are custom datatypes. For every custom datatypes, you usually have a set of operations you might want to conduct. For example, if you have an object that is a list of numbers you might want to apply a mathematical operation, such as sum, onto this list object in bulk. Not every  function can be applied to every datatype; it wouldn't make sense to apply a logarithm to a string of letters or to capitalize a list of numbers. Data and the operations applied to them are grouped together into one object. \n",
    "\n",
    "**Open source** - \n",
    "\n",
    "    Python as a language is open source which means that there is a community of developers behind its codebase. Anyone can join the developer community and contribute to deciding the future of the language. When someone identifies gaps to Python's abilities, they can write up the code to fill these gaps. The open source nature of Python means that Python as a language is very adaptable to shifting needs of the user community.\n",
    "\n",
    "Python is a language designed for rapid prototyping and efficient programming. It is easy to write new code quickly \n",
    "with less typing."
   ]
  },
  {
   "cell_type": "markdown",
   "metadata": {},
   "source": [
    "## Part 1 - First Python Script\n",
    "----------------------------\n",
    "\n",
    "This section of the Zero to Thirty tutorial will focus on teaching you Python through the creation of your first script. \n",
    "\n",
    "You will learn about syntax and the reasoning behind why things are done the way they done along the way. \n",
    "\n",
    "We will also incorporate lessons on the use of git because we highly you recommend version controling your work.\n",
    "\n",
    "We are assuming you are familiar with bash and terminal commands. If not here is a cheat sheet:\n",
    "![Linux Command Sheet](https://cheatography.com/davechild/cheat-sheets/linux-command-line/)"
   ]
  },
  {
   "cell_type": "markdown",
   "metadata": {},
   "source": [
    "## Part 1a - Reading a .txt File\n",
    "--------------------------------------\n",
    "In building your first Python script we will set up our workspace, read a .txt file, and learn git fundamentals.\n",
    "\n",
    "Open a terminal to begin."
   ]
  },
  {
   "cell_type": "markdown",
   "metadata": {},
   "source": [
    "1. [bash] Create a directory:\n",
    "\n",
    "   ```bash\n",
    "   $ mkdir ncar_python_tutorial\n",
    "   ```\n",
    "\n",
    "   The first thing we have to do is create a directory to store our work. Let's call it \"ncar_python_tutorial.\""
   ]
  },
  {
   "cell_type": "markdown",
   "metadata": {},
   "source": [
    "2. [bash] Go into the directory:\n",
    "\n",
    "   ```bash\n",
    "   $ cd ncar_python_tutorial\n",
    "   ```"
   ]
  },
  {
   "cell_type": "markdown",
   "metadata": {},
   "source": [
    "3. [conda] Create a virtual environment for this project:\n",
    "\n",
    "   ```bash\n",
    "   $ conda create --name ncar_python_tutorial python\n",
    "   ```\n",
    "\n",
    "    A conda environment is a directory that contains a collection of packages or libraries that you would like installed and accessible for this workflow. Type `conda create --name` , the name of your project, here that is \"ncar_python_tutorial,\" and then specify that you are using python to create a virtual environment for this project.\n",
    "\n",
    "   It is a good idea to create new environments for different projects because since Python is open source, new versions of the tools you use  may become available. This is a way of guaranteeing that your script will use the same versions of packages and libraries and should run the same as you expect it to."
   ]
  },
  {
   "cell_type": "code",
   "execution_count": null,
   "metadata": {},
   "outputs": [],
   "source": []
  }
 ],
 "metadata": {
  "kernelspec": {
   "display_name": "Python 3",
   "language": "python",
   "name": "python3"
  },
  "language_info": {
   "codemirror_mode": {
    "name": "ipython",
    "version": 3
   },
   "file_extension": ".py",
   "mimetype": "text/x-python",
   "name": "python",
   "nbconvert_exporter": "python",
   "pygments_lexer": "ipython3",
   "version": "3.7.1"
  }
 },
 "nbformat": 4,
 "nbformat_minor": 2
}
