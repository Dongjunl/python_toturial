{
 "cells": [
  {
   "cell_type": "markdown",
   "metadata": {},
   "source": [
    "# Congratulations You've Opened Your First Jupyter Notebook!\n",
    "\n",
    "This notebook briefly introduces the main components of the Jupyter Notebook environment.\n",
    "\n",
    "<div class=\"alert alert-info\">\n",
    "\n",
    "\n",
    "**Contents**\n",
    "\n",
    "- [Congratulations You've Opened Your First Jupyter Notebook!](#Congratulations-You've-Opened-Your-First-Jupyter-Notebook!)\n",
    "   - [What Is A Jupyter Notebook?](#What-Is-A-Jupyter-Notebook?)\n",
    "   - [Notebook User Interface](#Notebook-User-Interface)\n",
    "   - [What Is A Notebook Cell?](#What-Is-A-Notebook-Cell?)\n",
    "     - [Code Cells](#Code-Cells)\n",
    "     - [Markdown Cells](#Markdown-Cells)\n",
    "     - [Raw Cells](#Raw-Cells)\n",
    "   - [Going Further](#Going-Further)\n",
    "</div>"
   ]
  },
  {
   "cell_type": "markdown",
   "metadata": {},
   "source": [
    "## What Is A Jupyter Notebook?"
   ]
  },
  {
   "cell_type": "markdown",
   "metadata": {},
   "source": [
    "- **Interactive**, browser-based computing environment\n",
    "- **Exploratory** data science, analysis, visualization\n",
    "- **Reproducible** document format:\n",
    "    - Code\n",
    "    - Narrative text (markdown)\n",
    "    - Equations (LaTeX)\n",
    "    - Images, Visualizations\n",
    "- Supports over over 100 programming languages (called “kernels” in the Jupyter ecosystem) including Python, Fortran, R, Julia, Matlab, NCL, C++, Processing, Scala, and many more. \n",
    "- A Jupyter notebook is internally a JSON file and is saved with the **`.ipynb`** extension. "
   ]
  },
  {
   "cell_type": "markdown",
   "metadata": {},
   "source": [
    "## Notebook User Interface"
   ]
  },
  {
   "cell_type": "markdown",
   "metadata": {},
   "source": [
    "<img alt=\"notebook_ui\" src=\"../assets/notebook-user-interface.png\" style=\"height:700px;\">"
   ]
  },
  {
   "cell_type": "markdown",
   "metadata": {},
   "source": [
    "\n",
    "\n",
    "**Menu bar**: The menu bar presents different options that may be used to manipulate the way the notebook functions.\n",
    "\n",
    "**Toolbar**: The tool bar gives a quick way of performing the most-used operations within the notebook, by clicking on an icon.\n",
    "\n",
    "**Code cell**: the default type of cell; read on for an explanation of cells.\n",
    "\n",
    "**Kernel**: A computational engine that will execute contained in a Jupyter Notebook"
   ]
  },
  {
   "cell_type": "markdown",
   "metadata": {},
   "source": [
    "## What Is A Notebook Cell?\n",
    "\n",
    "The notebook consists of a sequence of cells. A cell is a multiline text input field, and its contents can be executed by using `Shift-Enter`, or by clicking either the “▶” button in the toolbar, or Cell, Run in the menu bar. \n",
    "\n",
    "The execution behavior of a cell is determined by the cell’s type. There are three types of cells: **code cells**, **markdown cells**, and **raw cells**. \n"
   ]
  },
  {
   "cell_type": "markdown",
   "metadata": {},
   "source": [
    "### Code Cells\n",
    "\n",
    "A code cell allows you to edit and write new code, with full syntax highlighting and tab completion. The programming language you use depends on the kernel, and the default kernel (IPython) runs Python code.\n"
   ]
  },
  {
   "cell_type": "code",
   "execution_count": 1,
   "metadata": {},
   "outputs": [
    {
     "name": "stdout",
     "output_type": "stream",
     "text": [
      "hi, stdout\n"
     ]
    }
   ],
   "source": [
    "print(\"hi, stdout\")"
   ]
  },
  {
   "cell_type": "code",
   "execution_count": 2,
   "metadata": {},
   "outputs": [
    {
     "name": "stdout",
     "output_type": "stream",
     "text": [
      "0\n",
      "1\n",
      "2\n",
      "3\n",
      "4\n",
      "5\n",
      "6\n",
      "7\n"
     ]
    }
   ],
   "source": [
    "import time, sys\n",
    "for i in range(8):\n",
    "    print(i)\n",
    "    time.sleep(0.5)"
   ]
  },
  {
   "cell_type": "markdown",
   "metadata": {},
   "source": [
    "### Markdown Cells\n",
    "\n",
    "Text can be added to Jupyter Notebooks using Markdown cells. You can change the cell type to Markdown by using the Cell menu, the toolbar, or the key shortcut m. Markdown is a popular markup language that is a superset of HTML. Its specification can be found here:\n",
    " \n",
    "https://daringfireball.net/projects/markdown/"
   ]
  },
  {
   "cell_type": "markdown",
   "metadata": {},
   "source": [
    "\n",
    "**LaTex Equations**\n",
    "\n",
    "\n",
    "You can include mathematical expressions both inline and displayed:\n",
    "\n",
    "- The Cauchy-Schwarz Inequality\n",
    "\n",
    "$$\\left( \\sum_{k=1}^n a_k b_k \\right)^2 \\leq \\left( \\sum_{k=1}^n a_k^2 \\right) \\left( \\sum_{k=1}^n b_k^2 \\right) $$\n",
    "\n",
    "- A Cross Product Formula \n",
    "\n",
    "$$\n",
    "\\mathbf{V}_1 \\times \\mathbf{V}_2 =  \\begin{vmatrix}\n",
    "\\mathbf{i} & \\mathbf{j} & \\mathbf{k} \\\\\n",
    "\\frac{\\partial X}{\\partial u} &  \\frac{\\partial Y}{\\partial u} & 0 \\\\\n",
    "\\frac{\\partial X}{\\partial v} &  \\frac{\\partial Y}{\\partial v} & 0\n",
    "\\end{vmatrix}$$\n",
    "\n",
    "- The probability of getting \\(k\\) heads when flipping \\(n\\) coins is $P(E)   = {n \\choose k} p^k (1-p)^{ n-k} $\n",
    "\n",
    "- An Identity of Ramanujan\n",
    "\n",
    "$$\\frac{1}{\\Bigl(\\sqrt{\\phi \\sqrt{5}}-\\phi\\Bigr) e^{\\frac25 \\pi}} =\n",
    "1+\\frac{e^{-2\\pi}} {1+\\frac{e^{-4\\pi}} {1+\\frac{e^{-6\\pi}}\n",
    "{1+\\frac{e^{-8\\pi}} {1+\\ldots} } } } $$\n",
    "\n",
    "- Maxwell’s Equations\n",
    "\n",
    "$$\\begin{aligned}\n",
    "\\nabla \\times \\vec{\\mathbf{B}} -\\, \\frac1c\\, \\frac{\\partial\\vec{\\mathbf{E}}}{\\partial t} & = \\frac{4\\pi}{c}\\vec{\\mathbf{j}} \\\\   \\nabla \\cdot \\vec{\\mathbf{E}} & = 4 \\pi \\rho \\\\\n",
    "\\nabla \\times \\vec{\\mathbf{E}}\\, +\\, \\frac1c\\, \\frac{\\partial\\vec{\\mathbf{B}}}{\\partial t} & = \\vec{\\mathbf{0}} \\\\\n",
    "\\nabla \\cdot \\vec{\\mathbf{B}} & = 0 \\end{aligned}\n",
    "$$"
   ]
  },
  {
   "cell_type": "markdown",
   "metadata": {},
   "source": [
    "### Raw Cells\n",
    "\n",
    "Raw cells provide a place in which you can write output directly. Raw cells are not evaluated by the notebook. How freeing!"
   ]
  },
  {
   "cell_type": "raw",
   "metadata": {},
   "source": [
    "# This is a raw cell. Execute it and see what happens.\n",
    "\n",
    "a = 2 + 2\n",
    "print(a)"
   ]
  },
  {
   "cell_type": "markdown",
   "metadata": {},
   "source": [
    "\n",
    "\n",
    "<div class=\"alert alert-info\">\n",
    "\n",
    "## Going Further\n",
    "\n",
    "\n",
    "- Getting Started with JupyterLab | SciPy 2019 Tutorial: https://www.youtube.com/watch?v=RFabWieskak     \n",
    "- JupyterLab Documentation: https://jupyterlab.readthedocs.io/en/stable/\n",
    "- Jupyter Notebook Ecosystem:https://jupyter4edu.github.io/jupyter-edu-book/jupyter.html\n",
    "\n",
    "</div>\n",
    "\n"
   ]
  }
 ],
 "metadata": {
  "kernelspec": {
   "display_name": "Python 3",
   "language": "python",
   "name": "python3"
  },
  "language_info": {
   "codemirror_mode": {
    "name": "ipython",
    "version": 3
   },
   "file_extension": ".py",
   "mimetype": "text/x-python",
   "name": "python",
   "nbconvert_exporter": "python",
   "pygments_lexer": "ipython3",
   "version": "3.7.3"
  }
 },
 "nbformat": 4,
 "nbformat_minor": 4
}
