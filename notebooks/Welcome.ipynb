{
 "cells": [
  {
   "cell_type": "markdown",
   "metadata": {},
   "source": [
    "# Congratulations you've opened you're first Jupyter notebook!"
   ]
  },
  {
   "cell_type": "markdown",
   "metadata": {},
   "source": [
    "### What is a notebook document?\n",
    "Notebooks are `.ipynb` files produced by the Jupyter Notebook app. They can contain both code, and human readable text, equations, etc"
   ]
  },
  {
   "cell_type": "markdown",
   "metadata": {},
   "source": [
    "### This notebook is operating a Python 3 kernel\n",
    "A kernel is a computational engine that will execute any code in your notebook. Different kernels can run computations written in different languages, but this is a Python tutorial so the kernel is in Python.\n",
    "\n",
    "Look to the right side of your dashboard (top bar) to see what kernel you are running. \n",
    "\n",
    "![kernel](../../../Desktop/kernel.png)\n",
    "\n",
    "There is also a kernel drop down menu, that allows you to interupt computations, restart your kernel (and lose any saved variables), rerun, kill, or change your kernel (perhaps to a different coding language).\n",
    "\n",
    "![change_kernel](../../../Desktop/change_kernel.png)"
   ]
  },
  {
   "cell_type": "markdown",
   "metadata": {},
   "source": [
    "### What else is in the dashboard?\n",
    "1. There are other drop down menus (File, Edit, View, Insert, Cell, Kernel, Widgets, and Help). Explore them. Are any options confusing?\n",
    "\n",
    "2. There is a toolbar with icons to save, insert, cut, copy, paste, or shift cells and down, to run the kernel, or to change teh cell type."
   ]
  },
  {
   "cell_type": "markdown",
   "metadata": {},
   "source": [
    "### Wait what is a cell?\n",
    "A Jupyter cell is a subdivision of the notebook. A cell can be one of 3 formats: Markdown, Code, or Raw.\n",
    "\n",
    " - **Markdown**: All of the cells so far have been in Markdown. Markdown allows you to write and format human-readable text or equations (e.g. $e^{i\\pi} + 1 = 0$). See the [Jupyter Markdown cheetsheat](https://medium.com/ibm-data-science-experience/markdown-for-jupyter-notebooks-cheatsheet-386c05aeebed) for advanced manipulation of text formatting. Equations follow LaTeX rules.\n",
    " \n",
    " - **Code**: A code cell is one that your kernel will execute. This is where your Python language goes!\n",
    " \n",
    " - **Raw**: A cell that will not be interpreted according to the rules of Python or Markdown text formatting. How freeing!"
   ]
  },
  {
   "cell_type": "markdown",
   "metadata": {},
   "source": [
    "# This is a markdown cell. Execute it and see what happens.\n",
    "\n",
    "a = 2 + 2\n",
    "print(a)"
   ]
  },
  {
   "cell_type": "code",
   "execution_count": 1,
   "metadata": {},
   "outputs": [],
   "source": [
    "# This is a code cell. Execute it and see what happens.\n",
    "\n",
    "a = 2 + 2\n",
    "print(a)"
   ]
  },
  {
   "cell_type": "raw",
   "metadata": {},
   "source": [
    "# This is a raw cell. Execute it and see what happens.\n",
    "\n",
    "a = 2 + 2\n",
    "print(a)"
   ]
  },
  {
   "cell_type": "code",
   "execution_count": null,
   "metadata": {},
   "outputs": [],
   "source": []
  }
 ],
 "metadata": {
  "kernelspec": {
   "display_name": "Python 3",
   "language": "python",
   "name": "python3"
  },
  "language_info": {
   "codemirror_mode": {
    "name": "ipython",
    "version": 3
   },
   "file_extension": ".py",
   "mimetype": "text/x-python",
   "name": "python",
   "nbconvert_exporter": "python",
   "pygments_lexer": "ipython3",
   "version": "3.7.1"
  }
 },
 "nbformat": 4,
 "nbformat_minor": 2
}
