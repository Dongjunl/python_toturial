{
 "cells": [
  {
   "cell_type": "code",
   "execution_count": 1,
   "metadata": {},
   "outputs": [
    {
     "data": {
      "text/html": [
       "<style>\n",
       "table {float:right}\n",
       "</style>\n"
      ],
      "text/plain": [
       "<IPython.core.display.HTML object>"
      ]
     },
     "metadata": {},
     "output_type": "display_data"
    }
   ],
   "source": [
    "%%html\n",
    "<style>\n",
    "table {float:right}\n",
    "</style>"
   ]
  },
  {
   "cell_type": "markdown",
   "metadata": {},
   "source": [
    "# Object Oriented Programming (OOP)\n",
    "|        |                           |\n",
    "|-------:|:--------------------------|\n",
    "|**By:** | Mohammad Abouali, Ph.D.   |\n",
    "|        | Software Eng./Prog. III.  |\n",
    "|        | VAST/TDD/CISL/NCAR/UCAR   |\n",
    "|        | E-Mail: mabouali@ucar.edu |\n",
    "|        | Office: 303-497-1893      |"
   ]
  },
  {
   "cell_type": "markdown",
   "metadata": {},
   "source": [
    "# Table of Contents\n",
    "- [First Thing First - I have never used Objects and/or OOP in Python](#FTF)\n",
    "- [Object Oriented VS Procedural Style](#ObjectOrientedVSProceduralStyle)\n",
    "- [Confessions & Claims](#Confessions&Claims)\n",
    "- [Classes In Python](#ClassesInPython)\n",
    "- [Another Example](#AnotherExample)\n",
    "    - [Procedural Approach](#ProceduralApproach)\n",
    "    - [OOP Approach](#OOPApproach)\n",
    "        - [Printing The Object - Using ```__str__```](#PrintingTheObject)\n",
    "        - [Getting Items - Using ```__getitem__```](#GettingItems)\n",
    "        - [Adding Haversine](#AddingHaversine)\n",
    "        - [Adding Inverse Vincenty](#AddingInverseVincenty)\n",
    "        - [Making It Even Easier](#MakingItEvenEasier)\n",
    "        - [Adding another Distance calculation method - Time To Refactor](#TimeToRefactor)\n",
    "- [Where To Go](#WhereToGo)    "
   ]
  },
  {
   "cell_type": "markdown",
   "metadata": {},
   "source": [
    "<a id = \"FTF\"></a>\n",
    "# First Thing First - I have never used Objects and/or OOP in Python\n",
    "\n",
    "Well, are you sure? You might need to think about that again? \n",
    "\n",
    "Let's do a check to make sure that you have never used OOP or objects within Python. Plese answer the following question:\n",
    "\n",
    "- have you ever used Python?\n",
    "\n",
    "If you answered yes, then you have already used Objects, whithout really knowing it. The thing is that everything within Python is an object. Let's see an integer example:\n"
   ]
  },
  {
   "cell_type": "code",
   "execution_count": 2,
   "metadata": {},
   "outputs": [
    {
     "name": "stdout",
     "output_type": "stream",
     "text": [
      "Type of 'myVary' is: <class 'int'>\n"
     ]
    }
   ],
   "source": [
    "myVar = 1\n",
    "print(\"Type of 'myVary' is:\", type(myVar))"
   ]
  },
  {
   "cell_type": "markdown",
   "metadata": {},
   "source": [
    "As you can see, the type of ```myVar``` which was defined and initialized to hold an integer is of **class** integer. And that's the reason you could access further methods/functions by using the dot operator. For example:"
   ]
  },
  {
   "cell_type": "code",
   "execution_count": 3,
   "metadata": {},
   "outputs": [
    {
     "name": "stdout",
     "output_type": "stream",
     "text": [
      "myVar with the value of 1 has bit_length of 1\n",
      "Making myVar to hold a bigger integer value\n",
      "myVar with the value of 8 has bit_length of 4\n",
      "Switching back to the smaller integer value\n",
      "myVar with the value of 1 has bit_length of 1\n"
     ]
    }
   ],
   "source": [
    "print(f\"myVar with the value of {myVar} has bit_length of {myVar.bit_length()}\")\n",
    "print(\"Making myVar to hold a bigger integer value\")\n",
    "myVar = 8\n",
    "print(f\"myVar with the value of {myVar} has bit_length of {myVar.bit_length()}\")\n",
    "print(\"Switching back to the smaller integer value\")\n",
    "myVar = 1 \n",
    "print(f\"myVar with the value of {myVar} has bit_length of {myVar.bit_length()}\")"
   ]
  },
  {
   "cell_type": "markdown",
   "metadata": {},
   "source": [
    "Based on Wikipedia ([here](https://en.wikipedia.org/wiki/Object-oriented_programming)),\n",
    "\n",
    ">Object-oriented programming (OOP) is a programming paradigm based on the concept of \"objects\", which can contain data, in the form of fields (often known as attributes or properties), and code, in the form of procedures (often known as methods).\n",
    "\n",
    "So, in a very simple definition, object contains the data along with the methods/functions that could operate on it. By the way, one note: although methods and functions are two different things in some programming languages, we are going to use them interchangably in this document. So if you read method, function, procedure, or even subroutine, we are refering to the same thing in this document.\n",
    "\n",
    "so, you have definitely used objects. Although you have used objects, but it might be still possible that you are mainly using **procedural programming** style rather than **object-oriented-programming (oop)** style. \n",
    "\n",
    "Another note: Don't confuse functional-programming with procedural programming."
   ]
  },
  {
   "cell_type": "markdown",
   "metadata": {},
   "source": [
    "<a id = \"ObjectOrientedVSProceduralStyle\"></a>\n",
    "# Object Oriented VS Procedural Style\n",
    "Let's see which style do you follow the most.\n",
    "Let's say we have defined the following array in numpy:"
   ]
  },
  {
   "cell_type": "code",
   "execution_count": 4,
   "metadata": {},
   "outputs": [
    {
     "name": "stdout",
     "output_type": "stream",
     "text": [
      "myArray: [1. 2. 3. 4. 5. 6.]\n"
     ]
    }
   ],
   "source": [
    "import numpy as np\n",
    "myArray = np.array([1, 2, 3, 4, 5, 6], dtype = 'double')\n",
    "print(\"myArray:\", myArray)"
   ]
  },
  {
   "cell_type": "markdown",
   "metadata": {},
   "source": [
    "Now let's say that I want to reshape ```myArray``` into a $3 \\times 2$ matrix and then sum along each row. If you are a procedural type of person, this is how you would do it:"
   ]
  },
  {
   "cell_type": "code",
   "execution_count": 5,
   "metadata": {},
   "outputs": [
    {
     "name": "stdout",
     "output_type": "stream",
     "text": [
      "Reshaped Array:\n",
      " [[1. 2.]\n",
      " [3. 4.]\n",
      " [5. 6.]]\n",
      "Row Sum:\n",
      " [ 3.  7. 11.]\n"
     ]
    }
   ],
   "source": [
    "reshapedArray = np.reshape(myArray,(3,2))\n",
    "print(\"Reshaped Array:\\n\", reshapedArray)\n",
    "rowSum = np.sum(reshapedArray, axis=1)\n",
    "print('Row Sum:\\n', rowSum)"
   ]
  },
  {
   "cell_type": "markdown",
   "metadata": {},
   "source": [
    "But if you are more of oop type of the person, you would write the same code in the following way:"
   ]
  },
  {
   "cell_type": "code",
   "execution_count": 6,
   "metadata": {},
   "outputs": [
    {
     "name": "stdout",
     "output_type": "stream",
     "text": [
      "Reshaped Array:\n",
      " [[1. 2.]\n",
      " [3. 4.]\n",
      " [5. 6.]]\n",
      "Row Sum:\n",
      " [ 3.  7. 11.]\n"
     ]
    }
   ],
   "source": [
    "reshapedArray = myArray.reshape((3,2))\n",
    "print(\"Reshaped Array:\\n\", reshapedArray)\n",
    "rowSum = reshapedArray.sum(axis=1)\n",
    "print('Row Sum:\\n', rowSum)"
   ]
  },
  {
   "cell_type": "markdown",
   "metadata": {},
   "source": [
    "Or if you are not interested in the intermediate variable(s), in this case reshapedArray, you could also write your oop style code as:"
   ]
  },
  {
   "cell_type": "code",
   "execution_count": 7,
   "metadata": {},
   "outputs": [
    {
     "name": "stdout",
     "output_type": "stream",
     "text": [
      "Row Sum:\n",
      " [ 3.  7. 11.]\n"
     ]
    }
   ],
   "source": [
    "rowSum = myArray.reshape((3,2)) \\\n",
    "                .sum(axis=1)\n",
    "print('Row Sum:\\n', rowSum)"
   ]
  },
  {
   "cell_type": "markdown",
   "metadata": {},
   "source": [
    "What I like about the later style is that, it is much easier to read what happens. I am reshaping followed by calculating the sum. OK, you are right, in this example, may be it is not too complicated to read, but once you have bunch of those operations piped together, this style is much easier to read.\n",
    "\n",
    "Anyway, the point is that in the procedural style, you passed your data to a function and asked certain operations to be performed on your data. What operations, depends on the function your are passing your data too. While, in the oop style you are invoking a method that belongs to the same object to perform the operations. (For those of you that know more about OOP, this goes for the inherited methods as well; Although inherited, it is still part of that object, just implemetned somewhere else).\n",
    "\n",
    "But why is this a better way? Afterall, just packaging some data and methods together is nice, but that's not all that oop is about. "
   ]
  },
  {
   "cell_type": "markdown",
   "metadata": {},
   "source": [
    "<a id = \"Confessions&Claims\"></a>\n",
    "# Confessions & Claims\n",
    "Well, there are some things I need to confess before going to oop.\n",
    "\n",
    "The first confession, and the number one reason that many very intelligent people who know how to program and develop the most sophisticated and complex mathematical algorithm don't choose to code in oop style, is that I don't recall a text book in Computer Science, that explains OOP design, and when I go through the oop code examples, I really can say that \"Oh, this would have taken much longer to develop if I was using procedural style\". So, yes, there are cases that you would need to code more to change your code into oop. But in most of those cases, either the project is too specific and limited in domain, or too small of a project. I didn't say they are mathematically not complicated or sophisticated. It could be a small project which performs a very complicated mathematical calculation. \n",
    "\n",
    "In most of these cases, usually the code was intended to be executed only by the person who wrote it; plus her/his students and colleagues. The original intention is not to develop a code to be used primarily  by someone else. Or, the code was written to perform certain calculations for one or two scientific papers, and then even the person who wrote that code is not going to run those codes again. Or, they are examples, as in this document or all the text books that I have seen on oop. They are again examples, showing how to code in oop style. What those examples do are not really that important and they could be written much more concisely using procedural way.\n",
    "\n",
    "The true benefit of oop becomes more pronounced, when you are working on larger projects and code/libraries that are supposed to be used by many other people or expanded to include more features. If that code is open-source, essentially you are inviting anyone to contirbute to it. Using oop style, you could formally force the style of how things should be extended or new features added.\n",
    "\n",
    "The oop goal is not to reduce the number of lines of code that you write, but to reduce the number of lines of codes that you maintain as your project grows or the number of your projects increases. So, although in smaller projects you usually write more lines of codes to make it oop, but as your project grows and gets more complex, you gradually start to write less code by reusing what you already wrote; hence, maintaining less number of codes as well. If you design these components (or objects) properly, you could reuse them in your other project that you start too. The good news is that, while testing project A and you find a bug in one of the objects that you coded, by fixing it the bug in your library, you are also fixing the bug in all other project that were using the same library and/or object.\n",
    "\n",
    "This would lead to faster development, lower cost, and higher quality codes."
   ]
  },
  {
   "cell_type": "markdown",
   "metadata": {},
   "source": [
    "<a id = \"ClassesInPython\"></a>\n",
    "# Classes In Python\n",
    "Now, let's see how we define a class in Python, which is essentially the building block of oop design. The following is an example of a class in Python:"
   ]
  },
  {
   "cell_type": "code",
   "execution_count": 8,
   "metadata": {},
   "outputs": [],
   "source": [
    "class MyFirstClass:\n",
    "    pass"
   ]
  },
  {
   "cell_type": "markdown",
   "metadata": {},
   "source": [
    "Well, that's it. You just defined a class. It doesn't do anything though. But you could define an object of type MyFirstClass, as follows:"
   ]
  },
  {
   "cell_type": "code",
   "execution_count": 9,
   "metadata": {},
   "outputs": [],
   "source": [
    "myFirstObject = MyFirstClass()"
   ]
  },
  {
   "cell_type": "markdown",
   "metadata": {},
   "source": [
    "Let's make it more interesting:"
   ]
  },
  {
   "cell_type": "code",
   "execution_count": 10,
   "metadata": {},
   "outputs": [],
   "source": [
    "class MyFirstClass: # well kinda it is the second one\n",
    "    _halfScale = 0.5\n",
    "    _quarterScale = 0.25\n",
    "    def __init__(self, value):\n",
    "        self._value = value\n",
    "    \n",
    "    def value(self):\n",
    "        return self._value\n",
    "    \n",
    "    def half(self):\n",
    "        return self._value * MyFirstClass._halfScale\n",
    "    \n",
    "    def quarter(self):\n",
    "        return self._value * MyFirstClass._quarterScale\n",
    "    "
   ]
  },
  {
   "cell_type": "markdown",
   "metadata": {},
   "source": [
    "Let's use it:"
   ]
  },
  {
   "cell_type": "code",
   "execution_count": 11,
   "metadata": {},
   "outputs": [
    {
     "name": "stdout",
     "output_type": "stream",
     "text": [
      "        v: 8\n",
      "   Half v: 4.0\n",
      "Quarter v: 2.0\n",
      "\n",
      "        v: 16\n",
      "   Half v: 8.0\n",
      "Quarter v: 4.0\n",
      "\n"
     ]
    }
   ],
   "source": [
    "v = MyFirstClass(8);\n",
    "print(\"        v:\", v.value())\n",
    "print(\"   Half v:\", v.half())\n",
    "print(\"Quarter v:\", v.quarter())\n",
    "print('')\n",
    "\n",
    "v2 = MyFirstClass(16)\n",
    "print(\"        v:\", v2.value())\n",
    "print(\"   Half v:\", v2.half())\n",
    "print(\"Quarter v:\", v2.quarter())\n",
    "print('')"
   ]
  },
  {
   "cell_type": "markdown",
   "metadata": {},
   "source": [
    "Well, I did confess that initially the oop looks too much of coding. I will provide one more example that perhaps looks better. So, please be paitent.\n",
    "\n",
    "What did we do:\n",
    "- first we defined two class variable: ```_halfScale``` and ```_quarterScale```. We used an under-score at the begining of the variable name to signal that this is a private variable, meaning the user should leave them alone, unless they know (they really know) what they are doing. Since, Python doesnot have private and public definition, everyone within the Python community agreed to this style of signalling private and public members. Anything that start with an under-score, regardless of being a variable or a method, it should be cosidered private and not accessed directly; even if you could. Similar convention exists in some other programming language such as JavaScript.\n",
    "- Then we defined a method with a very wierd name: ```__init__```. It accept two arguments: (1) ```self``` and (2) ```value```. Inside the body, the ```value``` is assigned to ```self._value```. \n",
    "    - In Python convention, methods that start with double under-score and end with double under-score are usually used for internal working of Python. Although you could define your own methods to follow such naming, but it is highly recommended not to do that.\n",
    "    - ```__init__``` function, is a special python method that is used to initialize an object. Let me explain ```self``` and then I get back to ```__init__``` again.\n",
    "    - ```self```, by convention is used to refer to the object itself, or in better term, self reperesents an instance of the class. If you are familiar with C++ or Java, in some cases ```self``` works the same as ```this```; but it is not exactly the same thing. Usually you do not need to pass```self``` and it is automatically passed.\n",
    "    - back to ```__init__``` as promised: ```__init__``` is called whenever you are initializing an instance of the object. For example, when you call:\n",
    "```Python\n",
    "v = MyFirstClass(8)\n",
    "```\n",
    "        The above code, causes a new instance of MyFirstClass to be created, and then the ```__init__``` method is called to initialize it. Note that although, ```__init__``` gets two argument, we only passed one, i.e. 8. As mentioned, ```self``` is automatically passed and 8 is going to be assigned to value. Inside the body, we assign the value 8 to another by-convention private variable called self._value.\n",
    "- In our class, we also defined three methods: (1) ```value()```, (2) ```half()```, and (3) ```quarter()``` which essentially return the initial value provided by the user during initializaiton, half of it, and quarter of it, respectively. Also note that when we were alling these methods, we did not pass a self variable.\n",
    "\n",
    "Note that, in python, you could define classes, but still follow the procedural programming style. For example, if you inisist you could still folow the procedural programming style as follows:"
   ]
  },
  {
   "cell_type": "code",
   "execution_count": 12,
   "metadata": {},
   "outputs": [
    {
     "name": "stdout",
     "output_type": "stream",
     "text": [
      "Half of Var: 16.0\n"
     ]
    }
   ],
   "source": [
    "var = MyFirstClass(32)\n",
    "\n",
    "print(\"Half of Var:\", MyFirstClass.half(var))"
   ]
  },
  {
   "cell_type": "markdown",
   "metadata": {},
   "source": [
    "<a id = \"AnotherExample\"></a>\n",
    "# Another example\n",
    "Let's start with another example, that perhaps makes the benefit of OOP design more visible. In this example, we are interested to measure the distance between two points on the Earth."
   ]
  },
  {
   "cell_type": "markdown",
   "metadata": {},
   "source": [
    "<a id = \"ProceduralApproach\"></a>\n",
    "## Procedural Approach\n",
    "We are assigned the task to write a computer code that measures the distance between two points. We do a quick search on the Internet and we find the definition of the haversine function and now we want to implement that in python. Here is our first attempt:"
   ]
  },
  {
   "cell_type": "code",
   "execution_count": 13,
   "metadata": {},
   "outputs": [],
   "source": [
    "import math\n",
    "def haversine(sLat, sLon, eLat, eLon):\n",
    "    sLat_rad = sLat * math.pi / 180.0\n",
    "    sLon_rad = sLon * math.pi / 180.0\n",
    "    eLat_rad = eLat * math.pi / 180.0\n",
    "    eLon_rad = eLon * math.pi / 180.0\n",
    "    \n",
    "    deltaTheta = eLat_rad - sLat_rad\n",
    "    deltaLambda = eLon_rad - sLon_rad\n",
    "    a = math.sin(deltaTheta/2)*math.sin(deltaTheta/2)+math.cos(sLat_rad)*math.cos(eLat_rad)*math.sin(deltaLambda/2)*math.sin(deltaLambda/2)\n",
    "    distance = 2*math.atan2(math.sqrt(a),math.sqrt(1-a))\n",
    "    return distance * 6378137.0"
   ]
  },
  {
   "cell_type": "markdown",
   "metadata": {},
   "source": [
    "Let's try it:"
   ]
  },
  {
   "cell_type": "code",
   "execution_count": 14,
   "metadata": {},
   "outputs": [
    {
     "name": "stdout",
     "output_type": "stream",
     "text": [
      "haversine: 20037508.342789244\n",
      " expected: 20037508.3428\n"
     ]
    }
   ],
   "source": [
    "print(\"haversine:\", haversine(0, 0, 0, 180))\n",
    "print(\" expected: 20037508.3428\")"
   ]
  },
  {
   "cell_type": "markdown",
   "metadata": {},
   "source": [
    "We do some more search on the Internet and then we notice that the Earth radius is reported to be different values. The one that we chose, i.e. 6378137.0 , is used by WGS84, which is more common. However, since we want our code to be of use for different people, we want to make that Earth Radius also one of the inputs. There are many way to do this. The first thing is to define a global variable that holds the Earth Radius and then use that in our code. But please don't do this. Leave the global scope as clean as possible. A better approach is:"
   ]
  },
  {
   "cell_type": "code",
   "execution_count": 15,
   "metadata": {},
   "outputs": [],
   "source": [
    "def haversine(sLat, sLon, eLat, eLon, radius = 6378137.0):\n",
    "    sLat_rad = sLat * math.pi / 180.0\n",
    "    sLon_rad = sLon * math.pi / 180.0\n",
    "    eLat_rad = eLat * math.pi / 180.0\n",
    "    eLon_rad = eLon * math.pi / 180.0\n",
    "    \n",
    "    deltaTheta = eLat_rad - sLat_rad\n",
    "    deltaLambda = eLon_rad - sLon_rad\n",
    "    a = math.sin(deltaTheta/2)*math.sin(deltaTheta/2)+math.cos(sLat_rad)*math.cos(eLat_rad)*math.sin(deltaLambda/2)*math.sin(deltaLambda/2)\n",
    "    distance = 2*math.atan2(math.sqrt(a),math.sqrt(1-a))\n",
    "    return distance * radius"
   ]
  },
  {
   "cell_type": "markdown",
   "metadata": {},
   "source": [
    "So now if the user didn't provide the Earth Radius, the WGS84 value is used. If (s)he is using other Datum, they could pass a different Earth Radius:"
   ]
  },
  {
   "cell_type": "code",
   "execution_count": 16,
   "metadata": {},
   "outputs": [
    {
     "name": "stdout",
     "output_type": "stream",
     "text": [
      "haversine: 20037508.342789244\n",
      "haversine on Moon: 5453804.846631881\n"
     ]
    }
   ],
   "source": [
    "print(        \"haversine:\", haversine(0, 0, 0, 180))\n",
    "print(\"haversine on Moon:\", haversine(0, 0, 0, 180, 1736000.0))"
   ]
  },
  {
   "cell_type": "markdown",
   "metadata": {},
   "source": [
    "What if the user provides a wrong value. For example, if they provide 95 for latitude. Then we need to do some checking on our inputs:"
   ]
  },
  {
   "cell_type": "code",
   "execution_count": 17,
   "metadata": {},
   "outputs": [],
   "source": [
    "def haversine(sLat, sLon, eLat, eLon, radius = 6378137.0):\n",
    "    if (sLat < -90) or (sLat > 90) or (eLat < -90) or (eLat > 90):\n",
    "        raise ValueError(\"Latitude must be between -90 and 90\")\n",
    "    if (sLon < -180) or (sLon > 180) or (eLat < -180) or (eLon > 180):\n",
    "        raise ValueError(\"Longitude must be between -180 and 180\")\n",
    "    \n",
    "    sLat_rad = sLat * math.pi / 180.0\n",
    "    sLon_rad = sLon * math.pi / 180.0\n",
    "    eLat_rad = eLat * math.pi / 180.0\n",
    "    eLon_rad = eLon * math.pi / 180.0\n",
    "    \n",
    "    deltaTheta = eLat_rad - sLat_rad\n",
    "    deltaLambda = eLon_rad - sLon_rad\n",
    "    a = math.sin(deltaTheta/2)*math.sin(deltaTheta/2)+math.cos(sLat_rad)*math.cos(eLat_rad)*math.sin(deltaLambda/2)*math.sin(deltaLambda/2)\n",
    "    distance = 2*math.atan2(math.sqrt(a),math.sqrt(1-a))\n",
    "    return distance * radius"
   ]
  },
  {
   "cell_type": "markdown",
   "metadata": {},
   "source": [
    "But our two if blocks are two similar to each other. So, let's put it in another method:"
   ]
  },
  {
   "cell_type": "code",
   "execution_count": 18,
   "metadata": {},
   "outputs": [],
   "source": [
    "def isWithinBound(inValue, lowerBound, upperBound, errMSG = \"Value is not within the bound\"):\n",
    "    if (lowerBound >= upperBound):\n",
    "        raise ValueError(\"lowerBound Cannot be equal or greater than the upperBound.\")\n",
    "    if (inValue < lowerBound) or (inValue > upperBound):\n",
    "        raise ValueError(errMSG)\n",
    "    return True\n",
    "\n",
    "# now that we are at it, let's also define a function for degree to radian conversion.\n",
    "# This helps with code readability. Avoid any magic numbers or scaling as much as possible.\n",
    "def degree_to_radian(in_as_degree):\n",
    "    return in_as_degree * math.pi / 180.0\n"
   ]
  },
  {
   "cell_type": "code",
   "execution_count": 19,
   "metadata": {},
   "outputs": [],
   "source": [
    "def haversine(sLat, sLon, eLat, eLon, radius = 6378137.0):\n",
    "    isWithinBound(sLat, -90, 90, \"Start Latitude must be between -90 and 90\")\n",
    "    isWithinBound(eLat, -180, 180, \"Start Longitude must be between -180 and 180\")\n",
    "    isWithinBound(sLat, -90, 90, \"End Latitude must be between -90 and 90\")\n",
    "    isWithinBound(eLat, -180, 180, \"End Longitude must be between -180 and 180\")\n",
    "    \n",
    "    sLat_rad = degree_to_radian(sLat)\n",
    "    sLon_rad = degree_to_radian(sLon)\n",
    "    eLat_rad = degree_to_radian(eLat)\n",
    "    eLon_rad = degree_to_radian(eLon)\n",
    "    \n",
    "    deltaTheta = eLat_rad - sLat_rad\n",
    "    deltaLambda = eLon_rad - sLon_rad\n",
    "    a = math.sin(deltaTheta/2)*math.sin(deltaTheta/2)+math.cos(sLat_rad)*math.cos(eLat_rad)*math.sin(deltaLambda/2)*math.sin(deltaLambda/2)\n",
    "    distance = 2*math.atan2(math.sqrt(a),math.sqrt(1-a))\n",
    "    return distance * radius"
   ]
  },
  {
   "cell_type": "markdown",
   "metadata": {},
   "source": [
    "great. Now if the user provides a wrong value, he would be notified:"
   ]
  },
  {
   "cell_type": "code",
   "execution_count": 20,
   "metadata": {},
   "outputs": [
    {
     "ename": "ValueError",
     "evalue": "Start Latitude must be between -90 and 90",
     "output_type": "error",
     "traceback": [
      "\u001b[0;31m---------------------------------------------------------------------------\u001b[0m",
      "\u001b[0;31mValueError\u001b[0m                                Traceback (most recent call last)",
      "\u001b[0;32m<ipython-input-20-e17595670c83>\u001b[0m in \u001b[0;36m<module>\u001b[0;34m\u001b[0m\n\u001b[0;32m----> 1\u001b[0;31m \u001b[0mhaversine\u001b[0m\u001b[0;34m(\u001b[0m\u001b[0;36m95\u001b[0m\u001b[0;34m,\u001b[0m\u001b[0;36m0\u001b[0m\u001b[0;34m,\u001b[0m\u001b[0;36m0\u001b[0m\u001b[0;34m,\u001b[0m\u001b[0;36m0\u001b[0m\u001b[0;34m)\u001b[0m\u001b[0;34m\u001b[0m\u001b[0;34m\u001b[0m\u001b[0m\n\u001b[0m",
      "\u001b[0;32m<ipython-input-19-5a8713be84f0>\u001b[0m in \u001b[0;36mhaversine\u001b[0;34m(sLat, sLon, eLat, eLon, radius)\u001b[0m\n\u001b[1;32m      1\u001b[0m \u001b[0;32mdef\u001b[0m \u001b[0mhaversine\u001b[0m\u001b[0;34m(\u001b[0m\u001b[0msLat\u001b[0m\u001b[0;34m,\u001b[0m \u001b[0msLon\u001b[0m\u001b[0;34m,\u001b[0m \u001b[0meLat\u001b[0m\u001b[0;34m,\u001b[0m \u001b[0meLon\u001b[0m\u001b[0;34m,\u001b[0m \u001b[0mradius\u001b[0m \u001b[0;34m=\u001b[0m \u001b[0;36m6378137.0\u001b[0m\u001b[0;34m)\u001b[0m\u001b[0;34m:\u001b[0m\u001b[0;34m\u001b[0m\u001b[0;34m\u001b[0m\u001b[0m\n\u001b[0;32m----> 2\u001b[0;31m     \u001b[0misWithinBound\u001b[0m\u001b[0;34m(\u001b[0m\u001b[0msLat\u001b[0m\u001b[0;34m,\u001b[0m \u001b[0;34m-\u001b[0m\u001b[0;36m90\u001b[0m\u001b[0;34m,\u001b[0m \u001b[0;36m90\u001b[0m\u001b[0;34m,\u001b[0m \u001b[0;34m\"Start Latitude must be between -90 and 90\"\u001b[0m\u001b[0;34m)\u001b[0m\u001b[0;34m\u001b[0m\u001b[0;34m\u001b[0m\u001b[0m\n\u001b[0m\u001b[1;32m      3\u001b[0m     \u001b[0misWithinBound\u001b[0m\u001b[0;34m(\u001b[0m\u001b[0meLat\u001b[0m\u001b[0;34m,\u001b[0m \u001b[0;34m-\u001b[0m\u001b[0;36m180\u001b[0m\u001b[0;34m,\u001b[0m \u001b[0;36m180\u001b[0m\u001b[0;34m,\u001b[0m \u001b[0;34m\"Start Longitude must be between -180 and 180\"\u001b[0m\u001b[0;34m)\u001b[0m\u001b[0;34m\u001b[0m\u001b[0;34m\u001b[0m\u001b[0m\n\u001b[1;32m      4\u001b[0m     \u001b[0misWithinBound\u001b[0m\u001b[0;34m(\u001b[0m\u001b[0msLat\u001b[0m\u001b[0;34m,\u001b[0m \u001b[0;34m-\u001b[0m\u001b[0;36m90\u001b[0m\u001b[0;34m,\u001b[0m \u001b[0;36m90\u001b[0m\u001b[0;34m,\u001b[0m \u001b[0;34m\"End Latitude must be between -90 and 90\"\u001b[0m\u001b[0;34m)\u001b[0m\u001b[0;34m\u001b[0m\u001b[0;34m\u001b[0m\u001b[0m\n\u001b[1;32m      5\u001b[0m     \u001b[0misWithinBound\u001b[0m\u001b[0;34m(\u001b[0m\u001b[0meLat\u001b[0m\u001b[0;34m,\u001b[0m \u001b[0;34m-\u001b[0m\u001b[0;36m180\u001b[0m\u001b[0;34m,\u001b[0m \u001b[0;36m180\u001b[0m\u001b[0;34m,\u001b[0m \u001b[0;34m\"End Longitude must be between -180 and 180\"\u001b[0m\u001b[0;34m)\u001b[0m\u001b[0;34m\u001b[0m\u001b[0;34m\u001b[0m\u001b[0m\n",
      "\u001b[0;32m<ipython-input-18-0e47632aafa8>\u001b[0m in \u001b[0;36misWithinBound\u001b[0;34m(inValue, lowerBound, upperBound, errMSG)\u001b[0m\n\u001b[1;32m      3\u001b[0m         \u001b[0;32mraise\u001b[0m \u001b[0mValueError\u001b[0m\u001b[0;34m(\u001b[0m\u001b[0;34m\"lowerBound Cannot be equal or greater than the upperBound.\"\u001b[0m\u001b[0;34m)\u001b[0m\u001b[0;34m\u001b[0m\u001b[0;34m\u001b[0m\u001b[0m\n\u001b[1;32m      4\u001b[0m     \u001b[0;32mif\u001b[0m \u001b[0;34m(\u001b[0m\u001b[0minValue\u001b[0m \u001b[0;34m<\u001b[0m \u001b[0mlowerBound\u001b[0m\u001b[0;34m)\u001b[0m \u001b[0;32mor\u001b[0m \u001b[0;34m(\u001b[0m\u001b[0minValue\u001b[0m \u001b[0;34m>\u001b[0m \u001b[0mupperBound\u001b[0m\u001b[0;34m)\u001b[0m\u001b[0;34m:\u001b[0m\u001b[0;34m\u001b[0m\u001b[0;34m\u001b[0m\u001b[0m\n\u001b[0;32m----> 5\u001b[0;31m         \u001b[0;32mraise\u001b[0m \u001b[0mValueError\u001b[0m\u001b[0;34m(\u001b[0m\u001b[0merrMSG\u001b[0m\u001b[0;34m)\u001b[0m\u001b[0;34m\u001b[0m\u001b[0;34m\u001b[0m\u001b[0m\n\u001b[0m\u001b[1;32m      6\u001b[0m     \u001b[0;32mreturn\u001b[0m \u001b[0;32mTrue\u001b[0m\u001b[0;34m\u001b[0m\u001b[0;34m\u001b[0m\u001b[0m\n\u001b[1;32m      7\u001b[0m \u001b[0;34m\u001b[0m\u001b[0m\n",
      "\u001b[0;31mValueError\u001b[0m: Start Latitude must be between -90 and 90"
     ]
    }
   ],
   "source": [
    "haversine(95,0,0,0)"
   ]
  },
  {
   "cell_type": "markdown",
   "metadata": {},
   "source": [
    "You might say that we replaced if-blocks with bunch of function calls. Why is that a better way? Let's have a look at the two code snippet again:\n",
    "\n",
    "First code snippet:\n",
    "```Python\n",
    "if (sLat < -90) or (sLat > 90) or (eLat < -90) or (eLat > 90):\n",
    "        raise ValueError(\"Latitude must be between -90 and 90\")\n",
    "if (sLon < -180) or (sLon > 180) or (eLat < -180) or (eLon > 180):\n",
    "    raise ValueError(\"Longitude must be between -180 and 180\")\n",
    "```\n",
    "\n",
    "Now the second code snippet:\n",
    "```Python\n",
    "isWithinBound(sLat, -90, 90, \"Start Latitude must be between -90 and 90\")\n",
    "isWithinBound(eLat, -180, 180, \"Start Longitude must be between -180 and 180\")\n",
    "isWithinBound(sLat, -90, 90, \"End Latitude must be between -90 and 90\")\n",
    "isWithinBound(eLat, -180, 180, \"End Longitude must be between -180 and 180\")\n",
    "```\n",
    "\n",
    "Which code snippet is easier to understand? My vote is on the second one. To understand the first code snippet, you must first check the code, you would see that the latitude and longitudes are checked against some numbers. Then you see the ```raise ValueError(\" .... \")``` and then you see conclude that if those conditions are are met, that means the value provided for lat or lon was out of the proper bounds; hence, the code is stopping. So, you conclude that the first code snippet is doing some boundary checking.\n",
    "\n",
    "Now look at the second code snippet. you read ```isWithinBound( .... )```. That's it. You don't even need to check rest of it to understand that you are checking to see if the values are within a bound or not. Now, if [and only if] you are interested you could examine further the function call to see what is being checked, what are the boundaries, what would be the error message and so on.\n",
    "\n",
    "So, for the first code snippet, you would first analyse the code then you understand its intent; while for the second code snippet, you first understand its intent then if you are interested, you could analyze it further. That's why for the first code snippet it is highly recommended to provide some comments in the code. But for the second code snippet, you don't have to provide any comments in the code. And by the way, if you happened to read the [Clean Code: A Handbook of Agile Software Craftsmanship By Robert C. Martin](https://www.amazon.com/Clean-Code-Handbook-Software-Craftsmanship/dp/0132350882), that's what he means by not putting comments in the code. Don't go just remove the comments from your code, claiming that's what was suggested in that book. You need to write your code in such a way that it explains itself, without the need of comments. Not just removing the comments. You might think that's obvious, but I have seen a thing or two that I feel I need to emphasize this."
   ]
  },
  {
   "cell_type": "markdown",
   "metadata": {},
   "source": [
    "Now you meet with another friend of yours, who has more background in GIS and geography. (s)he reminds you that the Earth is not exactly a sphere and haversine is only valid for full surface. Therefore, as the start and end points get farther from each other, the distance calculated by haversine would produce more error. (s)he points you toward Inverse Vincenty Equation. Now you want to implement that method:"
   ]
  },
  {
   "cell_type": "code",
   "execution_count": 21,
   "metadata": {},
   "outputs": [],
   "source": [
    "# The function signature is so long that it doesn't fit on your screen. That's a sign that\n",
    "# either you need start going over multiple lines, or better yet, try to redesign it.\n",
    "# Generally, anything more than 3 or 4 arguments makes it harder to read.\n",
    "# and this document is turning into more of clean-code instructions than OOP. But one goal of oop is to\n",
    "# produce a code that's easier to understand, easier to read, easier to maintain and expand, easier to \n",
    "# realize how different components of your code are interacting with each other; \n",
    "# hence, in one word, ok two, cleaner code.\n",
    "def distance_inverse_vincenty(sLat, sLon, eLat, eLon, radius = 6378137.0, inverseFlattening = 298.257223563, eps = 1e-12, maxIterations = 1000):\n",
    "    sLat_rad = degree_to_radian(sLat)\n",
    "    sLon_rad = degree_to_radian(sLon)\n",
    "    eLat_rad = degree_to_radian(eLat)\n",
    "    eLon_rad = degree_to_radian(eLon)\n",
    "    \n",
    "\n",
    "    a = radius\n",
    "    f = 1.0 / inverseFlattening\n",
    "    b = (1-f)*a\n",
    "    U1 = math.atan((1-f)*math.tan(sLat_rad))\n",
    "    U2 = math.atan((1-f)*math.tan(eLat_rad))\n",
    "    cosU1 = math.cos(U1)\n",
    "    sinU1 = math.sin(U1)\n",
    "    cosU2 = math.cos(U2)\n",
    "    sinU2 = math.sin(U2)\n",
    "    L = eLon_rad - sLon_rad\n",
    "\n",
    "    Lambda = L\n",
    "    GeoDistance = 0\n",
    "    oldGeoDistance = 2*eps\n",
    "    counter = 0\n",
    "    while (abs(GeoDistance-oldGeoDistance)>eps) and (counter<maxIterations):\n",
    "        oldGeoDistance = GeoDistance\n",
    "        sinDelta = math.sqrt( math.pow(cosU2*math.sin(Lambda),2) + math.pow(cosU1*sinU2-sinU1*cosU2*math.cos(Lambda),2))\n",
    "        cosDelta = sinU1*sinU2+cosU1*cosU2*math.cos(Lambda)\n",
    "        delta = math.atan2(sinDelta,cosDelta)\n",
    "        sinAlpha = (cosU1*cosU2*math.sin(Lambda))/math.sin(delta)\n",
    "        cos2Alpha = 1 - sinAlpha*sinAlpha\n",
    "        cosDeltam = 0\n",
    "        C = 0\n",
    "        if cos2Alpha==0:\n",
    "            cosDeltam = -1.0\n",
    "            C=0.0\n",
    "        else:\n",
    "            cosDeltam = math.cos(delta) - (2*sinU1*sinU2)/ cos2Alpha\n",
    "            C = f/16.0*cos2Alpha*(4.0+f*(4.0-3.0*cos2Alpha))\n",
    "\n",
    "        Lambda = L + (1-C)*f*sinAlpha*(delta+C*math.sin(delta)*(cosDeltam+C*math.cos(delta)*(-1.0+2.0*cosDeltam*cosDeltam)))\n",
    "        counter += 1\n",
    "\n",
    "        u2 = cos2Alpha * (a*a-b*b)/(b*b)\n",
    "        k1 =  (math.sqrt(1+u2)-1)/(math.sqrt(1+u2)+1)\n",
    "        A = (1+0.25*(k1*k1))/(1-k1)\n",
    "        B = k1*(1-(3.0/8.0)*(k1*k1))\n",
    "        cos2Deltam = cosDeltam*cosDeltam\n",
    "        deltaDelta = B * math.sin(delta) * (cosDeltam+0.25*B*(math.cos(delta)*(-1.0+2.0*cos2Deltam)-(B/6.0)*cosDeltam*(-3.0+4.0*math.pow(math.sin(delta),2))*(-3+4*cos2Deltam)))\n",
    "\n",
    "        GeoDistance = b * A * (delta - deltaDelta)\n",
    "    return GeoDistance\n",
    "    \n",
    "    "
   ]
  },
  {
   "cell_type": "code",
   "execution_count": 22,
   "metadata": {},
   "outputs": [
    {
     "name": "stdout",
     "output_type": "stream",
     "text": [
      "Distance using inverse Vincenty formula: 10018754.17139462\n",
      "                               expected: 10018754.1714\n"
     ]
    }
   ],
   "source": [
    "print(\"Distance using inverse Vincenty formula:\", distance_inverse_vincenty(0, 0, 0, 90))\n",
    "print(\"                               expected: 10018754.1714\")"
   ]
  },
  {
   "cell_type": "markdown",
   "metadata": {},
   "source": [
    "But wait again. What if the user provides a wrong latitude?! So you need to go and also add the same check here:"
   ]
  },
  {
   "cell_type": "code",
   "execution_count": 23,
   "metadata": {},
   "outputs": [],
   "source": [
    "def distance_inverse_vincenty(sLat, sLon, eLat, eLon, radius = 6378137.0, inverseFlattening = 298.257223563, eps = 1e-12, maxIterations = 1000):\n",
    "    isWithinBound(sLat, -90, 90, \"Start Latitude must be between -90 and 90\")\n",
    "    isWithinBound(eLat, -180, 180, \"Start Longitude must be between -180 and 180\")\n",
    "    isWithinBound(sLat, -90, 90, \"End Latitude must be between -90 and 90\")\n",
    "    isWithinBound(eLat, -180, 180, \"End Longitude must be between -180 and 180\")\n",
    "    \n",
    "    sLat_rad = degree_to_radian(sLat)\n",
    "    sLon_rad = degree_to_radian(sLon)\n",
    "    eLat_rad = degree_to_radian(eLat)\n",
    "    eLon_rad = degree_to_radian(eLon)\n",
    "    \n",
    "\n",
    "    a = radius\n",
    "    f = 1.0 / inverseFlattening\n",
    "    b = (1-f)*a\n",
    "    U1 = math.atan((1-f)*math.tan(sLat_rad))\n",
    "    U2 = math.atan((1-f)*math.tan(eLat_rad))\n",
    "    cosU1 = math.cos(U1)\n",
    "    sinU1 = math.sin(U1)\n",
    "    cosU2 = math.cos(U2)\n",
    "    sinU2 = math.sin(U2)\n",
    "    L = eLon_rad - sLon_rad\n",
    "\n",
    "    Lambda = L\n",
    "    GeoDistance = 0\n",
    "    oldGeoDistance = 2*eps\n",
    "    counter = 0\n",
    "    while (abs(GeoDistance-oldGeoDistance)>eps) and (counter<maxIterations):\n",
    "        oldGeoDistance = GeoDistance\n",
    "        sinDelta = math.sqrt( math.pow(cosU2*math.sin(Lambda),2) + math.pow(cosU1*sinU2-sinU1*cosU2*math.cos(Lambda),2))\n",
    "        cosDelta = sinU1*sinU2+cosU1*cosU2*math.cos(Lambda)\n",
    "        delta = math.atan2(sinDelta,cosDelta)\n",
    "        sinAlpha = (cosU1*cosU2*math.sin(Lambda))/math.sin(delta)\n",
    "        cos2Alpha = 1 - sinAlpha*sinAlpha\n",
    "        cosDeltam = 0\n",
    "        C = 0\n",
    "        if cos2Alpha==0:\n",
    "            cosDeltam = -1.0\n",
    "            C=0.0\n",
    "        else:\n",
    "            cosDeltam = math.cos(delta) - (2*sinU1*sinU2)/ cos2Alpha\n",
    "            C = f/16.0*cos2Alpha*(4.0+f*(4.0-3.0*cos2Alpha))\n",
    "\n",
    "        Lambda = L + (1-C)*f*sinAlpha*(delta+C*math.sin(delta)*(cosDeltam+C*math.cos(delta)*(-1.0+2.0*cosDeltam*cosDeltam)))\n",
    "        counter += 1\n",
    "\n",
    "        u2 = cos2Alpha * (a*a-b*b)/(b*b)\n",
    "        k1 =  (math.sqrt(1+u2)-1)/(math.sqrt(1+u2)+1)\n",
    "        A = (1+0.25*(k1*k1))/(1-k1)\n",
    "        B = k1*(1-(3.0/8.0)*(k1*k1))\n",
    "        cos2Deltam = cosDeltam*cosDeltam\n",
    "        deltaDelta = B * math.sin(delta) * (cosDeltam+0.25*B*(math.cos(delta)*(-1.0+2.0*cos2Deltam)-(B/6.0)*cosDeltam*(-3.0+4.0*math.pow(math.sin(delta),2))*(-3+4*cos2Deltam)))\n",
    "\n",
    "        GeoDistance = b * A * (delta - deltaDelta)\n",
    "    return GeoDistance"
   ]
  },
  {
   "cell_type": "markdown",
   "metadata": {},
   "source": [
    "Now, what if the user provides the coordinate in Radians? Then you need to go and perhaps add another input arguments asking for the unit of the inputs. And you need to repeat this in both functions.\n",
    "\n",
    "Later, you find out that Inverse Vincenty formula doesn't converge for antipodal points. So, you might want to implement Karney's formula to overcome this issue. And of course, any check that you did for haversine and inverse Vincenty, you need to repeat it there again. \n",
    "\n",
    "As you can see, as your code grows, it gets harder and harder to maintain it and add features to it. If you find bug in one part of the code, you need to implement the fix in several locations. And you are pretty much repeating a lot of codes (and patterns) over and over."
   ]
  },
  {
   "cell_type": "markdown",
   "metadata": {},
   "source": [
    "<a id = \"OOPApproach\"></a>\n",
    "## OOP Approach"
   ]
  },
  {
   "cell_type": "markdown",
   "metadata": {},
   "source": [
    "Let's do the same development now using classes. First we define a class to store all our utility functions. Those that are used in GeoPoint, but their usage is not limited only to calculating distance between points. Let's call it ```CoordinateUtilities```:"
   ]
  },
  {
   "cell_type": "code",
   "execution_count": 24,
   "metadata": {},
   "outputs": [],
   "source": [
    "class CoordinateUtilities:\n",
    "    @staticmethod\n",
    "    def isWithinBound(inValue, lowerBound, upperBound, errMSG = \"Value is not within the bound\"):\n",
    "        if (lowerBound >= upperBound):\n",
    "            raise ValueError(\"lowerBound Cannot be equal or greater than the upperBound.\")\n",
    "        if (inValue < lowerBound) or (inValue > upperBound):\n",
    "            raise ValueError(errMSG)\n",
    "        return True\n",
    "    \n",
    "    @staticmethod\n",
    "    def degree_to_radian(in_as_degree):\n",
    "        return in_as_degree * math.pi / 180.0\n",
    "    \n",
    "    @staticmethod\n",
    "    def radian_to_degree(in_as_radian):\n",
    "        return in_as_radian / math.pi * 180.0"
   ]
  },
  {
   "cell_type": "markdown",
   "metadata": {},
   "source": [
    "Now let's go back to define our first object, i.e. ```GeoPoint```:"
   ]
  },
  {
   "cell_type": "code",
   "execution_count": 25,
   "metadata": {},
   "outputs": [],
   "source": [
    "class GeoPoint:\n",
    "    def __init__(self, coordinates = (0.0, 0.0), unit = \"degree\"):\n",
    "        if not isinstance(coordinates, tuple) or \\\n",
    "            not all(map(lambda e: isinstance(e, (int, float)), coordinates)):\n",
    "            raise TypeError(\"coordinates must be a tuple of integers or floating points\")\n",
    "        \n",
    "        if len(coordinates)!=2:\n",
    "            raise IndexError(\"There should be two numbers in the coordinates. \"\n",
    "                             \"The first one is latitude, the second one is longitude\")\n",
    "            \n",
    "        if unit == \"degree\":\n",
    "            self.lat_deg = coordinates[0]\n",
    "            self.lon_deg = coordinates[1]\n",
    "        \n",
    "        if unit == \"radian\":\n",
    "            self.lat_rad = coordinates[0]\n",
    "            self.lon_rad = coordinates[1]\n",
    "\n",
    "    @property\n",
    "    def lat_deg(self):\n",
    "        return self._lat_deg\n",
    "    \n",
    "    @lat_deg.setter\n",
    "    def lat_deg(self, value):\n",
    "        CoordinateUtilities.isWithinBound(value, -90, 90,\"Latitude must be between -90 (-pi/2) and 90 (pi/2)\")\n",
    "        self._lat_deg = value\n",
    "        self._lat_rad = CoordinateUtilities.degree_to_radian(value)\n",
    "        \n",
    "    @property\n",
    "    def lon_deg(self):\n",
    "        return self._lon_deg\n",
    "    \n",
    "    @lon_deg.setter\n",
    "    def lon_deg(self, value):\n",
    "        CoordinateUtilities.isWithinBound(value, -180, 180,\"Longitude must be between -180 (-pi) and 180 (pi)\")\n",
    "        self._lon_deg = value\n",
    "        self._lon_rad = CoordinateUtilities.degree_to_radian(value)\n",
    "        \n",
    "    @property\n",
    "    def lat_rad(self):\n",
    "        return self._lat_rad\n",
    "    \n",
    "    @lat_rad.setter\n",
    "    def lat_rad(self, value):\n",
    "        CoordinateUtilities.isWithinBound(value, -math.pi/2, math.pi/2,\"Latitude must be between -90 (-pi/2) and 90 (pi/2)\")\n",
    "        self._lat_rad = value\n",
    "        self._lat_deg = CoordinateUtilities.radian_to_degree(value)\n",
    "        \n",
    "    @property\n",
    "    def lon_rad(self):\n",
    "        return self._lon_rad\n",
    "    \n",
    "    @lon_rad.setter\n",
    "    def lon_rad(self, value):\n",
    "        CoordinateUtilities.isWithinBound(value, -math.pi, math.pi, \"Longitude must be between -180 (-pi) and 180 (pi)\")\n",
    "        self._lon_rad = value\n",
    "        self._lon_deg = CoordinateUtilities.radian_to_degree(value)"
   ]
  },
  {
   "cell_type": "markdown",
   "metadata": {},
   "source": [
    "Yes, as you were warned, this might look longer. But also note that we have also implemented the Radian unit here. We did not do that previously.\n",
    "\n",
    "Let's try it:"
   ]
  },
  {
   "cell_type": "code",
   "execution_count": 26,
   "metadata": {},
   "outputs": [
    {
     "name": "stdout",
     "output_type": "stream",
     "text": [
      "degree: (39.977973,-105.274709)\n",
      "radian: (0.697747257123395,-1.837390291128907)\n"
     ]
    }
   ],
   "source": [
    "coord1 = GeoPoint((39.977973, -105.274709))\n",
    "print(f\"degree: ({coord1.lat_deg},{coord1.lon_deg})\")\n",
    "print(f\"radian: ({coord1.lat_rad},{coord1.lon_rad})\")"
   ]
  },
  {
   "cell_type": "code",
   "execution_count": 27,
   "metadata": {},
   "outputs": [
    {
     "name": "stdout",
     "output_type": "stream",
     "text": [
      "degree: (39.977973000000006,-105.27470899999999)\n",
      "radian: (0.697747257123395,-1.837390291128907)\n"
     ]
    }
   ],
   "source": [
    "coord2 = GeoPoint((0.697747257123395,-1.837390291128907), unit = \"radian\")\n",
    "print(f\"degree: ({coord2.lat_deg},{coord2.lon_deg})\")\n",
    "print(f\"radian: ({coord2.lat_rad},{coord2.lon_rad})\")"
   ]
  },
  {
   "cell_type": "markdown",
   "metadata": {},
   "source": [
    "If you are wondering, what this coordinate is, that's NCAR and we are providing enough accuracy to pin point individual sub-atomic feature on earth. In real projects don't do that. 5 digits after lat/lon is already too much. If you are picky, ok go to 6 digits, but even 6 is not really needed."
   ]
  },
  {
   "cell_type": "markdown",
   "metadata": {},
   "source": [
    "Let's see what ```@property``` stuffs are. As you have guessed, they make a property. There are multiple way of doing that, but using ```@property``` **annotation** is one way, I could say cleaner way. Once you create a property, you could modify how that property is set by adding ```@property_name.setter``` annotation and privide a function for the setter. Now you could control how things are set. Or even you could make a field immutable, meaning not changing.\n",
    "Let's try those properties in action:"
   ]
  },
  {
   "cell_type": "code",
   "execution_count": 28,
   "metadata": {},
   "outputs": [
    {
     "name": "stdout",
     "output_type": "stream",
     "text": [
      "Original:\n",
      "degree: (0.0,0.0)\n",
      "radian: (0.0,0.0)\n",
      "Modified:\n",
      "degree: (39.977973,-105.274709)\n",
      "radian: (0.697747257123395,-1.837390291128907)\n"
     ]
    }
   ],
   "source": [
    "print(\"Original:\")\n",
    "coord3 = GeoPoint()\n",
    "print(f\"degree: ({coord3.lat_deg},{coord3.lon_deg})\")\n",
    "print(f\"radian: ({coord3.lat_rad},{coord3.lon_rad})\")\n",
    "print(\"Modified:\")\n",
    "coord3.lat_deg = 39.977973\n",
    "coord3.lon_deg = -105.274709\n",
    "print(f\"degree: ({coord3.lat_deg},{coord3.lon_deg})\")\n",
    "print(f\"radian: ({coord3.lat_rad},{coord3.lon_rad})\")"
   ]
  },
  {
   "cell_type": "markdown",
   "metadata": {},
   "source": [
    "any attempt to set latitude or longitude to a wrong number would generate error:"
   ]
  },
  {
   "cell_type": "code",
   "execution_count": 29,
   "metadata": {},
   "outputs": [
    {
     "ename": "ValueError",
     "evalue": "Latitude must be between -90 (-pi/2) and 90 (pi/2)",
     "output_type": "error",
     "traceback": [
      "\u001b[0;31m---------------------------------------------------------------------------\u001b[0m",
      "\u001b[0;31mValueError\u001b[0m                                Traceback (most recent call last)",
      "\u001b[0;32m<ipython-input-29-4cc3ddbb19ad>\u001b[0m in \u001b[0;36m<module>\u001b[0;34m\u001b[0m\n\u001b[1;32m      1\u001b[0m \u001b[0mcoord4\u001b[0m \u001b[0;34m=\u001b[0m \u001b[0mGeoPoint\u001b[0m\u001b[0;34m(\u001b[0m\u001b[0;34m)\u001b[0m\u001b[0;34m\u001b[0m\u001b[0;34m\u001b[0m\u001b[0m\n\u001b[0;32m----> 2\u001b[0;31m \u001b[0mcoord4\u001b[0m\u001b[0;34m.\u001b[0m\u001b[0mlat_deg\u001b[0m \u001b[0;34m=\u001b[0m \u001b[0;36m95\u001b[0m\u001b[0;34m\u001b[0m\u001b[0;34m\u001b[0m\u001b[0m\n\u001b[0m",
      "\u001b[0;32m<ipython-input-25-a6468f811041>\u001b[0m in \u001b[0;36mlat_deg\u001b[0;34m(self, value)\u001b[0m\n\u001b[1;32m     23\u001b[0m     \u001b[0;34m@\u001b[0m\u001b[0mlat_deg\u001b[0m\u001b[0;34m.\u001b[0m\u001b[0msetter\u001b[0m\u001b[0;34m\u001b[0m\u001b[0;34m\u001b[0m\u001b[0m\n\u001b[1;32m     24\u001b[0m     \u001b[0;32mdef\u001b[0m \u001b[0mlat_deg\u001b[0m\u001b[0;34m(\u001b[0m\u001b[0mself\u001b[0m\u001b[0;34m,\u001b[0m \u001b[0mvalue\u001b[0m\u001b[0;34m)\u001b[0m\u001b[0;34m:\u001b[0m\u001b[0;34m\u001b[0m\u001b[0;34m\u001b[0m\u001b[0m\n\u001b[0;32m---> 25\u001b[0;31m         \u001b[0mCoordinateUtilities\u001b[0m\u001b[0;34m.\u001b[0m\u001b[0misWithinBound\u001b[0m\u001b[0;34m(\u001b[0m\u001b[0mvalue\u001b[0m\u001b[0;34m,\u001b[0m \u001b[0;34m-\u001b[0m\u001b[0;36m90\u001b[0m\u001b[0;34m,\u001b[0m \u001b[0;36m90\u001b[0m\u001b[0;34m,\u001b[0m\u001b[0;34m\"Latitude must be between -90 (-pi/2) and 90 (pi/2)\"\u001b[0m\u001b[0;34m)\u001b[0m\u001b[0;34m\u001b[0m\u001b[0;34m\u001b[0m\u001b[0m\n\u001b[0m\u001b[1;32m     26\u001b[0m         \u001b[0mself\u001b[0m\u001b[0;34m.\u001b[0m\u001b[0m_lat_deg\u001b[0m \u001b[0;34m=\u001b[0m \u001b[0mvalue\u001b[0m\u001b[0;34m\u001b[0m\u001b[0;34m\u001b[0m\u001b[0m\n\u001b[1;32m     27\u001b[0m         \u001b[0mself\u001b[0m\u001b[0;34m.\u001b[0m\u001b[0m_lat_rad\u001b[0m \u001b[0;34m=\u001b[0m \u001b[0mCoordinateUtilities\u001b[0m\u001b[0;34m.\u001b[0m\u001b[0mdegree_to_radian\u001b[0m\u001b[0;34m(\u001b[0m\u001b[0mvalue\u001b[0m\u001b[0;34m)\u001b[0m\u001b[0;34m\u001b[0m\u001b[0;34m\u001b[0m\u001b[0m\n",
      "\u001b[0;32m<ipython-input-24-441e029d27a1>\u001b[0m in \u001b[0;36misWithinBound\u001b[0;34m(inValue, lowerBound, upperBound, errMSG)\u001b[0m\n\u001b[1;32m      5\u001b[0m             \u001b[0;32mraise\u001b[0m \u001b[0mValueError\u001b[0m\u001b[0;34m(\u001b[0m\u001b[0;34m\"lowerBound Cannot be equal or greater than the upperBound.\"\u001b[0m\u001b[0;34m)\u001b[0m\u001b[0;34m\u001b[0m\u001b[0;34m\u001b[0m\u001b[0m\n\u001b[1;32m      6\u001b[0m         \u001b[0;32mif\u001b[0m \u001b[0;34m(\u001b[0m\u001b[0minValue\u001b[0m \u001b[0;34m<\u001b[0m \u001b[0mlowerBound\u001b[0m\u001b[0;34m)\u001b[0m \u001b[0;32mor\u001b[0m \u001b[0;34m(\u001b[0m\u001b[0minValue\u001b[0m \u001b[0;34m>\u001b[0m \u001b[0mupperBound\u001b[0m\u001b[0;34m)\u001b[0m\u001b[0;34m:\u001b[0m\u001b[0;34m\u001b[0m\u001b[0;34m\u001b[0m\u001b[0m\n\u001b[0;32m----> 7\u001b[0;31m             \u001b[0;32mraise\u001b[0m \u001b[0mValueError\u001b[0m\u001b[0;34m(\u001b[0m\u001b[0merrMSG\u001b[0m\u001b[0;34m)\u001b[0m\u001b[0;34m\u001b[0m\u001b[0;34m\u001b[0m\u001b[0m\n\u001b[0m\u001b[1;32m      8\u001b[0m         \u001b[0;32mreturn\u001b[0m \u001b[0;32mTrue\u001b[0m\u001b[0;34m\u001b[0m\u001b[0;34m\u001b[0m\u001b[0m\n\u001b[1;32m      9\u001b[0m \u001b[0;34m\u001b[0m\u001b[0m\n",
      "\u001b[0;31mValueError\u001b[0m: Latitude must be between -90 (-pi/2) and 90 (pi/2)"
     ]
    }
   ],
   "source": [
    "coord4 = GeoPoint()\n",
    "coord4.lat_deg = 95"
   ]
  },
  {
   "cell_type": "markdown",
   "metadata": {},
   "source": [
    "<a id = \"PrintingTheObject\"></a>\n",
    "### Printing The Object - Using ```__str__```"
   ]
  },
  {
   "cell_type": "markdown",
   "metadata": {},
   "source": [
    "If we try to print our coordinate instance, we would get a strange looking results:"
   ]
  },
  {
   "cell_type": "code",
   "execution_count": 30,
   "metadata": {},
   "outputs": [
    {
     "name": "stdout",
     "output_type": "stream",
     "text": [
      "NCAR Coordinate: <__main__.GeoPoint object at 0x10bfbbe80>\n"
     ]
    }
   ],
   "source": [
    "coord1 = GeoPoint((39.977973, -105.274709))\n",
    "print(\"NCAR Coordinate:\", coord1)"
   ]
  },
  {
   "cell_type": "markdown",
   "metadata": {},
   "source": [
    "Let's fix our class to have a nice formatted output. We are going to use one of the magic functions:"
   ]
  },
  {
   "cell_type": "code",
   "execution_count": 31,
   "metadata": {},
   "outputs": [],
   "source": [
    "class GeoPoint:\n",
    "    def __init__(self, coordinates = (0.0, 0.0), unit = \"degree\"):\n",
    "        if not isinstance(coordinates, tuple) or \\\n",
    "            not all(map(lambda e: isinstance(e, (int, float)), coordinates)):\n",
    "            raise TypeError(\"coordinates must be a tuple of integers or floating points\")\n",
    "        \n",
    "        if len(coordinates)!=2:\n",
    "            raise IndexError(\"There should be two numbers in the coordinates. \"\n",
    "                             \"The first one is latitude, the second one is longitude\")\n",
    "            \n",
    "        if unit == \"degree\":\n",
    "            self.lat_deg = coordinates[0]\n",
    "            self.lon_deg = coordinates[1]\n",
    "        \n",
    "        if unit == \"radian\":\n",
    "            self.lat_rad = coordinates[0]\n",
    "            self.lon_rad = coordinates[1]\n",
    "\n",
    "    @property\n",
    "    def lat_deg(self):\n",
    "        return self._lat_deg\n",
    "    \n",
    "    @lat_deg.setter\n",
    "    def lat_deg(self, value):\n",
    "        CoordinateUtilities.isWithinBound(value, -90, 90,\"Latitude must be between -90 (-pi/2) and 90 (pi/2)\")\n",
    "        self._lat_deg = value\n",
    "        self._lat_rad = CoordinateUtilities.degree_to_radian(value)\n",
    "        \n",
    "    @property\n",
    "    def lon_deg(self):\n",
    "        return self._lon_deg\n",
    "    \n",
    "    @lon_deg.setter\n",
    "    def lon_deg(self, value):\n",
    "        CoordinateUtilities.isWithinBound(value, -180, 180,\"Longitude must be between -180 (-pi) and 180 (pi)\")\n",
    "        self._lon_deg = value\n",
    "        self._lon_rad = CoordinateUtilities.degree_to_radian(value)\n",
    "        \n",
    "    @property\n",
    "    def lat_rad(self):\n",
    "        return self._lat_rad\n",
    "    \n",
    "    @lat_rad.setter\n",
    "    def lat_rad(self, value):\n",
    "        CoordinateUtilities.isWithinBound(value, -math.pi/2, math.pi/2,\"Latitude must be between -90 (-pi/2) and 90 (pi/2)\")\n",
    "        self._lat_rad = value\n",
    "        self._lat_deg = CoordinateUtilities.radian_to_degree(value)\n",
    "        \n",
    "    @property\n",
    "    def lon_rad(self):\n",
    "        return self._lon_rad\n",
    "    \n",
    "    @lon_rad.setter\n",
    "    def lon_rad(self, value):\n",
    "        CoordinateUtilities.isWithinBound(value, -math.pi, math.pi, \"Longitude must be between -180 (-pi) and 180 (pi)\")\n",
    "        self._lon_rad = value\n",
    "        self._lon_deg = CoordinateUtilities.radian_to_degree(value)\n",
    "        \n",
    "    def __str__(self):\n",
    "        return f\"({self.lat_deg}, {self.lon_deg})\""
   ]
  },
  {
   "cell_type": "markdown",
   "metadata": {},
   "source": [
    "Now let's try it again:"
   ]
  },
  {
   "cell_type": "code",
   "execution_count": 32,
   "metadata": {},
   "outputs": [
    {
     "name": "stdout",
     "output_type": "stream",
     "text": [
      "NCAR Coordinate: (39.977973, -105.274709)\n"
     ]
    }
   ],
   "source": [
    "coord1 = GeoPoint((39.977973, -105.274709))\n",
    "print(\"NCAR Coordinate:\", coord1)"
   ]
  },
  {
   "cell_type": "markdown",
   "metadata": {},
   "source": [
    "It looks much nicer now. Now let's make our GeoPoint easier to use."
   ]
  },
  {
   "cell_type": "markdown",
   "metadata": {},
   "source": [
    "<a id = \"GettingItems\"></a>\n",
    "### Getting Items - Using ```__getitem__```\n",
    "\n",
    "we are able to access our coordinate by using the dot-operator and the properties that we defined, as follows:\n",
    "\n",
    "```Python\n",
    "myPoint.lat_deg\n",
    "```\n",
    "\n",
    "What if You want to provide your user to access the first and second coordinate using indexing, or:\n",
    "\n",
    "```Python\n",
    "myPoint[0]\n",
    "```\n",
    "\n",
    "Let's see how we can do that in Python:"
   ]
  },
  {
   "cell_type": "code",
   "execution_count": 33,
   "metadata": {},
   "outputs": [],
   "source": [
    "class GeoPoint:\n",
    "    def __init__(self, coordinates = (0.0, 0.0), unit = \"degree\"):\n",
    "        if not isinstance(coordinates, tuple) or \\\n",
    "            not all(map(lambda e: isinstance(e, (int, float)), coordinates)):\n",
    "            raise TypeError(\"coordinates must be a tuple of integers or floating points\")\n",
    "        \n",
    "        if len(coordinates)!=2:\n",
    "            raise IndexError(\"There should be two numbers in the coordinates. \"\n",
    "                             \"The first one is latitude, the second one is longitude\")\n",
    "            \n",
    "        if unit == \"degree\":\n",
    "            self.lat_deg = coordinates[0]\n",
    "            self.lon_deg = coordinates[1]\n",
    "        \n",
    "        if unit == \"radian\":\n",
    "            self.lat_rad = coordinates[0]\n",
    "            self.lon_rad = coordinates[1]\n",
    "\n",
    "    @property\n",
    "    def lat_deg(self):\n",
    "        return self._lat_deg\n",
    "    \n",
    "    @lat_deg.setter\n",
    "    def lat_deg(self, value):\n",
    "        CoordinateUtilities.isWithinBound(value, -90, 90,\"Latitude must be between -90 (-pi/2) and 90 (pi/2)\")\n",
    "        self._lat_deg = value\n",
    "        self._lat_rad = CoordinateUtilities.degree_to_radian(value)\n",
    "        \n",
    "    @property\n",
    "    def lon_deg(self):\n",
    "        return self._lon_deg\n",
    "    \n",
    "    @lon_deg.setter\n",
    "    def lon_deg(self, value):\n",
    "        CoordinateUtilities.isWithinBound(value, -180, 180,\"Longitude must be between -180 (-pi) and 180 (pi)\")\n",
    "        self._lon_deg = value\n",
    "        self._lon_rad = CoordinateUtilities.degree_to_radian(value)\n",
    "        \n",
    "    @property\n",
    "    def lat_rad(self):\n",
    "        return self._lat_rad\n",
    "    \n",
    "    @lat_rad.setter\n",
    "    def lat_rad(self, value):\n",
    "        CoordinateUtilities.isWithinBound(value, -math.pi/2, math.pi/2,\"Latitude must be between -90 (-pi/2) and 90 (pi/2)\")\n",
    "        self._lat_rad = value\n",
    "        self._lat_deg = CoordinateUtilities.radian_to_degree(value)\n",
    "        \n",
    "    @property\n",
    "    def lon_rad(self):\n",
    "        return self._lon_rad\n",
    "    \n",
    "    @lon_rad.setter\n",
    "    def lon_rad(self, value):\n",
    "        CoordinateUtilities.isWithinBound(value, -math.pi, math.pi, \"Longitude must be between -180 (-pi) and 180 (pi)\")\n",
    "        self._lon_rad = value\n",
    "        self._lon_deg = CoordinateUtilities.radian_to_degree(value)\n",
    "        \n",
    "    def __str__(self):\n",
    "        return f\"({self.lat_deg}, {self.lon_deg})\"\n",
    "    \n",
    "    def __getitem__(self, idx):\n",
    "        if idx == 0:\n",
    "            return self._lon_deg\n",
    "        \n",
    "        if idx == 1:\n",
    "            return self._lat_deg\n",
    "        \n",
    "        raise IndexError(\"Wow, you are requesting dimensions that I don't know of.\")"
   ]
  },
  {
   "cell_type": "markdown",
   "metadata": {},
   "source": [
    "You guessed it right, we did use another magic function, i.e. ```__getitem__```.\n",
    "Let's try it:"
   ]
  },
  {
   "cell_type": "code",
   "execution_count": 34,
   "metadata": {},
   "outputs": [
    {
     "name": "stdout",
     "output_type": "stream",
     "text": [
      "NCAR Coordinate: (39.977973, -105.274709)\n",
      "NCAR Latitude in Degree is: 39.977973\n",
      "NCAR Longitude in Degree is: -105.274709\n"
     ]
    }
   ],
   "source": [
    "coord = GeoPoint((39.977973, -105.274709))\n",
    "print(\"NCAR Coordinate:\", coord)\n",
    "print(\"NCAR Latitude in Degree is:\", coord[1])\n",
    "print(\"NCAR Longitude in Degree is:\", coord[0])"
   ]
  },
  {
   "cell_type": "markdown",
   "metadata": {},
   "source": [
    "BTW, Did you noticed that 0 is longitude, and 1 is latitude?\n",
    "\n",
    "Now, how do I set the coordinates using something like the following:\n",
    "\n",
    "```Python\n",
    "myPoint[0] = -103.000\n",
    "```\n",
    "\n",
    "I let you do it yourself. But one hint, to get an item by index the magic function was ```__getitem__```, to set an item by index, ........, you guessed it right, we use ```__setitem__```. Click [here](https://docs.python.org/3/reference/datamodel.html#object.__setitem__) for more info on it."
   ]
  },
  {
   "cell_type": "markdown",
   "metadata": {},
   "source": [
    "<a id = \"AddingHaversine\"></a>\n",
    "### Adding Haversine\n",
    "Now let's add our haversine distance function:"
   ]
  },
  {
   "cell_type": "code",
   "execution_count": 35,
   "metadata": {},
   "outputs": [],
   "source": [
    "class GeoPoint:\n",
    "    def __init__(self, coordinates = (0.0, 0.0), unit = \"degree\"):\n",
    "        if not isinstance(coordinates, tuple) or \\\n",
    "            not all(map(lambda e: isinstance(e, (int, float)), coordinates)):\n",
    "            raise TypeError(\"coordinates must be a tuple of integers or floating points\")\n",
    "        \n",
    "        if len(coordinates)!=2:\n",
    "            raise IndexError(\"There should be two numbers in the coordinates. \"\n",
    "                             \"The first one is latitude, the second one is longitude\")\n",
    "            \n",
    "        if unit == \"degree\":\n",
    "            self.lat_deg = coordinates[0]\n",
    "            self.lon_deg = coordinates[1]\n",
    "        \n",
    "        if unit == \"radian\":\n",
    "            self.lat_rad = coordinates[0]\n",
    "            self.lon_rad = coordinates[1]\n",
    "\n",
    "    @property\n",
    "    def lat_deg(self):\n",
    "        return self._lat_deg\n",
    "    \n",
    "    @lat_deg.setter\n",
    "    def lat_deg(self, value):\n",
    "        CoordinateUtilities.isWithinBound(value, -90, 90,\"Latitude must be between -90 (-pi/2) and 90 (pi/2)\")\n",
    "        self._lat_deg = value\n",
    "        self._lat_rad = CoordinateUtilities.degree_to_radian(value)\n",
    "        \n",
    "    @property\n",
    "    def lon_deg(self):\n",
    "        return self._lon_deg\n",
    "    \n",
    "    @lon_deg.setter\n",
    "    def lon_deg(self, value):\n",
    "        CoordinateUtilities.isWithinBound(value, -180, 180,\"Longitude must be between -180 (-pi) and 180 (pi)\")\n",
    "        self._lon_deg = value\n",
    "        self._lon_rad = CoordinateUtilities.degree_to_radian(value)\n",
    "        \n",
    "    @property\n",
    "    def lat_rad(self):\n",
    "        return self._lat_rad\n",
    "    \n",
    "    @lat_rad.setter\n",
    "    def lat_rad(self, value):\n",
    "        CoordinateUtilities.isWithinBound(value, -math.pi/2, math.pi/2,\"Latitude must be between -90 (-pi/2) and 90 (pi/2)\")\n",
    "        self._lat_rad = value\n",
    "        self._lat_deg = CoordinateUtilities.radian_to_degree(value)\n",
    "        \n",
    "    @property\n",
    "    def lon_rad(self):\n",
    "        return self._lon_rad\n",
    "    \n",
    "    @lon_rad.setter\n",
    "    def lon_rad(self, value):\n",
    "        CoordinateUtilities.isWithinBound(value, -math.pi, math.pi, \"Longitude must be between -180 (-pi) and 180 (pi)\")\n",
    "        self._lon_rad = value\n",
    "        self._lon_deg = CoordinateUtilities.radian_to_degree(value)\n",
    "        \n",
    "    def __str__(self):\n",
    "        return f\"({self.lat_deg}, {self.lon_deg})\"\n",
    "    \n",
    "    def haversine_distance_to(self, toPoint: GeoPoint, radius = 6378137.0):\n",
    "        deltaTheta = toPoint._lat_rad - self._lat_rad\n",
    "        deltaLambda = toPoint._lon_rad - self._lon_rad\n",
    "        a = math.sin(deltaTheta/2)*math.sin(deltaTheta/2)+math.cos(self._lat_rad)*math.cos(toPoint._lat_rad)*math.sin(deltaLambda/2)*math.sin(deltaLambda/2)\n",
    "        distance = 2*math.atan2(math.sqrt(a),math.sqrt(1-a))\n",
    "        return distance * radius"
   ]
  },
  {
   "cell_type": "markdown",
   "metadata": {},
   "source": [
    "Let's try it:"
   ]
  },
  {
   "cell_type": "code",
   "execution_count": 36,
   "metadata": {},
   "outputs": [
    {
     "name": "stdout",
     "output_type": "stream",
     "text": [
      "   start: (0.0, 0.0)\n",
      "     end: (0.0, 180.0)\n",
      "distance: 20037508.342789244\n"
     ]
    }
   ],
   "source": [
    "startPoint = GeoPoint()\n",
    "print(\"   start:\", startPoint)\n",
    "endPoint = GeoPoint((0.0, 180.0))\n",
    "print(\"     end:\", endPoint)\n",
    "distance = startPoint.haversine_distance_to(endPoint)\n",
    "print(\"distance:\", distance)"
   ]
  },
  {
   "cell_type": "code",
   "execution_count": 37,
   "metadata": {},
   "outputs": [
    {
     "name": "stdout",
     "output_type": "stream",
     "text": [
      "\n",
      "Another Example:\n",
      "distance: 7096.496261432745\n"
     ]
    }
   ],
   "source": [
    "print(\"\\nAnother Example:\")\n",
    "NCAR_ML = GeoPoint((39.977973, -105.274709))\n",
    "NCAR_FL = GeoPoint((40.036626, -105.242103))\n",
    "print(\"distance:\", NCAR_ML.haversine_distance_to(NCAR_FL))"
   ]
  },
  {
   "cell_type": "markdown",
   "metadata": {},
   "source": [
    "<a id = \"AddingInverseVincenty\"></a>\n",
    "### Adding Inverse Cinventy:\n",
    "Now Let's add the geo-distance:"
   ]
  },
  {
   "cell_type": "code",
   "execution_count": 38,
   "metadata": {},
   "outputs": [],
   "source": [
    "class GeoPoint:\n",
    "    def __init__(self, coordinates = (0.0, 0.0), unit = \"degree\"):\n",
    "        if not isinstance(coordinates, tuple) or \\\n",
    "            not all(map(lambda e: isinstance(e, (int, float)), coordinates)):\n",
    "            raise TypeError(\"coordinates must be a tuple of integers or floating points\")\n",
    "        \n",
    "        if len(coordinates)!=2:\n",
    "            raise IndexError(\"There should be two numbers in the coordinates. \"\n",
    "                             \"The first one is latitude, the second one is longitude\")\n",
    "            \n",
    "        if unit == \"degree\":\n",
    "            self.lat_deg = coordinates[0]\n",
    "            self.lon_deg = coordinates[1]\n",
    "        \n",
    "        if unit == \"radian\":\n",
    "            self.lat_rad = coordinates[0]\n",
    "            self.lon_rad = coordinates[1]\n",
    "\n",
    "    @property\n",
    "    def lat_deg(self):\n",
    "        return self._lat_deg\n",
    "    \n",
    "    @lat_deg.setter\n",
    "    def lat_deg(self, value):\n",
    "        CoordinateUtilities.isWithinBound(value, -90, 90,\"Latitude must be between -90 (-pi/2) and 90 (pi/2)\")\n",
    "        self._lat_deg = value\n",
    "        self._lat_rad = CoordinateUtilities.degree_to_radian(value)\n",
    "        \n",
    "    @property\n",
    "    def lon_deg(self):\n",
    "        return self._lon_deg\n",
    "    \n",
    "    @lon_deg.setter\n",
    "    def lon_deg(self, value):\n",
    "        CoordinateUtilities.isWithinBound(value, -180, 180,\"Longitude must be between -180 (-pi) and 180 (pi)\")\n",
    "        self._lon_deg = value\n",
    "        self._lon_rad = CoordinateUtilities.degree_to_radian(value)\n",
    "        \n",
    "    @property\n",
    "    def lat_rad(self):\n",
    "        return self._lat_rad\n",
    "    \n",
    "    @lat_rad.setter\n",
    "    def lat_rad(self, value):\n",
    "        CoordinateUtilities.isWithinBound(value, -math.pi/2, math.pi/2,\"Latitude must be between -90 (-pi/2) and 90 (pi/2)\")\n",
    "        self._lat_rad = value\n",
    "        self._lat_deg = CoordinateUtilities.radian_to_degree(value)\n",
    "        \n",
    "    @property\n",
    "    def lon_rad(self):\n",
    "        return self._lon_rad\n",
    "    \n",
    "    @lon_rad.setter\n",
    "    def lon_rad(self, value):\n",
    "        CoordinateUtilities.isWithinBound(value, -math.pi, math.pi, \"Longitude must be between -180 (-pi) and 180 (pi)\")\n",
    "        self._lon_rad = value\n",
    "        self._lon_deg = CoordinateUtilities.radian_to_degree(value)\n",
    "        \n",
    "    def __str__(self):\n",
    "        return f\"({self.lat_deg}, {self.lon_deg})\"\n",
    "    \n",
    "    def haversine_distance_to(self, toPoint: GeoPoint, radius = 6378137.0):\n",
    "        deltaTheta = toPoint._lat_rad - self._lat_rad\n",
    "        deltaLambda = toPoint._lon_rad - self._lon_rad\n",
    "        a = math.sin(deltaTheta/2)*math.sin(deltaTheta/2)+math.cos(self._lat_rad)*math.cos(toPoint._lat_rad)*math.sin(deltaLambda/2)*math.sin(deltaLambda/2)\n",
    "        distance = 2*math.atan2(math.sqrt(a),math.sqrt(1-a))\n",
    "        return distance * radius\n",
    "    \n",
    "\n",
    "    def inverse_vincenty_distance_to(self, toPoint, radius = 6378137.0, inverseFlattening = 298.257223563, eps = 1e-12, maxIterations = 1000):\n",
    "        sLat_rad = self.lat_rad\n",
    "        sLon_rad = self.lon_rad\n",
    "        eLat_rad = toPoint.lat_rad\n",
    "        eLon_rad = toPoint.lon_rad\n",
    "\n",
    "\n",
    "        a = radius\n",
    "        f = 1.0 / inverseFlattening\n",
    "        b = (1-f)*a\n",
    "        U1 = math.atan((1-f)*math.tan(sLat_rad))\n",
    "        U2 = math.atan((1-f)*math.tan(eLat_rad))\n",
    "        cosU1 = math.cos(U1)\n",
    "        sinU1 = math.sin(U1)\n",
    "        cosU2 = math.cos(U2)\n",
    "        sinU2 = math.sin(U2)\n",
    "        L = eLon_rad - sLon_rad\n",
    "\n",
    "        Lambda = L\n",
    "        GeoDistance = 0\n",
    "        oldGeoDistance = 2*eps\n",
    "        counter = 0\n",
    "        while (abs(GeoDistance-oldGeoDistance)>eps) and (counter<maxIterations):\n",
    "            oldGeoDistance = GeoDistance\n",
    "            sinDelta = math.sqrt( math.pow(cosU2*math.sin(Lambda),2) + math.pow(cosU1*sinU2-sinU1*cosU2*math.cos(Lambda),2))\n",
    "            cosDelta = sinU1*sinU2+cosU1*cosU2*math.cos(Lambda)\n",
    "            delta = math.atan2(sinDelta,cosDelta)\n",
    "            sinAlpha = (cosU1*cosU2*math.sin(Lambda))/math.sin(delta)\n",
    "            cos2Alpha = 1 - sinAlpha*sinAlpha\n",
    "            cosDeltam = 0\n",
    "            C = 0\n",
    "            if cos2Alpha==0:\n",
    "                cosDeltam = -1.0\n",
    "                C=0.0\n",
    "            else:\n",
    "                cosDeltam = math.cos(delta) - (2*sinU1*sinU2)/ cos2Alpha\n",
    "                C = f/16.0*cos2Alpha*(4.0+f*(4.0-3.0*cos2Alpha))\n",
    "\n",
    "            Lambda = L + (1-C)*f*sinAlpha*(delta+C*math.sin(delta)*(cosDeltam+C*math.cos(delta)*(-1.0+2.0*cosDeltam*cosDeltam)))\n",
    "            counter += 1\n",
    "\n",
    "            u2 = cos2Alpha * (a*a-b*b)/(b*b)\n",
    "            k1 =  (math.sqrt(1+u2)-1)/(math.sqrt(1+u2)+1)\n",
    "            A = (1+0.25*(k1*k1))/(1-k1)\n",
    "            B = k1*(1-(3.0/8.0)*(k1*k1))\n",
    "            cos2Deltam = cosDeltam*cosDeltam\n",
    "            deltaDelta = B * math.sin(delta) * (cosDeltam+0.25*B*(math.cos(delta)*(-1.0+2.0*cos2Deltam)-(B/6.0)*cosDeltam*(-3.0+4.0*math.pow(math.sin(delta),2))*(-3+4*cos2Deltam)))\n",
    "\n",
    "            GeoDistance = b * A * (delta - deltaDelta)\n",
    "        return GeoDistance"
   ]
  },
  {
   "cell_type": "markdown",
   "metadata": {},
   "source": [
    "And now if we try it:"
   ]
  },
  {
   "cell_type": "code",
   "execution_count": 39,
   "metadata": {},
   "outputs": [
    {
     "name": "stdout",
     "output_type": "stream",
     "text": [
      "\n",
      "Another Example:\n",
      "distance (haversine): 7096.496261432745\n",
      "distance (Inverse Vincenty): 7082.64873656769\n"
     ]
    }
   ],
   "source": [
    "print(\"\\nAnother Example:\")\n",
    "NCAR_ML = GeoPoint((39.977973, -105.274709))\n",
    "NCAR_FL = GeoPoint((40.036626, -105.242103))\n",
    "print(\"distance (haversine):\", NCAR_ML.haversine_distance_to(NCAR_FL))\n",
    "print(\"distance (Inverse Vincenty):\", NCAR_ML.inverse_vincenty_distance_to(NCAR_FL))"
   ]
  },
  {
   "cell_type": "markdown",
   "metadata": {},
   "source": [
    "<a id = \"MakingItEvenEasier\"></a>\n",
    "### Making It Even Easier\n",
    "We could even change the definition to make it even easier to use:"
   ]
  },
  {
   "cell_type": "code",
   "execution_count": 40,
   "metadata": {},
   "outputs": [],
   "source": [
    "class GeoPoint:\n",
    "    def __init__(self, coordinates = (0.0, 0.0), unit = \"degree\"):\n",
    "        if not isinstance(coordinates, tuple) or \\\n",
    "            not all(map(lambda e: isinstance(e, (int, float)), coordinates)):\n",
    "            raise TypeError(\"coordinates must be a tuple of integers or floating points\")\n",
    "        \n",
    "        if len(coordinates)!=2:\n",
    "            raise IndexError(\"There should be two numbers in the coordinates. \"\n",
    "                             \"The first one is latitude, the second one is longitude\")\n",
    "            \n",
    "        if unit == \"degree\":\n",
    "            self.lat_deg = coordinates[0]\n",
    "            self.lon_deg = coordinates[1]\n",
    "        \n",
    "        if unit == \"radian\":\n",
    "            self.lat_rad = coordinates[0]\n",
    "            self.lon_rad = coordinates[1]\n",
    "\n",
    "    @property\n",
    "    def lat_deg(self):\n",
    "        return self._lat_deg\n",
    "    \n",
    "    @lat_deg.setter\n",
    "    def lat_deg(self, value):\n",
    "        CoordinateUtilities.isWithinBound(value, -90, 90,\"Latitude must be between -90 (-pi/2) and 90 (pi/2)\")\n",
    "        self._lat_deg = value\n",
    "        self._lat_rad = CoordinateUtilities.degree_to_radian(value)\n",
    "        \n",
    "    @property\n",
    "    def lon_deg(self):\n",
    "        return self._lon_deg\n",
    "    \n",
    "    @lon_deg.setter\n",
    "    def lon_deg(self, value):\n",
    "        CoordinateUtilities.isWithinBound(value, -180, 180,\"Longitude must be between -180 (-pi) and 180 (pi)\")\n",
    "        self._lon_deg = value\n",
    "        self._lon_rad = CoordinateUtilities.degree_to_radian(value)\n",
    "        \n",
    "    @property\n",
    "    def lat_rad(self):\n",
    "        return self._lat_rad\n",
    "    \n",
    "    @lat_rad.setter\n",
    "    def lat_rad(self, value):\n",
    "        CoordinateUtilities.isWithinBound(value, -math.pi/2, math.pi/2,\"Latitude must be between -90 (-pi/2) and 90 (pi/2)\")\n",
    "        self._lat_rad = value\n",
    "        self._lat_deg = CoordinateUtilities.radian_to_degree(value)\n",
    "        \n",
    "    @property\n",
    "    def lon_rad(self):\n",
    "        return self._lon_rad\n",
    "    \n",
    "    @lon_rad.setter\n",
    "    def lon_rad(self, value):\n",
    "        CoordinateUtilities.isWithinBound(value, -math.pi, math.pi, \"Longitude must be between -180 (-pi) and 180 (pi)\")\n",
    "        self._lon_rad = value\n",
    "        self._lon_deg = CoordinateUtilities.radian_to_degree(value)\n",
    "        \n",
    "    def __str__(self):\n",
    "        return f\"({self.lat_deg}, {self.lon_deg})\"\n",
    "    \n",
    "    def haversine_distance_to(self, toPoint: GeoPoint, radius = 6378137.0):\n",
    "        deltaTheta = toPoint._lat_rad - self._lat_rad\n",
    "        deltaLambda = toPoint._lon_rad - self._lon_rad\n",
    "        a = math.sin(deltaTheta/2)*math.sin(deltaTheta/2)+math.cos(self._lat_rad)*math.cos(toPoint._lat_rad)*math.sin(deltaLambda/2)*math.sin(deltaLambda/2)\n",
    "        distance = 2*math.atan2(math.sqrt(a),math.sqrt(1-a))\n",
    "        return distance * radius\n",
    "    \n",
    "\n",
    "    def inverse_vincenty_distance_to(self, toPoint, radius = 6378137.0, inverseFlattening = 298.257223563, eps = 1e-12, maxIterations = 1000):\n",
    "        sLat_rad = self.lat_rad\n",
    "        sLon_rad = self.lon_rad\n",
    "        eLat_rad = toPoint.lat_rad\n",
    "        eLon_rad = toPoint.lon_rad\n",
    "\n",
    "\n",
    "        a = radius\n",
    "        f = 1.0 / inverseFlattening\n",
    "        b = (1-f)*a\n",
    "        U1 = math.atan((1-f)*math.tan(sLat_rad))\n",
    "        U2 = math.atan((1-f)*math.tan(eLat_rad))\n",
    "        cosU1 = math.cos(U1)\n",
    "        sinU1 = math.sin(U1)\n",
    "        cosU2 = math.cos(U2)\n",
    "        sinU2 = math.sin(U2)\n",
    "        L = eLon_rad - sLon_rad\n",
    "\n",
    "        Lambda = L\n",
    "        GeoDistance = 0\n",
    "        oldGeoDistance = 2*eps\n",
    "        counter = 0\n",
    "        while (abs(GeoDistance-oldGeoDistance)>eps) and (counter<maxIterations):\n",
    "            oldGeoDistance = GeoDistance\n",
    "            sinDelta = math.sqrt( math.pow(cosU2*math.sin(Lambda),2) + math.pow(cosU1*sinU2-sinU1*cosU2*math.cos(Lambda),2))\n",
    "            cosDelta = sinU1*sinU2+cosU1*cosU2*math.cos(Lambda)\n",
    "            delta = math.atan2(sinDelta,cosDelta)\n",
    "            sinAlpha = (cosU1*cosU2*math.sin(Lambda))/math.sin(delta)\n",
    "            cos2Alpha = 1 - sinAlpha*sinAlpha\n",
    "            cosDeltam = 0\n",
    "            C = 0\n",
    "            if cos2Alpha==0:\n",
    "                cosDeltam = -1.0\n",
    "                C=0.0\n",
    "            else:\n",
    "                cosDeltam = math.cos(delta) - (2*sinU1*sinU2)/ cos2Alpha\n",
    "                C = f/16.0*cos2Alpha*(4.0+f*(4.0-3.0*cos2Alpha))\n",
    "\n",
    "            Lambda = L + (1-C)*f*sinAlpha*(delta+C*math.sin(delta)*(cosDeltam+C*math.cos(delta)*(-1.0+2.0*cosDeltam*cosDeltam)))\n",
    "            counter += 1\n",
    "\n",
    "            u2 = cos2Alpha * (a*a-b*b)/(b*b)\n",
    "            k1 =  (math.sqrt(1+u2)-1)/(math.sqrt(1+u2)+1)\n",
    "            A = (1+0.25*(k1*k1))/(1-k1)\n",
    "            B = k1*(1-(3.0/8.0)*(k1*k1))\n",
    "            cos2Deltam = cosDeltam*cosDeltam\n",
    "            deltaDelta = B * math.sin(delta) * (cosDeltam+0.25*B*(math.cos(delta)*(-1.0+2.0*cos2Deltam)-(B/6.0)*cosDeltam*(-3.0+4.0*math.pow(math.sin(delta),2))*(-3+4*cos2Deltam)))\n",
    "\n",
    "            GeoDistance = b * A * (delta - deltaDelta)\n",
    "        return GeoDistance\n",
    "    \n",
    "    def distance_to(self, toPoint, method = \"haversine\", **kwargs):\n",
    "        if method == \"haversine\":\n",
    "            radius = kwargs.get(\"radius\", 6378137.0)\n",
    "            return self.haversine_distance_to(toPoint, radius)\n",
    "        \n",
    "        if method == \"inverse_vincenty\":\n",
    "            radius = kwargs.get(\"radius\", 6378137.0)\n",
    "            inverseFlattening = kwargs.get(\"inverseFlattening\", 298.257223563)\n",
    "            eps = kwargs.get(\"eps\", 1e-12)\n",
    "            maxIterations = kwargs.get(\"maxIterations\", 1000)\n",
    "            return self.inverse_vincenty_distance_to(toPoint, radius, inverseFlattening, eps, maxIterations )"
   ]
  },
  {
   "cell_type": "markdown",
   "metadata": {},
   "source": [
    "Now we could try:"
   ]
  },
  {
   "cell_type": "code",
   "execution_count": 41,
   "metadata": {},
   "outputs": [
    {
     "name": "stdout",
     "output_type": "stream",
     "text": [
      "\n",
      "Another Example:\n",
      "distance (haversine): 7096.496261432745\n",
      "distance (Inverse Vincenty): 7082.64873656769\n"
     ]
    }
   ],
   "source": [
    "print(\"\\nAnother Example:\")\n",
    "NCAR_ML = GeoPoint((39.977973, -105.274709))\n",
    "NCAR_FL = GeoPoint((40.036626, -105.242103))\n",
    "print(\"distance (haversine):\", NCAR_ML.distance_to(NCAR_FL))\n",
    "print(\"distance (Inverse Vincenty):\", NCAR_ML.distance_to(NCAR_FL, method = \"inverse_vincenty\"))"
   ]
  },
  {
   "cell_type": "markdown",
   "metadata": {},
   "source": [
    "<a id = \"TimeToRefactor\"></a>\n",
    "### Adding another Distance calculation method - Time To Refactor\n",
    "\n",
    "Let's say now you do indeed want to add a third distance calculation mnethods. You might ask your self, ok, how do I do that? But the question that you need to ask yourself at this time is that, what would you stop you of adding the fourth method? How about the 5th? and so on. Are you going to put all these implementation into your GeoPoint Class definition? What if you want to use the same logic/calculations, in some other part of the codes?\n",
    "\n",
    "These are all signs, that you need to start thinking about refactoring your code. Perhaps changing some of the objects; moving some codes to a new locations, sometimes even to their own library.\n",
    "\n",
    "And you need to do all these, without breaking anyones code. You don't want to make all the people that are using your code angry, right? They might know your home address. How would you assure that the changes you are making to your code, is not going to mess something up. Well, to know more about this, make sure you come to our \"Testing In Python\" session."
   ]
  },
  {
   "cell_type": "markdown",
   "metadata": {},
   "source": [
    "<a id = \"WhereToGo\"></a>\n",
    "# Where To Go\n",
    "we just touched the surface of object oriented programming in Python. There are a lot of other topics such as inheritance, polymorphism, abstract classes, design patterns, etc.\n",
    "\n",
    "For example, we hard coded different way of creating coordinate object into the class. Another approach is to adapt the Factory pattern that assist us in creating coordinate object. One would be responsible for creating coordinate from degree and another from radian.\n",
    "\n",
    "If you are interested to learn more about OOP, there are numerous resources available on-line. Stop by and we could dig deeper into Python OOP."
   ]
  }
 ],
 "metadata": {
  "kernelspec": {
   "display_name": "Python 3",
   "language": "python",
   "name": "python3"
  },
  "language_info": {
   "codemirror_mode": {
    "name": "ipython",
    "version": 3
   },
   "file_extension": ".py",
   "mimetype": "text/x-python",
   "name": "python",
   "nbconvert_exporter": "python",
   "pygments_lexer": "ipython3",
   "version": "3.7.3"
  }
 },
 "nbformat": 4,
 "nbformat_minor": 2
}
