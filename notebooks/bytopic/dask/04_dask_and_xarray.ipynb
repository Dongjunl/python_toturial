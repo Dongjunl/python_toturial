{
 "cells": [
  {
   "cell_type": "markdown",
   "metadata": {},
   "source": [
    "# Dask ❤️ Xarray"
   ]
  },
  {
   "cell_type": "markdown",
   "metadata": {
    "toc": true
   },
   "source": [
    "<h1>Table of Contents<span class=\"tocSkip\"></span></h1>\n",
    "<div class=\"toc\"><ul class=\"toc-item\"><li><span><a href=\"#Dask-❤️-Xarray\" data-toc-modified-id=\"Dask-❤️-Xarray-1\"><span class=\"toc-item-num\">1&nbsp;&nbsp;</span>Dask ❤️ Xarray</a></span><ul class=\"toc-item\"><li><span><a href=\"#Introduction\" data-toc-modified-id=\"Introduction-1.1\"><span class=\"toc-item-num\">1.1&nbsp;&nbsp;</span>Introduction</a></span></li><li><span><a href=\"#AVISO-sea-surface-height-satellite-altimetry-dataset\" data-toc-modified-id=\"AVISO-sea-surface-height-satellite-altimetry-dataset-1.2\"><span class=\"toc-item-num\">1.2&nbsp;&nbsp;</span>AVISO sea-surface height satellite altimetry dataset</a></span></li><li><span><a href=\"#Create-and-Connect-to-Dask-Distributed-Cluster\" data-toc-modified-id=\"Create-and-Connect-to-Dask-Distributed-Cluster-1.3\"><span class=\"toc-item-num\">1.3&nbsp;&nbsp;</span>Create and Connect to Dask Distributed Cluster</a></span></li><li><span><a href=\"#open_mfdataset\" data-toc-modified-id=\"open_mfdataset-1.4\"><span class=\"toc-item-num\">1.4&nbsp;&nbsp;</span><code>open_mfdataset</code></a></span></li><li><span><a href=\"#Plot-an-absolute-dynamic-topography-Snapshot\" data-toc-modified-id=\"Plot-an-absolute-dynamic-topography-Snapshot-1.5\"><span class=\"toc-item-num\">1.5&nbsp;&nbsp;</span>Plot an absolute dynamic topography Snapshot</a></span></li><li><span><a href=\"#Visualize-with-Holoviews-and-Datashader\" data-toc-modified-id=\"Visualize-with-Holoviews-and-Datashader-1.6\"><span class=\"toc-item-num\">1.6&nbsp;&nbsp;</span>Visualize with Holoviews and Datashader</a></span></li><li><span><a href=\"#Compute-annual-temporal-mean\" data-toc-modified-id=\"Compute-annual-temporal-mean-1.7\"><span class=\"toc-item-num\">1.7&nbsp;&nbsp;</span>Compute annual temporal mean</a></span></li><li><span><a href=\"#Visualize-annual-temporal-mean\" data-toc-modified-id=\"Visualize-annual-temporal-mean-1.8\"><span class=\"toc-item-num\">1.8&nbsp;&nbsp;</span>Visualize annual temporal mean</a></span></li><li><span><a href=\"#Compute-latitudinal-variance\" data-toc-modified-id=\"Compute-latitudinal-variance-1.9\"><span class=\"toc-item-num\">1.9&nbsp;&nbsp;</span>Compute latitudinal variance</a></span></li><li><span><a href=\"#Compute-spatial-anomaly\" data-toc-modified-id=\"Compute-spatial-anomaly-1.10\"><span class=\"toc-item-num\">1.10&nbsp;&nbsp;</span>Compute spatial anomaly</a></span></li><li><span><a href=\"#Going-Further\" data-toc-modified-id=\"Going-Further-1.11\"><span class=\"toc-item-num\">1.11&nbsp;&nbsp;</span>Going Further</a></span></li></ul></li></ul></div>"
   ]
  },
  {
   "cell_type": "markdown",
   "metadata": {},
   "source": [
    "This notebook was adapted from [Ryan Abernathey's notebook](https://rabernat.github.io/research_computing/dask-for-parallel-computing-and-big-data.html).\n",
    "\n",
    "## Introduction\n",
    "\n",
    "Xarray can automatically wrap its data in dask arrays. This capability turns xarray into an extremely powerful tool for Big Data earth science.\n",
    "\n",
    "<div class=\"alert alert-block alert-info\">\n",
    "The main theme throughout this notebook is that dask is almost invisible to the user, meaning that you can focus on your science, rather than the details of parallel computing.\n",
    "</div>\n",
    "\n",
    "## AVISO sea-surface height satellite altimetry dataset\n",
    "\n",
    "To see this in action, we will use a subset of a fairly large dataset to analyze. This subset consists of 1 year of daily data from the [AVISO](http://www.aviso.oceanobs.com/en/data/products/index.html) sea-surface height satellite altimetry dataset."
   ]
  },
  {
   "cell_type": "code",
   "execution_count": null,
   "metadata": {},
   "outputs": [],
   "source": [
    "# untar our dataset \n",
    "!mkdir -p ../../../data/aviso_madt && tar -xzf ../../../data/aviso_madt_2015.tar.gz --directory ../../../data/aviso_madt"
   ]
  },
  {
   "cell_type": "code",
   "execution_count": null,
   "metadata": {},
   "outputs": [],
   "source": [
    "# How many files \n",
    "!ls ../../../data/aviso_madt/2015 | wc -l"
   ]
  },
  {
   "cell_type": "markdown",
   "metadata": {},
   "source": [
    "Let's load the first file as a regular xarray dataset."
   ]
  },
  {
   "cell_type": "code",
   "execution_count": null,
   "metadata": {},
   "outputs": [],
   "source": [
    "import warnings\n",
    "warnings.filterwarnings('ignore')\n",
    "import xarray as xr\n",
    "from matplotlib import pyplot as plt\n",
    "%matplotlib inline\n",
    "import hvplot.xarray\n",
    "import numpy as np"
   ]
  },
  {
   "cell_type": "code",
   "execution_count": null,
   "metadata": {},
   "outputs": [],
   "source": [
    "ds_one_day = xr.open_dataset(\"../../../data/aviso_madt/2015/dt_global_allsat_madt_h_20151215_20160610.nc\")\n",
    "ds_one_day"
   ]
  },
  {
   "cell_type": "code",
   "execution_count": null,
   "metadata": {},
   "outputs": [],
   "source": [
    "from distributed.utils import format_bytes"
   ]
  },
  {
   "cell_type": "code",
   "execution_count": null,
   "metadata": {},
   "outputs": [],
   "source": [
    "format_bytes(ds_one_day.nbytes)"
   ]
  },
  {
   "cell_type": "markdown",
   "metadata": {},
   "source": [
    "This one file is about 8 MB. So 365 of them will be nearly 3 GB. If we had downloaded all 25 years of data, it would be 73 GB. This is a good example of \"medium dataset\" described in [overview notebook](./01_overview.ipynb#What-is-%22Big-Data%22?)"
   ]
  },
  {
   "cell_type": "markdown",
   "metadata": {},
   "source": [
    "## Create and Connect to Dask Distributed Cluster"
   ]
  },
  {
   "cell_type": "code",
   "execution_count": null,
   "metadata": {},
   "outputs": [],
   "source": [
    "from dask.distributed import Client, LocalCluster\n",
    "# Setup a local cluster.\n",
    "# By default this sets up 1 worker per core\n",
    "cluster = LocalCluster()\n",
    "client = Client(cluster)\n",
    "cluster"
   ]
  },
  {
   "cell_type": "markdown",
   "metadata": {},
   "source": [
    "☝️ Don't forget to click the link above to view the scheduler dashboard! (you may wish to have both the notebook and dashboard side-by-side)"
   ]
  },
  {
   "cell_type": "markdown",
   "metadata": {},
   "source": [
    "## `open_mfdataset`"
   ]
  },
  {
   "cell_type": "markdown",
   "metadata": {},
   "source": [
    "An incredibly useful function in xarray is `open_mfdataset`."
   ]
  },
  {
   "cell_type": "code",
   "execution_count": null,
   "metadata": {},
   "outputs": [],
   "source": [
    "help(xr.open_mfdataset)"
   ]
  },
  {
   "cell_type": "markdown",
   "metadata": {},
   "source": [
    "Using `open_mfdataset` we can easily open all the netcdf files into one `Dataset` object."
   ]
  },
  {
   "cell_type": "code",
   "execution_count": null,
   "metadata": {},
   "outputs": [],
   "source": [
    "ds = xr.open_mfdataset(\"../../../data/aviso_madt/2015/*.nc\", combine=\"by_coords\")\n",
    "ds"
   ]
  },
  {
   "cell_type": "code",
   "execution_count": null,
   "metadata": {},
   "outputs": [],
   "source": [
    "ssh = ds.adt\n",
    "ssh"
   ]
  },
  {
   "cell_type": "markdown",
   "metadata": {},
   "source": [
    "<div class=\"alert alert-block alert-info\">\n",
    "    Note that the values in our xarray DataArray consists of lazy, chunked, dask arrays. The number of chunks corresponds to the total number of files (365 in our case).\n",
    "</div>"
   ]
  },
  {
   "cell_type": "code",
   "execution_count": null,
   "metadata": {},
   "outputs": [],
   "source": [
    "ssh.data"
   ]
  },
  {
   "cell_type": "markdown",
   "metadata": {},
   "source": [
    "## Plot an absolute dynamic topography Snapshot\n",
    "\n",
    "First we use the standard matplotlib approach."
   ]
  },
  {
   "cell_type": "code",
   "execution_count": null,
   "metadata": {},
   "outputs": [],
   "source": [
    "ssh[0].load().plot(figsize=(15, 8))"
   ]
  },
  {
   "cell_type": "markdown",
   "metadata": {},
   "source": [
    "<div class=\"alert alert-block alert-info\">\n",
    "\n",
    "For this case, using the matplotlib approach is okay. However, if your data is too high-resolution, visualizing with matplotlib can be slow and less efficient.\n",
    "\n",
    "</div>"
   ]
  },
  {
   "cell_type": "markdown",
   "metadata": {},
   "source": [
    "## Visualize with Holoviews and Datashader\n",
    "\n",
    "Here we create an interactive browser for the data that dynamically resamples the image resolution as we zoom in and out."
   ]
  },
  {
   "cell_type": "code",
   "execution_count": null,
   "metadata": {},
   "outputs": [],
   "source": [
    "from holoviews.operation.datashader import regrid"
   ]
  },
  {
   "cell_type": "code",
   "execution_count": null,
   "metadata": {},
   "outputs": [],
   "source": [
    "%output holomap='scrubber' fps=30\n",
    "p1 = ssh.hvplot(x=\"lon\", y=\"lat\", cmap='RdBu_r', dynamic=True, \n",
    "               width=800, height=450, colorbar=True)\n",
    "regrid(p1, precompute=True)"
   ]
  },
  {
   "cell_type": "markdown",
   "metadata": {},
   "source": [
    "## Compute annual temporal mean "
   ]
  },
  {
   "cell_type": "code",
   "execution_count": null,
   "metadata": {},
   "outputs": [],
   "source": [
    "ssh_2015_mean = ssh.mean(dim='time')\n",
    "ssh_2015_mean.load()"
   ]
  },
  {
   "cell_type": "markdown",
   "metadata": {},
   "source": [
    "## Visualize annual temporal mean"
   ]
  },
  {
   "cell_type": "code",
   "execution_count": null,
   "metadata": {},
   "outputs": [],
   "source": [
    "p2 = ssh_2015_mean.hvplot(x=\"lon\", y=\"lat\", cmap='RdBu_r', dynamic=True, \n",
    "               width=800, height=450, colorbar=True)\n",
    "regrid(p2, precompute=True)"
   ]
  },
  {
   "cell_type": "markdown",
   "metadata": {},
   "source": [
    "## Compute latitudinal variance"
   ]
  },
  {
   "cell_type": "code",
   "execution_count": null,
   "metadata": {},
   "outputs": [],
   "source": [
    "ssh_anom = ssh - ssh_2015_mean\n",
    "ssh_variance_lonmean = (ssh_anom**2).mean(dim=('lon', 'time')).load()"
   ]
  },
  {
   "cell_type": "code",
   "execution_count": null,
   "metadata": {},
   "outputs": [],
   "source": [
    "ssh_variance_lonmean.hvplot(width=800, height=450)"
   ]
  },
  {
   "cell_type": "markdown",
   "metadata": {},
   "source": [
    "## Compute spatial anomaly"
   ]
  },
  {
   "cell_type": "code",
   "execution_count": null,
   "metadata": {},
   "outputs": [],
   "source": [
    "weight = np.cos(np.deg2rad(ds.lat))\n",
    "weight /= weight.mean()\n",
    "(ssh_anom * weight).mean(dim=('lon', 'lat')).hvplot(width=800, height=450)"
   ]
  },
  {
   "cell_type": "markdown",
   "metadata": {},
   "source": [
    "## Going Further"
   ]
  },
  {
   "cell_type": "markdown",
   "metadata": {},
   "source": [
    "- [Xarray Documentation](https://xarray.pydata.org/en/stable/)\n",
    "- [Hvplot Documentation](https://hvplot.pyviz.org/user_guide/Gridded_Data.html)"
   ]
  },
  {
   "cell_type": "markdown",
   "metadata": {},
   "source": [
    "<div class=\"alert alert-block alert-success\">\n",
    "  <p>Previous: <a href=\"03_distributed.ipynb\">Distributed</a></p>\n",
    "  <p>Next: <a href=\"05_dask_hpc.ipynb\">Dask + HPC</a></p>\n",
    "</div>"
   ]
  }
 ],
 "metadata": {
  "kernelspec": {
   "display_name": "Python [conda env:python-tutorial]",
   "language": "python",
   "name": "conda-env-python-tutorial-py"
  },
  "language_info": {
   "codemirror_mode": {
    "name": "ipython",
    "version": 3
   },
   "file_extension": ".py",
   "mimetype": "text/x-python",
   "name": "python",
   "nbconvert_exporter": "python",
   "pygments_lexer": "ipython3",
   "version": "3.7.3"
  },
  "toc": {
   "base_numbering": 1,
   "nav_menu": {},
   "number_sections": true,
   "sideBar": true,
   "skip_h1_title": false,
   "title_cell": "Table of Contents",
   "title_sidebar": "Contents",
   "toc_cell": true,
   "toc_position": {},
   "toc_section_display": true,
   "toc_window_display": true
  }
 },
 "nbformat": 4,
 "nbformat_minor": 2
}
