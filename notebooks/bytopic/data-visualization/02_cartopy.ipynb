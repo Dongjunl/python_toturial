{
 "cells": [
  {
   "cell_type": "markdown",
   "metadata": {},
   "source": [
    "# Visualization\n",
    "## CartoPy\n",
    "\n",
    "<div style=\"clear:both\"></div>\n",
    "</div>\n",
    "\n",
    "<hr style=\"height:2px;\">\n",
    "\n",
    "<div style=\"float:right; width:250 px\"><img src=\"http://scitools.org.uk/images/cartopy.png\" alt=\"CartoPy\" style=\"height: 200px;\"></div>\n",
    "\n",
    "\n",
    "*This notebook was modified from one developed by Unidata*"
   ]
  },
  {
   "cell_type": "markdown",
   "metadata": {},
   "source": [
    "## Objectives\n",
    "1. <a href=\"#basicfigure\">Create a basic figure using CartoPy</a>\n",
    "1. <a href=\"#mapfeatures\">Add features to maps</a>\n",
    "1. <a href=\"#plottingdata\">Plot georeferenced data on the figure</a>"
   ]
  },
  {
   "cell_type": "markdown",
   "metadata": {},
   "source": [
    "## Getting Help with Cartopy\n",
    "\n",
    "Here are some important resources for learning more about Cartopy and getting help.\n",
    "\n",
    "- [NCAR Hackathons Data Visualization in Python Guide](https://ncar-hackathons.github.io/visualization)\n",
    "- [Cartopy documentation](https://scitools.org.uk/cartopy/docs/latest/)\n",
    "- [Cartopy questions on StackOverflow](https://stackoverflow.com/questions/tagged/cartopy)\n"
   ]
  },
  {
   "cell_type": "markdown",
   "metadata": {
    "slideshow": {
     "slide_type": "slide"
    }
   },
   "source": [
    "<a name=\"basicfigure\"></a>\n",
    "## 1. Basic CartoPy Plotting"
   ]
  },
  {
   "cell_type": "markdown",
   "metadata": {
    "slideshow": {
     "slide_type": "fragment"
    }
   },
   "source": [
    "- High level API for dealing with maps\n",
    "- CartoPy allows you to plot data on a 2D map.\n",
    "- Support many different map projections\n",
    "- Support for shapefiles from the GIS world"
   ]
  },
  {
   "cell_type": "code",
   "execution_count": null,
   "metadata": {
    "slideshow": {
     "slide_type": "subslide"
    }
   },
   "outputs": [],
   "source": [
    "# Set things up\n",
    "%matplotlib inline\n",
    "\n",
    "# Importing CartoPy\n",
    "import cartopy\n",
    "import cartopy.crs as ccrs\n",
    "import matplotlib.pyplot as plt\n",
    "import numpy as np"
   ]
  },
  {
   "cell_type": "markdown",
   "metadata": {},
   "source": [
    "The simplest plot we can make sets a projection with no parameters. The one below uses the Robinson projection:"
   ]
  },
  {
   "cell_type": "code",
   "execution_count": null,
   "metadata": {
    "scrolled": false,
    "slideshow": {
     "slide_type": "subslide"
    }
   },
   "outputs": [],
   "source": [
    "# Works with matplotlib's built-in transform support.\n",
    "fig = plt.figure(figsize=(10, 4))\n",
    "ax = fig.add_subplot(1, 1, 1, projection=ccrs.Robinson())\n",
    "\n",
    "# Sets the extent to cover the whole globe\n",
    "ax.set_global()\n",
    "\n",
    "# Adds standard background map\n",
    "ax.stock_img()"
   ]
  },
  {
   "cell_type": "markdown",
   "metadata": {},
   "source": [
    "We also have fine-tuned control over the globe used in the projection as well as lots of standard parameters, which depend on individual projections:"
   ]
  },
  {
   "cell_type": "code",
   "execution_count": null,
   "metadata": {},
   "outputs": [],
   "source": [
    "# Set up a globe with a specific radius\n",
    "globe = ccrs.Globe(semimajor_axis=6371000.)\n",
    "\n",
    "# Set up a Lambert Conformal projection\n",
    "proj = ccrs.LambertConformal(standard_parallels=[25.0], globe=globe)\n",
    "\n",
    "fig = plt.figure(figsize=(10, 8))\n",
    "ax = fig.add_subplot(1, 1, 1, projection=proj)\n",
    "\n",
    "# Sets the extent using a lon/lat box\n",
    "ax.set_extent([-130, -60, 20, 55])\n",
    "\n",
    "ax.stock_img()"
   ]
  },
  {
   "cell_type": "markdown",
   "metadata": {},
   "source": [
    "<a href=\"#top\">Top</a>\n",
    "<hr style=\"height:2px;\">"
   ]
  },
  {
   "cell_type": "markdown",
   "metadata": {},
   "source": [
    "<a name=\"mapfeatures\"></a>\n",
    "## 2. Adding feature to CartoPy maps"
   ]
  },
  {
   "cell_type": "markdown",
   "metadata": {},
   "source": [
    "CartoPy provides a couple helper methods for adding maps to the plot:"
   ]
  },
  {
   "cell_type": "code",
   "execution_count": null,
   "metadata": {},
   "outputs": [],
   "source": [
    "fig = plt.figure(figsize=(10, 8))\n",
    "ax = fig.add_subplot(1, 1, 1, projection=ccrs.LambertConformal())\n",
    "\n",
    "ax.stock_img()\n",
    "\n",
    "# Specifies the detail level of the map.\n",
    "# Options are '110m' (default), '50m', and '10m'\n",
    "ax.coastlines(resolution='50m')\n",
    "\n",
    "ax.set_extent([-130, -60, 20, 55])"
   ]
  },
  {
   "cell_type": "markdown",
   "metadata": {
    "slideshow": {
     "slide_type": "slide"
    }
   },
   "source": [
    "Cartopy also has a lot of built-in support for a variety of map features:"
   ]
  },
  {
   "cell_type": "code",
   "execution_count": null,
   "metadata": {
    "slideshow": {
     "slide_type": "fragment"
    }
   },
   "outputs": [],
   "source": [
    "# import cartopy's collection of map features\n",
    "import cartopy.feature as cfeature\n",
    "\n",
    "fig = plt.figure(figsize=(10, 8))\n",
    "ax = fig.add_subplot(1, 1, 1, projection=ccrs.LambertConformal())\n",
    "\n",
    "# Add variety of features\n",
    "ax.add_feature(cfeature.LAND)\n",
    "ax.add_feature(cfeature.OCEAN)\n",
    "ax.add_feature(cfeature.COASTLINE)\n",
    "\n",
    "# Can also supply matplotlib kwargs\n",
    "ax.add_feature(cfeature.BORDERS, linestyle=':')\n",
    "ax.add_feature(cfeature.STATES, linestyle=':')\n",
    "ax.add_feature(cfeature.LAKES, alpha=0.5)\n",
    "ax.add_feature(cfeature.RIVERS, edgecolor='tab:green')\n",
    "\n",
    "ax.set_extent([-130, -60, 20, 55])"
   ]
  },
  {
   "cell_type": "markdown",
   "metadata": {},
   "source": [
    "The map features are available at several different scales depending on how large the area you are covering is. The scales can be accessed using the `with_scale` method. Natural Earth features are available at 110m, 50m and 10m."
   ]
  },
  {
   "cell_type": "code",
   "execution_count": null,
   "metadata": {},
   "outputs": [],
   "source": [
    "fig = plt.figure(figsize=(10, 8))\n",
    "ax = fig.add_subplot(1, 1, 1, projection=ccrs.LambertConformal())\n",
    "\n",
    "# Add variety of features\n",
    "ax.add_feature(cfeature.LAND)\n",
    "ax.add_feature(cfeature.OCEAN)\n",
    "ax.add_feature(cfeature.COASTLINE)\n",
    "\n",
    "# Can also supply matplotlib kwargs\n",
    "ax.add_feature(cfeature.BORDERS.with_scale('50m'), linestyle=':')\n",
    "ax.add_feature(cfeature.STATES.with_scale('50m'), linestyle=':')\n",
    "ax.add_feature(cfeature.LAKES.with_scale('50m'), alpha=0.5)\n",
    "ax.add_feature(cfeature.RIVERS.with_scale('50m'), edgecolor='tab:green')\n",
    "\n",
    "ax.set_extent([-130, -60, 20, 55])"
   ]
  },
  {
   "cell_type": "markdown",
   "metadata": {},
   "source": [
    "<a href=\"#top\">Top</a>\n",
    "<hr style=\"height:2px;\">"
   ]
  },
  {
   "cell_type": "markdown",
   "metadata": {},
   "source": [
    "<a name=\"plottingdata\"></a>\n",
    "## 3. Plotting Data"
   ]
  },
  {
   "cell_type": "markdown",
   "metadata": {},
   "source": [
    "Load a dataset of dissolved oxygen concentration in the thermocline (400-600 m depth)."
   ]
  },
  {
   "cell_type": "code",
   "execution_count": null,
   "metadata": {},
   "outputs": [],
   "source": [
    "import xarray as xr\n",
    "ds = xr.open_dataset('../../../data/woa2013v2-O2-thermocline-ann.nc')\n",
    "ds"
   ]
  },
  {
   "cell_type": "markdown",
   "metadata": {
    "slideshow": {
     "slide_type": "slide"
    }
   },
   "source": [
    "### Use `xarray`'s hooks to `matplotlib` to create a quick-look plot"
   ]
  },
  {
   "cell_type": "code",
   "execution_count": null,
   "metadata": {},
   "outputs": [],
   "source": [
    "ds.O2.plot();"
   ]
  },
  {
   "cell_type": "markdown",
   "metadata": {
    "slideshow": {
     "slide_type": "slide"
    }
   },
   "source": [
    "### Colormap normalization\n",
    "\n",
    "- Matplotlib includes several [colormaps](https://matplotlib.org/3.1.0/tutorials/colors/colormaps.html).\n",
    "- Objects that use colormaps by default linearly map the colors in the colormap from data values vmin to vmax.\n",
    "- [Colormap normalization](https://matplotlib.org/3.1.0/tutorials/colors/colormapnorms.html) provides a means of manipulating the mapping. \n",
    "\n",
    "For instance:"
   ]
  },
  {
   "cell_type": "code",
   "execution_count": null,
   "metadata": {},
   "outputs": [],
   "source": [
    "import matplotlib.colors as colors\n",
    "norm = colors.Normalize(vmin=-1, vmax=1.)\n",
    "norm(0.)"
   ]
  },
  {
   "cell_type": "markdown",
   "metadata": {
    "slideshow": {
     "slide_type": "fragment"
    }
   },
   "source": [
    "We can map data to colormaps in a non-linear fashion using other normalizations, for example:"
   ]
  },
  {
   "cell_type": "code",
   "execution_count": null,
   "metadata": {},
   "outputs": [],
   "source": [
    "norm = colors.LogNorm(vmin=1e-2, vmax=1e2)\n",
    "np.array(norm([0.1, 1., 10., 100.]))"
   ]
  },
  {
   "cell_type": "markdown",
   "metadata": {
    "slideshow": {
     "slide_type": "slide"
    }
   },
   "source": [
    "### ...back to oxygen\n",
    "Set contour levels to non-uniform intervals and make the colormap centered at the hypoxic threshold using `DivergingNorm`."
   ]
  },
  {
   "cell_type": "code",
   "execution_count": null,
   "metadata": {},
   "outputs": [],
   "source": [
    "levels = [0, 10, 20,  30, 40, 50, 60, 80, 100, 125, 150, 175, 200, 225, \n",
    "          250, 275, 300]\n",
    "\n",
    "norm = colors.DivergingNorm(vmin=levels[0], vmax=levels[-1], vcenter=60.)"
   ]
  },
  {
   "cell_type": "markdown",
   "metadata": {},
   "source": [
    "Add a cyclic point to accomodate the periodic domain."
   ]
  },
  {
   "cell_type": "code",
   "execution_count": null,
   "metadata": {},
   "outputs": [],
   "source": [
    "from cartopy.util import add_cyclic_point\n",
    "field, lon = add_cyclic_point(ds.O2, coord=ds.lon)\n",
    "lat = ds.lat"
   ]
  },
  {
   "cell_type": "markdown",
   "metadata": {
    "slideshow": {
     "slide_type": "slide"
    }
   },
   "source": [
    "### Putting it all together..."
   ]
  },
  {
   "cell_type": "code",
   "execution_count": null,
   "metadata": {},
   "outputs": [],
   "source": [
    "fig = plt.figure(figsize=(12, 8))\n",
    "ax = fig.add_subplot(1, 1, 1, projection=ccrs.Robinson(central_longitude=305.0))\n",
    "\n",
    "# filled contours\n",
    "cf = ax.contourf(lon, lat, field, levels=levels, norm=norm, cmap='RdBu',\n",
    "                 transform=ccrs.PlateCarree());\n",
    "\n",
    "# contour lines\n",
    "cs = ax.contour(lon, lat, field, colors='k', levels=levels, linewidths=0.5,\n",
    "                transform=ccrs.PlateCarree())\n",
    "\n",
    "# add contour labels\n",
    "lb = plt.clabel(cs, fontsize=6, inline=True, fmt='%r');\n",
    "\n",
    "# land\n",
    "land = ax.add_feature(\n",
    "    cartopy.feature.NaturalEarthFeature('physical','land','110m', facecolor='black'))\n",
    "\n",
    "# colorbar and labels\n",
    "cb = plt.colorbar(cf, shrink=0.5)\n",
    "cb.ax.set_title('mmol m$^{-3}$')\n",
    "ax.set_title('Thermocline dissolve oxygen');"
   ]
  },
  {
   "cell_type": "markdown",
   "metadata": {},
   "source": [
    "### Exercise\n",
    "* Create a map, on a Robinson Projection of the Jan 2016 SST field from the dataset loaded below.\n",
    "* Add colored and labled contours using a linear colormap. Pick a [colormap](https://matplotlib.org/3.1.0/tutorials/colors/colormaps.html) that works well for SST."
   ]
  },
  {
   "cell_type": "code",
   "execution_count": null,
   "metadata": {},
   "outputs": [],
   "source": [
    "ds = xr.open_dataset('../../datasets/sst/NOAA_NCDC_ERSST_v3b_SST-2016.nc')\n",
    "ds"
   ]
  },
  {
   "cell_type": "markdown",
   "metadata": {},
   "source": [
    "Here's a quick look plot:"
   ]
  },
  {
   "cell_type": "code",
   "execution_count": null,
   "metadata": {},
   "outputs": [],
   "source": [
    "ds.sst.sel(time='2016-01').plot(vmin=-2, vmax=32)"
   ]
  },
  {
   "cell_type": "code",
   "execution_count": null,
   "metadata": {},
   "outputs": [],
   "source": [
    "# YOUR CODE GOES HERE"
   ]
  },
  {
   "cell_type": "markdown",
   "metadata": {},
   "source": [
    "#### Solution"
   ]
  },
  {
   "cell_type": "code",
   "execution_count": null,
   "metadata": {},
   "outputs": [],
   "source": [
    "# %load solutions/map.py"
   ]
  },
  {
   "cell_type": "markdown",
   "metadata": {},
   "source": [
    "<a href=\"#top\">Top</a>\n",
    "<hr style=\"height:2px;\">"
   ]
  },
  {
   "cell_type": "markdown",
   "metadata": {},
   "source": [
    "<div class=\"alert alert-block alert-success\">\n",
    "   <p>Previous: <a href=\"01_matplotlib.ipynb\">Matplotlib</a></p>\n",
    "</div>"
   ]
  },
  {
   "cell_type": "code",
   "execution_count": null,
   "metadata": {},
   "outputs": [],
   "source": []
  }
 ],
 "metadata": {
  "kernelspec": {
   "display_name": "Python 3",
   "language": "python",
   "name": "python3"
  },
  "language_info": {
   "codemirror_mode": {
    "name": "ipython",
    "version": 3
   },
   "file_extension": ".py",
   "mimetype": "text/x-python",
   "name": "python",
   "nbconvert_exporter": "python",
   "pygments_lexer": "ipython3",
   "version": "3.7.1"
  }
 },
 "nbformat": 4,
 "nbformat_minor": 2
}
