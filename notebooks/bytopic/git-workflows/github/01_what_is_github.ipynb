{
 "cells": [
  {
   "cell_type": "markdown",
   "metadata": {},
   "source": [
    "![](../images/github-logo.png)\n",
    "# What is GitHub?"
   ]
  },
  {
   "cell_type": "markdown",
   "metadata": {
    "toc": true
   },
   "source": [
    "<h1>Table of Contents<span class=\"tocSkip\"></span></h1>\n",
    "<div class=\"toc\"><ul class=\"toc-item\"><li><span><a href=\"#What-is-GitHub?\" data-toc-modified-id=\"What-is-GitHub?-1\"><span class=\"toc-item-num\">1&nbsp;&nbsp;</span>What is GitHub?</a></span></li></ul></div>"
   ]
  },
  {
   "cell_type": "markdown",
   "metadata": {},
   "source": [
    "While Git is a _distributed_ Version Control System (VCS), there is nothing to prevent you from having a _central_ server to host your \"blessed\" Git repository.  That is essentially what GitHub is: a hosting platform for your Git repositories.\n",
    "\n",
    "Repositories on GitHub are _bare_ repositories (see last section) where branches and commits can not be checked out, but they can be cloned _ad infinitum_.  Also, users with the correct priviledges can _push_ their changes directly to GitHub repositories.\n",
    "\n",
    "But GitHub is a lot more than that!\n",
    "\n",
    "GitHub can\n",
    "\n",
    "- help you track issues,\n",
    "- provide a framework for \"Pull Requests\",\n",
    "- help you conduct code reviews,\n",
    "- help organize your project work,\n",
    "- host a website for you (github.io),\n",
    "- and much more.\n",
    "\n",
    "We can't go into all of this, but we'll take a look at the basics to get you started."
   ]
  },
  {
   "cell_type": "markdown",
   "metadata": {},
   "source": [
    "You can read up on more of what GitHub can do [here](https://guides.github.com/)."
   ]
  },
  {
   "cell_type": "markdown",
   "metadata": {},
   "source": [
    "<div class=\"alert alert-block alert-success\">\n",
    "  <p>Previous: <a href=\"../git/05_clones\">Clones</a></p>\n",
    "  <p>Next: <a href=\"02_getting_started_with_github.ipynb\">Getting Started With GitHub</a></p>\n",
    "</div>"
   ]
  }
 ],
 "metadata": {
  "kernelspec": {
   "display_name": "Python 3",
   "language": "python",
   "name": "python3"
  },
  "language_info": {
   "codemirror_mode": {
    "name": "ipython",
    "version": 3
   },
   "file_extension": ".py",
   "mimetype": "text/x-python",
   "name": "python",
   "nbconvert_exporter": "python",
   "pygments_lexer": "ipython3",
   "version": "3.7.3"
  },
  "toc": {
   "base_numbering": 1,
   "nav_menu": {},
   "number_sections": true,
   "sideBar": true,
   "skip_h1_title": false,
   "title_cell": "Table of Contents",
   "title_sidebar": "Contents",
   "toc_cell": true,
   "toc_position": {},
   "toc_section_display": true,
   "toc_window_display": true
  }
 },
 "nbformat": 4,
 "nbformat_minor": 2
}
