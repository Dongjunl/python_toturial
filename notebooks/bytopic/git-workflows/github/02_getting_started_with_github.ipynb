{
 "cells": [
  {
   "cell_type": "markdown",
   "metadata": {},
   "source": [
    "![](../images/github-logo.png)\n",
    "# Getting Started with GitHub"
   ]
  },
  {
   "cell_type": "markdown",
   "metadata": {
    "toc": true
   },
   "source": [
    "<h1>Table of Contents<span class=\"tocSkip\"></span></h1>\n",
    "<div class=\"toc\"><ul class=\"toc-item\"><li><span><a href=\"#Getting-Started-with-GitHub\" data-toc-modified-id=\"Getting-Started-with-GitHub-1\"><span class=\"toc-item-num\">1&nbsp;&nbsp;</span>Getting Started with GitHub</a></span></li></ul></div>"
   ]
  },
  {
   "cell_type": "markdown",
   "metadata": {},
   "source": [
    "The first thing you will need is a GitHub account.  If you don't already have one, go to [github.com](https://github.com)."
   ]
  },
  {
   "cell_type": "markdown",
   "metadata": {},
   "source": [
    "Next, you need to make sure that the email address you have associate with your Git installation (i.e., `git config`) is the same as the email address associated with your GitHub account.  _This is how GitHub knows it is you!_"
   ]
  },
  {
   "cell_type": "code",
   "execution_count": null,
   "metadata": {},
   "outputs": [],
   "source": [
    "git config --global --get user.email"
   ]
  },
  {
   "cell_type": "markdown",
   "metadata": {},
   "source": [
    "If the previous cell doesn't return an email address that matches the email address you used for your GitHub account, then you should change it with the following line:\n",
    "\n",
    "```bash\n",
    "git config --global user.email you@domain.example.com\n",
    "```"
   ]
  },
  {
   "cell_type": "code",
   "execution_count": null,
   "metadata": {},
   "outputs": [],
   "source": []
  },
  {
   "cell_type": "markdown",
   "metadata": {},
   "source": [
    "And that's about all you need to do to get started with GitHub.  We'll be going back and forth between the [GitHub website](https://github.com) and wherever you have Git installed for the remainder of this section, so you might want to bring up GitHub in another tab of your browser."
   ]
  },
  {
   "cell_type": "markdown",
   "metadata": {},
   "source": [
    "\n",
    "<div class=\"alert alert-block alert-success\">\n",
    "  <p>Previous: <a href=\"01_what_is_github.ipynb\">What is GitHub?</a></p>\n",
    "  <p>Next: <a href=\"03_repositories.ipynb\">Repositories</a></p>\n",
    "</div>"
   ]
  }
 ],
 "metadata": {
  "kernelspec": {
   "display_name": "Bash",
   "language": "bash",
   "name": "bash"
  },
  "language_info": {
   "codemirror_mode": "shell",
   "file_extension": ".sh",
   "mimetype": "text/x-sh",
   "name": "bash"
  },
  "toc": {
   "base_numbering": 1,
   "nav_menu": {},
   "number_sections": true,
   "sideBar": true,
   "skip_h1_title": false,
   "title_cell": "Table of Contents",
   "title_sidebar": "Contents",
   "toc_cell": true,
   "toc_position": {},
   "toc_section_display": true,
   "toc_window_display": true
  }
 },
 "nbformat": 4,
 "nbformat_minor": 2
}
