{
 "cells": [
  {
   "cell_type": "markdown",
   "metadata": {},
   "source": [
    "![](../images/github-logo.png)\n",
    "# Forks & Pull Requests"
   ]
  },
  {
   "cell_type": "markdown",
   "metadata": {
    "toc": true
   },
   "source": [
    "<h1>Table of Contents<span class=\"tocSkip\"></span></h1>\n",
    "<div class=\"toc\"><ul class=\"toc-item\"><li><span><a href=\"#Forks-&amp;-Pull-Requests\" data-toc-modified-id=\"Forks-&amp;-Pull-Requests-1\"><span class=\"toc-item-num\">1&nbsp;&nbsp;</span>Forks &amp; Pull Requests</a></span><ul class=\"toc-item\"><li><span><a href=\"#Learning-Objectives\" data-toc-modified-id=\"Learning-Objectives-1.1\"><span class=\"toc-item-num\">1.1&nbsp;&nbsp;</span>Learning Objectives</a></span></li><li><span><a href=\"#Forks\" data-toc-modified-id=\"Forks-1.2\"><span class=\"toc-item-num\">1.2&nbsp;&nbsp;</span>Forks</a></span><ul class=\"toc-item\"><li><span><a href=\"#Step-1\" data-toc-modified-id=\"Step-1-1.2.1\"><span class=\"toc-item-num\">1.2.1&nbsp;&nbsp;</span>Step 1</a></span></li><li><span><a href=\"#Step-2\" data-toc-modified-id=\"Step-2-1.2.2\"><span class=\"toc-item-num\">1.2.2&nbsp;&nbsp;</span>Step 2</a></span></li></ul></li><li><span><a href=\"#Pull-Requests\" data-toc-modified-id=\"Pull-Requests-1.3\"><span class=\"toc-item-num\">1.3&nbsp;&nbsp;</span>Pull Requests</a></span></li><li><span><a href=\"#Going-Further:\" data-toc-modified-id=\"Going-Further:-1.4\"><span class=\"toc-item-num\">1.4&nbsp;&nbsp;</span>Going Further:</a></span></li></ul></li></ul></div>"
   ]
  },
  {
   "cell_type": "markdown",
   "metadata": {},
   "source": [
    "## Learning Objectives"
   ]
  },
  {
   "cell_type": "markdown",
   "metadata": {},
   "source": [
    "- Learn how to fork a GitHub repository\n",
    "- Learn how to create a pull request"
   ]
  },
  {
   "cell_type": "markdown",
   "metadata": {},
   "source": [
    "## Forks"
   ]
  },
  {
   "cell_type": "markdown",
   "metadata": {},
   "source": [
    "\"Forks\" are just clones hosted on GitHub, essentially.\n",
    "\n",
    "We have described the \"branch-merge\" technique already (in the Git section) for keeping multiple contributors from stomping on each other's work.  That technique works very well when everyone who is contributing has permissions to contribute to the repository.  However, for any number of reasons, constantly adding users as \"contributors\" (i.e., giving them permissions to write to the repository) may not be the most desirable thing to do.\n",
    "\n",
    "The main reason for this is that all users who have _write_ permissions to the repository can directly push their changes to the repository.  And, as a good practice, all new changes to a repository should be _vetted_ (i.e., reviewed) by a trusted contributor.  You can do this with branches and merges using GitHub's \"Pull Request\" capability, but even then a full-fledged contributor can just merge their changes without review.  (Though you can set up your repository settings to require at least 1 reviewer before code is merged.  We won't go into that detail here.)\n",
    "\n",
    "Another reason for this is because maintaining an up-to-date list of contributors to your code can be annoying.\n",
    "\n",
    "And a third reason is because _you don't have to_!\n",
    "\n",
    "Why?  Because of the \"Fork\" / \"Pull Request\" mechanism in GitHub."
   ]
  },
  {
   "cell_type": "markdown",
   "metadata": {},
   "source": [
    "### Step 1\n",
    "\n",
    "Let's create our first fork by heading to this repository:\n",
    "\n",
    "   [https://github.com/ncar-hackathons/forkme](https://github.com/ncar-hackathons/forkme)\n",
    "\n",
    "And click the \"Fork\" button at the top-right of the page.  Then, select where you want to place your new Fork (your personal space, for example).  Now, you should (after a short while thinking) be on the home page of your new forked repository."
   ]
  },
  {
   "cell_type": "markdown",
   "metadata": {},
   "source": [
    "### Step 2\n",
    "\n",
    "Now, let's use the \"Create new file\" button on the fork repository's home page to create a new file.  Name the file the same as your Cheyenne (or GitHub) username.  Then, write your full name in the newly create file and commit this new file to your fork."
   ]
  },
  {
   "cell_type": "markdown",
   "metadata": {},
   "source": [
    "## Pull Requests\n",
    "\n",
    "Now that you have added a change to your fork, you can _request_ that the owners of the original repository accept your new changes by clicking on the \"New pull request\" button.\n",
    "\n",
    "You should see a page like this:\n",
    "\n",
    "---\n",
    "![github_prs](../images/github_prs.png)\n",
    "\n",
    "---\n",
    "\n",
    "Below the \"Comparing changes\" title, you can see that we are going to request that the `master` branch of our fork (`username/forkme`) be merged into the `master` branch of the main repository (`ncar-hackathons/forkme`).  Click the \"Create pull request\" button to actually put in the request.  (You will need to generate a title for this pull request, and possibly a description of what you are proposing, and then click \"Create pull request\" again.)\n",
    "\n",
    "Notice that after doing this, we are now at the main repository's \"Pull Requests\" page for the pull request that we just created.  There are a lot of things you can do here, such as click the \"Files changed\" tab to see what changes are actually going to be merged in (if this PR is accepted).  Or, in the \"Conversation\" tab, you can have a discussion about the changes that are being proposed.  Anyone with _write_ permissions to the main repository can merge your changes into the repository.  Though, they may ask you to make additional changes for any number of reasons.\n",
    "\n",
    "To do this, all you need to do is make new commits to _your fork_.  As long as the PR exists (and hasn't been merged, yet), any changes you make to your fork will be added (automatically) to your PR.\n",
    "\n",
    "Once you have satisfied all of the requirements of the owner of the main repository, it will (_should_) be merged in.  And then you can delete your fork (just like you delete your merged branch)."
   ]
  },
  {
   "cell_type": "markdown",
   "metadata": {},
   "source": [
    "## Going Further:\n",
    "\n",
    "\n",
    "- Creating a Pull Request from a Fork: https://help.github.com/en/articles/creating-a-pull-request-from-a-fork"
   ]
  },
  {
   "cell_type": "markdown",
   "metadata": {},
   "source": [
    "<div class=\"alert alert-block alert-success\">\n",
    "  <p>Previous: <a href=\"04_clones.ipynb\">Clones</a></p>\n",
    "  <p>Next: <a href=\"06_integrations.ipynb\">Integrations</a></p>\n",
    "</div>"
   ]
  }
 ],
 "metadata": {
  "kernelspec": {
   "display_name": "Bash",
   "language": "bash",
   "name": "bash"
  },
  "language_info": {
   "codemirror_mode": "shell",
   "file_extension": ".sh",
   "mimetype": "text/x-sh",
   "name": "bash"
  },
  "toc": {
   "base_numbering": 1,
   "nav_menu": {},
   "number_sections": true,
   "sideBar": true,
   "skip_h1_title": false,
   "title_cell": "Table of Contents",
   "title_sidebar": "Contents",
   "toc_cell": true,
   "toc_position": {},
   "toc_section_display": true,
   "toc_window_display": true
  }
 },
 "nbformat": 4,
 "nbformat_minor": 2
}
