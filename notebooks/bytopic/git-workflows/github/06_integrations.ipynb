{
 "cells": [
  {
   "cell_type": "markdown",
   "metadata": {},
   "source": [
    "![](../images/github-logo.png)\n",
    "# Integrations"
   ]
  },
  {
   "cell_type": "markdown",
   "metadata": {
    "toc": true
   },
   "source": [
    "<h1>Table of Contents<span class=\"tocSkip\"></span></h1>\n",
    "<div class=\"toc\"><ul class=\"toc-item\"><li><span><a href=\"#Integrations\" data-toc-modified-id=\"Integrations-1\"><span class=\"toc-item-num\">1&nbsp;&nbsp;</span>Integrations</a></span><ul class=\"toc-item\"><li><span><a href=\"#GitHub-Integrations\" data-toc-modified-id=\"GitHub-Integrations-1.1\"><span class=\"toc-item-num\">1.1&nbsp;&nbsp;</span>GitHub Integrations</a></span><ul class=\"toc-item\"><li><span><a href=\"#Continuous-Integration-(CI)\" data-toc-modified-id=\"Continuous-Integration-(CI)-1.1.1\"><span class=\"toc-item-num\">1.1.1&nbsp;&nbsp;</span>Continuous Integration (CI)</a></span></li><li><span><a href=\"#Code-Coverage\" data-toc-modified-id=\"Code-Coverage-1.1.2\"><span class=\"toc-item-num\">1.1.2&nbsp;&nbsp;</span>Code Coverage</a></span></li><li><span><a href=\"#Code-Quality-Checks\" data-toc-modified-id=\"Code-Quality-Checks-1.1.3\"><span class=\"toc-item-num\">1.1.3&nbsp;&nbsp;</span>Code Quality Checks</a></span></li></ul></li><li><span><a href=\"#And-so-much-more...\" data-toc-modified-id=\"And-so-much-more...-1.2\"><span class=\"toc-item-num\">1.2&nbsp;&nbsp;</span>And so much more...</a></span></li><li><span><a href=\"#Going-Further\" data-toc-modified-id=\"Going-Further-1.3\"><span class=\"toc-item-num\">1.3&nbsp;&nbsp;</span>Going Further</a></span></li></ul></li></ul></div>"
   ]
  },
  {
   "cell_type": "markdown",
   "metadata": {},
   "source": [
    "## GitHub Integrations"
   ]
  },
  {
   "cell_type": "markdown",
   "metadata": {},
   "source": [
    "A wonderful feature of GitHub is its ability to integrate with a wide variety of automated processes, such as Continuous Integration and Code Coverage!\n",
    "\n",
    "### Continuous Integration (CI)\n",
    "\n",
    "Continuous Integration (CI) allows you to use a free hosting service to run tests for your project code _automatically, every time a new PR is attempted_.  That means, your test suite will be run \"somewhere on the cloud\", depending on the CI service you use (CircleCI, TravisCI, AppVeyor, etc.).  Each of these CI services has advantages and disadvantages.  For example, AppVeyor will test you code on a Windows or Linux machine (for free).  TravisCI will let you test on Linux, MacOS, and Android (for free).  Obviously, you can pay for additional options.\n",
    "\n",
    "### Code Coverage\n",
    "\n",
    "Code Coverage is a capability that allows you to test what _lines_ of your code are actually tested by your test suite.  It is not perfect, but code coverage allows you get a sense for whether there are any branches in your code that aren't being tested.  Code coverage can identify the actual \"missed\" lines of code, and you can write tests to test that code.\n",
    "\n",
    "### Code Quality Checks\n",
    "\n",
    "There are a number of automated tools that let you check the _quality_ of your code, according to set standards.  This includes things like code formatting standards and other such things.\n",
    "\n",
    "## And so much more...\n",
    "\n",
    "You can look at the [GitHub Marketplace](https://github.com/marketplace) to find integrations that you might be interested in using.  Some integrations may require payment for certain services, while many others provide a _free_ level of service, usually to Open Source (i.e., _public_) GitHub repositories.  (It's good to be open source!)"
   ]
  },
  {
   "cell_type": "markdown",
   "metadata": {},
   "source": [
    "## Going Further\n",
    "\n",
    "- Continuous Integration: https://en.wikipedia.org/wiki/Continuous_integration"
   ]
  },
  {
   "cell_type": "markdown",
   "metadata": {},
   "source": [
    "<div class=\"alert alert-block alert-success\">\n",
    "  <p>Previous: <a href=\"05_forks.ipynb\">Forks</a></p>\n",
    "</div>"
   ]
  }
 ],
 "metadata": {
  "kernelspec": {
   "display_name": "Bash",
   "language": "bash",
   "name": "bash"
  },
  "language_info": {
   "codemirror_mode": "shell",
   "file_extension": ".sh",
   "mimetype": "text/x-sh",
   "name": "bash"
  },
  "toc": {
   "base_numbering": 1,
   "nav_menu": {},
   "number_sections": true,
   "sideBar": true,
   "skip_h1_title": false,
   "title_cell": "Table of Contents",
   "title_sidebar": "Contents",
   "toc_cell": true,
   "toc_position": {},
   "toc_section_display": true,
   "toc_window_display": true
  }
 },
 "nbformat": 4,
 "nbformat_minor": 2
}
