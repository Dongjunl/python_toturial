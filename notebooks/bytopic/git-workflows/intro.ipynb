{
 "cells": [
  {
   "cell_type": "markdown",
   "metadata": {},
   "source": [
    "# Git & GitHub\n",
    "\n",
    "Using a Version Control System (VCS) is one of the most powerful things that you can do\n",
    "as a developer of any level, whether you are a casual developer \"for fun\" or you have to\n",
    "develop for your job or you are a hard-core software engineer.  Version Control Systems\n",
    "can _save your bum_ more than you like, certainly, but they can also be incredible\n",
    "educational tools that help you see how software develops and changes over time.  There\n",
    "is only one reason you should need to _always_ use a VCS for everything you do,\n",
    "whether you are writing a paper for publication, writing a small scripts for seemingly\n",
    "\"one-off\" tasks, or you are a full-fledged software engineer: a VCS will let you backtrack\n",
    "your work when you realize you've made a mistake.  That is, as long as your work is\n",
    "_text-based_ content, VCSes provide you with an \"undo\" button for reverting those mistakes\n",
    "and getting back to a previous version.  _Git_ is one of those VCSes, and if you want\n",
    "to use _GitHub_, it's the VCS you should use.\n",
    "\n",
    "But why GitHub?  The answer is _open source software_ (OSS).\n",
    "\n",
    "GitHub is a _hosting_ platform for your Git _repositories_ (_i.e._, the things that store\n",
    "your version-controlled work).  GitHub is free, as long as your _repositories_ are open\n",
    "and public.  GitHub provides powerful search capabilities so that you can find other\n",
    "people's work on GitHub, and they can find yours.  And that encourages people to _share_\n",
    "their work and ideas, which means that people don't constantly have to re-invent the\n",
    "wheel.  It also encourages collaboration and communication with people working on the\n",
    "same things.  In other words, GitHub enables open source software.  Without something\n",
    "like GitHub, OSS would be severely limited.\n",
    "\n",
    "GitHub goes further than this, though, it also makes working with your Git respositories\n",
    "easier and faster.  It deals with complications in Git that you (might) find annoying, and\n",
    "makes them \"push button.\"\n",
    "\n",
    "Together, Git and GitHub create a powerful platform that allows you take a tiny idea and\n",
    "turn it into a community effort.\n"
   ]
  }
 ],
 "metadata": {
  "kernelspec": {
   "display_name": "Python 3",
   "language": "python",
   "name": "python3"
  },
  "language_info": {
   "codemirror_mode": {
    "name": "ipython",
    "version": 3
   },
   "file_extension": ".py",
   "mimetype": "text/x-python",
   "name": "python",
   "nbconvert_exporter": "python",
   "pygments_lexer": "ipython3",
   "version": "3.7.3"
  },
  "toc": {
   "base_numbering": 1,
   "nav_menu": {},
   "number_sections": true,
   "sideBar": true,
   "skip_h1_title": false,
   "title_cell": "Table of Contents",
   "title_sidebar": "Contents",
   "toc_cell": false,
   "toc_position": {},
   "toc_section_display": true,
   "toc_window_display": false
  }
 },
 "nbformat": 4,
 "nbformat_minor": 2
}
