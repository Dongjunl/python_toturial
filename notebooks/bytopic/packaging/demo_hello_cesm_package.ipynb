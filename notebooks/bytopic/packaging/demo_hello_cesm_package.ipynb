{
 "cells": [
  {
   "cell_type": "markdown",
   "metadata": {
    "toc": true
   },
   "source": [
    "<h1>Table of Contents<span class=\"tocSkip\"></span></h1>\n",
    "<div class=\"toc\"><ul class=\"toc-item\"></ul></div>"
   ]
  },
  {
   "cell_type": "code",
   "execution_count": 1,
   "metadata": {},
   "outputs": [],
   "source": [
    "%matplotlib inline\n",
    "from cesm_package import statistics  # Import modules from our package\n",
    "from cesm_package import climatologies\n",
    "import cesm_package as cp\n",
    "import xarray as xr\n",
    "import numpy as np\n",
    "import pandas as pd"
   ]
  },
  {
   "cell_type": "code",
   "execution_count": 2,
   "metadata": {},
   "outputs": [
    {
     "data": {
      "text/plain": [
       "<xarray.DataArray (x: 2, y: 3, time: 4)>\n",
       "array([[[-1.224647e-16, -2.697968e-01, -5.195840e-01, -7.308360e-01],\n",
       "        [-8.878852e-01, -9.790841e-01, -9.976688e-01, -9.422609e-01],\n",
       "        [-8.169699e-01, -6.310879e-01, -3.984011e-01, -1.361666e-01]],\n",
       "\n",
       "       [[ 1.361666e-01,  3.984011e-01,  6.310879e-01,  8.169699e-01],\n",
       "        [ 9.422609e-01,  9.976688e-01,  9.790841e-01,  8.878852e-01],\n",
       "        [ 7.308360e-01,  5.195840e-01,  2.697968e-01,  1.224647e-16]]])\n",
       "Coordinates:\n",
       "  * x        (x) int64 1 2\n",
       "  * y        (y) int64 -1 -2 -3\n",
       "  * time     (time) datetime64[ns] 2000-01-31 2000-02-29 2000-03-31 2000-04-30"
      ]
     },
     "execution_count": 2,
     "metadata": {},
     "output_type": "execute_result"
    }
   ],
   "source": [
    "x = np.linspace(-np.pi, np.pi, 24).reshape(2, 3, 4)\n",
    "da_f = np.sin(x)\n",
    "\n",
    "xs = [1, 2]\n",
    "ys = [-1, -2, -3]\n",
    "times = pd.date_range(start='2000-01-01', periods=4, freq='M')\n",
    "f = xr.DataArray(da_f, dims=['x', 'y', 'time'], \n",
    "                 coords={'x': xs, 'y': ys, 'time': times})\n",
    "f"
   ]
  },
  {
   "cell_type": "code",
   "execution_count": 3,
   "metadata": {},
   "outputs": [
    {
     "data": {
      "text/plain": [
       "<xarray.DataArray (x: 2, y: 3)>\n",
       "array([[-0.380054, -0.951725, -0.495656],\n",
       "       [ 0.495656,  0.951725,  0.380054]])\n",
       "Coordinates:\n",
       "  * x        (x) int64 1 2\n",
       "  * y        (y) int64 -1 -2 -3"
      ]
     },
     "execution_count": 3,
     "metadata": {},
     "output_type": "execute_result"
    }
   ],
   "source": [
    "mean = statistics.compute_mean(f, dims=['time'])\n",
    "mean"
   ]
  },
  {
   "cell_type": "code",
   "execution_count": 4,
   "metadata": {},
   "outputs": [
    {
     "data": {
      "text/plain": [
       "<matplotlib.collections.QuadMesh at 0x11b5344a8>"
      ]
     },
     "execution_count": 4,
     "metadata": {},
     "output_type": "execute_result"
    },
    {
     "data": {
      "image/png": "[encoded data removed]",
      "text/plain": [
       "<Figure size 432x288 with 2 Axes>"
      ]
     },
     "metadata": {
      "needs_background": "light"
     },
     "output_type": "display_data"
    }
   ],
   "source": [
    "mean.plot()"
   ]
  },
  {
   "cell_type": "code",
   "execution_count": 5,
   "metadata": {},
   "outputs": [],
   "source": [
    "clim = climatologies.compute_seasonal_climatology(f)"
   ]
  },
  {
   "cell_type": "code",
   "execution_count": 6,
   "metadata": {},
   "outputs": [
    {
     "data": {
      "text/plain": [
       "<xarray.DataArray (x: 2, y: 3, season: 2)>\n",
       "array([[[-0.134898, -0.62521 ],\n",
       "        [-0.933485, -0.969965],\n",
       "        [-0.724029, -0.267284]],\n",
       "\n",
       "       [[ 0.267284,  0.724029],\n",
       "        [ 0.969965,  0.933485],\n",
       "        [ 0.62521 ,  0.134898]]])\n",
       "Coordinates:\n",
       "  * x        (x) int64 1 2\n",
       "  * y        (y) int64 -1 -2 -3\n",
       "  * season   (season) object 'DJF' 'MAM'"
      ]
     },
     "execution_count": 6,
     "metadata": {},
     "output_type": "execute_result"
    }
   ],
   "source": [
    "clim"
   ]
  },
  {
   "cell_type": "code",
   "execution_count": 7,
   "metadata": {},
   "outputs": [
    {
     "data": {
      "text/plain": [
       "<matplotlib.collections.QuadMesh at 0x11b5cabe0>"
      ]
     },
     "execution_count": 7,
     "metadata": {},
     "output_type": "execute_result"
    },
    {
     "data": {
      "image/png": "[encoded data removed]",
      "text/plain": [
       "<Figure size 432x288 with 2 Axes>"
      ]
     },
     "metadata": {
      "needs_background": "light"
     },
     "output_type": "display_data"
    }
   ],
   "source": [
    "clim.sel(season='DJF').plot()"
   ]
  },
  {
   "cell_type": "code",
   "execution_count": 8,
   "metadata": {},
   "outputs": [
    {
     "data": {
      "text/plain": [
       "'0.1'"
      ]
     },
     "execution_count": 8,
     "metadata": {},
     "output_type": "execute_result"
    }
   ],
   "source": [
    "cp.__version__"
   ]
  }
 ],
 "metadata": {
  "kernelspec": {
   "display_name": "Python 3",
   "language": "python",
   "name": "python3"
  },
  "language_info": {
   "codemirror_mode": {
    "name": "ipython",
    "version": 3
   },
   "file_extension": ".py",
   "mimetype": "text/x-python",
   "name": "python",
   "nbconvert_exporter": "python",
   "pygments_lexer": "ipython3",
   "version": "3.7.3"
  },
  "toc": {
   "base_numbering": 1,
   "nav_menu": {},
   "number_sections": true,
   "sideBar": true,
   "skip_h1_title": false,
   "title_cell": "Table of Contents",
   "title_sidebar": "Contents",
   "toc_cell": true,
   "toc_position": {},
   "toc_section_display": true,
   "toc_window_display": true
  }
 },
 "nbformat": 4,
 "nbformat_minor": 2
}
