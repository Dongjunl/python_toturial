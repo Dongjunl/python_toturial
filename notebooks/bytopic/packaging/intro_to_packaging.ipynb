{
 "cells": [
  {
   "cell_type": "markdown",
   "metadata": {
    "slideshow": {
     "slide_type": "slide"
    }
   },
   "source": [
    "# A quick Introduction to Creating Packages in Python"
   ]
  },
  {
   "cell_type": "markdown",
   "metadata": {
    "toc": true
   },
   "source": [
    "<h1>Table of Contents<span class=\"tocSkip\"></span></h1>\n",
    "<div class=\"toc\"><ul class=\"toc-item\"><li><span><a href=\"#A-quick-Introduction-to-Creating-Packages-in-Python\" data-toc-modified-id=\"A-quick-Introduction-to-Creating-Packages-in-Python-1\"><span class=\"toc-item-num\">1&nbsp;&nbsp;</span>A quick Introduction to Creating Packages in Python</a></span><ul class=\"toc-item\"><li><span><a href=\"#Learning-Objectives\" data-toc-modified-id=\"Learning-Objectives-1.1\"><span class=\"toc-item-num\">1.1&nbsp;&nbsp;</span>Learning Objectives</a></span></li><li><span><a href=\"#Why-Are-We-Doing-This?\" data-toc-modified-id=\"Why-Are-We-Doing-This?-1.2\"><span class=\"toc-item-num\">1.2&nbsp;&nbsp;</span>Why Are We Doing This?</a></span></li><li><span><a href=\"#Setting-Up\" data-toc-modified-id=\"Setting-Up-1.3\"><span class=\"toc-item-num\">1.3&nbsp;&nbsp;</span>Setting Up</a></span><ul class=\"toc-item\"><li><span><a href=\"#The-Basics\" data-toc-modified-id=\"The-Basics-1.3.1\"><span class=\"toc-item-num\">1.3.1&nbsp;&nbsp;</span>The Basics</a></span></li><li><span><a href=\"#setup.py\" data-toc-modified-id=\"setup.py-1.3.2\"><span class=\"toc-item-num\">1.3.2&nbsp;&nbsp;</span><code>setup.py</code></a></span></li></ul></li><li><span><a href=\"#Installing\" data-toc-modified-id=\"Installing-1.4\"><span class=\"toc-item-num\">1.4&nbsp;&nbsp;</span>Installing</a></span><ul class=\"toc-item\"><li><span><a href=\"#Using-GIT/GitHub\" data-toc-modified-id=\"Using-GIT/GitHub-1.4.1\"><span class=\"toc-item-num\">1.4.1&nbsp;&nbsp;</span>Using GIT/GitHub</a></span></li></ul></li><li><span><a href=\"#Documentation!\" data-toc-modified-id=\"Documentation!-1.5\"><span class=\"toc-item-num\">1.5&nbsp;&nbsp;</span>Documentation!</a></span><ul class=\"toc-item\"><li><span><a href=\"#Readme\" data-toc-modified-id=\"Readme-1.5.1\"><span class=\"toc-item-num\">1.5.1&nbsp;&nbsp;</span>Readme</a></span></li><li><span><a href=\"#License\" data-toc-modified-id=\"License-1.5.2\"><span class=\"toc-item-num\">1.5.2&nbsp;&nbsp;</span>License</a></span></li><li><span><a href=\"#Changes\" data-toc-modified-id=\"Changes-1.5.3\"><span class=\"toc-item-num\">1.5.3&nbsp;&nbsp;</span>Changes</a></span></li></ul></li><li><span><a href=\"#Other-Things-To-Think-Of\" data-toc-modified-id=\"Other-Things-To-Think-Of-1.6\"><span class=\"toc-item-num\">1.6&nbsp;&nbsp;</span>Other Things To Think Of</a></span><ul class=\"toc-item\"><li><span><a href=\"#MANIFEST.in\" data-toc-modified-id=\"MANIFEST.in-1.6.1\"><span class=\"toc-item-num\">1.6.1&nbsp;&nbsp;</span><code>MANIFEST.in</code></a></span></li></ul></li><li><span><a href=\"#Package-Full-Skeleton\" data-toc-modified-id=\"Package-Full-Skeleton-1.7\"><span class=\"toc-item-num\">1.7&nbsp;&nbsp;</span>Package Full Skeleton</a></span></li><li><span><a href=\"#Going-Further\" data-toc-modified-id=\"Going-Further-1.8\"><span class=\"toc-item-num\">1.8&nbsp;&nbsp;</span>Going Further</a></span></li></ul></li></ul></div>"
   ]
  },
  {
   "cell_type": "markdown",
   "metadata": {},
   "source": [
    "## Learning Objectives\n",
    "\n",
    "- Learn the general anatomy of a Python package\n",
    "- Learn how to organize modules into a package"
   ]
  },
  {
   "cell_type": "markdown",
   "metadata": {
    "slideshow": {
     "slide_type": "subslide"
    }
   },
   "source": [
    "## Why Are We Doing This?\n",
    "\n",
    "\n",
    "One of the most powerful things about coding for the sciences is that it costs nothing to re-use code we’ve written in the past, allowing us to build on past work rather than starting over every project or paper.\n",
    "\n",
    "However, one practice we see again and again is copying and pasting code from one project into another. Sometimes it will just be a function, other times (`MATLAB`, `NCL`) it’s files.\n",
    "\n",
    "Assembling code in packages makes it really easy to re-use old code: all the scripts and functions end up in a central location and can be called and \n",
    "imported from anywhere on the computer - just like the packages `numpy`, `xarray` or `matplotlib`."
   ]
  },
  {
   "cell_type": "markdown",
   "metadata": {
    "slideshow": {
     "slide_type": "subslide"
    }
   },
   "source": [
    "## Setting Up\n",
    "\n",
    "In this tutorial, we’ll walk through the creation of a simple package from some code that’s just lying around. You can view and clone the complete demo package in the **hello-cesm-package** directory. \n"
   ]
  },
  {
   "cell_type": "markdown",
   "metadata": {
    "slideshow": {
     "slide_type": "subslide"
    }
   },
   "source": [
    "### The Basics\n",
    "\n",
    "The most basic directory structure for a Python package looks like this:\n",
    "\n",
    "```bash\n",
    "project\n",
    "|\n",
    "├── LICENSE\n",
    "├── README.md\n",
    "├── my_package\n",
    "│   ├── __init__.py\n",
    "│   └── some_module.py\n",
    "└── setup.py\n",
    "```"
   ]
  },
  {
   "cell_type": "markdown",
   "metadata": {
    "slideshow": {
     "slide_type": "subslide"
    }
   },
   "source": [
    "But at the moment, we've just got some flat files.\n",
    "\n",
    "\n",
    "```bash\n",
    "project\n",
    "|\n",
    "├── statistics.py\n",
    "└── climatologies.py\n",
    "```"
   ]
  },
  {
   "cell_type": "markdown",
   "metadata": {
    "slideshow": {
     "slide_type": "subslide"
    }
   },
   "source": [
    "So, the first step is to move files around. First comes the hardest part: choosing a package name. I’ll call mine `cesm_package`. Create a directory with that name, and move the python files in there."
   ]
  },
  {
   "cell_type": "markdown",
   "metadata": {
    "slideshow": {
     "slide_type": "fragment"
    }
   },
   "source": [
    "```bash\n",
    "project\n",
    "└── cesm_package\n",
    "    ├── climatologies.py\n",
    "    └── statistics.py\n",
    "```"
   ]
  },
  {
   "cell_type": "markdown",
   "metadata": {
    "slideshow": {
     "slide_type": "subslide"
    }
   },
   "source": [
    "There is one more crucial file: `__init__.py` lets the Python interpreter know that there are importable modules in this directory. This is the script that gets run when you execute import measure. For more about what you can do with modules, you can see the [Python docs](https://docs.python.org/3/tutorial/modules.html). After adding `__init__.py`, the project directory should be\n",
    "\n",
    "\n",
    "```bash\n",
    "project\n",
    "└── cesm_package\n",
    "    ├── __init__.py\n",
    "    ├── climatologies.py\n",
    "    └── statistics.py\n",
    "```"
   ]
  },
  {
   "cell_type": "markdown",
   "metadata": {
    "slideshow": {
     "slide_type": "subslide"
    }
   },
   "source": [
    "### `setup.py`\n",
    "\n",
    "At this point, the library can be imported if we’re in the same directory, but it isn’t a package. To let `setuptools` and `pip` know how to handle it, we need to add the `setup.py` file.\n",
    "\n"
   ]
  },
  {
   "cell_type": "markdown",
   "metadata": {
    "slideshow": {
     "slide_type": "subslide"
    }
   },
   "source": [
    "A very basic version of setup.py is:\n",
    "```python\n",
    "\n",
    "\"\"\"The setup script.\"\"\"\n",
    "\n",
    "from setuptools import setup\n",
    "install_requires = ['xarray', 'numpy', 'matplotlib'] # Whatever third-party libraries are needed\n",
    "setup(\n",
    "    author='Alice Doe',\n",
    "    author_email='alice@example.com',\n",
    "    description='My CESM analysis package',\n",
    "    install_requires=install_requires,\n",
    "    license='MIT',\n",
    "    long_description='CESM data analysis package'\n",
    "    keywords='ocean modeling',\n",
    "    name='cesm-package',\n",
    "    packages=['cesm_package'],\n",
    "    url='https://github.com/github-user-name/project-name',\n",
    "    version='0.1',\n",
    "    zip_safe=False,\n",
    ")\n",
    "\n",
    "```"
   ]
  },
  {
   "cell_type": "markdown",
   "metadata": {
    "slideshow": {
     "slide_type": "subslide"
    }
   },
   "source": [
    "After adding `setup.py` the project directory should be \n",
    "\n",
    "\n",
    "```bash\n",
    "project\n",
    "├── cesm_package\n",
    "│   ├── __init__.py\n",
    "│   ├── climatologies.py\n",
    "│   └── statistics.py\n",
    "└── setup.py\n",
    "```"
   ]
  },
  {
   "cell_type": "markdown",
   "metadata": {
    "slideshow": {
     "slide_type": "subslide"
    }
   },
   "source": [
    "## Installing\n",
    "\n",
    "Technically, you can install the module by running `python setup.py install`, however during development, it’s much more convenient to run the following command from the root directory of your project (directory in which`setup.py` is located in)\n",
    "\n",
    "```bash\n",
    "python setup.py develop\n",
    "```"
   ]
  },
  {
   "cell_type": "code",
   "execution_count": 1,
   "metadata": {
    "slideshow": {
     "slide_type": "fragment"
    }
   },
   "outputs": [
    {
     "name": "stdout",
     "output_type": "stream",
     "text": [
      "demo_hello_cesm_package.ipynb intro_to_packaging.ipynb\n",
      "\u001b[34mhello-cesm-package\u001b[39;49m\u001b[0m\n"
     ]
    }
   ],
   "source": [
    "ls"
   ]
  },
  {
   "cell_type": "code",
   "execution_count": 2,
   "metadata": {
    "slideshow": {
     "slide_type": "subslide"
    }
   },
   "outputs": [
    {
     "name": "stdout",
     "output_type": "stream",
     "text": [
      "running develop\n",
      "running egg_info\n",
      "writing cesm_package.egg-info/PKG-INFO\n",
      "writing dependency_links to cesm_package.egg-info/dependency_links.txt\n",
      "writing requirements to cesm_package.egg-info/requires.txt\n",
      "writing top-level names to cesm_package.egg-info/top_level.txt\n",
      "reading manifest file 'cesm_package.egg-info/SOURCES.txt'\n",
      "reading manifest template 'MANIFEST.in'\n",
      "writing manifest file 'cesm_package.egg-info/SOURCES.txt'\n",
      "running build_ext\n",
      "Creating /Users/abanihi/opt/miniconda3/lib/python3.7/site-packages/cesm-package.egg-link (link to .)\n",
      "cesm-package 0.1 is already the active version in easy-install.pth\n",
      "\n",
      "Installed /Users/abanihi/devel/ncar/NCAR-pangeo-tutorial/notebooks/bytopic/packaging/hello-cesm-package\n",
      "Processing dependencies for cesm-package==0.1\n",
      "Searching for matplotlib==3.1.1\n",
      "Best match: matplotlib 3.1.1\n",
      "Processing matplotlib-3.1.1-py3.7-macosx-10.9-x86_64.egg\n",
      "matplotlib 3.1.1 is already the active version in easy-install.pth\n",
      "\n",
      "Using /Users/abanihi/opt/miniconda3/lib/python3.7/site-packages/matplotlib-3.1.1-py3.7-macosx-10.9-x86_64.egg\n",
      "Searching for numpy==1.17.1\n",
      "Best match: numpy 1.17.1\n",
      "Adding numpy 1.17.1 to easy-install.pth file\n",
      "Installing f2py script to /Users/abanihi/opt/miniconda3/bin\n",
      "Installing f2py3 script to /Users/abanihi/opt/miniconda3/bin\n",
      "Installing f2py3.7 script to /Users/abanihi/opt/miniconda3/bin\n",
      "\n",
      "Using /Users/abanihi/opt/miniconda3/lib/python3.7/site-packages\n",
      "Searching for xarray==0.12.3\n",
      "Best match: xarray 0.12.3\n",
      "Processing xarray-0.12.3-py3.7.egg\n",
      "xarray 0.12.3 is already the active version in easy-install.pth\n",
      "\n",
      "Using /Users/abanihi/opt/miniconda3/lib/python3.7/site-packages/xarray-0.12.3-py3.7.egg\n",
      "Searching for python-dateutil==2.8.0\n",
      "Best match: python-dateutil 2.8.0\n",
      "Adding python-dateutil 2.8.0 to easy-install.pth file\n",
      "\n",
      "Using /Users/abanihi/opt/miniconda3/lib/python3.7/site-packages\n",
      "Searching for pyparsing==2.4.2\n",
      "Best match: pyparsing 2.4.2\n",
      "Adding pyparsing 2.4.2 to easy-install.pth file\n",
      "\n",
      "Using /Users/abanihi/opt/miniconda3/lib/python3.7/site-packages\n",
      "Searching for kiwisolver==1.1.0\n",
      "Best match: kiwisolver 1.1.0\n",
      "Processing kiwisolver-1.1.0-py3.7-macosx-10.9-x86_64.egg\n",
      "kiwisolver 1.1.0 is already the active version in easy-install.pth\n",
      "\n",
      "Using /Users/abanihi/opt/miniconda3/lib/python3.7/site-packages/kiwisolver-1.1.0-py3.7-macosx-10.9-x86_64.egg\n",
      "Searching for cycler==0.10.0\n",
      "Best match: cycler 0.10.0\n",
      "Processing cycler-0.10.0-py3.7.egg\n",
      "cycler 0.10.0 is already the active version in easy-install.pth\n",
      "\n",
      "Using /Users/abanihi/opt/miniconda3/lib/python3.7/site-packages/cycler-0.10.0-py3.7.egg\n",
      "Searching for pandas==0.25.1\n",
      "Best match: pandas 0.25.1\n",
      "Adding pandas 0.25.1 to easy-install.pth file\n",
      "\n",
      "Using /Users/abanihi/opt/miniconda3/lib/python3.7/site-packages\n",
      "Searching for six==1.12.0\n",
      "Best match: six 1.12.0\n",
      "Adding six 1.12.0 to easy-install.pth file\n",
      "\n",
      "Using /Users/abanihi/opt/miniconda3/lib/python3.7/site-packages\n",
      "Searching for setuptools==41.2.0\n",
      "Best match: setuptools 41.2.0\n",
      "Adding setuptools 41.2.0 to easy-install.pth file\n",
      "Installing easy_install script to /Users/abanihi/opt/miniconda3/bin\n",
      "\n",
      "Using /Users/abanihi/opt/miniconda3/lib/python3.7/site-packages\n",
      "Searching for pytz==2019.2\n",
      "Best match: pytz 2019.2\n",
      "Adding pytz 2019.2 to easy-install.pth file\n",
      "\n",
      "Using /Users/abanihi/opt/miniconda3/lib/python3.7/site-packages\n",
      "Finished processing dependencies for cesm-package==0.1\n"
     ]
    }
   ],
   "source": [
    "cd hello-cesm-package && python setup.py develop"
   ]
  },
  {
   "cell_type": "markdown",
   "metadata": {
    "slideshow": {
     "slide_type": "subslide"
    }
   },
   "source": [
    "### Using GIT/GitHub\n",
    "\n",
    "This is my preferred way of quickly sharing/storing/installing packages. Simply create a git repo of the project directory, and put it somewhere. Then, use pip to install it from that repo directly.\n",
    "\n",
    "\n",
    "```bash \n",
    "pip install git+https://github.com/github-user-name/hello-cesm-package\n",
    "```"
   ]
  },
  {
   "cell_type": "markdown",
   "metadata": {
    "slideshow": {
     "slide_type": "subslide"
    }
   },
   "source": [
    "An advantage of this is that you can also install to particular branches, tags, and commits. A common practice is add a tag for the version release `git tag v0.1`. Users of the library can then lock into that particular version,\n",
    "\n",
    "\n",
    "```bash \n",
    "pip install git+https://github.com/github-user-name/hello-cesm-package@v0.1\n",
    "```"
   ]
  },
  {
   "cell_type": "markdown",
   "metadata": {
    "slideshow": {
     "slide_type": "subslide"
    }
   },
   "source": [
    "## Documentation!\n",
    "\n",
    "We’ve already begun the documentation by adding a short description, author/maintainer name, and version… but there’s a lot more to add. At a minimum, a README file should be included, but so should a license dilw, changes between versions, and actual software documentation.\n"
   ]
  },
  {
   "cell_type": "markdown",
   "metadata": {
    "slideshow": {
     "slide_type": "subslide"
    }
   },
   "source": [
    "### Readme\n",
    "\n",
    "A readme file summarizes the software. For Python packages, this can named README, README.rst, or README.md. The recommendation is to use [reST](http://docutils.sourceforge.net/rst.html), as this is the standard on PyPI\n"
   ]
  },
  {
   "cell_type": "markdown",
   "metadata": {
    "slideshow": {
     "slide_type": "subslide"
    }
   },
   "source": [
    "\n",
    "### License\n",
    "\n",
    "The typical thing is to put the license you choose in LICENSE.md. There are a few choices for licenses. If you’re using github, you can add most standard open source licenses through the website.\n",
    "\n",
    "Check this web page for learning more about open source licenses: https://opensource.guide/legal/"
   ]
  },
  {
   "cell_type": "markdown",
   "metadata": {
    "slideshow": {
     "slide_type": "fragment"
    }
   },
   "source": [
    "### Changes\n",
    "\n",
    "Changes between versions are usually tracked in `CHANGELOG.rst` or `CHANGELOG.md`. This is more of a concern if you’re planning to distribute the software.\n"
   ]
  },
  {
   "cell_type": "markdown",
   "metadata": {
    "slideshow": {
     "slide_type": "subslide"
    }
   },
   "source": [
    "## Other Things To Think Of\n",
    "\n",
    "A good package should also include full documentation and testing. I won’t cover this here, but unit tests can be performed with the `pytest` library: https://docs.pytest.org/en/latest/, with the tests stored in the directory tests. \n",
    "\n",
    "We can run tests with the following command:"
   ]
  },
  {
   "cell_type": "code",
   "execution_count": 3,
   "metadata": {
    "slideshow": {
     "slide_type": "fragment"
    }
   },
   "outputs": [
    {
     "name": "stdout",
     "output_type": "stream",
     "text": [
      "\u001b[1m============================= test session starts ==============================\u001b[0m\n",
      "platform darwin -- Python 3.7.3, pytest-5.1.2, py-1.8.0, pluggy-0.12.0 -- /Users/abanihi/opt/miniconda3/bin/python\n",
      "cachedir: .pytest_cache\n",
      "rootdir: /Users/abanihi/devel/ncar/NCAR-pangeo-tutorial/notebooks/bytopic/packaging/hello-cesm-package\n",
      "collected 1 item                                                               \u001b[0m\n",
      "\n",
      "tests/test_statistics.py::test_sample \u001b[32mPASSED\u001b[0m\u001b[36m                             [100%]\u001b[0m\n",
      "\n",
      "\u001b[32m\u001b[1m============================== 1 passed in 0.03s ===============================\u001b[0m\n"
     ]
    }
   ],
   "source": [
    "pytest tests -v"
   ]
  },
  {
   "cell_type": "markdown",
   "metadata": {
    "slideshow": {
     "slide_type": "subslide"
    }
   },
   "source": [
    "\n",
    "Many people use Sphinx for documentation, and that can be stored in the docs directory.\n",
    "\n",
    "There’s a further step required for distributing. If you want to include these files in the distribution file of your package, you’ll need a \n",
    "`MANIFEST.in` file.\n",
    "\n",
    "### `MANIFEST.in`\n",
    "\n",
    "```\n",
    "include *.py\n",
    "recursive-include docs *.rst\n",
    "```"
   ]
  },
  {
   "cell_type": "markdown",
   "metadata": {
    "slideshow": {
     "slide_type": "subslide"
    }
   },
   "source": [
    "\n",
    "\n",
    "## Package Full Skeleton\n",
    "\n",
    "So, at this point, we’ve got a pretty good project skeleton, and most of the basics are covered. Your package should look something like this:\n",
    "\n",
    "```bash\n",
    "\n",
    "project\n",
    "├── CHANGELOG.rst\n",
    "├── LICENSE\n",
    "├── MANIFEST.in\n",
    "├── README.md\n",
    "├── cesm_package\n",
    "│   ├── __init__.py\n",
    "│   ├── climatologies.py\n",
    "│   └── statistics.py\n",
    "├── docs\n",
    "│   └── overview.rst\n",
    "├── setup.py\n",
    "└── tests\n",
    "    └── test_statistics.py\n",
    "```\n",
    "\n",
    "\n",
    "To see this package in action, try the [demo notebook](#demo_hello_cesm_package.ipynb)"
   ]
  },
  {
   "cell_type": "markdown",
   "metadata": {
    "slideshow": {
     "slide_type": "subslide"
    }
   },
   "source": [
    "<div class=\"alert alert-block alert-success\">\n",
    "If you have software that covers all these points, then congratulations! You’re well on your way to a well-maintained software package.\n",
    "</div>"
   ]
  },
  {
   "cell_type": "markdown",
   "metadata": {
    "slideshow": {
     "slide_type": "fragment"
    }
   },
   "source": [
    "\n",
    "## Going Further\n",
    "\n",
    "To get a detailed look at packaging, check out \n",
    "\n",
    "- [The official Python docs](https://docs.python.org/3/distributing/index.html); they’re complete, accessible, and generally more up to date.\n",
    "- [Python Modules and Packages – An Introduction](https://realpython.com/python-modules-packages/#python-packages)\n",
    "- [NCAR pop-tools project](https://github.com/NCAR/pop-tools) for reference"
   ]
  }
 ],
 "metadata": {
  "kernelspec": {
   "display_name": "Bash",
   "language": "bash",
   "name": "bash"
  },
  "language_info": {
   "codemirror_mode": "shell",
   "file_extension": ".sh",
   "mimetype": "text/x-sh",
   "name": "bash"
  },
  "toc": {
   "base_numbering": 1,
   "nav_menu": {},
   "number_sections": true,
   "sideBar": true,
   "skip_h1_title": false,
   "title_cell": "Table of Contents",
   "title_sidebar": "Contents",
   "toc_cell": true,
   "toc_position": {},
   "toc_section_display": true,
   "toc_window_display": true
  }
 },
 "nbformat": 4,
 "nbformat_minor": 2
}
