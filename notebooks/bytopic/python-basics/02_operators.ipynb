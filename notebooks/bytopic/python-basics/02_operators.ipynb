{
 "cells": [
  {
   "cell_type": "markdown",
   "metadata": {},
   "source": [
    "# \"Arithmetic\" Operators\n",
    "\n",
    "Python uses common symbols (like any language) to represent certain operations.  They are as follows:"
   ]
  },
  {
   "cell_type": "markdown",
   "metadata": {},
   "source": [
    "| Symbol | Name           | Description                                     |\n",
    "|--------|----------------|-------------------------------------------------|\n",
    "| `+`    | Addition       | addition, concatenation                         |\n",
    "| `-`    | Subtraction    | subtraction, differencing                       |\n",
    "| `*`    | Multiplication | multiplication, duplication                     |\n",
    "| `/`    | Division       | division                                        |\n",
    "| `%`    | Modulus        | modulus                                         |\n",
    "| `**`   | Exponent       | \"power to\"                                      |\n",
    "| `//`   | Floor Division | integer division                                |"
   ]
  },
  {
   "cell_type": "markdown",
   "metadata": {},
   "source": [
    "# Comparison Operators\n",
    "\n",
    "These are operators to compare two objects.  They return `True` or `False`."
   ]
  },
  {
   "cell_type": "markdown",
   "metadata": {},
   "source": [
    "| Symbol | Name    | Description |\n",
    "|--------|---------|-------------|\n",
    "| `==`   | Equality | If two things are equal |\n",
    "| `>`    | Greater Than | If left is greater than right |\n",
    "| `<`    | Less Than | If left is less than right |\n",
    "| `>=`   | Greater Than or Equal | If left is greater than or equal to right |\n",
    "| `<=`   | Less Than or Equal | If left is less than or equal to right |\n",
    "| `<>` or `!=`   | Not Equal | If left is not equal to right |"
   ]
  },
  {
   "cell_type": "markdown",
   "metadata": {},
   "source": [
    "# Logical Operators"
   ]
  },
  {
   "cell_type": "markdown",
   "metadata": {},
   "source": [
    "## `and`\n",
    "\n",
    "There is the `and` operator to check if two conditions are both true."
   ]
  },
  {
   "cell_type": "code",
   "execution_count": null,
   "metadata": {},
   "outputs": [],
   "source": [
    "True and False"
   ]
  },
  {
   "cell_type": "code",
   "execution_count": null,
   "metadata": {},
   "outputs": [],
   "source": [
    "False and False"
   ]
  },
  {
   "cell_type": "code",
   "execution_count": null,
   "metadata": {},
   "outputs": [],
   "source": [
    "True and True"
   ]
  },
  {
   "cell_type": "markdown",
   "metadata": {},
   "source": [
    "## `or`\n",
    "\n",
    "And there is an equivalent `or` operator:"
   ]
  },
  {
   "cell_type": "code",
   "execution_count": null,
   "metadata": {},
   "outputs": [],
   "source": [
    "True or False"
   ]
  },
  {
   "cell_type": "markdown",
   "metadata": {},
   "source": [
    "## `not`\n",
    "\n",
    "There is also the `not` operation, which flips a bool to its opposite value:"
   ]
  },
  {
   "cell_type": "code",
   "execution_count": null,
   "metadata": {},
   "outputs": [],
   "source": [
    "not True"
   ]
  },
  {
   "cell_type": "code",
   "execution_count": null,
   "metadata": {},
   "outputs": [],
   "source": [
    "not False"
   ]
  },
  {
   "cell_type": "markdown",
   "metadata": {},
   "source": [
    "# Assignment Operators\n",
    "\n",
    "Python also has a number of operators that can conveniently assign values to variables."
   ]
  },
  {
   "cell_type": "markdown",
   "metadata": {},
   "source": [
    "| Symbol | Name       | Description |\n",
    "|--------|------------|-------------|\n",
    "| `=`    | Assignment | Simple assignment |\n",
    "| `+=`   | Add & Assign | `x += 2` is the same as `x = x + 2` |\n",
    "| `-=`   | Subtract & Assign | `x -= 2` is the same as `x = x - 2` |\n",
    "| `*=`   | Multiply & Assign | `x *= 2` is the same as `x = x * 2` |\n",
    "| `/=`   | Divide & Assign | `x /= 2` is the same as `x = x / 2` |\n",
    "| `%=`   | Modulus & Assign | `x %= 2` is the same as `x = x % 2` |\n",
    "| `**=`   | Exponent & Assign | `x **= 2` is the same as `x = x ** 2` |\n",
    "| `//=`   | Floor Divide & Assign | `x //= 2` is the same as `x = x // 2` |"
   ]
  },
  {
   "cell_type": "markdown",
   "metadata": {},
   "source": [
    "<div class=\"alert alert-block alert-success\">\n",
    "  <p>Previous: <a href=\"01_objects.ipynb\">Objects</a></p>\n",
    "  <p>Next: <a href=\"03_builtin_types.ipynb\">Built-in Types</a></p>\n",
    "</div>"
   ]
  }
 ],
 "metadata": {
  "kernelspec": {
   "display_name": "Python [conda env:python-tutorial]",
   "language": "python",
   "name": "conda-env-python-tutorial-py"
  },
  "language_info": {
   "codemirror_mode": {
    "name": "ipython",
    "version": 3
   },
   "file_extension": ".py",
   "mimetype": "text/x-python",
   "name": "python",
   "nbconvert_exporter": "python",
   "pygments_lexer": "ipython3",
   "version": "3.7.3"
  }
 },
 "nbformat": 4,
 "nbformat_minor": 4
}
