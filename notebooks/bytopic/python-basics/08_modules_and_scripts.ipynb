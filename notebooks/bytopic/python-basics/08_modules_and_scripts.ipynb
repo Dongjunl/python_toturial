{
 "cells": [
  {
   "cell_type": "markdown",
   "metadata": {},
   "source": [
    "# Modules & Scripts\n",
    "\n",
    "Python source files are called _modules_, and these can be imported just like other Python packages."
   ]
  },
  {
   "cell_type": "code",
   "execution_count": null,
   "metadata": {},
   "outputs": [],
   "source": [
    "%%writefile test_module.py\n",
    "\n",
    "def f(a):\n",
    "    print(a)\n",
    "\n",
    "def g(b):\n",
    "    return b\n",
    "\n",
    "if __name__ == '__main__':\n",
    "    import sys\n",
    "    f(sys.argv[1])\n",
    "    print(g(2))"
   ]
  },
  {
   "cell_type": "markdown",
   "metadata": {},
   "source": [
    "This should have written a Python file called `test_module.py`.  You can now import this into your code (if you are in the same directory as the _module_ file)."
   ]
  },
  {
   "cell_type": "code",
   "execution_count": null,
   "metadata": {},
   "outputs": [],
   "source": [
    "import test_module"
   ]
  },
  {
   "cell_type": "code",
   "execution_count": null,
   "metadata": {},
   "outputs": [],
   "source": [
    "test_module.f('a')"
   ]
  },
  {
   "cell_type": "code",
   "execution_count": null,
   "metadata": {},
   "outputs": [],
   "source": [
    "x = test_module.g(2)\n",
    "x"
   ]
  },
  {
   "cell_type": "markdown",
   "metadata": {},
   "source": [
    "Notice that this _module_ file has a few lines at the end of the file that look like:\n",
    "\n",
    "```python\n",
    "if __name__ == '__main__':\n",
    "    import sys\n",
    "    f(sys.argv[1])\n",
    "    print(g(2))\n",
    "```\n",
    "\n",
    "This allows this _module_ to also be used as a script.\n",
    "\n",
    "Let's execute this module with the `python` executable and see what it does."
   ]
  },
  {
   "cell_type": "code",
   "execution_count": null,
   "metadata": {},
   "outputs": [],
   "source": [
    "!python test_module.py hello"
   ]
  },
  {
   "cell_type": "markdown",
   "metadata": {},
   "source": [
    "Notice that when we imported the module, these two lines were _not_ executed.  But when we ran the file as a script, these lines:\n",
    "\n",
    "```python\n",
    "if __name__ == '__main__':\n",
    "    import sys\n",
    "    f(sys.argv[1])\n",
    "    print(g(2))\n",
    "```\n",
    "\n",
    "_were_ executed!  That's the difference between a module and a script."
   ]
  },
  {
   "cell_type": "markdown",
   "metadata": {},
   "source": [
    "Note that we used the `sys` module from Python to get the command line arguments that were supplied when we ran the script from the command line.  In this case, the command line argument was `hello`.\n",
    "\n",
    "There are much better ways of defining and parsing command line arguments using the following packages:\n",
    "\n",
    "- [argparse](https://docs.python.org/3/library/argparse.html) (Builtin)\n",
    "- [click](https://click.palletsprojects.com/en/7.x/)"
   ]
  },
  {
   "cell_type": "markdown",
   "metadata": {},
   "source": [
    "<div class=\"alert alert-block alert-success\">\n",
    "  <p>Previous: <a href=\"07_functions.ipynb\">Functions</a></p>\n",
    "  <p>Next: <a href=\"09_numpy.ipynb\">Numpy</a></p>\n",
    "</div>"
   ]
  }
 ],
 "metadata": {
  "kernelspec": {
   "display_name": "Python [conda env:python-tutorial]",
   "language": "python",
   "name": "conda-env-python-tutorial-py"
  },
  "language_info": {
   "codemirror_mode": {
    "name": "ipython",
    "version": 3
   },
   "file_extension": ".py",
   "mimetype": "text/x-python",
   "name": "python",
   "nbconvert_exporter": "python",
   "pygments_lexer": "ipython3",
   "version": "3.7.3"
  }
 },
 "nbformat": 4,
 "nbformat_minor": 4
}
