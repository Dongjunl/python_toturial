{
 "cells": [
  {
   "cell_type": "markdown",
   "metadata": {},
   "source": [
    "# I/O"
   ]
  },
  {
   "cell_type": "markdown",
   "metadata": {
    "toc": true
   },
   "source": [
    "<h1>Table of Contents<span class=\"tocSkip\"></span></h1>\n",
    "<div class=\"toc\"><ul class=\"toc-item\"><li><span><a href=\"#I/O\" data-toc-modified-id=\"I/O-1\"><span class=\"toc-item-num\">1&nbsp;&nbsp;</span>I/O</a></span><ul class=\"toc-item\"><li><span><a href=\"#Learning-Objectives\" data-toc-modified-id=\"Learning-Objectives-1.1\"><span class=\"toc-item-num\">1.1&nbsp;&nbsp;</span>Learning Objectives</a></span></li><li><span><a href=\"#Reading-and-Writing-Files\" data-toc-modified-id=\"Reading-and-Writing-Files-1.2\"><span class=\"toc-item-num\">1.2&nbsp;&nbsp;</span>Reading and Writing Files</a></span></li><li><span><a href=\"#Opening-xarray-datasets\" data-toc-modified-id=\"Opening-xarray-datasets-1.3\"><span class=\"toc-item-num\">1.3&nbsp;&nbsp;</span>Opening xarray datasets</a></span></li><li><span><a href=\"#Saving-xarray-datasets-as-netcdf-files\" data-toc-modified-id=\"Saving-xarray-datasets-as-netcdf-files-1.4\"><span class=\"toc-item-num\">1.4&nbsp;&nbsp;</span>Saving xarray datasets as netcdf files</a></span></li><li><span><a href=\"#Multifile-datasets\" data-toc-modified-id=\"Multifile-datasets-1.5\"><span class=\"toc-item-num\">1.5&nbsp;&nbsp;</span>Multifile datasets</a></span></li><li><span><a href=\"#Zarr\" data-toc-modified-id=\"Zarr-1.6\"><span class=\"toc-item-num\">1.6&nbsp;&nbsp;</span>Zarr</a></span></li><li><span><a href=\"#Going-Further\" data-toc-modified-id=\"Going-Further-1.7\"><span class=\"toc-item-num\">1.7&nbsp;&nbsp;</span>Going Further</a></span></li></ul></li></ul></div>"
   ]
  },
  {
   "cell_type": "markdown",
   "metadata": {},
   "source": [
    "## Learning Objectives\n",
    "\n",
    "- Write xarray objects to netCDF files\n",
    "- Load xarray datasets from netCDF files\n",
    "- Provide a brief overview on Zarr"
   ]
  },
  {
   "cell_type": "markdown",
   "metadata": {},
   "source": [
    "## Reading and Writing Files\n",
    "\n",
    "\n",
    "Xarray supports direct serialization and I/O to several file formats including pickle, netCDF, OPeNDAP (read-only), GRIB1/2 (read-only), Zarr, and HDF by integrating with third-party libraries. Additional serialization formats for 1-dimensional data are available through pandas.\n",
    "\n",
    "File types\n",
    "- Pickle\n",
    "- NetCDF 3/4\n",
    "- RasterIO\n",
    "- Zarr\n",
    "- PyNio\n",
    "\n",
    "Interoperability\n",
    "- Pandas\n",
    "- Iris\n",
    "- CDMS\n",
    "- dask DataFrame\n"
   ]
  },
  {
   "cell_type": "markdown",
   "metadata": {},
   "source": [
    "## Opening xarray datasets\n",
    "\n",
    "Xarray's `open_dataset` and `open_mfdataset` are the primary functions for opening local or remote datasets such as netCDF, GRIB, OpenDap, and HDF. These operations are all supported by third party libraries (engines) for which xarray provides a common interface. "
   ]
  },
  {
   "cell_type": "code",
   "execution_count": null,
   "metadata": {},
   "outputs": [],
   "source": [
    "!ncdump -h ../../../data/rasm.nc"
   ]
  },
  {
   "cell_type": "code",
   "execution_count": null,
   "metadata": {},
   "outputs": [],
   "source": [
    "import xarray as xr\n",
    "from glob import glob"
   ]
  },
  {
   "cell_type": "code",
   "execution_count": null,
   "metadata": {},
   "outputs": [],
   "source": [
    "ds = xr.open_dataset('../../../data/rasm.nc')\n",
    "ds"
   ]
  },
  {
   "cell_type": "markdown",
   "metadata": {},
   "source": [
    "## Saving xarray datasets as netcdf files\n",
    "\n",
    "Xarray provides a high-level method for writing netCDF files directly from Xarray Datasets/DataArrays."
   ]
  },
  {
   "cell_type": "code",
   "execution_count": null,
   "metadata": {},
   "outputs": [],
   "source": [
    "ds.to_netcdf('../../../data/rasm_test.nc')"
   ]
  },
  {
   "cell_type": "markdown",
   "metadata": {},
   "source": [
    "## Multifile datasets\n",
    "\n",
    "Xarray can read/write multifile datasets using the `open_mfdataset` and `save_mfdataset` functions. "
   ]
  },
  {
   "cell_type": "code",
   "execution_count": null,
   "metadata": {},
   "outputs": [],
   "source": [
    "paths = glob('./data/19*.nc')\n",
    "paths"
   ]
  },
  {
   "cell_type": "code",
   "execution_count": null,
   "metadata": {},
   "outputs": [],
   "source": [
    "ds2 = xr.open_mfdataset(paths, combine=\"by_coords\")\n",
    "ds2"
   ]
  },
  {
   "cell_type": "markdown",
   "metadata": {},
   "source": [
    "## Zarr\n",
    "\n",
    "Zarr is a Python package providing an implementation of chunked, compressed, N-dimensional arrays. Zarr has the ability to store arrays in a range of ways, including in memory, in files, and in cloud-based object storage such as Amazon S3 and Google Cloud Storage. Xarray’s Zarr backend allows xarray to leverage these capabilities."
   ]
  },
  {
   "cell_type": "code",
   "execution_count": null,
   "metadata": {},
   "outputs": [],
   "source": [
    "# save to a Zarr dataset\n",
    "ds.to_zarr('./data/rasm.zarr', mode='w')"
   ]
  },
  {
   "cell_type": "code",
   "execution_count": null,
   "metadata": {},
   "outputs": [],
   "source": [
    "!ls ./data/rasm.zarr"
   ]
  },
  {
   "cell_type": "code",
   "execution_count": null,
   "metadata": {},
   "outputs": [],
   "source": [
    "!du -h ./data/rasm.zarr"
   ]
  },
  {
   "cell_type": "markdown",
   "metadata": {},
   "source": [
    "## Going Further\n",
    "    \n",
    "- Xarray I/O Documentation: http://xarray.pydata.org/en/latest/io.html\n",
    "\n",
    "- Zarr Documentation: https://zarr.readthedocs.io/en/stable/\n",
    "\n"
   ]
  },
  {
   "cell_type": "markdown",
   "metadata": {},
   "source": [
    "<div class=\"alert alert-block alert-success\">\n",
    "  <p>Previous: <a href=\"01_getting_started_with_xarray.ipynb\">Getting Started with Xarray</a></p>\n",
    "  <p>Next: <a href=\"03_indexing.ipynb\">Indexing</a></p>\n",
    "</div>"
   ]
  }
 ],
 "metadata": {
  "kernelspec": {
   "display_name": "Python [conda env:python-tutorial]",
   "language": "python",
   "name": "conda-env-python-tutorial-py"
  },
  "language_info": {
   "codemirror_mode": {
    "name": "ipython",
    "version": 3
   },
   "file_extension": ".py",
   "mimetype": "text/x-python",
   "name": "python",
   "nbconvert_exporter": "python",
   "pygments_lexer": "ipython3",
   "version": "3.7.3"
  },
  "toc": {
   "base_numbering": 1,
   "nav_menu": {},
   "number_sections": true,
   "sideBar": true,
   "skip_h1_title": false,
   "title_cell": "Table of Contents",
   "title_sidebar": "Contents",
   "toc_cell": true,
   "toc_position": {},
   "toc_section_display": true,
   "toc_window_display": true
  }
 },
 "nbformat": 4,
 "nbformat_minor": 2
}
