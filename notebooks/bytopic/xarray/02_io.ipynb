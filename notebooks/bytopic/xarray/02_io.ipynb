{
 "cells": [
  {
   "cell_type": "markdown",
   "metadata": {},
   "source": [
    "# I/O"
   ]
  },
  {
   "cell_type": "markdown",
   "metadata": {
    "toc": true
   },
   "source": [
    "<h1>Table of Contents<span class=\"tocSkip\"></span></h1>\n",
    "<div class=\"toc\"><ul class=\"toc-item\"><li><span><a href=\"#I/O\" data-toc-modified-id=\"I/O-1\"><span class=\"toc-item-num\">1&nbsp;&nbsp;</span>I/O</a></span><ul class=\"toc-item\"><li><span><a href=\"#Learning-Objectives\" data-toc-modified-id=\"Learning-Objectives-1.1\"><span class=\"toc-item-num\">1.1&nbsp;&nbsp;</span>Learning Objectives</a></span></li><li><span><a href=\"#Reading-and-Writing-Files\" data-toc-modified-id=\"Reading-and-Writing-Files-1.2\"><span class=\"toc-item-num\">1.2&nbsp;&nbsp;</span>Reading and Writing Files</a></span></li><li><span><a href=\"#Opening-xarray-datasets\" data-toc-modified-id=\"Opening-xarray-datasets-1.3\"><span class=\"toc-item-num\">1.3&nbsp;&nbsp;</span>Opening xarray datasets</a></span></li><li><span><a href=\"#Saving-xarray-datasets-as-netcdf-files\" data-toc-modified-id=\"Saving-xarray-datasets-as-netcdf-files-1.4\"><span class=\"toc-item-num\">1.4&nbsp;&nbsp;</span>Saving xarray datasets as netcdf files</a></span></li><li><span><a href=\"#Multifile-datasets\" data-toc-modified-id=\"Multifile-datasets-1.5\"><span class=\"toc-item-num\">1.5&nbsp;&nbsp;</span>Multifile datasets</a></span></li><li><span><a href=\"#Zarr\" data-toc-modified-id=\"Zarr-1.6\"><span class=\"toc-item-num\">1.6&nbsp;&nbsp;</span>Zarr</a></span></li><li><span><a href=\"#Going-Further\" data-toc-modified-id=\"Going-Further-1.7\"><span class=\"toc-item-num\">1.7&nbsp;&nbsp;</span>Going Further</a></span></li></ul></li></ul></div>"
   ]
  },
  {
   "cell_type": "markdown",
   "metadata": {},
   "source": [
    "## Learning Objectives\n",
    "\n",
    "- Write xarray objects to netCDF files\n",
    "- Load xarray datasets from netCDF files\n",
    "- Provide a brief overview on Zarr"
   ]
  },
  {
   "cell_type": "markdown",
   "metadata": {},
   "source": [
    "## Reading and Writing Files\n",
    "\n",
    "\n",
    "Xarray supports direct serialization and I/O to several file formats including pickle, netCDF, OPeNDAP (read-only), GRIB1/2 (read-only), Zarr, and HDF by integrating with third-party libraries. Additional serialization formats for 1-dimensional data are available through pandas.\n",
    "\n",
    "File types\n",
    "- Pickle\n",
    "- NetCDF 3/4\n",
    "- RasterIO\n",
    "- Zarr\n",
    "- PyNio\n",
    "\n",
    "Interoperability\n",
    "- Pandas\n",
    "- Iris\n",
    "- CDMS\n",
    "- dask DataFrame\n"
   ]
  },
  {
   "cell_type": "markdown",
   "metadata": {},
   "source": [
    "## Opening xarray datasets\n",
    "\n",
    "Xarray's `open_dataset` and `open_mfdataset` are the primary functions for opening local or remote datasets such as netCDF, GRIB, OpenDap, and HDF. These operations are all supported by third party libraries (engines) for which xarray provides a common interface. "
   ]
  },
  {
   "cell_type": "code",
   "execution_count": 1,
   "metadata": {},
   "outputs": [
    {
     "name": "stdout",
     "output_type": "stream",
     "text": [
      "netcdf rasm {\r\n",
      "dimensions:\r\n",
      "\ttime = 36 ;\r\n",
      "\ty = 205 ;\r\n",
      "\tx = 275 ;\r\n",
      "variables:\r\n",
      "\tdouble Tair(time, y, x) ;\r\n",
      "\t\tTair:_FillValue = 9.96920996838687e+36 ;\r\n",
      "\t\tTair:units = \"C\" ;\r\n",
      "\t\tTair:long_name = \"Surface air temperature\" ;\r\n",
      "\t\tTair:type_preferred = \"double\" ;\r\n",
      "\t\tTair:time_rep = \"instantaneous\" ;\r\n",
      "\t\tTair:coordinates = \"yc xc\" ;\r\n",
      "\tdouble time(time) ;\r\n",
      "\t\ttime:_FillValue = NaN ;\r\n",
      "\t\ttime:long_name = \"time\" ;\r\n",
      "\t\ttime:type_preferred = \"int\" ;\r\n",
      "\t\ttime:units = \"days since 0001-01-01\" ;\r\n",
      "\t\ttime:calendar = \"noleap\" ;\r\n",
      "\tdouble xc(y, x) ;\r\n",
      "\t\txc:_FillValue = NaN ;\r\n",
      "\t\txc:long_name = \"longitude of grid cell center\" ;\r\n",
      "\t\txc:units = \"degrees_east\" ;\r\n",
      "\t\txc:bounds = \"xv\" ;\r\n",
      "\tdouble yc(y, x) ;\r\n",
      "\t\tyc:_FillValue = NaN ;\r\n",
      "\t\tyc:long_name = \"latitude of grid cell center\" ;\r\n",
      "\t\tyc:units = \"degrees_north\" ;\r\n",
      "\t\tyc:bounds = \"yv\" ;\r\n",
      "\r\n",
      "// global attributes:\r\n",
      "\t\t:title = \"/workspace/jhamman/processed/R1002RBRxaaa01a/lnd/temp/R1002RBRxaaa01a.vic.ha.1979-09-01.nc\" ;\r\n",
      "\t\t:institution = \"U.W.\" ;\r\n",
      "\t\t:source = \"RACM R1002RBRxaaa01a\" ;\r\n",
      "\t\t:output_frequency = \"daily\" ;\r\n",
      "\t\t:output_mode = \"averaged\" ;\r\n",
      "\t\t:convention = \"CF-1.4\" ;\r\n",
      "\t\t:references = \"Based on the initial model of Liang et al., 1994, JGR, 99, 14,415- 14,429.\" ;\r\n",
      "\t\t:comment = \"Output from the Variable Infiltration Capacity (VIC) model.\" ;\r\n",
      "\t\t:nco_openmp_thread_number = 1 ;\r\n",
      "\t\t:NCO = \"\\\"4.6.0\\\"\" ;\r\n",
      "\t\t:history = \"Tue Dec 27 14:15:22 2016: ncatted -a dimensions,,d,, rasm.nc rasm.nc\\nTue Dec 27 13:38:40 2016: ncks -3 rasm.nc rasm.nc\\nhistory deleted for brevity\" ;\r\n",
      "}\r\n"
     ]
    }
   ],
   "source": [
    "!ncdump -h ./data/rasm.nc"
   ]
  },
  {
   "cell_type": "code",
   "execution_count": 2,
   "metadata": {},
   "outputs": [],
   "source": [
    "import xarray as xr\n",
    "from glob import glob"
   ]
  },
  {
   "cell_type": "code",
   "execution_count": 3,
   "metadata": {},
   "outputs": [
    {
     "data": {
      "text/plain": [
       "<xarray.Dataset>\n",
       "Dimensions:  (time: 36, x: 275, y: 205)\n",
       "Coordinates:\n",
       "  * time     (time) object 1980-09-16 12:00:00 ... 1983-08-17 00:00:00\n",
       "    xc       (y, x) float64 ...\n",
       "    yc       (y, x) float64 ...\n",
       "Dimensions without coordinates: x, y\n",
       "Data variables:\n",
       "    Tair     (time, y, x) float64 ...\n",
       "Attributes:\n",
       "    title:                     /workspace/jhamman/processed/R1002RBRxaaa01a/l...\n",
       "    institution:               U.W.\n",
       "    source:                    RACM R1002RBRxaaa01a\n",
       "    output_frequency:          daily\n",
       "    output_mode:               averaged\n",
       "    convention:                CF-1.4\n",
       "    references:                Based on the initial model of Liang et al., 19...\n",
       "    comment:                   Output from the Variable Infiltration Capacity...\n",
       "    nco_openmp_thread_number:  1\n",
       "    NCO:                       \"4.6.0\"\n",
       "    history:                   Tue Dec 27 14:15:22 2016: ncatted -a dimension..."
      ]
     },
     "execution_count": 3,
     "metadata": {},
     "output_type": "execute_result"
    }
   ],
   "source": [
    "ds = xr.open_dataset('./data/rasm.nc')\n",
    "ds"
   ]
  },
  {
   "cell_type": "markdown",
   "metadata": {},
   "source": [
    "## Saving xarray datasets as netcdf files\n",
    "\n",
    "Xarray provides a high-level method for writing netCDF files directly from Xarray Datasets/DataArrays."
   ]
  },
  {
   "cell_type": "code",
   "execution_count": 4,
   "metadata": {},
   "outputs": [],
   "source": [
    "ds.to_netcdf('./data/rasm_test.nc')"
   ]
  },
  {
   "cell_type": "markdown",
   "metadata": {},
   "source": [
    "## Multifile datasets\n",
    "\n",
    "Xarray can read/write multifile datasets using the `open_mfdataset` and `save_mfdataset` functions. "
   ]
  },
  {
   "cell_type": "code",
   "execution_count": 5,
   "metadata": {},
   "outputs": [
    {
     "data": {
      "text/plain": [
       "['./data/1980.nc', './data/1981.nc', './data/1982.nc', './data/1983.nc']"
      ]
     },
     "execution_count": 5,
     "metadata": {},
     "output_type": "execute_result"
    }
   ],
   "source": [
    "paths = glob('./data/19*.nc')\n",
    "paths"
   ]
  },
  {
   "cell_type": "code",
   "execution_count": 6,
   "metadata": {},
   "outputs": [
    {
     "name": "stderr",
     "output_type": "stream",
     "text": [
      "/Users/abanihi/opt/miniconda3/envs/analysis/lib/python3.7/site-packages/xarray/backends/api.py:783: FutureWarning: In xarray version 0.13 `auto_combine` will be deprecated.\n",
      "  coords=coords)\n",
      "/Users/abanihi/opt/miniconda3/envs/analysis/lib/python3.7/site-packages/xarray/backends/api.py:783: FutureWarning: The datasets supplied have global dimension coordinates. You may want\n",
      "to use the new `combine_by_coords` function (or the\n",
      "`combine='by_coords'` option to `open_mfdataset` to order the datasets\n",
      "before concatenation. Alternatively, to continue concatenating based\n",
      "on the order the datasets are supplied in in future, please use the\n",
      "new `combine_nested` function (or the `combine='nested'` option to\n",
      "open_mfdataset).\n",
      "  coords=coords)\n"
     ]
    },
    {
     "data": {
      "text/plain": [
       "<xarray.Dataset>\n",
       "Dimensions:  (time: 36, x: 275, y: 205)\n",
       "Coordinates:\n",
       "    xc       (y, x) float64 189.2 189.4 189.6 189.7 ... 17.65 17.4 17.15 16.91\n",
       "    yc       (y, x) float64 16.53 16.78 17.02 17.27 ... 28.26 28.01 27.76 27.51\n",
       "  * time     (time) object 1980-09-16 12:00:00 ... 1983-08-17 00:00:00\n",
       "Dimensions without coordinates: x, y\n",
       "Data variables:\n",
       "    Tair     (time, y, x) float64 dask.array<shape=(36, 205, 275), chunksize=(4, 205, 275)>\n",
       "Attributes:\n",
       "    title:                     /workspace/jhamman/processed/R1002RBRxaaa01a/l...\n",
       "    institution:               U.W.\n",
       "    source:                    RACM R1002RBRxaaa01a\n",
       "    output_frequency:          daily\n",
       "    output_mode:               averaged\n",
       "    convention:                CF-1.4\n",
       "    references:                Based on the initial model of Liang et al., 19...\n",
       "    comment:                   Output from the Variable Infiltration Capacity...\n",
       "    nco_openmp_thread_number:  1\n",
       "    NCO:                       \"4.6.0\"\n",
       "    history:                   Tue Dec 27 14:15:22 2016: ncatted -a dimension..."
      ]
     },
     "execution_count": 6,
     "metadata": {},
     "output_type": "execute_result"
    }
   ],
   "source": [
    "ds2 = xr.open_mfdataset(paths)\n",
    "ds2"
   ]
  },
  {
   "cell_type": "markdown",
   "metadata": {},
   "source": [
    "## Zarr\n",
    "\n",
    "Zarr is a Python package providing an implementation of chunked, compressed, N-dimensional arrays. Zarr has the ability to store arrays in a range of ways, including in memory, in files, and in cloud-based object storage such as Amazon S3 and Google Cloud Storage. Xarray’s Zarr backend allows xarray to leverage these capabilities."
   ]
  },
  {
   "cell_type": "code",
   "execution_count": 7,
   "metadata": {},
   "outputs": [
    {
     "data": {
      "text/plain": [
       "<xarray.backends.zarr.ZarrStore at 0x117e0eda0>"
      ]
     },
     "execution_count": 7,
     "metadata": {},
     "output_type": "execute_result"
    }
   ],
   "source": [
    "# save to a Zarr dataset\n",
    "ds.to_zarr('./data/rasm.zarr', mode='w')"
   ]
  },
  {
   "cell_type": "code",
   "execution_count": 8,
   "metadata": {},
   "outputs": [
    {
     "name": "stdout",
     "output_type": "stream",
     "text": [
      "\u001b[34mTair\u001b[m\u001b[m \u001b[34mtime\u001b[m\u001b[m \u001b[34mxc\u001b[m\u001b[m   \u001b[34myc\u001b[m\u001b[m\r\n"
     ]
    }
   ],
   "source": [
    "!ls ./data/rasm.zarr"
   ]
  },
  {
   "cell_type": "code",
   "execution_count": 9,
   "metadata": {},
   "outputs": [
    {
     "name": "stdout",
     "output_type": "stream",
     "text": [
      "348K\t./data/rasm.zarr/yc\r\n",
      " 12K\t./data/rasm.zarr/time\r\n",
      "7.6M\t./data/rasm.zarr/Tair\r\n",
      "332K\t./data/rasm.zarr/xc\r\n",
      "8.3M\t./data/rasm.zarr\r\n"
     ]
    }
   ],
   "source": [
    "!du -h ./data/rasm.zarr"
   ]
  },
  {
   "cell_type": "markdown",
   "metadata": {},
   "source": [
    "## Going Further\n",
    "    \n",
    "- Xarray I/O Documentation: http://xarray.pydata.org/en/latest/io.html\n",
    "\n",
    "- Zarr Documentation: https://zarr.readthedocs.io/en/stable/\n",
    "\n"
   ]
  },
  {
   "cell_type": "markdown",
   "metadata": {},
   "source": [
    "<div class=\"alert alert-block alert-success\">\n",
    "  <p>Previous: <a href=\"01_getting_started_with_xarray.ipynb\">Getting Started with Xarray</a></p>\n",
    "  <p>Next: <a href=\"03_indexing.ipynb\">Indexing</a></p>\n",
    "</div>"
   ]
  }
 ],
 "metadata": {
  "kernelspec": {
   "display_name": "Python [conda env:analysis]",
   "language": "python",
   "name": "conda-env-analysis-py"
  },
  "language_info": {
   "codemirror_mode": {
    "name": "ipython",
    "version": 3
   },
   "file_extension": ".py",
   "mimetype": "text/x-python",
   "name": "python",
   "nbconvert_exporter": "python",
   "pygments_lexer": "ipython3",
   "version": "3.7.3"
  },
  "toc": {
   "base_numbering": 1,
   "nav_menu": {},
   "number_sections": true,
   "sideBar": true,
   "skip_h1_title": false,
   "title_cell": "Table of Contents",
   "title_sidebar": "Contents",
   "toc_cell": true,
   "toc_position": {},
   "toc_section_display": true,
   "toc_window_display": true
  }
 },
 "nbformat": 4,
 "nbformat_minor": 2
}
