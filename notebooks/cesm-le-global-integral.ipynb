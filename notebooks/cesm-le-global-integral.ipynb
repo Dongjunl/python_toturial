{
 "cells": [
  {
   "cell_type": "code",
   "execution_count": 1,
   "metadata": {},
   "outputs": [],
   "source": [
    "import os\n",
    "import socket\n",
    "\n",
    "import dask\n",
    "import dask.distributed\n",
    "import ncar_jobqueue\n",
    "\n",
    "import xarray as xr\n",
    "import numpy as np\n",
    "import esmlab\n",
    "\n",
    "import intake\n",
    "import intake_esm"
   ]
  },
  {
   "cell_type": "code",
   "execution_count": 2,
   "metadata": {},
   "outputs": [],
   "source": [
    "cluster = ncar_jobqueue.NCARCluster()\n",
    "client = dask.distributed.Client(cluster)\n",
    "n_workers = 9 * 10\n",
    "cluster.scale(n_workers)"
   ]
  },
  {
   "cell_type": "code",
   "execution_count": 3,
   "metadata": {},
   "outputs": [
    {
     "data": {
      "text/html": [
       "<table style=\"border: 2px solid white;\">\n",
       "<tr>\n",
       "<td style=\"vertical-align: top; border: 0px solid white\">\n",
       "<h3>Client</h3>\n",
       "<ul>\n",
       "  <li><b>Scheduler: </b>tcp://10.148.10.13:49566\n",
       "  <li><b>Dashboard: </b><a href='http://10.148.10.13/proxy/8787/status' target='_blank'>http://10.148.10.13/proxy/8787/status</a>\n",
       "</ul>\n",
       "</td>\n",
       "<td style=\"vertical-align: top; border: 0px solid white\">\n",
       "<h3>Cluster</h3>\n",
       "<ul>\n",
       "  <li><b>Workers: </b>0</li>\n",
       "  <li><b>Cores: </b>0</li>\n",
       "  <li><b>Memory: </b>0 B</li>\n",
       "</ul>\n",
       "</td>\n",
       "</tr>\n",
       "</table>"
      ],
      "text/plain": [
       "<Client: scheduler='tcp://10.148.10.13:49566' processes=0 cores=0>"
      ]
     },
     "execution_count": 3,
     "metadata": {},
     "output_type": "execute_result"
    }
   ],
   "source": [
    "client"
   ]
  },
  {
   "cell_type": "code",
   "execution_count": 4,
   "metadata": {},
   "outputs": [
    {
     "name": "stdout",
     "output_type": "stream",
     "text": [
      "<class 'pandas.core.frame.DataFrame'>\n",
      "Int64Index: 116276 entries, 0 to 116275\n",
      "Data columns (total 18 columns):\n",
      "resource            116276 non-null object\n",
      "resource_type       116276 non-null object\n",
      "direct_access       116276 non-null bool\n",
      "experiment          116276 non-null object\n",
      "case                116276 non-null object\n",
      "component           116276 non-null object\n",
      "stream              116276 non-null object\n",
      "variable            116276 non-null object\n",
      "date_range          116276 non-null object\n",
      "ensemble            116276 non-null int64\n",
      "files               116276 non-null object\n",
      "files_basename      116276 non-null object\n",
      "files_dirname       116276 non-null object\n",
      "ctrl_branch_year    0 non-null float64\n",
      "year_offset         15145 non-null float64\n",
      "sequence_order      116276 non-null int64\n",
      "has_ocean_bgc       116276 non-null bool\n",
      "grid                13013 non-null object\n",
      "dtypes: bool(2), float64(2), int64(2), object(12)\n",
      "memory usage: 15.3+ MB\n"
     ]
    }
   ],
   "source": [
    "col = intake.open_esm_metadatastore(\n",
    "    collection_input_file='cesm1-le-collection.yml',\n",
    "    overwrite_existing=False)\n",
    "col.df.info()"
   ]
  },
  {
   "cell_type": "code",
   "execution_count": 5,
   "metadata": {},
   "outputs": [],
   "source": [
    "def weighted_mean_ds(ds, weights, dim):\n",
    "\n",
    "    if callable(weights):\n",
    "        weights = weights(ds)\n",
    "        \n",
    "   \n",
    "    # find variables where all `dim` appear (not sure we need to be this restrictive)\n",
    "    variable_list = [v for v, da in ds.variables.items() \n",
    "                     if all(d in da.dims for d in dim)]\n",
    "   \n",
    "    # copy vars\n",
    "    dso = xr.Dataset({v: da for v, da in ds.variables.items() if v not in variable_list})\n",
    "\n",
    "    # compute \n",
    "    apply_nan_mask = True\n",
    "    for v in variable_list:\n",
    "        dso[v] = esmlab.statistics.weighted_mean(ds[v], weights=weights, dim=dim,\n",
    "                                                apply_nan_mask=apply_nan_mask)\n",
    "        apply_nan_mask = False\n",
    "    \n",
    "    return dso"
   ]
  },
  {
   "cell_type": "code",
   "execution_count": 6,
   "metadata": {},
   "outputs": [],
   "source": [
    "def vol3d(ds):\n",
    "\n",
    "    nk = len(ds.z_t)\n",
    "    nj = ds.KMT.shape[0]\n",
    "    ni = ds.KMT.shape[1]\n",
    "\n",
    "    # make 3D array of 0:km\n",
    "    MASK = (xr.DataArray(np.arange(0, len(ds.z_t)), dims=('z_t'), \n",
    "                        coords={'z_t': ds.z_t}) *\n",
    "            xr.DataArray(np.ones((nk, nj, ni)), dims=('z_t', 'nlat', 'nlon'),\n",
    "                         coords={'z_t': ds.z_t}))\n",
    "\n",
    "    # mask out cells where k is below KMT\n",
    "    MASK = MASK.where(MASK <= ds.KMT - 1)\n",
    "    MASK.values = np.where(MASK.notnull(), 1., 0.)\n",
    "\n",
    "    MASKED_VOL = ds.dz * ds.TAREA * MASK\n",
    "    MASKED_VOL.attrs['units'] = 'cm^3'\n",
    "    MASKED_VOL.attrs['long_name'] = 'masked volume'\n",
    "\n",
    "    return MASKED_VOL"
   ]
  },
  {
   "cell_type": "code",
   "execution_count": 7,
   "metadata": {},
   "outputs": [
    {
     "name": "stdout",
     "output_type": "stream",
     "text": [
      "[2, 9, 10]\n"
     ]
    }
   ],
   "source": [
    "ensembles = col.search(experiment=['20C', 'RCP85'], has_ocean_bgc=True).results.ensemble.unique().tolist()\n",
    "ensembles = ensembles[1:4]\n",
    "print(ensembles)"
   ]
  },
  {
   "cell_type": "code",
   "execution_count": null,
   "metadata": {},
   "outputs": [],
   "source": [
    "variable = ['O2']\n",
    "query = dict(ensemble=ensembles, experiment=['20C', 'RCP85'], \n",
    "             stream='pop.h', variable=variable)\n",
    "\n",
    "col_subset = col.search(**query)\n",
    "    \n",
    "# get a dataset\n",
    "ds = col_subset.to_xarray()\n",
    "\n",
    "# select the time range\n",
    "#dso = esmlab.utils.time.sel_time(ds, slice('1920', '2100'))\n",
    "\n",
    "# compute annual means\n",
    "dso = esmlab.climatology.compute_ann_mean(ds)\n",
    "\n",
    "# compute global average\n",
    "dso = weighted_mean_ds(dso, weights=vol3d, dim=['z_t', 'nlat', 'nlon'])\n",
    "\n",
    "# compute the dataset \n",
    "dso = dso.compute()\n",
    "\n",
    "dso.to_netcdf(f'/glade/scratch/mclong/tmp/le-{\"-\".join(variable)}-global-mean.nc')"
   ]
  },
  {
   "cell_type": "code",
   "execution_count": null,
   "metadata": {},
   "outputs": [],
   "source": [
    "cluster.close()"
   ]
  },
  {
   "cell_type": "code",
   "execution_count": null,
   "metadata": {},
   "outputs": [],
   "source": [
    "ds"
   ]
  },
  {
   "cell_type": "code",
   "execution_count": null,
   "metadata": {},
   "outputs": [],
   "source": [
    "set(ds.coords) - set(ds.dims)"
   ]
  },
  {
   "cell_type": "code",
   "execution_count": null,
   "metadata": {},
   "outputs": [],
   "source": []
  }
 ],
 "metadata": {
  "kernelspec": {
   "display_name": "Python [conda env:dev]",
   "language": "python",
   "name": "conda-env-dev-py"
  },
  "language_info": {
   "codemirror_mode": {
    "name": "ipython",
    "version": 3
   },
   "file_extension": ".py",
   "mimetype": "text/x-python",
   "name": "python",
   "nbconvert_exporter": "python",
   "pygments_lexer": "ipython3",
   "version": "3.7.1"
  }
 },
 "nbformat": 4,
 "nbformat_minor": 2
}
