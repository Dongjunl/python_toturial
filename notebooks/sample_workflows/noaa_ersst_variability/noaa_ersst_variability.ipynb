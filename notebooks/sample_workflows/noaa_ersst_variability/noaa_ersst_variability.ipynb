{
 "cells": [
  {
   "cell_type": "markdown",
   "metadata": {},
   "source": [
    "# El Niño / Southern Oscillation (ENSO) from Sea Surface Temperature (SST)"
   ]
  },
  {
   "cell_type": "markdown",
   "metadata": {
    "toc": true
   },
   "source": [
    "<h1>Table of Contents<span class=\"tocSkip\"></span></h1>\n",
    "<div class=\"toc\"><ul class=\"toc-item\"><li><span><a href=\"#El-Niño-/-Southern-Oscillation-(ENSO)-from-Sea-Surface-Temperature-(SST)\" data-toc-modified-id=\"El-Niño-/-Southern-Oscillation-(ENSO)-from-Sea-Surface-Temperature-(SST)-1\"><span class=\"toc-item-num\">1&nbsp;&nbsp;</span>El Niño / Southern Oscillation (ENSO) from Sea Surface Temperature (SST)</a></span><ul class=\"toc-item\"><li><span><a href=\"#Learning-Objectives\" data-toc-modified-id=\"Learning-Objectives-1.1\"><span class=\"toc-item-num\">1.1&nbsp;&nbsp;</span>Learning Objectives</a></span></li><li><span><a href=\"#Access-data-directly-from-NOAA-using-OpenDAP-protocol\" data-toc-modified-id=\"Access-data-directly-from-NOAA-using-OpenDAP-protocol-1.2\"><span class=\"toc-item-num\">1.2&nbsp;&nbsp;</span>Access data directly from NOAA using OpenDAP protocol</a></span></li><li><span><a href=\"#Select-only-the-more-recent-part-of-the-data.\" data-toc-modified-id=\"Select-only-the-more-recent-part-of-the-data.-1.3\"><span class=\"toc-item-num\">1.3&nbsp;&nbsp;</span>Select only the more recent part of the data.</a></span></li><li><span><a href=\"#Interactive-Plot\" data-toc-modified-id=\"Interactive-Plot-1.4\"><span class=\"toc-item-num\">1.4&nbsp;&nbsp;</span>Interactive Plot</a></span></li><li><span><a href=\"#Calculate-Climatology-and-Monthly-Anomaly\" data-toc-modified-id=\"Calculate-Climatology-and-Monthly-Anomaly-1.5\"><span class=\"toc-item-num\">1.5&nbsp;&nbsp;</span>Calculate Climatology and Monthly Anomaly</a></span></li><li><span><a href=\"#Plot-global-mean\" data-toc-modified-id=\"Plot-global-mean-1.6\"><span class=\"toc-item-num\">1.6&nbsp;&nbsp;</span>Plot global mean</a></span></li><li><span><a href=\"#Calculate-Oceanic-Niño-Index\" data-toc-modified-id=\"Calculate-Oceanic-Niño-Index-1.7\"><span class=\"toc-item-num\">1.7&nbsp;&nbsp;</span>Calculate Oceanic Niño Index</a></span></li><li><span><a href=\"#Composite-the-global-SST-on-the-Niño3.4-index\" data-toc-modified-id=\"Composite-the-global-SST-on-the-Niño3.4-index-1.8\"><span class=\"toc-item-num\">1.8&nbsp;&nbsp;</span>Composite the global SST on the Niño3.4 index</a></span></li><li><span><a href=\"#Calculate-Empirical-Orthogonal-Functions\" data-toc-modified-id=\"Calculate-Empirical-Orthogonal-Functions-1.9\"><span class=\"toc-item-num\">1.9&nbsp;&nbsp;</span>Calculate Empirical Orthogonal Functions</a></span></li><li><span><a href=\"#Going-Further\" data-toc-modified-id=\"Going-Further-1.10\"><span class=\"toc-item-num\">1.10&nbsp;&nbsp;</span>Going Further</a></span></li></ul></li></ul></div>"
   ]
  },
  {
   "cell_type": "markdown",
   "metadata": {},
   "source": [
    "\n",
    "\n",
    "\n",
    "**Author:** [Ryan Abernathey](http://rabernat.github.io)\n",
    "\n",
    "According to [NOAA](https://www.esrl.noaa.gov/psd/enso/):\n",
    ">  El Niño and La Niña, together called the El Niño Southern Oscillation (ENSO), are periodic departures from expected sea surface temperatures (SSTs) in the equatorial Pacific Ocean. These warmer or cooler than normal ocean temperatures can affect weather patterns around the world by influencing high and low pressure systems, winds, and precipitation. ENSO may bring much needed moisture to a region while causing extremes of too much or too little water in others.\n",
    "\n",
    "\n",
    "## Learning Objectives\n",
    "\n",
    "In this notebook, we use the python [xarray](http://xarray.pydata.org/en/latest/) package to examine SST data from NOAA's [Extended Reconstructed Sea Surface Temperature (ERSST) v5](https://www.ncdc.noaa.gov/data-access/marineocean-data/extended-reconstructed-sea-surface-temperature-ersst-v5) product.\n",
    "We use [holoviews](http://holoviews.org/) to interactively visualize the data.\n",
    "We then demonstrate how easy it is to calculate the [Niño3.4 index](https://www.ncdc.noaa.gov/teleconnections/enso/indicators/sst/).\n",
    "Finally, we use the [EOFS](https://ajdawson.github.io/eofs/index.html) package to compute the Emprical Orthogoal Functions of global SST."
   ]
  },
  {
   "cell_type": "code",
   "execution_count": null,
   "metadata": {},
   "outputs": [],
   "source": [
    "import warnings\n",
    "warnings.filterwarnings('ignore')\n",
    "import xarray as xr\n",
    "from matplotlib import pyplot as plt\n",
    "import numpy as np\n",
    "import hvplot.xarray\n",
    "import holoviews as hv\n",
    "hv.extension('bokeh')\n",
    "%matplotlib inline"
   ]
  },
  {
   "cell_type": "markdown",
   "metadata": {},
   "source": [
    "## Access data directly from NOAA using OpenDAP protocol\n",
    "\n",
    "OPeNDAP is a means by which a user can access a remote file over the internet. Xarray has has OPeNDAP capabilities:"
   ]
  },
  {
   "cell_type": "code",
   "execution_count": null,
   "metadata": {},
   "outputs": [],
   "source": [
    "url = 'http://www.esrl.noaa.gov/psd/thredds/dodsC/Datasets/noaa.ersst.v5/sst.mnmean.nc'\n",
    "ds = xr.open_dataset(url)\n",
    "ds"
   ]
  },
  {
   "cell_type": "markdown",
   "metadata": {},
   "source": [
    "## Select only the more recent part of the data."
   ]
  },
  {
   "cell_type": "code",
   "execution_count": null,
   "metadata": {},
   "outputs": [],
   "source": [
    "ds = ds.sel(time=slice('1960', '2019'))\n",
    "ds"
   ]
  },
  {
   "cell_type": "code",
   "execution_count": null,
   "metadata": {},
   "outputs": [],
   "source": [
    "# size of data in MB\n",
    "ds.nbytes/1e6 "
   ]
  },
  {
   "cell_type": "code",
   "execution_count": null,
   "metadata": {},
   "outputs": [],
   "source": [
    "# actually download the data\n",
    "ds.load()"
   ]
  },
  {
   "cell_type": "markdown",
   "metadata": {},
   "source": [
    "## Interactive Plot"
   ]
  },
  {
   "cell_type": "code",
   "execution_count": null,
   "metadata": {},
   "outputs": [],
   "source": [
    "%output holomap='scrubber' fps=3\n",
    "ds.sst.hvplot('lon', 'lat', cmap='Magma').redim.range(sst=(-2, 30))"
   ]
  },
  {
   "cell_type": "markdown",
   "metadata": {},
   "source": [
    "## Calculate Climatology and Monthly Anomaly\n",
    "\n",
    "Xarray makes this particularly easy"
   ]
  },
  {
   "cell_type": "code",
   "execution_count": null,
   "metadata": {},
   "outputs": [],
   "source": [
    "sst_clim = ds.sst.groupby('time.month').mean(dim='time')\n",
    "sst_anom = ds.sst.groupby('time.month') - sst_clim"
   ]
  },
  {
   "cell_type": "markdown",
   "metadata": {},
   "source": [
    "Detrend signal"
   ]
  },
  {
   "cell_type": "code",
   "execution_count": null,
   "metadata": {},
   "outputs": [],
   "source": [
    "from scipy.signal import detrend\n",
    "sst_anom_detrended = xr.apply_ufunc(detrend, sst_anom.fillna(0),\n",
    "                                    kwargs={'axis': 0}).where(~sst_anom.isnull())"
   ]
  },
  {
   "cell_type": "markdown",
   "metadata": {},
   "source": [
    "## Plot global mean"
   ]
  },
  {
   "cell_type": "code",
   "execution_count": null,
   "metadata": {},
   "outputs": [],
   "source": [
    "# For a global average, we need to weigh the points by cosine of latitude.\n",
    "# This is not built into xarray because xarray is not specific to geoscientific data.\n",
    "weights = np.cos(np.deg2rad(ds.lat)).where(~sst_anom[0].isnull())\n",
    "weights /= weights.mean()"
   ]
  },
  {
   "cell_type": "code",
   "execution_count": null,
   "metadata": {},
   "outputs": [],
   "source": [
    "(sst_anom * weights).mean(dim=['lon', 'lat']).plot(label='raw')\n",
    "(sst_anom_detrended * weights).mean(dim=['lon', 'lat']).plot(label='detrended')\n",
    "plt.grid()\n",
    "plt.legend()"
   ]
  },
  {
   "cell_type": "code",
   "execution_count": null,
   "metadata": {},
   "outputs": [],
   "source": [
    "sst_anom_detrended.hvplot('lon', 'lat', cmap='RdBu_r').redim.range(sst=(-2, 2))"
   ]
  },
  {
   "cell_type": "markdown",
   "metadata": {},
   "source": [
    "## Calculate Oceanic Niño Index"
   ]
  },
  {
   "cell_type": "code",
   "execution_count": null,
   "metadata": {},
   "outputs": [],
   "source": [
    "sst_anom_nino34 = sst_anom_detrended.sel(lat=slice(5, -5), lon=slice(190, 240))\n",
    "sst_anom_nino34_mean = sst_anom_nino34.mean(dim=('lon', 'lat'))\n",
    "oni = sst_anom_nino34_mean.rolling(time=3, center=True).mean()"
   ]
  },
  {
   "cell_type": "markdown",
   "metadata": {},
   "source": [
    "Plot it:"
   ]
  },
  {
   "cell_type": "code",
   "execution_count": null,
   "metadata": {},
   "outputs": [],
   "source": [
    "oni.plot()\n",
    "plt.grid()\n",
    "plt.ylabel('Anomaly (dec. C)');"
   ]
  },
  {
   "cell_type": "markdown",
   "metadata": {},
   "source": [
    "Compare to the [official version](https://www.ncdc.noaa.gov/teleconnections/enso/indicators/sst/) from NOAA:"
   ]
  },
  {
   "cell_type": "markdown",
   "metadata": {},
   "source": [
    "![NOAA Nino 3.4](../../../assets/noaa-nino-sst.gif)"
   ]
  },
  {
   "cell_type": "markdown",
   "metadata": {},
   "source": [
    "## Composite the global SST on the Niño3.4 index"
   ]
  },
  {
   "cell_type": "code",
   "execution_count": null,
   "metadata": {},
   "outputs": [],
   "source": [
    "positive_oni = ((oni>0.5).astype('b').rolling(time=5, center=True).sum()==5)\n",
    "negative_oni = ((oni<0.5).astype('b').rolling(time=5, center=True).sum()==5)\n",
    "positive_oni.astype('i').plot(marker='.', label='positive')\n",
    "(-negative_oni.astype('i')).plot(marker='.', label='negative')\n",
    "plt.legend()"
   ]
  },
  {
   "cell_type": "code",
   "execution_count": null,
   "metadata": {},
   "outputs": [],
   "source": [
    "sst_anom.where(positive_oni).mean(dim='time').plot()\n",
    "plt.title('SST Anomaly - Positive Niño3.4');"
   ]
  },
  {
   "cell_type": "code",
   "execution_count": null,
   "metadata": {},
   "outputs": [],
   "source": [
    "sst_anom.where(negative_oni).mean(dim='time').plot()\n",
    "plt.title('SST Anomaly - Negative Niño3.4');"
   ]
  },
  {
   "cell_type": "markdown",
   "metadata": {},
   "source": [
    "## Calculate Empirical Orthogonal Functions"
   ]
  },
  {
   "cell_type": "markdown",
   "metadata": {},
   "source": [
    "Using (EOFs) empirical orthogonal functions is a common technique to decompose a signal varying in time and space into a form that is easier to interpret in terms of spatial and temporal variance. "
   ]
  },
  {
   "cell_type": "code",
   "execution_count": null,
   "metadata": {},
   "outputs": [],
   "source": [
    "from eofs.xarray import Eof\n",
    "solver = Eof(sst_anom_detrended, weights=np.sqrt(weights))\n",
    "eof1 = solver.eofsAsCorrelation(neofs=1)\n",
    "pc1 = solver.pcs(npcs=1, pcscaling=1)"
   ]
  },
  {
   "cell_type": "code",
   "execution_count": null,
   "metadata": {},
   "outputs": [],
   "source": [
    "eof1.sel(mode=0).plot()"
   ]
  },
  {
   "cell_type": "markdown",
   "metadata": {},
   "source": [
    "The first principal component is almost identical to the ONI."
   ]
  },
  {
   "cell_type": "code",
   "execution_count": null,
   "metadata": {},
   "outputs": [],
   "source": [
    "pc1.sel(mode=0).plot(label='PC mode 0')\n",
    "(-oni).plot(label='- ONI')\n",
    "plt.grid()\n",
    "plt.legend()"
   ]
  },
  {
   "cell_type": "markdown",
   "metadata": {},
   "source": [
    "## Going Further\n",
    "\n",
    "- [eofs package documentation](https://ajdawson.github.io/eofs/latest/index.html)\n",
    "- [hvPlot documentation](https://hvplot.pyviz.org/)\n",
    "- [holoviews documentation](http://holoviews.org/)"
   ]
  }
 ],
 "metadata": {
  "kernelspec": {
   "display_name": "Python [conda env:analysis]",
   "language": "python",
   "name": "conda-env-analysis-py"
  },
  "language_info": {
   "codemirror_mode": {
    "name": "ipython",
    "version": 3
   },
   "file_extension": ".py",
   "mimetype": "text/x-python",
   "name": "python",
   "nbconvert_exporter": "python",
   "pygments_lexer": "ipython3",
   "version": "3.7.3"
  },
  "toc": {
   "base_numbering": 1,
   "nav_menu": {},
   "number_sections": true,
   "sideBar": true,
   "skip_h1_title": false,
   "title_cell": "Table of Contents",
   "title_sidebar": "Contents",
   "toc_cell": true,
   "toc_position": {},
   "toc_section_display": true,
   "toc_window_display": true
  }
 },
 "nbformat": 4,
 "nbformat_minor": 4
}
