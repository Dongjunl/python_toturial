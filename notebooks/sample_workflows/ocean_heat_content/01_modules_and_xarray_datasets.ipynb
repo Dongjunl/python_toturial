{
 "cells": [
  {
   "cell_type": "code",
   "execution_count": null,
   "metadata": {},
   "outputs": [],
   "source": []
  },
  {
   "cell_type": "markdown",
   "metadata": {},
   "source": [
    "## End-to-End Workflow -- Book 1/4 Importing Modules and the Xarray DataSet\n",
    "\n",
    "### Demonstrating Python Tools through the Calculation of Oceah Heat Content\n",
    "\n",
    "Now that you're familiar with the Jupyter Notebook workspace, let's use some Python in a way that mirrors a potential usecase and integrates the teaching of Python geoscience tools when you would need them."
   ]
  },
  {
   "cell_type": "markdown",
   "metadata": {},
   "source": [
    "----------------"
   ]
  },
  {
   "cell_type": "markdown",
   "metadata": {},
   "source": [
    "### Step 1 -- Importing Modules\n",
    "\n",
    "This workflow will utilize the Xarray and Cf_units modules. Read about these here[]. \n",
    "\n",
    "Modules are `.py` Python files that consist of Python code to be called upon (read: imported) into other Python files or in the command line. A module contains Python classes, functions, or variables to be referenced elsewhere. This allows you to tuck away widely used helper functions, while providing a pointer to where the base code is.\n",
    "\n",
    "You can import a whole package, change its name using the `as` code, or import only select functions using `from`.\n",
    "\n",
    "It is common practice to import all modules at once at the beginning of a script, but we will import modules as we use them for clarity of use. For this notebook you will only need xarray."
   ]
  },
  {
   "cell_type": "code",
   "execution_count": 1,
   "metadata": {},
   "outputs": [],
   "source": [
    "import xarray as xr"
   ]
  },
  {
   "cell_type": "markdown",
   "metadata": {},
   "source": [
    "Did that work for you? If you do not have xarray installed it won't work. \n",
    "\n",
    "-- Let's pause --\n",
    "and make sure everyone has xarray!"
   ]
  },
  {
   "cell_type": "markdown",
   "metadata": {},
   "source": [
    "----------------"
   ]
  },
  {
   "cell_type": "markdown",
   "metadata": {},
   "source": [
    "### Step 2 -- Reading in a .nc File Using Xarray.open_dataset\n",
    "\n",
    "**What is Xarray?** \n",
    "Xarray is a package that allows for the labeling of dimensions in multi-dimensional datasets. [Here](http://xarray.pydata.org/en/stable/index.html) is Xarray's documentation.\n",
    "\n",
    "**To open a file** pass into `xarray.open_dataset` the relative file path plus name (`file`)."
   ]
  },
  {
   "cell_type": "code",
   "execution_count": 2,
   "metadata": {},
   "outputs": [],
   "source": [
    "path = '../../data/'\n",
    "file = path + 'thetao_Omon_historical_GISS-E2-1-G_r1i1p1f1_gn_185001-187012.nc'\n",
    "\n",
    "ds = xr.open_dataset(file)"
   ]
  },
  {
   "cell_type": "markdown",
   "metadata": {},
   "source": [
    "**What is an Xarray DataSet anyway?**\n",
    "\n",
    "Let's take a look!\n",
    "\n",
    "You will see dimensions, coordinates, variables, and attributes.\n",
    "\n",
    "**Dimensions**, or `dims`, are comprable to x, y, z arrays that span the length of your dataset in its first, second, and third dimension. What is unique about having dimensions in an xarray dataset, is you now have the functionality to name your dimensions in a way that has physical understanding. So if your data is two spatial dimensions and one time, you can name it lat, lon, and time, instead of 0, 1, and 2.\n",
    "\n",
    "**Coordinates**, or `coords`, contain information about each dimension. So the actual latitude, longitude, and time values as opposed to a generic array of the same length. You can have dimensionless coordinates or coordinateless dimensions.\n",
    "\n",
    "**Variables**, or `vars`, are your data. You can have more than one variable in a dataset.\n",
    "\n",
    "**Attributes**, or `attrs`, are everything else. All the meta data associated with this dataset."
   ]
  },
  {
   "cell_type": "code",
   "execution_count": null,
   "metadata": {},
   "outputs": [],
   "source": [
    "ds"
   ]
  },
  {
   "cell_type": "markdown",
   "metadata": {},
   "source": [
    "**What is an Xarray DataArray?**\n",
    "\n",
    "A DataArray is smaller than a DataSet. It only contains information pertaining to one variable.\n",
    "\n",
    "One way to convert a DataSet and a DataArray is to select the variable. And there are two main ways of doing that:"
   ]
  },
  {
   "cell_type": "code",
   "execution_count": null,
   "metadata": {},
   "outputs": [],
   "source": [
    "da = ds['thetao']\n",
    "da"
   ]
  },
  {
   "cell_type": "code",
   "execution_count": null,
   "metadata": {},
   "outputs": [],
   "source": [
    "da = ds.thetao\n",
    "da"
   ]
  },
  {
   "cell_type": "markdown",
   "metadata": {},
   "source": [
    "You can convert a DataArray back to a DataSet using `xarray.DataArray.to_dataset`. You would want to do this if you plan on adding new dimension, coordinate, or attribute information."
   ]
  },
  {
   "cell_type": "markdown",
   "metadata": {},
   "source": [
    "# <span style=\"color:red\"> Task 1 - Select a different variable from the dataset ds </span>\n",
    "\n",
    "Now you try isolating the DataArray for any other variable in the DataSet in the code cell block below:"
   ]
  },
  {
   "cell_type": "code",
   "execution_count": null,
   "metadata": {},
   "outputs": [],
   "source": [
    "# Your code here"
   ]
  },
  {
   "cell_type": "code",
   "execution_count": null,
   "metadata": {},
   "outputs": [],
   "source": []
  },
  {
   "cell_type": "markdown",
   "metadata": {},
   "source": [
    "<div class=\"alert alert-block alert-success\">\n",
    "  <p>Previous: <a href=\"01_modules_and_xarray_datasets.ipynb\">What is Git?</a></p>\n",
    "  <p>Next: <a href=\"02_subselecting_and_indexing_data.ipynb\">Branches</a></p>\n",
    "</div>"
   ]
  }
 ],
 "metadata": {
  "kernelspec": {
   "display_name": "Python 3",
   "language": "python",
   "name": "python3"
  },
  "language_info": {
   "codemirror_mode": {
    "name": "ipython",
    "version": 3
   },
   "file_extension": ".py",
   "mimetype": "text/x-python",
   "name": "python",
   "nbconvert_exporter": "python",
   "pygments_lexer": "ipython3",
   "version": "3.7.1"
  }
 },
 "nbformat": 4,
 "nbformat_minor": 2
}
