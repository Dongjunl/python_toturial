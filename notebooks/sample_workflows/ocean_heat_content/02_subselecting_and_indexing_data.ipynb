{
 "cells": [
  {
   "cell_type": "code",
   "execution_count": null,
   "metadata": {},
   "outputs": [],
   "source": []
  },
  {
   "cell_type": "markdown",
   "metadata": {},
   "source": [
    "Previously On:"
   ]
  },
  {
   "cell_type": "code",
   "execution_count": null,
   "metadata": {},
   "outputs": [],
   "source": [
    "import xarray as xr\n",
    "\n",
    "path = '../../../data/'\n",
    "file = path + 'thetao_Omon_historical_GISS-E2-1-G_r1i1p1f1_gn_185001-187012.nc'\n",
    "\n",
    "ds = xr.open_dataset(file, chunks = {'time': 16})\n",
    "\n",
    "da_thetao = ds['thetao']"
   ]
  },
  {
   "cell_type": "markdown",
   "metadata": {},
   "source": [
    "We will look at this for only one point. Since ds.lev is a DataArray (ds alone is a DataSet), we can select data by in the index:"
   ]
  },
  {
   "cell_type": "code",
   "execution_count": null,
   "metadata": {},
   "outputs": [],
   "source": [
    "level_point = ds.lev[0]\n",
    "level_point"
   ]
  },
  {
   "cell_type": "markdown",
   "metadata": {},
   "source": [
    "Let's one point in time using Xarray's `isel` method. `isel` refers to index-select and allows you to name the dimension in which you are subselecting. Read more about indexing and selecting data from an Xarray DataSet [here](http://xarray.pydata.org/en/stable/indexing.html)."
   ]
  },
  {
   "cell_type": "code",
   "execution_count": null,
   "metadata": {},
   "outputs": [],
   "source": [
    "heat_time0 = heat.isel(time=0)\n",
    "heat_time0"
   ]
  },
  {
   "cell_type": "code",
   "execution_count": null,
   "metadata": {},
   "outputs": [],
   "source": []
  },
  {
   "cell_type": "code",
   "execution_count": null,
   "metadata": {},
   "outputs": [],
   "source": [
    "heat_Jan_1860 = heat.sel(time=slice('1860-01-01','1860-02-01')).squeeze('time')\n",
    "heat_Jan_1860"
   ]
  },
  {
   "cell_type": "markdown",
   "metadata": {},
   "source": [
    "Now that we have our data, and have made sure the variables are in the correct units - let's use `xarray.DataArray.where` to filter our data to the depths where we want to integrate ocean heat content. This takes arguments as follows:\n",
    "\n",
    "```python\n",
    "da_filtered_2_conditions = da.where(condition, other = <NA>, drop = False)\n",
    "```\n",
    "\n",
    "Where the `other` and `drop` keyword specifies what you want to do with the data points that do not meet the condition.\n",
    "\n",
    "So if you wanted to limit lev_bnds_m to the top 50 meters of the ocean depth you would type:"
   ]
  },
  {
   "cell_type": "code",
   "execution_count": null,
   "metadata": {},
   "outputs": [],
   "source": [
    "level_bounds_limited = level_bounds_in_m.where(level_bounds_in_m < 50, drop = True)\n",
    "level_bounds_limited.values"
   ]
  },
  {
   "cell_type": "code",
   "execution_count": null,
   "metadata": {},
   "outputs": [],
   "source": [
    "## Task 5\n",
    "Limit depth to the top 100 m in the code cell block below:"
   ]
  },
  {
   "cell_type": "code",
   "execution_count": null,
   "metadata": {},
   "outputs": [],
   "source": []
  },
  {
   "cell_type": "markdown",
   "metadata": {},
   "source": [
    "This is close, but we want that last bound to be 50, not 'nan'. So we will use the other keyword, instead of drop. This allows us to specify that we want all bounds that do not meet the condition, to be turned to the value 50."
   ]
  },
  {
   "cell_type": "code",
   "execution_count": null,
   "metadata": {},
   "outputs": [],
   "source": [
    "level_bounds_limited = level_bounds_in_m.where(level_bounds_in_m < 50, other = 50)\n",
    "level_bounds_limited.values"
   ]
  },
  {
   "cell_type": "markdown",
   "metadata": {},
   "source": [
    "But we don't want to carry around all these extra indices! We will now drop whenever the difference between the top and bottom of a level is 0.\n",
    "\n",
    "To perform an integration, we need to find the step size (so the distance between each level bounds pair).\n",
    "\n",
    "Python is zero-indexed so `a[:,0]` means values from all (`:`) rows in the zeroth (`0`) (or first or leftmost - however is easier for you to think of it) column. And `a[:,1]` means values from all rows in the next (rightmost) column."
   ]
  },
  {
   "cell_type": "code",
   "execution_count": null,
   "metadata": {},
   "outputs": [],
   "source": [
    "delta_level = abs(level_bounds_limited[:, 1] - level_bounds_limited[:, 0])\n",
    "delta_level.values"
   ]
  },
  {
   "cell_type": "markdown",
   "metadata": {},
   "source": [
    "Then we limit our delta_lev values to drop all values of zero."
   ]
  },
  {
   "cell_type": "code",
   "execution_count": null,
   "metadata": {},
   "outputs": [],
   "source": [
    "delta_level_limited = delta_level.where(delta_level != 0, drop = True)\n",
    "delta_level_limited"
   ]
  },
  {
   "cell_type": "markdown",
   "metadata": {},
   "source": [
    "## Task 6\n",
    "We want to limit our temperature values by the same condition. Do so in the code cell block below:"
   ]
  },
  {
   "cell_type": "code",
   "execution_count": null,
   "metadata": {},
   "outputs": [],
   "source": []
  },
  {
   "cell_type": "markdown",
   "metadata": {},
   "source": [
    "Here is my solution:"
   ]
  },
  {
   "cell_type": "code",
   "execution_count": null,
   "metadata": {},
   "outputs": [],
   "source": [
    "temperature_limited = temperature_in_degK.where(delta_level != 0, drop = True)"
   ]
  },
  {
   "cell_type": "markdown",
   "metadata": {},
   "source": [
    "## Task 7\n",
    "Let's turn this functionality into a function that repeats this work flow (replaces depth values above the limit with the limit value, finds the delta values for each level, and limits the level deltas and temperature coordinates to the depth limit) for any depth limit. \n",
    "\n",
    "Write your function in the code cell block below:"
   ]
  },
  {
   "cell_type": "code",
   "execution_count": null,
   "metadata": {},
   "outputs": [],
   "source": []
  },
  {
   "cell_type": "markdown",
   "metadata": {},
   "source": [
    "Mine looks like:"
   ]
  },
  {
   "cell_type": "code",
   "execution_count": null,
   "metadata": {},
   "outputs": [],
   "source": [
    "def limit_depth_of_variables(level_bounds, temperature, depth_limit): \n",
    "    level_bounds_limited = level_bounds.where(level_bounds < depth_limit, depth_limit)\n",
    "    delta_level = abs(level_bounds_limited[:, 1] - level_bounds_limited[:, 0])\n",
    "    \n",
    "    delta_level_limited = delta_level.where(delta_level != 0, drop = True)\n",
    "    temperature_limited = temperature.where(delta_level != 0, drop = True)\n",
    "    \n",
    "    return delta_level_limited, temperature_limited"
   ]
  },
  {
   "cell_type": "code",
   "execution_count": null,
   "metadata": {},
   "outputs": [],
   "source": [
    "delta_level_limited, temperature_limited = limit_depth_of_variables(level_bounds_in_m, temperature_in_degK, 50)\n",
    "delta_level_limited, temperature_limited"
   ]
  },
  {
   "cell_type": "code",
   "execution_count": null,
   "metadata": {},
   "outputs": [],
   "source": []
  },
  {
   "cell_type": "markdown",
   "metadata": {},
   "source": [
    "<div class=\"alert alert-block alert-success\">\n",
    "  <p>Previous: <a href=\"01_modules_and_xarray_datasets.ipynb\">Modules and Xarray Datasets</a></p>\n",
    "  <p>Next: <a href=\"03_selecting_and_indexing_data.ipynb\">Selecting and Indexing Data</a></p>\n",
    "</div>"
   ]
  },
  {
   "cell_type": "code",
   "execution_count": null,
   "metadata": {},
   "outputs": [],
   "source": []
  }
 ],
 "metadata": {
  "kernelspec": {
   "display_name": "Python 3",
   "language": "python",
   "name": "python3"
  },
  "language_info": {
   "codemirror_mode": {
    "name": "ipython",
    "version": 3
   },
   "file_extension": ".py",
   "mimetype": "text/x-python",
   "name": "python",
   "nbconvert_exporter": "python",
   "pygments_lexer": "ipython3",
   "version": "3.7.1"
  }
 },
 "nbformat": 4,
 "nbformat_minor": 2
}
