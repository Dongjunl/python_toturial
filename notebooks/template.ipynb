{
 "cells": [
  {
   "cell_type": "code",
   "execution_count": 1,
   "metadata": {},
   "outputs": [],
   "source": [
    "import os\n",
    "import dask\n",
    "import dask_jobqueue\n",
    "import dask.distributed\n",
    "import socket "
   ]
  },
  {
   "cell_type": "code",
   "execution_count": 2,
   "metadata": {},
   "outputs": [],
   "source": [
    "dask.config.set({'distributed.dashboard.link':'http://localhost:{port}/status'})\n",
    "\n",
    "if 'casper' in socket.gethostname():\n",
    "    dask_jobqueue_cluster = dask_jobqueue.SLURMCluster\n",
    "    proc_per_job = dask.config.get('jobqueue.slurm.processes')\n",
    "    n_jobs = 10\n",
    "else:\n",
    "    dask_jobqueue_cluster = dask_jobqueue.PBSCluster\n",
    "    proc_per_job = dask.config.get('jobqueue.pbs.processes')\n",
    "    n_jobs = 4\n",
    "    \n",
    "n_workers = proc_per_job * n_jobs\n",
    "\n",
    "cluster = dask_jobqueue_cluster(\n",
    "    project='NCGD0011',\n",
    "    local_directory=os.path.expandvars('/glade/scratch/$USER/dask-tmp'))\n",
    "\n",
    "client = dask.distributed.Client(cluster)\n",
    "cluster.scale(n_workers)    "
   ]
  },
  {
   "cell_type": "code",
   "execution_count": 13,
   "metadata": {},
   "outputs": [
    {
     "data": {
      "text/html": [
       "<table style=\"border: 2px solid white;\">\n",
       "<tr>\n",
       "<td style=\"vertical-align: top; border: 0px solid white\">\n",
       "<h3>Client</h3>\n",
       "<ul>\n",
       "  <li><b>Scheduler: </b>tcp://10.12.205.13:42645\n",
       "  <li><b>Dashboard: </b><a href='http://localhost:8787/status' target='_blank'>http://localhost:8787/status</a>\n",
       "</ul>\n",
       "</td>\n",
       "<td style=\"vertical-align: top; border: 0px solid white\">\n",
       "<h3>Cluster</h3>\n",
       "<ul>\n",
       "  <li><b>Workers: </b>10</li>\n",
       "  <li><b>Cores: </b>10</li>\n",
       "  <li><b>Memory: </b>250.00 GB</li>\n",
       "</ul>\n",
       "</td>\n",
       "</tr>\n",
       "</table>"
      ],
      "text/plain": [
       "<Client: scheduler='tcp://10.12.205.13:42645' processes=10 cores=10>"
      ]
     },
     "execution_count": 13,
     "metadata": {},
     "output_type": "execute_result"
    }
   ],
   "source": [
    "client"
   ]
  }
 ],
 "metadata": {
  "kernelspec": {
   "display_name": "arctic_project",
   "language": "python",
   "name": "arctic_project"
  },
  "language_info": {
   "codemirror_mode": {
    "name": "ipython",
    "version": 3
   },
   "file_extension": ".py",
   "mimetype": "text/x-python",
   "name": "python",
   "nbconvert_exporter": "python",
   "pygments_lexer": "ipython3",
   "version": "3.6.7"
  }
 },
 "nbformat": 4,
 "nbformat_minor": 2
}
