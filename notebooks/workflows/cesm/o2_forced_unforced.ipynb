{
 "cells": [
  {
   "cell_type": "code",
   "execution_count": null,
   "metadata": {},
   "outputs": [],
   "source": [
    "%matplotlib inline\n",
    "from ncar_jobqueue import NCARCluster\n",
    "from dask.distributed import Client\n",
    "from distributed.utils import format_bytes\n",
    "import esmlab\n",
    "import xarray as xr\n",
    "import numpy as np\n",
    "import dask"
   ]
  },
  {
   "cell_type": "code",
   "execution_count": null,
   "metadata": {},
   "outputs": [],
   "source": [
    "dask.config.set({'distributed.dashboard.link': '/proxy/{port}/status'})"
   ]
  },
  {
   "cell_type": "code",
   "execution_count": null,
   "metadata": {},
   "outputs": [],
   "source": [
    "cluster = NCARCluster(memory=\"100GB\")\n",
    "cluster.adapt(minimum=1, maximum=10,  wait_count=30) # Adaptively scale between 1 and 10 dask workers\n",
    "client = Client(cluster) # Connect this local process to remote workers\n",
    "cluster"
   ]
  },
  {
   "cell_type": "code",
   "execution_count": null,
   "metadata": {},
   "outputs": [],
   "source": [
    "import intake\n",
    "from intake_esm import config"
   ]
  },
  {
   "cell_type": "code",
   "execution_count": null,
   "metadata": {},
   "outputs": [],
   "source": [
    "with config.set({'database-directory': '/glade/u/home/abanihi/.intake_esm/collections'}):\n",
    "    col = intake.open_esm_metadatastore(collection_name='CESM1-LE')\n",
    "    \n",
    "col.df.head() "
   ]
  },
  {
   "cell_type": "code",
   "execution_count": null,
   "metadata": {},
   "outputs": [],
   "source": [
    "keep_vars = ['O2', 'z_t', 'KMT', 'TAREA', 'TLONG', 'TLAT', 'time', 'time_bound', 'member_id']\n",
    "yr0, yr1 = 2006, 2055\n",
    "time_slice = slice(f'{yr0:04d}', f'{yr1:04d}')\n",
    "ctrl_time_slice = slice(f'{yr0-1448:04d}', f'{yr1-1448:04d}')"
   ]
  },
  {
   "cell_type": "code",
   "execution_count": null,
   "metadata": {},
   "outputs": [],
   "source": [
    "def clean_ds(ds):\n",
    "    ds.attrs = {}\n",
    "    ds.time.attrs['units'] = 'days since 0000-01-01 00:00:00'\n",
    "    ds.time.attrs['calendar'] = 'noleap'\n",
    "    \n",
    "    non_dim_coords = set(ds.coords) - set(ds.dims)\n",
    "    if non_dim_coords:\n",
    "        ds = ds.reset_coords(non_dim_coords)\n",
    "\n",
    "    ds = ds.drop([v for v in ds.variables if v not in keep_vars])\n",
    "    ds = ds.sel(z_t=200e2, method='nearest')\n",
    "    return ds\n",
    "\n",
    "\n",
    "def sel_time(ds, indexer_val, time_coord_name=None, year_offset=None):\n",
    "    esmlabacc = ds.esmlab.set_time(time_coord_name=time_coord_name)\n",
    "    time_coord_name = esmlabacc.time_coord_name\n",
    "    dso = esmlabacc.compute_time_var(year_offset=year_offset).sel(**{time_coord_name: indexer_val})\n",
    "    esmlabacc = dso.esmlab.set_time(time_coord_name=time_coord_name)\n",
    "    return esmlabacc.uncompute_time_var()"
   ]
  },
  {
   "cell_type": "code",
   "execution_count": null,
   "metadata": {},
   "outputs": [],
   "source": [
    "%%time\n",
    "dsets = col.search(experiment=['CTRL'], variable=['O2'])\\\n",
    "        .to_xarray(decode_times=False, chunks={'time': 240})\n",
    "_, dd = dsets.popitem()\n",
    "ctrl = clean_ds(dd)\n",
    "ctrl = sel_time(ctrl, ctrl_time_slice)\n",
    "ctrl = esmlab.resample(ctrl, freq='ann')\n",
    "print(ctrl)"
   ]
  },
  {
   "cell_type": "code",
   "execution_count": null,
   "metadata": {},
   "outputs": [],
   "source": [
    "%%time\n",
    "dsets = col.search(experiment=['20C', 'RCP85'], variable=['O2'])\\\n",
    "        .to_xarray(decode_times=False, chunks={'time': 240})\n",
    "print(dsets.keys())\n",
    "ds_20c = dsets['ocn.20C.pop.h']\n",
    "ds_rcp85 = dsets['ocn.RCP85.pop.h']\n",
    "dd = xr.concat([ds_20c, ds_rcp85], dim='time')\n",
    "ds = clean_ds(dd)\n",
    "ds = sel_time(ds, time_slice)\n",
    "ds = esmlab.resample(ds, freq='ann')\n",
    "print(ds)"
   ]
  },
  {
   "cell_type": "code",
   "execution_count": null,
   "metadata": {},
   "outputs": [],
   "source": [
    "format_bytes(ctrl.nbytes)"
   ]
  },
  {
   "cell_type": "code",
   "execution_count": null,
   "metadata": {},
   "outputs": [],
   "source": [
    "format_bytes(ds.nbytes)"
   ]
  },
  {
   "cell_type": "code",
   "execution_count": null,
   "metadata": {},
   "outputs": [],
   "source": [
    "def linear_trend(da, dim='time'):\n",
    "    da_chunk = da.chunk({dim: -1})\n",
    "    trend = xr.apply_ufunc(calc_slope, da_chunk,\n",
    "                           vectorize=True,\n",
    "                           input_core_dims=[[dim]],\n",
    "                           output_core_dims=[[]],\n",
    "                           output_dtypes=[np.float],\n",
    "                           dask='parallelized')\n",
    "    return trend\n",
    "    \n",
    "\n",
    "def calc_slope(y):\n",
    "    \"\"\"ufunc to be used by linear_trend\"\"\"\n",
    "    x = np.arange(len(y))\n",
    "    return np.polyfit(x, y, 1)[0]"
   ]
  },
  {
   "cell_type": "code",
   "execution_count": null,
   "metadata": {},
   "outputs": [],
   "source": [
    "%%time\n",
    "ctrl_trend  = linear_trend(ctrl.O2.chunk({'nlat': 40, 'nlon': 40, 'time': -1})).load()\n",
    "ctrl_trend = ctrl_trend * len(ctrl.time)\n",
    "ctrl_trend.attrs['units'] = f'mmol m$^{-3}$ ({len(ctrl.time)} yr)$^{-1}$'\n",
    "ctrl_trend.plot()"
   ]
  },
  {
   "cell_type": "code",
   "execution_count": null,
   "metadata": {},
   "outputs": [],
   "source": [
    "%%time \n",
    "ds_trend = linear_trend(ds.O2.chunk({'nlat': 40, 'nlon': 40, 'time': -1})).load()\n",
    "ds_trend = ds_trend * len(ds.time)\n",
    "ds_trend.attrs['units'] = f'mmol m$^{{-3}}$ ({len(ds.time)} yr)$^{{-1}}$'\n",
    "ds_trend.isel(member_id=3).plot()"
   ]
  },
  {
   "cell_type": "code",
   "execution_count": null,
   "metadata": {},
   "outputs": [],
   "source": [
    "npac_trend = ds_trend.where((10 < ds.TLAT) & (ds.TLAT < 65) & (120 < ds.TLONG) & (ds.TLONG < 260))\n",
    "npac_trend = esmlab.weighted_mean(npac_trend, dim=('nlat', 'nlon'), weights=ds.TAREA).load()"
   ]
  },
  {
   "cell_type": "code",
   "execution_count": null,
   "metadata": {},
   "outputs": [],
   "source": [
    "npac_trend"
   ]
  },
  {
   "cell_type": "code",
   "execution_count": null,
   "metadata": {},
   "outputs": [],
   "source": [
    "npac_trend.argmax()"
   ]
  },
  {
   "cell_type": "code",
   "execution_count": null,
   "metadata": {},
   "outputs": [],
   "source": [
    "npac_trend.max()"
   ]
  },
  {
   "cell_type": "code",
   "execution_count": null,
   "metadata": {},
   "outputs": [],
   "source": [
    "a = npac_trend.where(npac_trend==npac_trend.max(), drop=True).squeeze().member_id.values\n",
    "a"
   ]
  },
  {
   "cell_type": "code",
   "execution_count": null,
   "metadata": {},
   "outputs": [],
   "source": [
    "ds_trend.sel(member_id=a)"
   ]
  },
  {
   "cell_type": "code",
   "execution_count": null,
   "metadata": {},
   "outputs": [],
   "source": [
    "ds_trend.where(ds_trend==npac_trend.max(), drop=True)"
   ]
  },
  {
   "cell_type": "code",
   "execution_count": null,
   "metadata": {},
   "outputs": [],
   "source": [
    "member_id_pick = [npac_trend.where(npac_trend==npac_trend.max(), drop=True).member_id.values.astype('int')[0],\n",
    "                  npac_trend.where(npac_trend==npac_trend.min(), drop=True).member_id.values.astype('int')[0]]"
   ]
  },
  {
   "cell_type": "code",
   "execution_count": null,
   "metadata": {},
   "outputs": [],
   "source": [
    "member_id_pick"
   ]
  },
  {
   "cell_type": "code",
   "execution_count": null,
   "metadata": {},
   "outputs": [],
   "source": [
    "ds.TLAT.load()\n",
    "ds.TLONG.load()"
   ]
  },
  {
   "cell_type": "code",
   "execution_count": null,
   "metadata": {},
   "outputs": [],
   "source": [
    "import cartopy"
   ]
  },
  {
   "cell_type": "code",
   "execution_count": null,
   "metadata": {},
   "outputs": [],
   "source": [
    "def pop_add_cyclic(ds):\n",
    "    \n",
    "    nj = ds.TLAT.shape[0]\n",
    "    ni = ds.TLONG.shape[1]\n",
    "\n",
    "    xL = int(ni/2 - 1)\n",
    "    xR = int(xL + ni)\n",
    "\n",
    "    tlon = ds.TLONG.data\n",
    "    tlat = ds.TLAT.data\n",
    "    \n",
    "    tlon = np.where(np.greater_equal(tlon, np.min(tlon[:,0])), tlon-360., tlon)  \n",
    "    lon  = np.concatenate((tlon, tlon + 360.), 1)\n",
    "    lon = lon[:, xL:xR]\n",
    "\n",
    "    if ni == 320:\n",
    "        lon[367:-3, 0] = lon[367:-3, 0] + 360.        \n",
    "    lon = lon - 360.\n",
    "    \n",
    "    lon = np.hstack((lon, lon[:, 0:1] + 360.))\n",
    "    if ni == 320:\n",
    "        lon[367:, -1] = lon[367:, -1] - 360.\n",
    "\n",
    "    #-- trick cartopy into doing the right thing:\n",
    "    #   it gets confused when the cyclic coords are identical\n",
    "    lon[:, 0] = lon[:, 0] - 1e-8\n",
    "\n",
    "    #-- periodicity\n",
    "    lat = np.concatenate((tlat, tlat), 1)\n",
    "    lat = lat[:, xL:xR]\n",
    "    lat = np.hstack((lat, lat[:,0:1]))\n",
    "\n",
    "    TLAT = xr.DataArray(lat, dims=('nlat', 'nlon'))\n",
    "    TLONG = xr.DataArray(lon, dims=('nlat', 'nlon'))\n",
    "    \n",
    "    dso = xr.Dataset({'TLAT': TLAT, 'TLONG': TLONG})\n",
    "\n",
    "    # copy vars\n",
    "    varlist = [v for v in ds.data_vars if v not in ['TLAT', 'TLONG']]\n",
    "    for v in varlist:\n",
    "        v_dims = ds[v].dims\n",
    "        if not ('nlat' in v_dims and 'nlon' in v_dims):\n",
    "            dso[v] = ds[v]\n",
    "        else:\n",
    "            # determine and sort other dimensions\n",
    "            other_dims = set(v_dims) - {'nlat', 'nlon'}\n",
    "            other_dims = tuple([d for d in v_dims if d in other_dims])\n",
    "            lon_dim = ds[v].dims.index('nlon')\n",
    "            field = ds[v].data\n",
    "            field = np.concatenate((field, field), lon_dim)\n",
    "            field = field[..., :, xL:xR]\n",
    "            field = np.concatenate((field, field[..., :, 0:1]), lon_dim)       \n",
    "            dso[v] = xr.DataArray(field, dims=other_dims+('nlat', 'nlon'), \n",
    "                                  attrs=ds[v].attrs)\n",
    "\n",
    "\n",
    "    # copy coords\n",
    "    for v, da in ds.coords.items():\n",
    "        if not ('nlat' in da.dims and 'nlon' in da.dims):\n",
    "            dso = dso.assign_coords(**{v: da})\n",
    "                \n",
    "            \n",
    "    return dso"
   ]
  },
  {
   "cell_type": "code",
   "execution_count": null,
   "metadata": {},
   "outputs": [],
   "source": [
    "import matplotlib.pyplot as plt\n",
    "import matplotlib.colors as colors\n",
    "import cmocean\n",
    "import cartopy.crs as ccrs"
   ]
  },
  {
   "cell_type": "code",
   "execution_count": null,
   "metadata": {},
   "outputs": [],
   "source": [
    "levels = np.arange(-100, 45, 5)\n",
    "norm = colors.DivergingNorm(vmin=levels[0], vmax=levels[-1], vcenter=0.)\n",
    "\n",
    "dsp = pop_add_cyclic(xr.Dataset({'trend': ds_trend, 'TLAT': ds.TLAT.isel(time=0), 'TLONG': ds.TLONG.isel(time=0)}))\n",
    "\n",
    "forced = ds_trend.mean('member_id').compute()\n",
    "internal = [(ds_trend.sel(member_id=i) - forced).compute() for i in member_id_pick]\n",
    "\n",
    "extent = [120, 260, 10, 65]\n",
    "prj = ccrs.Mercator(central_longitude=np.mean(extent[0:2]),\n",
    "                    min_latitude=extent[2],\n",
    "                    max_latitude=extent[3])"
   ]
  },
  {
   "cell_type": "code",
   "execution_count": null,
   "metadata": {},
   "outputs": [],
   "source": [
    "def one_plot(da, lines=True):\n",
    "    # filled contours\n",
    "    cf = ax.contourf(ds.TLONG.isel(time=0), ds.TLAT.isel(time=0), da, \n",
    "                     levels=levels, norm=norm, \n",
    "                     cmap=cmocean.cm.curl_r,\n",
    "                     extend='both',\n",
    "                     transform=ccrs.PlateCarree());\n",
    "\n",
    "    # contour lines\n",
    "    cs = ax.contour(ds.TLONG.isel(time=0), ds.TLAT.isel(time=0), da,\n",
    "                    colors='k', levels=levels, linewidths=0.5,\n",
    "                    transform=ccrs.PlateCarree())\n",
    "\n",
    "    if lines:\n",
    "        # add contour labels\n",
    "        lb = plt.clabel(cs, fontsize=6, inline=True, fmt='%r');\n",
    "\n",
    "    # land\n",
    "    land = ax.add_feature(\n",
    "        cartopy.feature.NaturalEarthFeature('physical', 'land', '110m', facecolor='lightgray'))\n",
    "\n",
    "    ax.coastlines(linewidth=0.5)\n",
    "    \n",
    "    return cf"
   ]
  },
  {
   "cell_type": "code",
   "execution_count": null,
   "metadata": {},
   "outputs": [],
   "source": [
    "fig = plt.figure(figsize=(12, 6))\n",
    "\n",
    "axs = []\n",
    "\n",
    "# plot total\n",
    "ax = fig.add_subplot(2, 3, 1, projection=prj)\n",
    "ax.set_extent(extent)    \n",
    "one_plot(ds_trend.sel(member_id=member_id_pick[0]))\n",
    "ax.text(235., 60, f'{member_id_pick[0]:03d}', \n",
    "        transform=ccrs.PlateCarree())\n",
    "ax.set_title('Total')\n",
    "axs.append(ax)\n",
    "\n",
    "\n",
    "ax = fig.add_subplot(2, 3, 4, projection=prj)\n",
    "ax.set_extent(extent)    \n",
    "one_plot(ds_trend.sel(member_id=member_id_pick[1]))\n",
    "ax.text(235., 60, f'{member_id_pick[1]:03d}', \n",
    "        transform=ccrs.PlateCarree())\n",
    "axs.append(ax)\n",
    "\n",
    "\n",
    "# plot internal variability \n",
    "ax = fig.add_subplot(2, 3, 2, projection=prj)\n",
    "ax.set_extent(extent)    \n",
    "one_plot(internal[0])\n",
    "ax.text(235., 60, f'{member_id_pick[0]:03d}', \n",
    "        transform=ccrs.PlateCarree())\n",
    "ax.set_title('Internal')\n",
    "axs.append(ax)\n",
    "\n",
    "\n",
    "ax = fig.add_subplot(2, 3, 5, projection=prj)\n",
    "ax.set_extent(extent)    \n",
    "one_plot(internal[1])\n",
    "ax.text(235., 60, f'{member_id_pick[1]:03d}', \n",
    "        transform=ccrs.PlateCarree())\n",
    "axs.append(ax)\n",
    "\n",
    "\n",
    "# plot forced\n",
    "ax = fig.add_subplot(2, 3, 3, projection=prj)\n",
    "ax.set_extent(extent)    \n",
    "one_plot(forced)\n",
    "ax.set_title('Forced')\n",
    "axs.append(ax)\n",
    "\n",
    "\n",
    "ax = fig.add_subplot(2, 3, 6, projection=prj)\n",
    "ax.set_extent(extent)    \n",
    "cf = one_plot(forced)\n",
    "axs.append(ax)\n",
    "\n",
    "# add colorbar\n",
    "plt.subplots_adjust(hspace=0.02, wspace=0.02)\n",
    "\n",
    "# colorbar and labels\n",
    "cb = plt.colorbar(cf, shrink=0.5, orientation='horizontal', ax=axs, pad=0.075)\n",
    "cb.ax.set_title(dsp.trend.units);\n",
    "\n",
    "plt.savefig('trend-decomp-O2-200m-NPac.png', dpi=300, bbox_inches='tight')"
   ]
  },
  {
   "cell_type": "code",
   "execution_count": null,
   "metadata": {},
   "outputs": [],
   "source": []
  }
 ],
 "metadata": {
  "kernelspec": {
   "display_name": "Python [conda env:python-tutorial]",
   "language": "python",
   "name": "conda-env-python-tutorial-py"
  },
  "language_info": {
   "codemirror_mode": {
    "name": "ipython",
    "version": 3
   },
   "file_extension": ".py",
   "mimetype": "text/x-python",
   "name": "python",
   "nbconvert_exporter": "python",
   "pygments_lexer": "ipython3",
   "version": "3.7.3"
  }
 },
 "nbformat": 4,
 "nbformat_minor": 4
}
