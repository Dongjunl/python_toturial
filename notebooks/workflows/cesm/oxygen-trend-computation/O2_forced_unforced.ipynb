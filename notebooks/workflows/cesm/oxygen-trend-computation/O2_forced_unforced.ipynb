{
 "cells": [
  {
   "cell_type": "markdown",
   "metadata": {
    "toc": true
   },
   "source": [
    "<h1>Table of Contents<span class=\"tocSkip\"></span></h1>\n",
    "<div class=\"toc\"><ul class=\"toc-item\"><li><span><a href=\"#Finding-forced-trends-in-oceanic-oxygen\" data-toc-modified-id=\"Finding-forced-trends-in-oceanic-oxygen-1\"><span class=\"toc-item-num\">1&nbsp;&nbsp;</span>Finding forced trends in oceanic oxygen</a></span><ul class=\"toc-item\"><li><span><a href=\"#Learning-Objectives\" data-toc-modified-id=\"Learning-Objectives-1.1\"><span class=\"toc-item-num\">1.1&nbsp;&nbsp;</span>Learning Objectives</a></span></li><li><span><a href=\"#Create-Dask-Cluster\" data-toc-modified-id=\"Create-Dask-Cluster-1.2\"><span class=\"toc-item-num\">1.2&nbsp;&nbsp;</span>Create Dask Cluster</a></span></li><li><span><a href=\"#Open-an-intake-esm-catalog-for-CESM1-LE-data-stored-on-Glade-and-Tape\" data-toc-modified-id=\"Open-an-intake-esm-catalog-for-CESM1-LE-data-stored-on-Glade-and-Tape-1.3\"><span class=\"toc-item-num\">1.3&nbsp;&nbsp;</span>Open an intake-esm catalog for CESM1-LE data stored on Glade and Tape</a></span></li><li><span><a href=\"#Load-oxygen-Data-From-Control-Run-into-an-Xarray-Dataset-and-Compute-its-Annual-Mean\" data-toc-modified-id=\"Load-oxygen-Data-From-Control-Run-into-an-Xarray-Dataset-and-Compute-its-Annual-Mean-1.4\"><span class=\"toc-item-num\">1.4&nbsp;&nbsp;</span>Load oxygen Data From Control Run into an Xarray Dataset and Compute its Annual Mean</a></span></li><li><span><a href=\"#Load-oxygen-Data-From-20C,-RCP85-Runs-into-an-Xarray-Dataset-and-Compute-its-Annual-Mean\" data-toc-modified-id=\"Load-oxygen-Data-From-20C,-RCP85-Runs-into-an-Xarray-Dataset-and-Compute-its-Annual-Mean-1.5\"><span class=\"toc-item-num\">1.5&nbsp;&nbsp;</span>Load oxygen Data From 20C, RCP85 Runs into an Xarray Dataset and Compute its Annual Mean</a></span></li><li><span><a href=\"#Compute-Linear-Trend\" data-toc-modified-id=\"Compute-Linear-Trend-1.6\"><span class=\"toc-item-num\">1.6&nbsp;&nbsp;</span>Compute Linear Trend</a></span></li><li><span><a href=\"#Plot-All-Trends---Total\" data-toc-modified-id=\"Plot-All-Trends---Total-1.7\"><span class=\"toc-item-num\">1.7&nbsp;&nbsp;</span>Plot All Trends - Total</a></span></li><li><span><a href=\"#Plot-All-Trends---Internal\" data-toc-modified-id=\"Plot-All-Trends---Internal-1.8\"><span class=\"toc-item-num\">1.8&nbsp;&nbsp;</span>Plot All Trends - Internal</a></span></li><li><span><a href=\"#Going-Further\" data-toc-modified-id=\"Going-Further-1.9\"><span class=\"toc-item-num\">1.9&nbsp;&nbsp;</span>Going Further</a></span></li></ul></li></ul></div>"
   ]
  },
  {
   "cell_type": "markdown",
   "metadata": {},
   "source": [
    "# Finding forced trends in oceanic oxygen"
   ]
  },
  {
   "cell_type": "markdown",
   "metadata": {},
   "source": [
    "## Learning Objectives\n",
    "\n",
    "\n",
    "- "
   ]
  },
  {
   "cell_type": "code",
   "execution_count": null,
   "metadata": {},
   "outputs": [],
   "source": [
    "%matplotlib inline\n",
    "import warnings\n",
    "warnings.filterwarnings('ignore')\n",
    "from ncar_jobqueue import NCARCluster\n",
    "from dask.distributed import Client\n",
    "import esmlab\n",
    "import xarray as xr\n",
    "import numpy as np\n",
    "import dask\n",
    "import util"
   ]
  },
  {
   "cell_type": "markdown",
   "metadata": {},
   "source": [
    "## Create Dask Cluster"
   ]
  },
  {
   "cell_type": "code",
   "execution_count": null,
   "metadata": {},
   "outputs": [],
   "source": [
    "cluster = NCARCluster(memory=\"100GB\", cores=4, processes=1)\n",
    "cluster.adapt(minimum=3, maximum=12,\n",
    "              wait_count=60)  # Adaptively scale between 3 and 12 dask workers\n",
    "client = Client(cluster)  # Connect this local process to remote workers\n",
    "cluster"
   ]
  },
  {
   "cell_type": "code",
   "execution_count": null,
   "metadata": {},
   "outputs": [],
   "source": [
    "client"
   ]
  },
  {
   "cell_type": "markdown",
   "metadata": {},
   "source": [
    "(👆don't forget to look at the dashboard!)"
   ]
  },
  {
   "cell_type": "markdown",
   "metadata": {},
   "source": [
    "## Open an intake-esm catalog for CESM1-LE data stored on Glade and Tape"
   ]
  },
  {
   "cell_type": "code",
   "execution_count": null,
   "metadata": {},
   "outputs": [],
   "source": [
    "import intake\n",
    "from intake_esm import config"
   ]
  },
  {
   "cell_type": "code",
   "execution_count": null,
   "metadata": {},
   "outputs": [],
   "source": [
    "#with config.set({'database-directory': '/glade/u/home/abanihi/.intake_esm/collections'}):\n",
    "col = intake.open_esm_metadatastore(collection_name='CESM1-LE')\n",
    "\n",
    "col.df.head()"
   ]
  },
  {
   "cell_type": "code",
   "execution_count": null,
   "metadata": {},
   "outputs": [],
   "source": [
    "keep_vars = ['O2', 'z_t', 'KMT', 'TAREA', 'TLONG',\n",
    "             'TLAT', 'time', 'time_bound', 'member_id']\n",
    "yr0, yr1 = 2006, 2055\n",
    "time_slice = slice(f'{yr0:04d}', f'{yr1:04d}')\n",
    "ctrl_time_slice = slice(f'{yr0-1448:04d}', f'{yr1-1448:04d}')"
   ]
  },
  {
   "cell_type": "markdown",
   "metadata": {},
   "source": [
    "## Load oxygen Data From Control Run into an Xarray Dataset and Compute its Annual Mean"
   ]
  },
  {
   "cell_type": "code",
   "execution_count": null,
   "metadata": {},
   "outputs": [],
   "source": [
    "%%time\n",
    "dsets = col.search(experiment=['CTRL'], variable=['O2'])\\\n",
    "        .to_xarray(decode_times=False, chunks={'time': 240})\n",
    "_, dd = dsets.popitem()\n",
    "ctrl = util.clean_ds(dd, keep_vars)\n",
    "ctrl = util.sel_time(ctrl, ctrl_time_slice)\n",
    "ctrl = esmlab.resample(ctrl, freq='ann')\n",
    "print(ctrl)"
   ]
  },
  {
   "cell_type": "markdown",
   "metadata": {},
   "source": [
    "## Load oxygen Data From 20C, RCP85 Runs into an Xarray Dataset and Compute its Annual Mean"
   ]
  },
  {
   "cell_type": "code",
   "execution_count": null,
   "metadata": {},
   "outputs": [],
   "source": [
    "%%time\n",
    "dsets = col.search(experiment=['20C', 'RCP85'], variable=['O2'])\\\n",
    "        .to_xarray(decode_times=False, chunks={'time': 240})\n",
    "print(dsets.keys())\n",
    "ds_20c = dsets['ocn.20C.pop.h']\n",
    "ds_rcp85 = dsets['ocn.RCP85.pop.h']\n",
    "dd = xr.concat([ds_20c, ds_rcp85], dim='time')\n",
    "ds = util.clean_ds(dd, keep_vars)\n",
    "ds = util.sel_time(ds, time_slice)\n",
    "ds = esmlab.resample(ds, freq='ann')\n",
    "print(ds)"
   ]
  },
  {
   "cell_type": "markdown",
   "metadata": {},
   "source": [
    "## Compute Linear Trend\n",
    "\n",
    "Define helper functions for trend computation."
   ]
  },
  {
   "cell_type": "code",
   "execution_count": null,
   "metadata": {},
   "outputs": [],
   "source": [
    "def linear_trend(da, dim='time'):\n",
    "    da_chunk = da.chunk({dim: -1})\n",
    "    trend = xr.apply_ufunc(calc_slope,\n",
    "                           da_chunk,\n",
    "                           vectorize=True,\n",
    "                           input_core_dims=[[dim]],\n",
    "                           output_core_dims=[[]],\n",
    "                           output_dtypes=[np.float],\n",
    "                           dask='parallelized')\n",
    "    return trend\n",
    "\n",
    "\n",
    "def calc_slope(y):\n",
    "    \"\"\"ufunc to be used by linear_trend\"\"\"\n",
    "    x = np.arange(len(y))\n",
    "    return np.polyfit(x, y, 1)[0]"
   ]
  },
  {
   "cell_type": "markdown",
   "metadata": {},
   "source": [
    "Compute linear trends on the control integration."
   ]
  },
  {
   "cell_type": "code",
   "execution_count": null,
   "metadata": {},
   "outputs": [],
   "source": [
    "%%time\n",
    "ctrl_trend = linear_trend(ctrl.O2.chunk({\n",
    "    'nlat': 30,\n",
    "    'nlon': 30,\n",
    "    'time': -1\n",
    "})).load()\n",
    "ctrl_trend = ctrl_trend * len(ctrl.time)\n",
    "ctrl_trend.attrs['units'] = f'mmol m$^{{-3}}$ ({len(ctrl.time)} yr)$^{{-1}}$'\n",
    "ctrl_trend.plot()"
   ]
  },
  {
   "cell_type": "markdown",
   "metadata": {},
   "source": [
    "Compute linear trends on the full ensemble."
   ]
  },
  {
   "cell_type": "code",
   "execution_count": null,
   "metadata": {},
   "outputs": [],
   "source": [
    "%%time\n",
    "ds_trend = linear_trend(ds.O2.chunk({'nlat': 30, 'nlon': 30, 'time': -1}))\\\n",
    "                       .load()\n",
    "ds_trend = ds_trend * len(ds.time)\n",
    "ds_trend.attrs['units'] = f'mmol m$^{{-3}}$ ({len(ds.time)} yr)$^{{-1}}$'\n",
    "ds_trend.isel(member_id=3).plot()"
   ]
  },
  {
   "cell_type": "markdown",
   "metadata": {},
   "source": [
    "## Visualize trends\n",
    "\n",
    "For visualization purposes, look for the ensemble members with the smallest and largest regional trends. In this case, we'll focus on the N. Pacific.\n",
    "\n",
    "First step: compute the mean trend over the N. Pacific."
   ]
  },
  {
   "cell_type": "code",
   "execution_count": null,
   "metadata": {},
   "outputs": [],
   "source": [
    "npac_trend = ds_trend.where((10 < ds.TLAT) & (ds.TLAT < 65) & (120 < ds.TLONG)\n",
    "                            & (ds.TLONG < 260))\n",
    "npac_trend = esmlab.weighted_mean(npac_trend,\n",
    "                                  dim=('nlat', 'nlon'),\n",
    "                                  weights=ds.TAREA).load()"
   ]
  },
  {
   "cell_type": "code",
   "execution_count": null,
   "metadata": {},
   "outputs": [],
   "source": [
    "npac_trend"
   ]
  },
  {
   "cell_type": "markdown",
   "metadata": {},
   "source": [
    "Next, pick out the ensemble members with the min and max trends."
   ]
  },
  {
   "cell_type": "code",
   "execution_count": null,
   "metadata": {},
   "outputs": [],
   "source": [
    "member_id_pick = [\n",
    "    npac_trend.where(npac_trend == npac_trend.max(),\n",
    "                     drop=True).member_id.values.astype('int')[0],\n",
    "    npac_trend.where(npac_trend == npac_trend.min(),\n",
    "                     drop=True).member_id.values.astype('int')[0]\n",
    "]"
   ]
  },
  {
   "cell_type": "code",
   "execution_count": null,
   "metadata": {},
   "outputs": [],
   "source": [
    "member_id_pick"
   ]
  },
  {
   "cell_type": "markdown",
   "metadata": {},
   "source": [
    "Import plotting modules"
   ]
  },
  {
   "cell_type": "code",
   "execution_count": null,
   "metadata": {},
   "outputs": [],
   "source": [
    "import matplotlib.pyplot as plt\n",
    "import matplotlib.colors as colors\n",
    "import cmocean\n",
    "import cartopy.crs as ccrs\n",
    "import cartopy"
   ]
  },
  {
   "cell_type": "markdown",
   "metadata": {},
   "source": [
    "Make a dataset suitable for plotting. In this case, `pop_add_cyclic` reformats the data on the ocean grid to enable seamless plotting on a contour map."
   ]
  },
  {
   "cell_type": "code",
   "execution_count": null,
   "metadata": {},
   "outputs": [],
   "source": [
    "dsp = util.pop_add_cyclic(\n",
    "    xr.Dataset({\n",
    "        'trend': ds_trend,\n",
    "        'TLAT': ds.TLAT[0].compute(),\n",
    "        'TLONG': ds.TLONG[0].compute()\n",
    "    }))\n",
    "dsp"
   ]
  },
  {
   "cell_type": "markdown",
   "metadata": {},
   "source": [
    "Compute the `forced` (ensemble mean) and `internal` components. Call `compute` on these dataset to trigger loading into memory so that subsequent plotting operations proceed as rapidly as possible. "
   ]
  },
  {
   "cell_type": "code",
   "execution_count": null,
   "metadata": {},
   "outputs": [],
   "source": [
    "forced = dsp.trend.mean('member_id').compute()\n",
    "internal = [(dsp.trend.sel(member_id=i) - forced).compute()\n",
    "            for i in member_id_pick]\n",
    "\n",
    "forced"
   ]
  },
  {
   "cell_type": "markdown",
   "metadata": {},
   "source": [
    "Set up some basic plotting variables, i.e., contour levels, map projection."
   ]
  },
  {
   "cell_type": "code",
   "execution_count": null,
   "metadata": {},
   "outputs": [],
   "source": [
    "levels = np.arange(-100, 45, 5)\n",
    "norm = colors.DivergingNorm(vmin=levels[0], vmax=levels[-1], vcenter=0.)\n",
    "\n",
    "extent = [120, 260, 10, 65]\n",
    "prj = ccrs.Mercator(central_longitude=np.mean(extent[0:2]),\n",
    "                    min_latitude=extent[2],\n",
    "                    max_latitude=extent[3])"
   ]
  },
  {
   "cell_type": "markdown",
   "metadata": {},
   "source": [
    "Define a helper function that makes a single map plot."
   ]
  },
  {
   "cell_type": "code",
   "execution_count": null,
   "metadata": {},
   "outputs": [],
   "source": [
    "def one_plot(da, lines=True):\n",
    "    # filled contours\n",
    "    cf = ax.contourf(dsp.TLONG,\n",
    "                     dsp.TLAT,\n",
    "                     da,\n",
    "                     levels=levels,\n",
    "                     norm=norm,\n",
    "                     cmap=cmocean.cm.curl_r,\n",
    "                     extend='both',\n",
    "                     transform=ccrs.PlateCarree())\n",
    "\n",
    "    # contour lines\n",
    "    cs = ax.contour(dsp.TLONG,\n",
    "                    dsp.TLAT,\n",
    "                    da,\n",
    "                    colors='k',\n",
    "                    levels=levels,\n",
    "                    linewidths=0.5,\n",
    "                    transform=ccrs.PlateCarree())\n",
    "\n",
    "    if lines:\n",
    "        # add contour labels\n",
    "        lb = plt.clabel(cs, fontsize=6, inline=True, fmt='%r')\n",
    "\n",
    "    # land\n",
    "    land = ax.add_feature(\n",
    "        cartopy.feature.NaturalEarthFeature('physical',\n",
    "                                            'land',\n",
    "                                            '110m',\n",
    "                                            facecolor='lightgray'))\n",
    "\n",
    "    ax.coastlines(linewidth=0.5)\n",
    "\n",
    "    return cf"
   ]
  },
  {
   "cell_type": "markdown",
   "metadata": {},
   "source": [
    "Make a plot showing the Total trend and it's internal and forced components for the ensemble members with the min and max N. Pacific trends."
   ]
  },
  {
   "cell_type": "code",
   "execution_count": null,
   "metadata": {},
   "outputs": [],
   "source": [
    "fig = plt.figure(figsize=(12, 6))\n",
    "\n",
    "axs = []\n",
    "\n",
    "# plot total\n",
    "ax = fig.add_subplot(2, 3, 1, projection=prj)\n",
    "ax.set_extent(extent)\n",
    "one_plot(dsp.trend.sel(member_id=member_id_pick[0]))\n",
    "ax.text(235., 60, f'{member_id_pick[0]:03d}', transform=ccrs.PlateCarree())\n",
    "ax.set_title('Total')\n",
    "axs.append(ax)\n",
    "\n",
    "ax = fig.add_subplot(2, 3, 4, projection=prj)\n",
    "ax.set_extent(extent)\n",
    "one_plot(dsp.trend.sel(member_id=member_id_pick[1]))\n",
    "ax.text(235., 60, f'{member_id_pick[1]:03d}', transform=ccrs.PlateCarree())\n",
    "axs.append(ax)\n",
    "\n",
    "# plot internal variability\n",
    "ax = fig.add_subplot(2, 3, 2, projection=prj)\n",
    "ax.set_extent(extent)\n",
    "one_plot(internal[0])\n",
    "ax.text(235., 60, f'{member_id_pick[0]:03d}', transform=ccrs.PlateCarree())\n",
    "ax.set_title('Internal')\n",
    "axs.append(ax)\n",
    "\n",
    "ax = fig.add_subplot(2, 3, 5, projection=prj)\n",
    "ax.set_extent(extent)\n",
    "one_plot(internal[1])\n",
    "ax.text(235., 60, f'{member_id_pick[1]:03d}', transform=ccrs.PlateCarree())\n",
    "axs.append(ax)\n",
    "\n",
    "# plot forced\n",
    "ax = fig.add_subplot(2, 3, 3, projection=prj)\n",
    "ax.set_extent(extent)\n",
    "one_plot(forced)\n",
    "ax.set_title('Forced')\n",
    "axs.append(ax)\n",
    "\n",
    "ax = fig.add_subplot(2, 3, 6, projection=prj)\n",
    "ax.set_extent(extent)\n",
    "cf = one_plot(forced)\n",
    "axs.append(ax)\n",
    "\n",
    "# add colorbar\n",
    "plt.subplots_adjust(hspace=0.02, wspace=0.02)\n",
    "\n",
    "# colorbar and labels\n",
    "cb = plt.colorbar(cf, shrink=0.5, orientation='horizontal', ax=axs, pad=0.075)\n",
    "cb.ax.set_title(dsp.trend.units)\n",
    "plt.savefig('trend-decomp-O2-200m-NPac.png', dpi=300, bbox_inches='tight')"
   ]
  },
  {
   "cell_type": "markdown",
   "metadata": {},
   "source": [
    "### Plot All Trends - Total\n",
    "\n",
    "Make a postage stamp plot showing all the trends. First compute each ensemble member to load into memory."
   ]
  },
  {
   "cell_type": "code",
   "execution_count": null,
   "metadata": {},
   "outputs": [],
   "source": [
    "field = [\n",
    "    dsp.trend.isel(member_id=i).compute() for i in range(0, len(ds.member_id))\n",
    "]"
   ]
  },
  {
   "cell_type": "code",
   "execution_count": null,
   "metadata": {},
   "outputs": [],
   "source": [
    "fig = plt.figure(figsize=(10, 10))\n",
    "\n",
    "axs = []\n",
    "\n",
    "# plot total\n",
    "for i in range(0, len(ds.member_id)):\n",
    "    ax = fig.add_subplot(7, 5, i + 1, projection=prj)\n",
    "    ax.set_extent(extent)\n",
    "    cf = one_plot(field[i], lines=False)\n",
    "    axs.append(ax)\n",
    "\n",
    "plt.subplots_adjust(hspace=0.04, wspace=0.02)\n",
    "\n",
    "# colorbar and labels\n",
    "cb = plt.colorbar(cf, shrink=0.5, orientation='horizontal', ax=axs, pad=0.075)\n",
    "cb.ax.set_title(dsp.trend.units)\n",
    "\n",
    "plt.savefig('all-trends-O2-200m-NPac.png', dpi=300, bbox_inches='tight')"
   ]
  },
  {
   "cell_type": "markdown",
   "metadata": {},
   "source": [
    "### Plot All Trends - Internal"
   ]
  },
  {
   "cell_type": "code",
   "execution_count": null,
   "metadata": {},
   "outputs": [],
   "source": [
    "fig = plt.figure(figsize=(10, 10))\n",
    "\n",
    "axs = []\n",
    "\n",
    "# plot total\n",
    "for i in range(0, len(ds.member_id)):\n",
    "    ax = fig.add_subplot(7, 5, i + 1, projection=prj)\n",
    "    ax.set_extent(extent)\n",
    "    cf = one_plot(field[i] - forced, lines=False)\n",
    "    axs.append(ax)\n",
    "\n",
    "plt.subplots_adjust(hspace=0.04, wspace=0.02)\n",
    "\n",
    "# colorbar and labels\n",
    "cb = plt.colorbar(cf, shrink=0.5, orientation='horizontal', ax=axs, pad=0.075)\n",
    "cb.ax.set_title(dsp.trend.units)\n",
    "\n",
    "plt.savefig('all-trends-internal-O2-200m-NPac.png',\n",
    "            dpi=300,\n",
    "            bbox_inches='tight')"
   ]
  },
  {
   "cell_type": "markdown",
   "metadata": {},
   "source": [
    "## Going Further"
   ]
  },
  {
   "cell_type": "code",
   "execution_count": null,
   "metadata": {},
   "outputs": [],
   "source": []
  }
 ],
 "metadata": {
  "kernelspec": {
   "display_name": "Python [conda env:miniconda3-python-tutorial]",
   "language": "python",
   "name": "conda-env-miniconda3-python-tutorial-py"
  },
  "language_info": {
   "codemirror_mode": {
    "name": "ipython",
    "version": 3
   },
   "file_extension": ".py",
   "mimetype": "text/x-python",
   "name": "python",
   "nbconvert_exporter": "python",
   "pygments_lexer": "ipython3",
   "version": "3.7.3"
  },
  "toc": {
   "base_numbering": 1,
   "nav_menu": {},
   "number_sections": true,
   "sideBar": true,
   "skip_h1_title": false,
   "title_cell": "Table of Contents",
   "title_sidebar": "Contents",
   "toc_cell": true,
   "toc_position": {},
   "toc_section_display": true,
   "toc_window_display": true
  }
 },
 "nbformat": 4,
 "nbformat_minor": 4
}
