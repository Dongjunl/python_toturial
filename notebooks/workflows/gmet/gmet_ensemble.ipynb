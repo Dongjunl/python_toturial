{
 "cells": [
  {
   "cell_type": "markdown",
   "metadata": {},
   "source": [
    "# Analysis of Gridded Ensemble Precipitation and Temperature Estimates over the Contiguous United States"
   ]
  },
  {
   "cell_type": "markdown",
   "metadata": {
    "toc": true
   },
   "source": [
    "<h1>Table of Contents<span class=\"tocSkip\"></span></h1>\n",
    "<div class=\"toc\"><ul class=\"toc-item\"><li><span><a href=\"#Analysis-of-Gridded-Ensemble-Precipitation-and-Temperature-Estimates-over-the-Contiguous-United-States\" data-toc-modified-id=\"Analysis-of-Gridded-Ensemble-Precipitation-and-Temperature-Estimates-over-the-Contiguous-United-States-1\"><span class=\"toc-item-num\">1&nbsp;&nbsp;</span>Analysis of Gridded Ensemble Precipitation and Temperature Estimates over the Contiguous United States</a></span><ul class=\"toc-item\"><li><span><a href=\"#Learning-Objectives\" data-toc-modified-id=\"Learning-Objectives-1.1\"><span class=\"toc-item-num\">1.1&nbsp;&nbsp;</span>Learning Objectives</a></span></li><li><span><a href=\"#Create-and-Connect-to-Dask-Distributed-Cluster\" data-toc-modified-id=\"Create-and-Connect-to-Dask-Distributed-Cluster-1.2\"><span class=\"toc-item-num\">1.2&nbsp;&nbsp;</span>Create and Connect to Dask Distributed Cluster</a></span></li><li><span><a href=\"#Open-Dataset\" data-toc-modified-id=\"Open-Dataset-1.3\"><span class=\"toc-item-num\">1.3&nbsp;&nbsp;</span>Open Dataset</a></span></li><li><span><a href=\"#Figure:-Elevation-and-domain-mask\" data-toc-modified-id=\"Figure:-Elevation-and-domain-mask-1.4\"><span class=\"toc-item-num\">1.4&nbsp;&nbsp;</span>Figure: Elevation and domain mask</a></span></li><li><span><a href=\"#Quantify-the-ensemble-uncertainty-for-a-single-day\" data-toc-modified-id=\"Quantify-the-ensemble-uncertainty-for-a-single-day-1.5\"><span class=\"toc-item-num\">1.5&nbsp;&nbsp;</span>Quantify the ensemble uncertainty for a single day</a></span></li><li><span><a href=\"#Intra-ensemble-range\" data-toc-modified-id=\"Intra-ensemble-range-1.6\"><span class=\"toc-item-num\">1.6&nbsp;&nbsp;</span>Intra-ensemble range</a></span></li><li><span><a href=\"#Calling-compute\" data-toc-modified-id=\"Calling-compute-1.7\"><span class=\"toc-item-num\">1.7&nbsp;&nbsp;</span>Calling compute</a></span></li><li><span><a href=\"#Figure:-Intra-ensemble-range\" data-toc-modified-id=\"Figure:-Intra-ensemble-range-1.8\"><span class=\"toc-item-num\">1.8&nbsp;&nbsp;</span>Figure: Intra-ensemble range</a></span></li><li><span><a href=\"#Average-seasonal-snowfall\" data-toc-modified-id=\"Average-seasonal-snowfall-1.9\"><span class=\"toc-item-num\">1.9&nbsp;&nbsp;</span>Average seasonal snowfall</a></span></li><li><span><a href=\"#Figure:-Average-seasonal-snowfall-totals\" data-toc-modified-id=\"Figure:-Average-seasonal-snowfall-totals-1.10\"><span class=\"toc-item-num\">1.10&nbsp;&nbsp;</span>Figure: Average seasonal snowfall totals</a></span></li><li><span><a href=\"#Extract-a-time-series-of-annual-maximum-precipitation-events-over-a-region\" data-toc-modified-id=\"Extract-a-time-series-of-annual-maximum-precipitation-events-over-a-region-1.11\"><span class=\"toc-item-num\">1.11&nbsp;&nbsp;</span>Extract a time series of annual maximum precipitation events over a region</a></span></li><li><span><a href=\"#Figure:-Timeseries-of-maximum-precipitation-near-Boulder,-CO.\" data-toc-modified-id=\"Figure:-Timeseries-of-maximum-precipitation-near-Boulder,-CO.-1.12\"><span class=\"toc-item-num\">1.12&nbsp;&nbsp;</span>Figure: Timeseries of maximum precipitation near Boulder, CO.</a></span></li></ul></li></ul></div>"
   ]
  },
  {
   "cell_type": "markdown",
   "metadata": {},
   "source": [
    "## Learning Objectives\n",
    "\n",
    "For this example, we'll work with 100 member ensemble of precipitation and temperature data. For this notebook, we will be using data stored using the [Zarr](https://zarr.readthedocs.io/en/stable/) format.\n",
    "\n",
    "\n",
    "Link to the original dataset stored in netCDF format: https://www.earthsystemgrid.org/dataset/gridded_precip_and_temp.html\n",
    "\n"
   ]
  },
  {
   "cell_type": "code",
   "execution_count": null,
   "metadata": {},
   "outputs": [],
   "source": [
    "%matplotlib inline\n",
    "import warnings\n",
    "warnings.filterwarnings('ignore')\n",
    "import numpy as np\n",
    "import xarray as xr\n",
    "import matplotlib.pyplot as plt\n",
    "import dask\n",
    "from distributed.utils import format_bytes\n",
    "import hvplot.pandas"
   ]
  },
  {
   "cell_type": "markdown",
   "metadata": {},
   "source": [
    "## Create and Connect to Dask Distributed Cluster"
   ]
  },
  {
   "cell_type": "code",
   "execution_count": null,
   "metadata": {},
   "outputs": [],
   "source": [
    "from dask.distributed import Client\n",
    "from ncar_jobqueue import NCARCluster\n",
    "\n",
    "cluster = NCARCluster(memory=\"100GB\", cores=36, processes=1,\n",
    "                      walltime=\"00:15:00\", project=\"NIOW0001\", queue=\"dav\")\n",
    "# Scale adaptively between 1 and 10 dask workers\n",
    "cluster.adapt(minimum=1, maximum=10, wait_count=60)\n",
    "cluster"
   ]
  },
  {
   "cell_type": "markdown",
   "metadata": {},
   "source": [
    "☝️ Don't forget to click the link above to view the scheduler dashboard!"
   ]
  },
  {
   "cell_type": "code",
   "execution_count": null,
   "metadata": {},
   "outputs": [],
   "source": [
    "# Connect client to the remote dask workers\n",
    "client = Client(cluster)\n",
    "client"
   ]
  },
  {
   "cell_type": "markdown",
   "metadata": {},
   "source": [
    "## Open Dataset\n",
    "\n",
    "We'll load the dataset using a package called [xarray](http://xarray.pydata.org/en/stable/). Under the hood, this dataset is stored using the [Zarr](https://zarr.readthedocs.io/en/stable/) format.\n",
    "\n",
    "The dataset has dimensions of time, latitude, longitude, and ensemble member."
   ]
  },
  {
   "cell_type": "code",
   "execution_count": null,
   "metadata": {},
   "outputs": [],
   "source": [
    "store = '/glade/scratch/abanihi/data/gmet_v1.zarr'\n",
    "%time ds = xr.open_zarr(store, consolidated=True)"
   ]
  },
  {
   "cell_type": "code",
   "execution_count": null,
   "metadata": {},
   "outputs": [],
   "source": [
    "# Get dataset size\n",
    "format_bytes(ds.nbytes)"
   ]
  },
  {
   "cell_type": "code",
   "execution_count": null,
   "metadata": {},
   "outputs": [],
   "source": [
    "# Print dataset\n",
    "ds"
   ]
  },
  {
   "cell_type": "code",
   "execution_count": null,
   "metadata": {},
   "outputs": [],
   "source": [
    "ds.pcp.data"
   ]
  },
  {
   "cell_type": "markdown",
   "metadata": {},
   "source": [
    "## Figure: Elevation and domain mask\n",
    "\n",
    "A quick plot of the mask to give us an idea of our spatial domain"
   ]
  },
  {
   "cell_type": "code",
   "execution_count": null,
   "metadata": {},
   "outputs": [],
   "source": [
    "%%time\n",
    "elevation = ds['elevation']\n",
    "elevation = elevation.where(elevation > 0).load()\n",
    "elevation.plot(figsize=(10, 6))\n",
    "plt.title('Domain Elevation')"
   ]
  },
  {
   "cell_type": "markdown",
   "metadata": {},
   "source": [
    "## Quantify the ensemble uncertainty for a single day\n",
    "\n",
    "This dataset provides 100 equally likely realizations of the temperature/precipitation that could have occured, given the station-observed weather. We can quantify the uncertaintly that comes from observation and gridding errors like this:"
   ]
  },
  {
   "cell_type": "code",
   "execution_count": null,
   "metadata": {},
   "outputs": [],
   "source": [
    "temp = ds['t_mean'].sel(time='1984-07-31')\n",
    "temp_ens_mean = temp.mean('member_id')\n",
    "temp_errors = temp - temp_ens_mean\n",
    "temp_std_errors = temp_errors.std('member_id')"
   ]
  },
  {
   "cell_type": "code",
   "execution_count": null,
   "metadata": {},
   "outputs": [],
   "source": [
    "temp_std_errors.plot(robust=True, figsize=(10, 6))"
   ]
  },
  {
   "cell_type": "markdown",
   "metadata": {},
   "source": [
    "As we can see, remote and topographically complex areas tend to have larger uncertainties in this dataset."
   ]
  },
  {
   "cell_type": "markdown",
   "metadata": {},
   "source": [
    "## Intra-ensemble range\n",
    "\n",
    "We calculate the intra-ensemble range for all the mean daily temperature in this dataset.  This gives us a sense of uncertainty."
   ]
  },
  {
   "cell_type": "code",
   "execution_count": null,
   "metadata": {},
   "outputs": [],
   "source": [
    "temp_mean = ds['t_mean'].mean(dim='time')\n",
    "spread = (temp_mean.max(dim='member_id')\n",
    "          - temp_mean.min(dim='member_id'))\n",
    "spread"
   ]
  },
  {
   "cell_type": "markdown",
   "metadata": {},
   "source": [
    "## Calling compute\n",
    "The expressions above didn't actually compute anything. They just build the task graph. To do the computations, we call the `compute()` or `persist()` or `load()` methods:"
   ]
  },
  {
   "cell_type": "code",
   "execution_count": null,
   "metadata": {},
   "outputs": [],
   "source": [
    "spread = spread.compute(retries=2)\n",
    "spread"
   ]
  },
  {
   "cell_type": "markdown",
   "metadata": {},
   "source": [
    "## Figure: Intra-ensemble range\n"
   ]
  },
  {
   "cell_type": "code",
   "execution_count": null,
   "metadata": {},
   "outputs": [],
   "source": [
    "spread.attrs['units'] = 'degC'\n",
    "spread.plot(robust=True, figsize=(10, 6))\n",
    "plt.title('Intra-ensemble range in mean annual temperature')"
   ]
  },
  {
   "cell_type": "markdown",
   "metadata": {},
   "source": [
    "## Average seasonal snowfall\n",
    "\n",
    "We can compute a crude estimate of average seasonal snowfall using the temperature and precipitation variables in our dataset. Here, we'll look at the first 4 ensemble members and make some maps of the seasonal total snowfall in each ensemble member."
   ]
  },
  {
   "cell_type": "code",
   "execution_count": null,
   "metadata": {},
   "outputs": [],
   "source": [
    "da_snow = ds['pcp'].where(ds['t_mean'] < 0.)\\\n",
    "                   .resample(time='QS-Mar').sum('time')\n",
    "\n",
    "\n",
    "seasonal_snow = da_snow.isel(member_id=slice(0, 4))\\\n",
    "    .groupby('time.season').mean('time')\\\n",
    "    .load()"
   ]
  },
  {
   "cell_type": "code",
   "execution_count": null,
   "metadata": {},
   "outputs": [],
   "source": [
    "# properly sort the seasons\n",
    "seasonal_snow = seasonal_snow.sel(season=['DJF', 'MAM', 'JJA', 'SON'])\n",
    "seasonal_snow.attrs['units'] = 'mm/season'\n",
    "seasonal_snow"
   ]
  },
  {
   "cell_type": "markdown",
   "metadata": {},
   "source": [
    "## Figure: Average seasonal snowfall totals "
   ]
  },
  {
   "cell_type": "code",
   "execution_count": null,
   "metadata": {},
   "outputs": [],
   "source": [
    "seasonal_snow.plot.pcolormesh(col='season', row='member_id',\n",
    "                              cmap='Blues', robust=True)"
   ]
  },
  {
   "cell_type": "markdown",
   "metadata": {},
   "source": [
    "## Extract a time series of annual maximum precipitation events over a region\n",
    "\n",
    "In the previous two examples, we've mostly reduced the time and/or ensemble dimension. Here, we'll do a reduction operation on the spatial dimension to look at a time series of extreme precipitation events near Boulder, CO (40.0150° N, 105.2705° W).\n"
   ]
  },
  {
   "cell_type": "code",
   "execution_count": null,
   "metadata": {},
   "outputs": [],
   "source": [
    "buf = 0.25  # look at Boulder +/- 0.25 deg\n",
    "\n",
    "ds_co = ds.sel(lon=slice(-105.2705-buf, -105.2705+buf),\n",
    "               lat=slice(40.0150-buf, 40.0150+buf))"
   ]
  },
  {
   "cell_type": "code",
   "execution_count": null,
   "metadata": {},
   "outputs": [],
   "source": [
    "pcp_ann_max = ds_co['pcp'].resample(time='AS').max('time')"
   ]
  },
  {
   "cell_type": "code",
   "execution_count": null,
   "metadata": {},
   "outputs": [],
   "source": [
    "pcp_ann_max_ts = pcp_ann_max.max(('lat', 'lon')).load()\n",
    "pcp_ann_max_ts"
   ]
  },
  {
   "cell_type": "markdown",
   "metadata": {},
   "source": [
    "## Figure: Timeseries of maximum precipitation near Boulder, CO."
   ]
  },
  {
   "cell_type": "code",
   "execution_count": null,
   "metadata": {},
   "outputs": [],
   "source": [
    "pcp_ann_max_ts.hvplot.line(x='time', title='Maximum precipitation near Boulder, CO',\n",
    "                           legend=False)"
   ]
  },
  {
   "cell_type": "code",
   "execution_count": null,
   "metadata": {},
   "outputs": [],
   "source": [
    "# Gracefully destroy/close our cluster\n",
    "client.close()\n",
    "cluster.close()"
   ]
  }
 ],
 "metadata": {
  "kernelspec": {
   "display_name": "Python [conda env:python-tutorial]",
   "language": "python",
   "name": "conda-env-python-tutorial-py"
  },
  "language_info": {
   "codemirror_mode": {
    "name": "ipython",
    "version": 3
   },
   "file_extension": ".py",
   "mimetype": "text/x-python",
   "name": "python",
   "nbconvert_exporter": "python",
   "pygments_lexer": "ipython3",
   "version": "3.7.3"
  },
  "toc": {
   "base_numbering": 1,
   "nav_menu": {},
   "number_sections": true,
   "sideBar": true,
   "skip_h1_title": false,
   "title_cell": "Table of Contents",
   "title_sidebar": "Contents",
   "toc_cell": true,
   "toc_position": {},
   "toc_section_display": true,
   "toc_window_display": true
  }
 },
 "nbformat": 4,
 "nbformat_minor": 4
}
