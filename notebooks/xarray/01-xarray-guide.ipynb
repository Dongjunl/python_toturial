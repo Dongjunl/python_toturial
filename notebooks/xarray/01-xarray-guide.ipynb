{
 "cells": [
  {
   "cell_type": "markdown",
   "metadata": {},
   "source": [
    "# Xarray Guide\n",
    "\n",
    "- xarray is a useful tool for parallelizing and working with large datasets in the geosciences\n",
    "\n",
    "\n",
    "- xarray has 2 fundamental datastructures:\n",
    "    - DataArrays, which hold single multi-dimensional variables and its coordinates\n",
    "    - DataSets, which hold multiple variables that potentially share the same coordinates\n",
    "    \n",
    "\n",
    "DataArrays have four essential attributes:\n",
    " - values: a numpy.ndarray holding the array's values\n",
    " - dims: dimsnsion names for each axis (e.g. ('x', 'y', 'z') or ('lat', 'lon', 'time'))\n",
    " - coords: a dictionary-esque array of coordinates associated with a dimension (all lat values on the grid)\n",
    " - attrs: an Ordered Dictionary to hold arbitrary attributes/metadata (such as units)\n",
    " \n",
    " \n",
    " \n",
    " \n",
    "1st) We will build an arbitrary DataArray to work through its components.\n",
    "\n",
    "2nd) We will but this understanding into practice by demonstrate opening data files at DataSets in xarray.\n",
    " - The data for this demonstration can be found in /NCAR-pangeo-tutorial/data/"
   ]
  },
  {
   "cell_type": "markdown",
   "metadata": {},
   "source": [
    "## Constructing a Simple Xarray DataArray"
   ]
  },
  {
   "cell_type": "code",
   "execution_count": 5,
   "metadata": {},
   "outputs": [],
   "source": [
    "#Import necessary modules\n",
    "import xarray as xr #Load xarray module\n",
    "from matplotlib import pyplot as plt #Load plotting module\n",
    "%matplotlib inline "
   ]
  },
  {
   "cell_type": "markdown",
   "metadata": {},
   "source": [
    "This is how to construct the simplest form of a DataArray - just values:"
   ]
  },
  {
   "cell_type": "code",
   "execution_count": 6,
   "metadata": {},
   "outputs": [
    {
     "data": {
      "text/plain": [
       "<xarray.DataArray (dim_0: 5)>\n",
       "array([0, 1, 2, 1, 0])\n",
       "Dimensions without coordinates: dim_0"
      ]
     },
     "execution_count": 6,
     "metadata": {},
     "output_type": "execute_result"
    }
   ],
   "source": [
    "da = xr.DataArray([0, 1, 2, 1, 0])\n",
    "da"
   ]
  },
  {
   "cell_type": "markdown",
   "metadata": {},
   "source": [
    "This is how to construct a DataArray with values AND a dimension:"
   ]
  },
  {
   "cell_type": "code",
   "execution_count": 7,
   "metadata": {},
   "outputs": [
    {
     "data": {
      "text/plain": [
       "<xarray.DataArray (lat: 5)>\n",
       "array([0, 1, 2, 1, 0])\n",
       "Dimensions without coordinates: lat"
      ]
     },
     "execution_count": 7,
     "metadata": {},
     "output_type": "execute_result"
    }
   ],
   "source": [
    "da = xr.DataArray([0, 1, 2, 1, 0], dims=['lat'])\n",
    "da"
   ]
  },
  {
   "cell_type": "markdown",
   "metadata": {},
   "source": [
    "Next we construct a DataArray with coordinate values:"
   ]
  },
  {
   "cell_type": "code",
   "execution_count": 8,
   "metadata": {},
   "outputs": [
    {
     "data": {
      "text/plain": [
       "<xarray.DataArray (lat: 5)>\n",
       "array([0, 1, 2, 1, 0])\n",
       "Coordinates:\n",
       "  * lat      (lat) int64 10 20 30 40 50"
      ]
     },
     "execution_count": 8,
     "metadata": {},
     "output_type": "execute_result"
    }
   ],
   "source": [
    "da = xr.DataArray([0, 1, 2, 1, 0],\n",
    "                  dims = ['lat'],\n",
    "                  coords = {'lat': [10, 20, 30, 40, 50]})\n",
    "da"
   ]
  },
  {
   "cell_type": "markdown",
   "metadata": {},
   "source": [
    "We can mirror this syntax to add attributes, or we can use this method to add attributes to an existing DataArray:"
   ]
  },
  {
   "cell_type": "code",
   "execution_count": 11,
   "metadata": {},
   "outputs": [
    {
     "data": {
      "text/plain": [
       "<xarray.DataArray (lat: 5)>\n",
       "array([0, 1, 2, 1, 0])\n",
       "Coordinates:\n",
       "  * lat      (lat) int64 10 20 30 40 50\n",
       "Attributes:\n",
       "    units:    arbitrary units"
      ]
     },
     "execution_count": 11,
     "metadata": {},
     "output_type": "execute_result"
    }
   ],
   "source": [
    "da.attrs['units'] = 'arbitrary units'\n",
    "da"
   ]
  },
  {
   "cell_type": "markdown",
   "metadata": {},
   "source": [
    "Xarray has built-in plotting for DataArrays:"
   ]
  },
  {
   "cell_type": "code",
   "execution_count": 12,
   "metadata": {},
   "outputs": [
    {
     "data": {
      "text/plain": [
       "[<matplotlib.lines.Line2D at 0x1171d9a58>]"
      ]
     },
     "execution_count": 12,
     "metadata": {},
     "output_type": "execute_result"
    },
    {
     "data": {
      "image/png": "[encoded data removed]",
      "text/plain": [
       "<Figure size 432x288 with 1 Axes>"
      ]
     },
     "metadata": {
      "needs_background": "light"
     },
     "output_type": "display_data"
    }
   ],
   "source": [
    "da.plot()"
   ]
  },
  {
   "cell_type": "markdown",
   "metadata": {},
   "source": [
    "Now that we've gone through the basics of a DataArray, we can look at a DataSet (which may hold many DataArrays)\n",
    "\n",
    "## Reading a data file with xarray as a DataSet"
   ]
  },
  {
   "cell_type": "code",
   "execution_count": 14,
   "metadata": {},
   "outputs": [
    {
     "data": {
      "text/plain": [
       "<xarray.Dataset>\n",
       "Dimensions:    (bnds: 2, lat: 180, lev: 40, lon: 288, time: 252)\n",
       "Coordinates:\n",
       "  * time       (time) object 1850-01-16 12:00:00 ... 1870-12-16 12:00:00\n",
       "  * lev        (lev) float64 5.0 16.0 29.0 ... 4.453e+03 4.675e+03 4.897e+03\n",
       "  * lat        (lat) float64 -89.5 -88.5 -87.5 -86.5 ... 86.5 87.5 88.5 89.5\n",
       "  * lon        (lon) float64 0.625 1.875 3.125 4.375 ... 355.6 356.9 358.1 359.4\n",
       "Dimensions without coordinates: bnds\n",
       "Data variables:\n",
       "    time_bnds  (time, bnds) object ...\n",
       "    lev_bnds   (lev, bnds) float64 ...\n",
       "    lat_bnds   (lat, bnds) float64 ...\n",
       "    lon_bnds   (lon, bnds) float64 ...\n",
       "    thetao     (time, lev, lat, lon) float32 ...\n",
       "Attributes:\n",
       "    Conventions:            CF-1.7 CMIP-6.2\n",
       "    activity_id:            CMIP\n",
       "    branch_method:          standard\n",
       "    branch_time_in_child:   0.0\n",
       "    branch_time_in_parent:  0.0\n",
       "    contact:                Kenneth Lo (cdkkl@giss.nasa.gov)\n",
       "    creation_date:          2018-08-27T13:51:30Z\n",
       "    data_specs_version:     01.00.23\n",
       "    experiment:             all-forcing simulation of the recent past\n",
       "    experiment_id:          historical\n",
       "    external_variables:     areacello volcello\n",
       "    forcing_index:          1\n",
       "    frequency:              mon\n",
       "    further_info_url:       https://furtherinfo.es-doc.org/CMIP6.NASA-GISS.GI...\n",
       "    grid:                   atmospheric grid: 144x90, ocean grid: 288x180\n",
       "    grid_label:             gn\n",
       "    history:                2018-08-27T13:51:30Z ; CMOR rewrote data to be co...\n",
       "    initialization_index:   1\n",
       "    institution:            Goddard Institute for Space Studies, New York, NY...\n",
       "    institution_id:         NASA-GISS\n",
       "    mip_era:                CMIP6\n",
       "    model_id:               E200f10aF40oQ40\n",
       "    nominal_resolution:     250 km\n",
       "    parent_activity_id:     CMIP\n",
       "    parent_experiment_id:   piControl\n",
       "    parent_experiment_rip:  r1i1p1\n",
       "    parent_mip_era:         CMIP6\n",
       "    parent_source_id:       GISS-E2-1-G\n",
       "    parent_time_units:      days since 4150-1-1\n",
       "    parent_variant_label:   r1i1p1f1\n",
       "    physics_index:          1\n",
       "    product:                model-output\n",
       "    realization_index:      1\n",
       "    realm:                  ocean\n",
       "    references:             https://data.giss.nasa.gov/modelE/cmip6\n",
       "    source:                 GISS-E2.1G (2016): \\naerosol: Varies with physics...\n",
       "    source_id:              GISS-E2-1-G\n",
       "    source_type:            AOGCM\n",
       "    sub_experiment:         none\n",
       "    sub_experiment_id:      none\n",
       "    table_id:               Omon\n",
       "    table_info:             Creation Date:(21 March 2018) MD5:652eaa766045a77...\n",
       "    title:                  GISS-E2-1-G output prepared for CMIP6\n",
       "    tracking_id:            hdl:21.14100/e20a5504-7f22-4c0a-b630-5090bae68b13\n",
       "    variable_id:            thetao\n",
       "    variant_label:          r1i1p1f1\n",
       "    license:                CMIP6 model data produced by NASA Goddard Institu...\n",
       "    cmor_version:           3.3.2"
      ]
     },
     "execution_count": 14,
     "metadata": {},
     "output_type": "execute_result"
    }
   ],
   "source": [
    "path = '../../Data/'\n",
    "file = 'thetao_Omon_historical_GISS-E2-1-G_r1i1p1f1_gn_185001-187012.nc' \n",
    "\n",
    "ds = xr.open_dataset(path+file)\n",
    "ds"
   ]
  },
  {
   "cell_type": "markdown",
   "metadata": {},
   "source": [
    "You can choose to 'chunk' your data, to decide how it is distributed across nodes in the super computer:"
   ]
  },
  {
   "cell_type": "code",
   "execution_count": 16,
   "metadata": {},
   "outputs": [],
   "source": [
    "ds = xr.open_dataset(path+file,chunks={'time':10})"
   ]
  },
  {
   "cell_type": "markdown",
   "metadata": {},
   "source": [
    "Good chunking minimizes communication across nodes, so for example, do not chunk in 'time' if you plan to take a temporal average of your data.\n",
    "\n",
    "A general rule of thumb on chunk size is _________."
   ]
  },
  {
   "cell_type": "markdown",
   "metadata": {},
   "source": [
    "## Isolating Variable or Coordinate Data from xarray DataSet"
   ]
  },
  {
   "cell_type": "code",
   "execution_count": 17,
   "metadata": {},
   "outputs": [
    {
     "data": {
      "text/plain": [
       "<xarray.Variable (time: 252, lev: 40, lat: 180, lon: 288)>\n",
       "dask.array<shape=(252, 40, 180, 288), dtype=float32, chunksize=(10, 40, 180, 288)>\n",
       "Attributes:\n",
       "    standard_name:  sea_water_potential_temperature\n",
       "    long_name:      Sea Water Potential Temperature\n",
       "    comment:        Diagnostic should be contributed even for models using co...\n",
       "    units:          degC\n",
       "    cell_methods:   area: mean where sea time: mean\n",
       "    cell_measures:  area: areacello volume: volcello\n",
       "    history:        2018-08-27T13:51:26Z altered by CMOR: replaced missing va..."
      ]
     },
     "execution_count": 17,
     "metadata": {},
     "output_type": "execute_result"
    }
   ],
   "source": [
    "thetao = ds.variables['thetao'] #Potential Temperature\n",
    "thetao"
   ]
  },
  {
   "cell_type": "code",
   "execution_count": 18,
   "metadata": {},
   "outputs": [
    {
     "data": {
      "text/plain": [
       "<xarray.DataArray 'lat' (lat: 180)>\n",
       "array([-89.5, -88.5, -87.5, -86.5, -85.5, -84.5, -83.5, -82.5, -81.5, -80.5,\n",
       "       -79.5, -78.5, -77.5, -76.5, -75.5, -74.5, -73.5, -72.5, -71.5, -70.5,\n",
       "       -69.5, -68.5, -67.5, -66.5, -65.5, -64.5, -63.5, -62.5, -61.5, -60.5,\n",
       "       -59.5, -58.5, -57.5, -56.5, -55.5, -54.5, -53.5, -52.5, -51.5, -50.5,\n",
       "       -49.5, -48.5, -47.5, -46.5, -45.5, -44.5, -43.5, -42.5, -41.5, -40.5,\n",
       "       -39.5, -38.5, -37.5, -36.5, -35.5, -34.5, -33.5, -32.5, -31.5, -30.5,\n",
       "       -29.5, -28.5, -27.5, -26.5, -25.5, -24.5, -23.5, -22.5, -21.5, -20.5,\n",
       "       -19.5, -18.5, -17.5, -16.5, -15.5, -14.5, -13.5, -12.5, -11.5, -10.5,\n",
       "        -9.5,  -8.5,  -7.5,  -6.5,  -5.5,  -4.5,  -3.5,  -2.5,  -1.5,  -0.5,\n",
       "         0.5,   1.5,   2.5,   3.5,   4.5,   5.5,   6.5,   7.5,   8.5,   9.5,\n",
       "        10.5,  11.5,  12.5,  13.5,  14.5,  15.5,  16.5,  17.5,  18.5,  19.5,\n",
       "        20.5,  21.5,  22.5,  23.5,  24.5,  25.5,  26.5,  27.5,  28.5,  29.5,\n",
       "        30.5,  31.5,  32.5,  33.5,  34.5,  35.5,  36.5,  37.5,  38.5,  39.5,\n",
       "        40.5,  41.5,  42.5,  43.5,  44.5,  45.5,  46.5,  47.5,  48.5,  49.5,\n",
       "        50.5,  51.5,  52.5,  53.5,  54.5,  55.5,  56.5,  57.5,  58.5,  59.5,\n",
       "        60.5,  61.5,  62.5,  63.5,  64.5,  65.5,  66.5,  67.5,  68.5,  69.5,\n",
       "        70.5,  71.5,  72.5,  73.5,  74.5,  75.5,  76.5,  77.5,  78.5,  79.5,\n",
       "        80.5,  81.5,  82.5,  83.5,  84.5,  85.5,  86.5,  87.5,  88.5,  89.5])\n",
       "Coordinates:\n",
       "  * lat      (lat) float64 -89.5 -88.5 -87.5 -86.5 -85.5 ... 86.5 87.5 88.5 89.5\n",
       "Attributes:\n",
       "    bounds:         lat_bnds\n",
       "    units:          degrees_north\n",
       "    axis:           Y\n",
       "    long_name:      latitude\n",
       "    standard_name:  latitude"
      ]
     },
     "execution_count": 18,
     "metadata": {},
     "output_type": "execute_result"
    }
   ],
   "source": [
    "lat = ds.coords['lat'] #Latitude\n",
    "lat"
   ]
  },
  {
   "cell_type": "markdown",
   "metadata": {},
   "source": [
    "## Reductions on xarray DataSet\n",
    "\n",
    " - Maybe we only want the first time step out of the series.\n",
    " - Maybe we want to take a zonal average of the DataSet\n",
    " \n",
    " \n",
    " There are two main methods for selecting data from a DataSet\n",
    "         - Typical numpy array notation\n",
    "         - isel method"
   ]
  },
  {
   "cell_type": "code",
   "execution_count": 23,
   "metadata": {},
   "outputs": [
    {
     "data": {
      "text/plain": [
       "<xarray.Variable (lev: 40, lat: 180, lon: 288)>\n",
       "dask.array<shape=(40, 180, 288), dtype=float32, chunksize=(40, 180, 288)>\n",
       "Attributes:\n",
       "    standard_name:  sea_water_potential_temperature\n",
       "    long_name:      Sea Water Potential Temperature\n",
       "    comment:        Diagnostic should be contributed even for models using co...\n",
       "    units:          degC\n",
       "    cell_methods:   area: mean where sea time: mean\n",
       "    cell_measures:  area: areacello volume: volcello\n",
       "    history:        2018-08-27T13:51:26Z altered by CMOR: replaced missing va..."
      ]
     },
     "execution_count": 23,
     "metadata": {},
     "output_type": "execute_result"
    }
   ],
   "source": [
    "thetao_time0 = thetao[0,:,:,:]\n",
    "thetao_time0"
   ]
  },
  {
   "cell_type": "code",
   "execution_count": 24,
   "metadata": {},
   "outputs": [
    {
     "data": {
      "text/plain": [
       "<xarray.Variable (lev: 40, lat: 180, lon: 288)>\n",
       "dask.array<shape=(40, 180, 288), dtype=float32, chunksize=(40, 180, 288)>\n",
       "Attributes:\n",
       "    standard_name:  sea_water_potential_temperature\n",
       "    long_name:      Sea Water Potential Temperature\n",
       "    comment:        Diagnostic should be contributed even for models using co...\n",
       "    units:          degC\n",
       "    cell_methods:   area: mean where sea time: mean\n",
       "    cell_measures:  area: areacello volume: volcello\n",
       "    history:        2018-08-27T13:51:26Z altered by CMOR: replaced missing va..."
      ]
     },
     "execution_count": 24,
     "metadata": {},
     "output_type": "execute_result"
    }
   ],
   "source": [
    "thetao_time0_v2 = thetao.isel(time=0)\n",
    "thetao_time0_v2"
   ]
  },
  {
   "cell_type": "markdown",
   "metadata": {},
   "source": [
    "There are two main methods for averaging data across a selected DataSet dimension\n",
    "        - Specifying the axis index\n",
    "        - Specifying the dimension name"
   ]
  },
  {
   "cell_type": "code",
   "execution_count": 26,
   "metadata": {},
   "outputs": [
    {
     "data": {
      "text/plain": [
       "<xarray.Variable (time: 252, lev: 40, lon: 288)>\n",
       "dask.array<shape=(252, 40, 288), dtype=float32, chunksize=(10, 40, 288)>"
      ]
     },
     "execution_count": 26,
     "metadata": {},
     "output_type": "execute_result"
    }
   ],
   "source": [
    "thetao_zonal_av = thetao.mean(axis=2)\n",
    "thetao_zonal_av"
   ]
  },
  {
   "cell_type": "code",
   "execution_count": 27,
   "metadata": {},
   "outputs": [
    {
     "data": {
      "text/plain": [
       "<xarray.Variable (time: 252, lev: 40, lat: 180)>\n",
       "dask.array<shape=(252, 40, 180), dtype=float32, chunksize=(10, 40, 180)>"
      ]
     },
     "execution_count": 27,
     "metadata": {},
     "output_type": "execute_result"
    }
   ],
   "source": [
    "thetao_zonal_av_v2 = thetao.mean(dim = 'lon')\n",
    "thetao_zonal_av_v2"
   ]
  },
  {
   "cell_type": "markdown",
   "metadata": {},
   "source": [
    "## Computation on an xarray DataSet\n",
    "\n",
    "Coordinates are preserved, but metadata is not.\n",
    "\n",
    "Here we do a simple conversion from thetao in Celsius to Kelvin, but only for the first timestep and shallowest depth."
   ]
  },
  {
   "cell_type": "code",
   "execution_count": 43,
   "metadata": {},
   "outputs": [
    {
     "data": {
      "text/plain": [
       "<xarray.DataArray 'thetao' (lat: 180, lon: 288)>\n",
       "dask.array<shape=(180, 288), dtype=float32, chunksize=(180, 288)>\n",
       "Coordinates:\n",
       "    time     object 1850-01-16 12:00:00\n",
       "    lev      float64 5.0\n",
       "  * lat      (lat) float64 -89.5 -88.5 -87.5 -86.5 -85.5 ... 86.5 87.5 88.5 89.5\n",
       "  * lon      (lon) float64 0.625 1.875 3.125 4.375 ... 355.6 356.9 358.1 359.4\n",
       "Attributes:\n",
       "    units:    degK"
      ]
     },
     "execution_count": 43,
     "metadata": {},
     "output_type": "execute_result"
    }
   ],
   "source": [
    "thetao_Kelvin = ds.thetao[0,0,:,:] + 273.15\n",
    "thetao_Kelvin.attrs['units'] = 'degK'\n",
    "thetao_Kelvin"
   ]
  },
  {
   "cell_type": "markdown",
   "metadata": {},
   "source": [
    "For 2-dimsnional data the xarray plot method automatically does a QuadMesh contour plot informed by the metadata."
   ]
  },
  {
   "cell_type": "code",
   "execution_count": 46,
   "metadata": {},
   "outputs": [
    {
     "data": {
      "text/plain": [
       "<matplotlib.collections.QuadMesh at 0x31db564a8>"
      ]
     },
     "execution_count": 46,
     "metadata": {},
     "output_type": "execute_result"
    },
    {
     "data": {
      "image/png": "[encoded data removed]",
      "text/plain": [
       "<Figure size 432x288 with 2 Axes>"
      ]
     },
     "metadata": {
      "needs_background": "light"
     },
     "output_type": "display_data"
    }
   ],
   "source": [
    "thetao_Kelvin.plot()"
   ]
  },
  {
   "cell_type": "markdown",
   "metadata": {},
   "source": [
    "## Saving an xarray DataSet"
   ]
  },
  {
   "cell_type": "code",
   "execution_count": 49,
   "metadata": {},
   "outputs": [],
   "source": [
    "thetao_Kelvin.to_netcdf(path='test_save.nc',mode='w',format='NETCDF4')"
   ]
  },
  {
   "cell_type": "markdown",
   "metadata": {},
   "source": [
    "Close any open DataSets that are not in use"
   ]
  },
  {
   "cell_type": "code",
   "execution_count": 50,
   "metadata": {},
   "outputs": [],
   "source": [
    "xr.Dataset.close(ds)"
   ]
  }
 ],
 "metadata": {
  "kernelspec": {
   "display_name": "Python 3",
   "language": "python",
   "name": "python3"
  },
  "language_info": {
   "codemirror_mode": {
    "name": "ipython",
    "version": 3
   },
   "file_extension": ".py",
   "mimetype": "text/x-python",
   "name": "python",
   "nbconvert_exporter": "python",
   "pygments_lexer": "ipython3",
   "version": "3.7.1"
  }
 },
 "nbformat": 4,
 "nbformat_minor": 2
}
