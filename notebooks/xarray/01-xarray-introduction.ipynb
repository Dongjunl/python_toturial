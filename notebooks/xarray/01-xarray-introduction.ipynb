{
 "cells": [
  {
   "cell_type": "markdown",
   "metadata": {},
   "source": [
    "# Xarray Introduction"
   ]
  },
  {
   "cell_type": "markdown",
   "metadata": {},
   "source": [
    "- Unlabeled, N-dimensional arrays of numbers (e.g., NumPy’s ndarray) are the most widely used data structure in scientific computing. However, they lack a meaningful representation of the metadata associated with their data. Implementing such functionality is left to individual users and domain-specific packages. xarry expands on the capabilities of NumPy arrays, providing a lot of streamline data manipulation. \n",
    "\n",
    "- xarray's interface is based largely on the netCDF data model (variables, attributes, and dimensions), but it goes beyond the traditional netCDF interfaces to provide functionality similar to netCDF-java's Common Data Model (CDM). \n",
    "\n",
    "- xarray is a useful tool for parallelizing and working with large datasets in the geosciences."
   ]
  },
  {
   "cell_type": "markdown",
   "metadata": {},
   "source": [
    "## Data Structures"
   ]
  },
  {
   "cell_type": "markdown",
   "metadata": {},
   "source": [
    "- xarray has 2 fundamental data structures:\n",
    "    - `DataArray`, which holds single multi-dimensional variables and its coordinates\n",
    "    - `Dataset`, which holds multiple variables that potentially share the same coordinates\n",
    "   \n",
    "![](../assets/images/xarray-data-structures.png)"
   ]
  },
  {
   "cell_type": "markdown",
   "metadata": {},
   "source": [
    "\n",
    "    \n",
    "### `DataArray`\n",
    "\n",
    "The DataArray is xarray's implementation of a labeled, multi-dimensional array. It has several key properties:\n",
    "\n",
    "| Attribute \t| Description                                                                                                                              \t|\n",
    "|-----------\t|------------------------------------------------------------------------------------------------------------------------------------------\t|\n",
    "| `data`    \t| `numpy.ndarray` or `dask.array` holding the array's values.                                                                              \t|\n",
    "| `dims`    \t| dimension names for each axis. For example:(`x`, `y`, `z`) (`lat`, `lon`, `time`).                                                       \t|\n",
    "| `coords`  \t| a dict-like container of arrays (coordinates) that label each point (e.g., 1-dimensional arrays of numbers, datetime objects or strings) \t|\n",
    "| `attrs`   \t| an `OrderedDict` to hold arbitrary attributes/metadata (such as units)                                                                   \t|\n",
    "| `name`    \t| an arbitrary name of the array                                                                                                           \t|"
   ]
  },
  {
   "cell_type": "code",
   "execution_count": null,
   "metadata": {},
   "outputs": [],
   "source": [
    "# Import packages\n",
    "import numpy as np\n",
    "import xarray as xr"
   ]
  },
  {
   "cell_type": "code",
   "execution_count": null,
   "metadata": {},
   "outputs": [],
   "source": [
    "# Create some sample data\n",
    "data = 2 + 6 * np.random.exponential(size=(5, 3, 4))\n",
    "data"
   ]
  },
  {
   "cell_type": "markdown",
   "metadata": {},
   "source": [
    "To create a basic `DataArray`, you can pass this numpy array of random data to `xr.DataArray`"
   ]
  },
  {
   "cell_type": "code",
   "execution_count": null,
   "metadata": {},
   "outputs": [],
   "source": [
    "prec = xr.DataArray(data)\n",
    "prec"
   ]
  },
  {
   "cell_type": "markdown",
   "metadata": {},
   "source": [
    "<div class=\"alert alert-info\">\n",
    "\n",
    "**Note:** \n",
    "    \n",
    "Xarray automatically generates some basic dimension names for us.\n",
    "\n",
    "</div>"
   ]
  },
  {
   "cell_type": "markdown",
   "metadata": {},
   "source": [
    "You can also pass in your own dimension names and coordinate values:"
   ]
  },
  {
   "cell_type": "code",
   "execution_count": null,
   "metadata": {},
   "outputs": [],
   "source": [
    "# Use pandas to create an array of datetimes\n",
    "import pandas as pd\n",
    "times = pd.date_range('2019-04-01', periods=5)\n",
    "times"
   ]
  },
  {
   "cell_type": "code",
   "execution_count": null,
   "metadata": {},
   "outputs": [],
   "source": [
    "# Use numpy to create array of longitude and latitude values\n",
    "lons = np.linspace(-150, -60, 4)\n",
    "lats = np.linspace(10, 80, 3)\n",
    "lons, lats"
   ]
  },
  {
   "cell_type": "code",
   "execution_count": null,
   "metadata": {},
   "outputs": [],
   "source": [
    "coords = {'time': times, 'lat': lats, 'lon': lons}\n",
    "dims = ['time', 'lat', 'lon']"
   ]
  },
  {
   "cell_type": "code",
   "execution_count": null,
   "metadata": {},
   "outputs": [],
   "source": [
    "# Add name, coords, dims to our data\n",
    "prec = xr.DataArray(data, dims=dims, coords=coords, name='prec')\n",
    "prec"
   ]
  },
  {
   "cell_type": "markdown",
   "metadata": {},
   "source": [
    "This is already improved upon from the original numpy array, because we have names for each of the dimensions (or axis in NumPy universe). \n",
    "\n",
    "\n"
   ]
  },
  {
   "cell_type": "markdown",
   "metadata": {},
   "source": [
    "We can also add attributes to an existing `DataArray`:"
   ]
  },
  {
   "cell_type": "code",
   "execution_count": null,
   "metadata": {},
   "outputs": [],
   "source": [
    "prec.attrs['units'] = 'mm'\n",
    "prec.attrs['standard_name'] = 'precipitation'\n",
    "prec"
   ]
  },
  {
   "cell_type": "code",
   "execution_count": null,
   "metadata": {},
   "outputs": [],
   "source": [
    "prec.data"
   ]
  },
  {
   "cell_type": "markdown",
   "metadata": {},
   "source": [
    "### `Dataset`\n",
    "\n",
    "- Xarray's `Dataset` is a dict-like container of labeled arrays (`DataArrays`) with aligned dimensions. - It is designed as an in-memory representation of a netCDF dataset. \n",
    "- In addition to the dict-like interface of the dataset itself, which can be used to access any `DataArray` in a `Dataset`. Datasets have the following key properties:\n",
    "\n",
    "\n",
    "| Attribute   \t| Description                                                                                                                              \t|\n",
    "|-------------\t|------------------------------------------------------------------------------------------------------------------------------------------\t|\n",
    "| `data_vars` \t| OrderedDict of `DataArray` objects corresponding to data variables.                                                                      \t|\n",
    "| `dims`      \t| dictionary mapping from dimension names to the fixed length of each dimension  (e.g., {`lat`: 6, `lon`: 6, `time`: 8}).                  \t|\n",
    "| `coords`    \t| a dict-like container of arrays (coordinates) that label each point (e.g., 1-dimensional arrays of numbers, datetime objects or strings) \t|\n",
    "| `attrs`     \t| OrderedDict to hold arbitrary metadata pertaining to the dataset.                                                                        \t|\n",
    "| `name`      \t| an arbitrary name of the dataset                                                                                                         \t|"
   ]
  },
  {
   "cell_type": "markdown",
   "metadata": {},
   "source": [
    "- DataArray objects inside a Dataset may have any number of dimensions but are presumed to share a common coordinate system. \n",
    "- Coordinates can also have any number of dimensions but denote constant/independent quantities, unlike the varying/dependent quantities that belong in data."
   ]
  },
  {
   "cell_type": "markdown",
   "metadata": {},
   "source": [
    "To create a `Dataset` from scratch, we need to supply dictionaries for any variables (`data_vars`), coordinates (`coords`) and attributes (`attrs`):"
   ]
  },
  {
   "cell_type": "code",
   "execution_count": null,
   "metadata": {},
   "outputs": [],
   "source": [
    "dset = xr.Dataset({'precipitation' : prec})\n",
    "dset"
   ]
  },
  {
   "cell_type": "markdown",
   "metadata": {},
   "source": [
    "Let's add some fake `temperature` data array to this existing dataset:"
   ]
  },
  {
   "cell_type": "code",
   "execution_count": null,
   "metadata": {},
   "outputs": [],
   "source": [
    "temp_data = 283 + 5 * np.random.randn(5, 3, 4)\n",
    "temp = xr.DataArray(data=temp_data, dims=['time', 'lat', 'lon'], \n",
    "                    coords={'time': times, 'lat': lats, 'lon': lons},\n",
    "                    name='temp',\n",
    "                    attrs={'standard_name': 'air_temperature', 'units': 'kelvin'})\n",
    "temp"
   ]
  },
  {
   "cell_type": "code",
   "execution_count": null,
   "metadata": {},
   "outputs": [],
   "source": [
    "# Now add this data array to our existing dataset\n",
    "dset['temperature'] = temp\n",
    "dset.attrs['history'] = 'Created for the xarray tutorial'\n",
    "dset.attrs['author'] = 'foo and bar'\n",
    "dset"
   ]
  },
  {
   "cell_type": "markdown",
   "metadata": {},
   "source": [
    "<div class=\"alert alert-info\">\n",
    "\n",
    "**Going Further:** \n",
    "    \n",
    "Xarray Documentation on Data Structures: http://xarray.pydata.org/en/latest/data-structures.html\n",
    "\n",
    "</div>"
   ]
  },
  {
   "cell_type": "markdown",
   "metadata": {},
   "source": [
    "## Core xarray Features"
   ]
  },
  {
   "cell_type": "markdown",
   "metadata": {},
   "source": [
    "### Reading and Writing Files"
   ]
  },
  {
   "cell_type": "markdown",
   "metadata": {},
   "source": [
    "### Label-based indexing"
   ]
  },
  {
   "cell_type": "markdown",
   "metadata": {},
   "source": [
    "### Arithmetic"
   ]
  },
  {
   "cell_type": "markdown",
   "metadata": {},
   "source": [
    "### Aggregation"
   ]
  },
  {
   "cell_type": "markdown",
   "metadata": {},
   "source": [
    "### Alignment"
   ]
  },
  {
   "cell_type": "markdown",
   "metadata": {},
   "source": [
    "### Split-apply-combine"
   ]
  },
  {
   "cell_type": "markdown",
   "metadata": {},
   "source": [
    "### Missing Data"
   ]
  },
  {
   "cell_type": "markdown",
   "metadata": {},
   "source": [
    "### Resampling and Rolling Window Operations"
   ]
  },
  {
   "cell_type": "markdown",
   "metadata": {},
   "source": [
    "### Plotting"
   ]
  },
  {
   "cell_type": "markdown",
   "metadata": {},
   "source": [
    "## Reference"
   ]
  },
  {
   "cell_type": "code",
   "execution_count": null,
   "metadata": {},
   "outputs": [],
   "source": [
    "%load_ext watermark\n",
    "%watermark --iversion -g -h -m -v -u -d"
   ]
  }
 ],
 "metadata": {
  "kernelspec": {
   "display_name": "Python 3",
   "language": "python",
   "name": "python3"
  },
  "language_info": {
   "codemirror_mode": {
    "name": "ipython",
    "version": 3
   },
   "file_extension": ".py",
   "mimetype": "text/x-python",
   "name": "python",
   "nbconvert_exporter": "python",
   "pygments_lexer": "ipython3",
   "version": "3.6.7"
  }
 },
 "nbformat": 4,
 "nbformat_minor": 2
}
